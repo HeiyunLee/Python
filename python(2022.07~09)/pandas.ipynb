{
 "cells": [
  {
   "cell_type": "code",
   "execution_count": 1,
   "id": "2c8082d4",
   "metadata": {},
   "outputs": [],
   "source": [
    "import pandas as pd"
   ]
  },
  {
   "cell_type": "code",
   "execution_count": 2,
   "id": "5b9e65bf",
   "metadata": {},
   "outputs": [
    {
     "data": {
      "text/plain": [
       "0     3333343\n",
       "1    12341324\n",
       "2     5457456\n",
       "3       98098\n",
       "dtype: int64"
      ]
     },
     "execution_count": 2,
     "metadata": {},
     "output_type": "execute_result"
    }
   ],
   "source": [
    "population = pd.Series([3333343, 12341324, 5457456,98098])\n",
    "# Series 는 인덱스를 같이 출력??\n",
    "population"
   ]
  },
  {
   "cell_type": "code",
   "execution_count": 6,
   "id": "748d4ac4",
   "metadata": {},
   "outputs": [
    {
     "data": {
      "text/plain": [
       "seoul     3333343\n",
       "busan    12341324\n",
       "deagu     5457456\n",
       "jeju        98098\n",
       "dtype: int64"
      ]
     },
     "execution_count": 6,
     "metadata": {},
     "output_type": "execute_result"
    }
   ],
   "source": [
    "population = pd.Series([3333343, 12341324, 5457456,98098], \n",
    "                       index = [\"seoul\", \"busan\", \"deagu\", \"jeju\"])\n",
    "population"
   ]
  },
  {
   "cell_type": "code",
   "execution_count": 10,
   "id": "c2913ca1",
   "metadata": {},
   "outputs": [
    {
     "data": {
      "text/plain": [
       "array([ 3333343, 12341324,  5457456,    98098], dtype=int64)"
      ]
     },
     "execution_count": 10,
     "metadata": {},
     "output_type": "execute_result"
    }
   ],
   "source": [
    "population.values"
   ]
  },
  {
   "cell_type": "code",
   "execution_count": 11,
   "id": "4e75bb78",
   "metadata": {},
   "outputs": [
    {
     "data": {
      "text/plain": [
       "Index(['seoul', 'busan', 'deagu', 'jeju'], dtype='object')"
      ]
     },
     "execution_count": 11,
     "metadata": {},
     "output_type": "execute_result"
    }
   ],
   "source": [
    "population.index"
   ]
  },
  {
   "cell_type": "code",
   "execution_count": 12,
   "id": "a8a814a6",
   "metadata": {},
   "outputs": [
    {
     "data": {
      "text/plain": [
       "dtype('int64')"
      ]
     },
     "execution_count": 12,
     "metadata": {},
     "output_type": "execute_result"
    }
   ],
   "source": [
    "population.dtype"
   ]
  },
  {
   "cell_type": "code",
   "execution_count": 14,
   "id": "46129240",
   "metadata": {},
   "outputs": [
    {
     "data": {
      "text/plain": [
       "City\n",
       "seoul     3333343\n",
       "busan    12341324\n",
       "deagu     5457456\n",
       "jeju        98098\n",
       "Name: Population, dtype: int64"
      ]
     },
     "execution_count": 14,
     "metadata": {},
     "output_type": "execute_result"
    }
   ],
   "source": [
    "population.name = \"Population\"\n",
    "population.index.name = \"City\"\n",
    "population"
   ]
  },
  {
   "cell_type": "code",
   "execution_count": 15,
   "id": "89b6433a",
   "metadata": {},
   "outputs": [
    {
     "data": {
      "text/plain": [
       "City\n",
       "seoul     3.333343\n",
       "busan    12.341324\n",
       "deagu     5.457456\n",
       "jeju      0.098098\n",
       "Name: Population, dtype: float64"
      ]
     },
     "execution_count": 15,
     "metadata": {},
     "output_type": "execute_result"
    }
   ],
   "source": [
    "population/1000000"
   ]
  },
  {
   "cell_type": "code",
   "execution_count": 16,
   "id": "3623b180",
   "metadata": {},
   "outputs": [
    {
     "data": {
      "text/plain": [
       "(12341324, 12341324)"
      ]
     },
     "execution_count": 16,
     "metadata": {},
     "output_type": "execute_result"
    }
   ],
   "source": [
    "population[1], population[\"busan\"]"
   ]
  },
  {
   "cell_type": "code",
   "execution_count": 17,
   "id": "a5fd2fb0",
   "metadata": {},
   "outputs": [
    {
     "data": {
      "text/plain": [
       "(98098, 98098)"
      ]
     },
     "execution_count": 17,
     "metadata": {},
     "output_type": "execute_result"
    }
   ],
   "source": [
    "population[3], population[\"jeju\"]"
   ]
  },
  {
   "cell_type": "code",
   "execution_count": 23,
   "id": "79be3fd8",
   "metadata": {},
   "outputs": [
    {
     "data": {
      "text/plain": [
       "(City\n",
       " seoul     3333343\n",
       " jeju        98098\n",
       " busan    12341324\n",
       " Name: Population, dtype: int64,\n",
       " City\n",
       " seoul     3333343\n",
       " jeju        98098\n",
       " busan    12341324\n",
       " Name: Population, dtype: int64)"
      ]
     },
     "execution_count": 23,
     "metadata": {},
     "output_type": "execute_result"
    }
   ],
   "source": [
    "population[[0,3,1]], population[[\"seoul\",\"jeju\",\"busan\"]]"
   ]
  },
  {
   "cell_type": "code",
   "execution_count": 24,
   "id": "b6688be4",
   "metadata": {},
   "outputs": [
    {
     "data": {
      "text/plain": [
       "City\n",
       "seoul     True\n",
       "busan     True\n",
       "deagu     True\n",
       "jeju     False\n",
       "Name: Population, dtype: bool"
      ]
     },
     "execution_count": 24,
     "metadata": {},
     "output_type": "execute_result"
    }
   ],
   "source": [
    "population >= 300000 "
   ]
  },
  {
   "cell_type": "code",
   "execution_count": 25,
   "id": "94b3a5dc",
   "metadata": {
    "scrolled": true
   },
   "outputs": [
    {
     "data": {
      "text/plain": [
       "City\n",
       "seoul     3333343\n",
       "busan    12341324\n",
       "deagu     5457456\n",
       "Name: Population, dtype: int64"
      ]
     },
     "execution_count": 25,
     "metadata": {},
     "output_type": "execute_result"
    }
   ],
   "source": [
    "population[population >= 300000]\n",
    "# 음......??"
   ]
  },
  {
   "cell_type": "code",
   "execution_count": 28,
   "id": "bddf51d1",
   "metadata": {},
   "outputs": [
    {
     "data": {
      "text/plain": [
       "City\n",
       "seoul    3333343\n",
       "Name: Population, dtype: int64"
      ]
     },
     "execution_count": 28,
     "metadata": {},
     "output_type": "execute_result"
    }
   ],
   "source": [
    "population[(population >= 250000) & (population <= 5000000)]"
   ]
  },
  {
   "cell_type": "code",
   "execution_count": 31,
   "id": "ef8b9cf0",
   "metadata": {},
   "outputs": [
    {
     "data": {
      "text/plain": [
       "(City\n",
       " busan    12341324\n",
       " deagu     5457456\n",
       " Name: Population, dtype: int64,\n",
       " City\n",
       " seoul     3333343\n",
       " busan    12341324\n",
       " deagu     5457456\n",
       " jeju        98098\n",
       " Name: Population, dtype: int64)"
      ]
     },
     "execution_count": 31,
     "metadata": {},
     "output_type": "execute_result"
    }
   ],
   "source": [
    "population[1:3], population['seoul':'jeju']"
   ]
  },
  {
   "cell_type": "code",
   "execution_count": 32,
   "id": "ed40c147",
   "metadata": {},
   "outputs": [
    {
     "data": {
      "text/plain": [
       "피카츄     9631\n",
       "꼬부기     3393\n",
       "파이리     1490\n",
       "이상해씨    2632\n",
       "dtype: int64"
      ]
     },
     "execution_count": 32,
     "metadata": {},
     "output_type": "execute_result"
    }
   ],
   "source": [
    "data = {'피카츄':9631, '꼬부기':3393, '파이리':1490,'이상해씨':2632}\n",
    "poketmon = pd.Series(data)\n",
    "poketmon"
   ]
  },
  {
   "cell_type": "code",
   "execution_count": 33,
   "id": "2267775f",
   "metadata": {},
   "outputs": [
    {
     "data": {
      "text/plain": [
       "피카츄    9904\n",
       "꼬부기    3448\n",
       "뮤      2466\n",
       "이브이    2890\n",
       "dtype: int64"
      ]
     },
     "execution_count": 33,
     "metadata": {},
     "output_type": "execute_result"
    }
   ],
   "source": [
    "data2 = {'피카츄':9904, '꼬부기':3448, '뮤':2466,'이브이':2890}\n",
    "poketmon_up = pd.Series(data2)\n",
    "poketmon_up"
   ]
  },
  {
   "cell_type": "code",
   "execution_count": 35,
   "id": "5ae36fe1",
   "metadata": {},
   "outputs": [
    {
     "data": {
      "text/plain": [
       "꼬부기      55.0\n",
       "뮤         NaN\n",
       "이브이       NaN\n",
       "이상해씨      NaN\n",
       "파이리       NaN\n",
       "피카츄     273.0\n",
       "dtype: float64"
      ]
     },
     "execution_count": 35,
     "metadata": {},
     "output_type": "execute_result"
    }
   ],
   "source": [
    "attack = poketmon_up - poketmon\n",
    "attack\n",
    "# NaN = not a number"
   ]
  },
  {
   "cell_type": "code",
   "execution_count": 36,
   "id": "073310d4",
   "metadata": {},
   "outputs": [
    {
     "data": {
      "text/plain": [
       "꼬부기      True\n",
       "뮤       False\n",
       "이브이     False\n",
       "이상해씨    False\n",
       "파이리     False\n",
       "피카츄      True\n",
       "dtype: bool"
      ]
     },
     "execution_count": 36,
     "metadata": {},
     "output_type": "execute_result"
    }
   ],
   "source": [
    "attack.notnull()"
   ]
  },
  {
   "cell_type": "code",
   "execution_count": 42,
   "id": "b11e848d",
   "metadata": {},
   "outputs": [
    {
     "name": "stdout",
     "output_type": "stream",
     "text": [
      "꼬부기     55.0\n",
      "피카츄    273.0\n",
      "dtype: float64\n"
     ]
    }
   ],
   "source": [
    "print(attack[attack.notnull()])"
   ]
  },
  {
   "cell_type": "code",
   "execution_count": 43,
   "id": "f49254c1",
   "metadata": {},
   "outputs": [
    {
     "name": "stdout",
     "output_type": "stream",
     "text": [
      "뮤      NaN\n",
      "이브이    NaN\n",
      "이상해씨   NaN\n",
      "파이리    NaN\n",
      "dtype: float64\n"
     ]
    }
   ],
   "source": [
    "print(attack[attack.isnull()])\n",
    "# null 만 보고 싶을 때 \"isnull\""
   ]
  },
  {
   "cell_type": "code",
   "execution_count": 45,
   "id": "7fd03502",
   "metadata": {},
   "outputs": [
    {
     "ename": "TypeError",
     "evalue": "'method' object is not subscriptable",
     "output_type": "error",
     "traceback": [
      "\u001b[1;31m---------------------------------------------------------------------------\u001b[0m",
      "\u001b[1;31mTypeError\u001b[0m                                 Traceback (most recent call last)",
      "Input \u001b[1;32mIn [45]\u001b[0m, in \u001b[0;36m<cell line: 1>\u001b[1;34m()\u001b[0m\n\u001b[1;32m----> 1\u001b[0m attack[\u001b[43mattack\u001b[49m\u001b[38;5;241;43m.\u001b[39;49m\u001b[43misnull\u001b[49m\u001b[43m[\u001b[49m\u001b[38;5;124;43m'\u001b[39;49m\u001b[38;5;124;43m뮤\u001b[39;49m\u001b[38;5;124;43m'\u001b[39;49m\u001b[43m:\u001b[49m\u001b[38;5;124;43m'\u001b[39;49m\u001b[38;5;124;43m이상해씨\u001b[39;49m\u001b[38;5;124;43m'\u001b[39;49m\u001b[43m]\u001b[49m]\n",
      "\u001b[1;31mTypeError\u001b[0m: 'method' object is not subscriptable"
     ]
    }
   ],
   "source": [
    "attack[attack.isnull['뮤':'이상해씨']]"
   ]
  },
  {
   "cell_type": "code",
   "execution_count": 51,
   "id": "85ff7ac0",
   "metadata": {},
   "outputs": [
    {
     "data": {
      "text/plain": [
       "꼬부기     1.620984\n",
       "뮤            NaN\n",
       "이브이          NaN\n",
       "이상해씨         NaN\n",
       "파이리          NaN\n",
       "피카츄     2.834597\n",
       "dtype: float64"
      ]
     },
     "execution_count": 51,
     "metadata": {},
     "output_type": "execute_result"
    }
   ],
   "source": [
    "rp = (poketmon_up - poketmon)/poketmon *100\n",
    "rp"
   ]
  },
  {
   "cell_type": "code",
   "execution_count": 52,
   "id": "0d57a354",
   "metadata": {},
   "outputs": [
    {
     "data": {
      "text/plain": [
       "꼬부기    1.620984\n",
       "피카츄    2.834597\n",
       "dtype: float64"
      ]
     },
     "execution_count": 52,
     "metadata": {},
     "output_type": "execute_result"
    }
   ],
   "source": [
    "rp[rp.notnull()]"
   ]
  },
  {
   "cell_type": "code",
   "execution_count": 53,
   "id": "73075da7",
   "metadata": {},
   "outputs": [
    {
     "data": {
      "text/plain": [
       "꼬부기      55.0\n",
       "뮤         NaN\n",
       "이브이       NaN\n",
       "이상해씨      NaN\n",
       "파이리       NaN\n",
       "피카츄     273.0\n",
       "dtype: float64"
      ]
     },
     "execution_count": 53,
     "metadata": {},
     "output_type": "execute_result"
    }
   ],
   "source": [
    "attack"
   ]
  },
  {
   "cell_type": "code",
   "execution_count": 54,
   "id": "85cce39b",
   "metadata": {},
   "outputs": [],
   "source": [
    "attack['파이리'] = 1616\n",
    "attack['리자몽'] = 8888\n",
    "del attack['이상해씨']"
   ]
  },
  {
   "cell_type": "code",
   "execution_count": 55,
   "id": "909f015d",
   "metadata": {},
   "outputs": [
    {
     "data": {
      "text/plain": [
       "꼬부기      55.0\n",
       "뮤         NaN\n",
       "이브이       NaN\n",
       "파이리    1616.0\n",
       "피카츄     273.0\n",
       "리자몽    8888.0\n",
       "dtype: float64"
      ]
     },
     "execution_count": 55,
     "metadata": {},
     "output_type": "execute_result"
    }
   ],
   "source": [
    "attack"
   ]
  },
  {
   "cell_type": "code",
   "execution_count": 62,
   "id": "c3ec30b7",
   "metadata": {},
   "outputs": [
    {
     "data": {
      "text/html": [
       "<div>\n",
       "<style scoped>\n",
       "    .dataframe tbody tr th:only-of-type {\n",
       "        vertical-align: middle;\n",
       "    }\n",
       "\n",
       "    .dataframe tbody tr th {\n",
       "        vertical-align: top;\n",
       "    }\n",
       "\n",
       "    .dataframe thead th {\n",
       "        text-align: right;\n",
       "    }\n",
       "</style>\n",
       "<table border=\"1\" class=\"dataframe\">\n",
       "  <thead>\n",
       "    <tr style=\"text-align: right;\">\n",
       "      <th></th>\n",
       "      <th>2020</th>\n",
       "      <th>2010</th>\n",
       "    </tr>\n",
       "  </thead>\n",
       "  <tbody>\n",
       "    <tr>\n",
       "      <th>seoul</th>\n",
       "      <td>9668465</td>\n",
       "      <td>45645612</td>\n",
       "    </tr>\n",
       "    <tr>\n",
       "      <th>busan</th>\n",
       "      <td>3319564</td>\n",
       "      <td>45645645</td>\n",
       "    </tr>\n",
       "    <tr>\n",
       "      <th>deagu</th>\n",
       "      <td>4654654</td>\n",
       "      <td>78978948</td>\n",
       "    </tr>\n",
       "    <tr>\n",
       "      <th>jeju</th>\n",
       "      <td>1564562</td>\n",
       "      <td>789789</td>\n",
       "    </tr>\n",
       "  </tbody>\n",
       "</table>\n",
       "</div>"
      ],
      "text/plain": [
       "          2020      2010\n",
       "seoul  9668465  45645612\n",
       "busan  3319564  45645645\n",
       "deagu  4654654  78978948\n",
       "jeju   1564562    789789"
      ]
     },
     "execution_count": 62,
     "metadata": {},
     "output_type": "execute_result"
    }
   ],
   "source": [
    "data = {'2020':[9668465,3319564,4654654,1564562],\n",
    "       '2010':[45645612,45645645,78978948,789789,]\n",
    "       }\n",
    "df = pd.DataFrame(data)\n",
    "\n",
    "df.index = [\"seoul\", \"busan\", \"deagu\", \"jeju\"]\n",
    "df\n"
   ]
  },
  {
   "cell_type": "code",
   "execution_count": 86,
   "id": "dd496936",
   "metadata": {},
   "outputs": [
    {
     "data": {
      "text/html": [
       "<div>\n",
       "<style scoped>\n",
       "    .dataframe tbody tr th:only-of-type {\n",
       "        vertical-align: middle;\n",
       "    }\n",
       "\n",
       "    .dataframe tbody tr th {\n",
       "        vertical-align: top;\n",
       "    }\n",
       "\n",
       "    .dataframe thead th {\n",
       "        text-align: right;\n",
       "    }\n",
       "</style>\n",
       "<table border=\"1\" class=\"dataframe\">\n",
       "  <thead>\n",
       "    <tr style=\"text-align: right;\">\n",
       "      <th></th>\n",
       "      <th>2020</th>\n",
       "      <th>2010</th>\n",
       "    </tr>\n",
       "  </thead>\n",
       "  <tbody>\n",
       "    <tr>\n",
       "      <th>seoul</th>\n",
       "      <td>9668465</td>\n",
       "      <td>45645612</td>\n",
       "    </tr>\n",
       "    <tr>\n",
       "      <th>busan</th>\n",
       "      <td>3319564</td>\n",
       "      <td>45645645</td>\n",
       "    </tr>\n",
       "    <tr>\n",
       "      <th>deagu</th>\n",
       "      <td>4654654</td>\n",
       "      <td>78978948</td>\n",
       "    </tr>\n",
       "    <tr>\n",
       "      <th>jeju</th>\n",
       "      <td>1564562</td>\n",
       "      <td>789789</td>\n",
       "    </tr>\n",
       "  </tbody>\n",
       "</table>\n",
       "</div>"
      ],
      "text/plain": [
       "          2020      2010\n",
       "seoul  9668465  45645612\n",
       "busan  3319564  45645645\n",
       "deagu  4654654  78978948\n",
       "jeju   1564562    789789"
      ]
     },
     "execution_count": 86,
     "metadata": {},
     "output_type": "execute_result"
    }
   ],
   "source": [
    "data = {'2020':[9668465,3319564,4654654,1564562],\n",
    "       '2010':[45645612,45645645,78978948,789789,]\n",
    "       }\n",
    "df = pd.DataFrame(data,index = [\"seoul\", \"busan\", \"deagu\", \"jeju\"])\n",
    "# 오류: data와 index 사이에 점이 아니라 콤마였다..왜??\n",
    "df"
   ]
  },
  {
   "cell_type": "code",
   "execution_count": 67,
   "id": "7694e144",
   "metadata": {},
   "outputs": [
    {
     "data": {
      "text/html": [
       "<div>\n",
       "<style scoped>\n",
       "    .dataframe tbody tr th:only-of-type {\n",
       "        vertical-align: middle;\n",
       "    }\n",
       "\n",
       "    .dataframe tbody tr th {\n",
       "        vertical-align: top;\n",
       "    }\n",
       "\n",
       "    .dataframe thead th {\n",
       "        text-align: right;\n",
       "    }\n",
       "</style>\n",
       "<table border=\"1\" class=\"dataframe\">\n",
       "  <thead>\n",
       "    <tr style=\"text-align: right;\">\n",
       "      <th></th>\n",
       "      <th>seoul</th>\n",
       "      <th>busan</th>\n",
       "      <th>deagu</th>\n",
       "      <th>jeju</th>\n",
       "    </tr>\n",
       "  </thead>\n",
       "  <tbody>\n",
       "    <tr>\n",
       "      <th>2020</th>\n",
       "      <td>9668465</td>\n",
       "      <td>3319564</td>\n",
       "      <td>4654654</td>\n",
       "      <td>1564562</td>\n",
       "    </tr>\n",
       "    <tr>\n",
       "      <th>2010</th>\n",
       "      <td>45645612</td>\n",
       "      <td>45645645</td>\n",
       "      <td>78978948</td>\n",
       "      <td>789789</td>\n",
       "    </tr>\n",
       "  </tbody>\n",
       "</table>\n",
       "</div>"
      ],
      "text/plain": [
       "         seoul     busan     deagu     jeju\n",
       "2020   9668465   3319564   4654654  1564562\n",
       "2010  45645612  45645645  78978948   789789"
      ]
     },
     "execution_count": 67,
     "metadata": {},
     "output_type": "execute_result"
    }
   ],
   "source": [
    "data2 = [[9668465,3319564,4654654,1564562],\n",
    "         [45645612,45645645,78978948,789789,]]\n",
    "ind = ['2020','2010']\n",
    "# 인덱스 설정\n",
    "col = [\"seoul\", \"busan\", \"deagu\", \"jeju\"]\n",
    "# 칼럼 설정\n",
    "df2 = pd.DataFrame(data2, index = ind, columns = col)\n",
    "df2"
   ]
  },
  {
   "cell_type": "code",
   "execution_count": 69,
   "id": "f42baf56",
   "metadata": {},
   "outputs": [
    {
     "data": {
      "text/html": [
       "<div>\n",
       "<style scoped>\n",
       "    .dataframe tbody tr th:only-of-type {\n",
       "        vertical-align: middle;\n",
       "    }\n",
       "\n",
       "    .dataframe tbody tr th {\n",
       "        vertical-align: top;\n",
       "    }\n",
       "\n",
       "    .dataframe thead th {\n",
       "        text-align: right;\n",
       "    }\n",
       "</style>\n",
       "<table border=\"1\" class=\"dataframe\">\n",
       "  <thead>\n",
       "    <tr style=\"text-align: right;\">\n",
       "      <th></th>\n",
       "      <th>2020</th>\n",
       "      <th>2010</th>\n",
       "    </tr>\n",
       "  </thead>\n",
       "  <tbody>\n",
       "    <tr>\n",
       "      <th>seoul</th>\n",
       "      <td>9668465</td>\n",
       "      <td>45645612</td>\n",
       "    </tr>\n",
       "    <tr>\n",
       "      <th>busan</th>\n",
       "      <td>3319564</td>\n",
       "      <td>45645645</td>\n",
       "    </tr>\n",
       "    <tr>\n",
       "      <th>deagu</th>\n",
       "      <td>4654654</td>\n",
       "      <td>78978948</td>\n",
       "    </tr>\n",
       "    <tr>\n",
       "      <th>jeju</th>\n",
       "      <td>1564562</td>\n",
       "      <td>789789</td>\n",
       "    </tr>\n",
       "  </tbody>\n",
       "</table>\n",
       "</div>"
      ],
      "text/plain": [
       "          2020      2010\n",
       "seoul  9668465  45645612\n",
       "busan  3319564  45645645\n",
       "deagu  4654654  78978948\n",
       "jeju   1564562    789789"
      ]
     },
     "execution_count": 69,
     "metadata": {},
     "output_type": "execute_result"
    }
   ],
   "source": [
    "df2.T\n",
    "# 데이터프레임 전치하기(Transform)"
   ]
  },
  {
   "cell_type": "code",
   "execution_count": 71,
   "id": "fa3fa860",
   "metadata": {},
   "outputs": [
    {
     "data": {
      "text/plain": [
       "array([[ 9668465, 45645612],\n",
       "       [ 3319564, 45645645],\n",
       "       [ 4654654, 78978948],\n",
       "       [ 1564562,   789789]], dtype=int64)"
      ]
     },
     "execution_count": 71,
     "metadata": {},
     "output_type": "execute_result"
    }
   ],
   "source": [
    "df.values"
   ]
  },
  {
   "cell_type": "code",
   "execution_count": 72,
   "id": "a7fafd0c",
   "metadata": {},
   "outputs": [
    {
     "data": {
      "text/plain": [
       "Index(['seoul', 'busan', 'deagu', 'jeju'], dtype='object')"
      ]
     },
     "execution_count": 72,
     "metadata": {},
     "output_type": "execute_result"
    }
   ],
   "source": [
    "df.index"
   ]
  },
  {
   "cell_type": "code",
   "execution_count": 73,
   "id": "64dbab29",
   "metadata": {},
   "outputs": [
    {
     "data": {
      "text/plain": [
       "Index(['2020', '2010'], dtype='object')"
      ]
     },
     "execution_count": 73,
     "metadata": {},
     "output_type": "execute_result"
    }
   ],
   "source": [
    "df.columns"
   ]
  },
  {
   "cell_type": "code",
   "execution_count": 79,
   "id": "27baaedd",
   "metadata": {},
   "outputs": [
    {
     "data": {
      "text/html": [
       "<div>\n",
       "<style scoped>\n",
       "    .dataframe tbody tr th:only-of-type {\n",
       "        vertical-align: middle;\n",
       "    }\n",
       "\n",
       "    .dataframe tbody tr th {\n",
       "        vertical-align: top;\n",
       "    }\n",
       "\n",
       "    .dataframe thead th {\n",
       "        text-align: right;\n",
       "    }\n",
       "</style>\n",
       "<table border=\"1\" class=\"dataframe\">\n",
       "  <thead>\n",
       "    <tr style=\"text-align: right;\">\n",
       "      <th></th>\n",
       "      <th>2020</th>\n",
       "      <th>2010</th>\n",
       "    </tr>\n",
       "  </thead>\n",
       "  <tbody>\n",
       "    <tr>\n",
       "      <th>seoul</th>\n",
       "      <td>9668465</td>\n",
       "      <td>45645612</td>\n",
       "    </tr>\n",
       "    <tr>\n",
       "      <th>busan</th>\n",
       "      <td>3319564</td>\n",
       "      <td>45645645</td>\n",
       "    </tr>\n",
       "    <tr>\n",
       "      <th>deagu</th>\n",
       "      <td>4654654</td>\n",
       "      <td>78978948</td>\n",
       "    </tr>\n",
       "    <tr>\n",
       "      <th>jeju</th>\n",
       "      <td>1564562</td>\n",
       "      <td>789789</td>\n",
       "    </tr>\n",
       "  </tbody>\n",
       "</table>\n",
       "</div>"
      ],
      "text/plain": [
       "          2020      2010\n",
       "seoul  9668465  45645612\n",
       "busan  3319564  45645645\n",
       "deagu  4654654  78978948\n",
       "jeju   1564562    789789"
      ]
     },
     "execution_count": 79,
     "metadata": {},
     "output_type": "execute_result"
    }
   ],
   "source": [
    "df"
   ]
  },
  {
   "cell_type": "code",
   "execution_count": 87,
   "id": "8fe9fb07",
   "metadata": {},
   "outputs": [
    {
     "data": {
      "text/plain": [
       "seoul    9668465\n",
       "busan    3319564\n",
       "deagu    4654654\n",
       "jeju     1564562\n",
       "Name: 2020, dtype: int64"
      ]
     },
     "execution_count": 87,
     "metadata": {},
     "output_type": "execute_result"
    }
   ],
   "source": [
    "df['2020']\n",
    "# dimension one"
   ]
  },
  {
   "cell_type": "code",
   "execution_count": 88,
   "id": "7aafceb5",
   "metadata": {},
   "outputs": [
    {
     "data": {
      "text/html": [
       "<div>\n",
       "<style scoped>\n",
       "    .dataframe tbody tr th:only-of-type {\n",
       "        vertical-align: middle;\n",
       "    }\n",
       "\n",
       "    .dataframe tbody tr th {\n",
       "        vertical-align: top;\n",
       "    }\n",
       "\n",
       "    .dataframe thead th {\n",
       "        text-align: right;\n",
       "    }\n",
       "</style>\n",
       "<table border=\"1\" class=\"dataframe\">\n",
       "  <thead>\n",
       "    <tr style=\"text-align: right;\">\n",
       "      <th></th>\n",
       "      <th>2020</th>\n",
       "    </tr>\n",
       "  </thead>\n",
       "  <tbody>\n",
       "    <tr>\n",
       "      <th>seoul</th>\n",
       "      <td>9668465</td>\n",
       "    </tr>\n",
       "    <tr>\n",
       "      <th>busan</th>\n",
       "      <td>3319564</td>\n",
       "    </tr>\n",
       "    <tr>\n",
       "      <th>deagu</th>\n",
       "      <td>4654654</td>\n",
       "    </tr>\n",
       "    <tr>\n",
       "      <th>jeju</th>\n",
       "      <td>1564562</td>\n",
       "    </tr>\n",
       "  </tbody>\n",
       "</table>\n",
       "</div>"
      ],
      "text/plain": [
       "          2020\n",
       "seoul  9668465\n",
       "busan  3319564\n",
       "deagu  4654654\n",
       "jeju   1564562"
      ]
     },
     "execution_count": 88,
     "metadata": {},
     "output_type": "execute_result"
    }
   ],
   "source": [
    "df[['2020']]\n",
    "# dimension two"
   ]
  },
  {
   "cell_type": "code",
   "execution_count": 99,
   "id": "39770adf",
   "metadata": {},
   "outputs": [
    {
     "data": {
      "text/html": [
       "<div>\n",
       "<style scoped>\n",
       "    .dataframe tbody tr th:only-of-type {\n",
       "        vertical-align: middle;\n",
       "    }\n",
       "\n",
       "    .dataframe tbody tr th {\n",
       "        vertical-align: top;\n",
       "    }\n",
       "\n",
       "    .dataframe thead th {\n",
       "        text-align: right;\n",
       "    }\n",
       "</style>\n",
       "<table border=\"1\" class=\"dataframe\">\n",
       "  <thead>\n",
       "    <tr style=\"text-align: right;\">\n",
       "      <th></th>\n",
       "      <th>2020</th>\n",
       "      <th>2010</th>\n",
       "    </tr>\n",
       "  </thead>\n",
       "  <tbody>\n",
       "    <tr>\n",
       "      <th>seoul</th>\n",
       "      <td>9668465</td>\n",
       "      <td>45645612</td>\n",
       "    </tr>\n",
       "    <tr>\n",
       "      <th>busan</th>\n",
       "      <td>3319564</td>\n",
       "      <td>45645645</td>\n",
       "    </tr>\n",
       "    <tr>\n",
       "      <th>deagu</th>\n",
       "      <td>4654654</td>\n",
       "      <td>78978948</td>\n",
       "    </tr>\n",
       "    <tr>\n",
       "      <th>jeju</th>\n",
       "      <td>1564562</td>\n",
       "      <td>789789</td>\n",
       "    </tr>\n",
       "  </tbody>\n",
       "</table>\n",
       "</div>"
      ],
      "text/plain": [
       "          2020      2010\n",
       "seoul  9668465  45645612\n",
       "busan  3319564  45645645\n",
       "deagu  4654654  78978948\n",
       "jeju   1564562    789789"
      ]
     },
     "execution_count": 99,
     "metadata": {},
     "output_type": "execute_result"
    }
   ],
   "source": [
    "df[['2020','2010']]"
   ]
  },
  {
   "cell_type": "code",
   "execution_count": 96,
   "id": "37dca1d2",
   "metadata": {},
   "outputs": [
    {
     "data": {
      "text/html": [
       "<div>\n",
       "<style scoped>\n",
       "    .dataframe tbody tr th:only-of-type {\n",
       "        vertical-align: middle;\n",
       "    }\n",
       "\n",
       "    .dataframe tbody tr th {\n",
       "        vertical-align: top;\n",
       "    }\n",
       "\n",
       "    .dataframe thead th {\n",
       "        text-align: right;\n",
       "    }\n",
       "</style>\n",
       "<table border=\"1\" class=\"dataframe\">\n",
       "  <thead>\n",
       "    <tr style=\"text-align: right;\">\n",
       "      <th></th>\n",
       "      <th>2020</th>\n",
       "      <th>2010</th>\n",
       "      <th>2005</th>\n",
       "    </tr>\n",
       "  </thead>\n",
       "  <tbody>\n",
       "    <tr>\n",
       "      <th>seoul</th>\n",
       "      <td>9668465</td>\n",
       "      <td>45645612</td>\n",
       "      <td>5464654</td>\n",
       "    </tr>\n",
       "    <tr>\n",
       "      <th>busan</th>\n",
       "      <td>3319564</td>\n",
       "      <td>45645645</td>\n",
       "      <td>4654542</td>\n",
       "    </tr>\n",
       "    <tr>\n",
       "      <th>deagu</th>\n",
       "      <td>4654654</td>\n",
       "      <td>78978948</td>\n",
       "      <td>6513152</td>\n",
       "    </tr>\n",
       "    <tr>\n",
       "      <th>jeju</th>\n",
       "      <td>1564562</td>\n",
       "      <td>789789</td>\n",
       "      <td>4612613</td>\n",
       "    </tr>\n",
       "  </tbody>\n",
       "</table>\n",
       "</div>"
      ],
      "text/plain": [
       "          2020      2010     2005\n",
       "seoul  9668465  45645612  5464654\n",
       "busan  3319564  45645645  4654542\n",
       "deagu  4654654  78978948  6513152\n",
       "jeju   1564562    789789  4612613"
      ]
     },
     "execution_count": 96,
     "metadata": {},
     "output_type": "execute_result"
    }
   ],
   "source": [
    "df['2005'] = [5464654,4654542,6513152,4612613]\n",
    "df"
   ]
  },
  {
   "cell_type": "code",
   "execution_count": 97,
   "id": "f96ba1e1",
   "metadata": {},
   "outputs": [
    {
     "data": {
      "text/html": [
       "<div>\n",
       "<style scoped>\n",
       "    .dataframe tbody tr th:only-of-type {\n",
       "        vertical-align: middle;\n",
       "    }\n",
       "\n",
       "    .dataframe tbody tr th {\n",
       "        vertical-align: top;\n",
       "    }\n",
       "\n",
       "    .dataframe thead th {\n",
       "        text-align: right;\n",
       "    }\n",
       "</style>\n",
       "<table border=\"1\" class=\"dataframe\">\n",
       "  <thead>\n",
       "    <tr style=\"text-align: right;\">\n",
       "      <th></th>\n",
       "      <th>2020</th>\n",
       "      <th>2010</th>\n",
       "      <th>2005</th>\n",
       "    </tr>\n",
       "  </thead>\n",
       "  <tbody>\n",
       "    <tr>\n",
       "      <th>seoul</th>\n",
       "      <td>9668465</td>\n",
       "      <td>45645612</td>\n",
       "      <td>5464654</td>\n",
       "    </tr>\n",
       "    <tr>\n",
       "      <th>busan</th>\n",
       "      <td>3319564</td>\n",
       "      <td>45645645</td>\n",
       "      <td>4654542</td>\n",
       "    </tr>\n",
       "  </tbody>\n",
       "</table>\n",
       "</div>"
      ],
      "text/plain": [
       "          2020      2010     2005\n",
       "seoul  9668465  45645612  5464654\n",
       "busan  3319564  45645645  4654542"
      ]
     },
     "execution_count": 97,
     "metadata": {},
     "output_type": "execute_result"
    }
   ],
   "source": [
    "df[0:2]"
   ]
  },
  {
   "cell_type": "code",
   "execution_count": 98,
   "id": "9ac3fd07",
   "metadata": {},
   "outputs": [
    {
     "data": {
      "text/html": [
       "<div>\n",
       "<style scoped>\n",
       "    .dataframe tbody tr th:only-of-type {\n",
       "        vertical-align: middle;\n",
       "    }\n",
       "\n",
       "    .dataframe tbody tr th {\n",
       "        vertical-align: top;\n",
       "    }\n",
       "\n",
       "    .dataframe thead th {\n",
       "        text-align: right;\n",
       "    }\n",
       "</style>\n",
       "<table border=\"1\" class=\"dataframe\">\n",
       "  <thead>\n",
       "    <tr style=\"text-align: right;\">\n",
       "      <th></th>\n",
       "      <th>2020</th>\n",
       "      <th>2010</th>\n",
       "      <th>2005</th>\n",
       "    </tr>\n",
       "  </thead>\n",
       "  <tbody>\n",
       "    <tr>\n",
       "      <th>seoul</th>\n",
       "      <td>9668465</td>\n",
       "      <td>45645612</td>\n",
       "      <td>5464654</td>\n",
       "    </tr>\n",
       "    <tr>\n",
       "      <th>busan</th>\n",
       "      <td>3319564</td>\n",
       "      <td>45645645</td>\n",
       "      <td>4654542</td>\n",
       "    </tr>\n",
       "    <tr>\n",
       "      <th>deagu</th>\n",
       "      <td>4654654</td>\n",
       "      <td>78978948</td>\n",
       "      <td>6513152</td>\n",
       "    </tr>\n",
       "  </tbody>\n",
       "</table>\n",
       "</div>"
      ],
      "text/plain": [
       "          2020      2010     2005\n",
       "seoul  9668465  45645612  5464654\n",
       "busan  3319564  45645645  4654542\n",
       "deagu  4654654  78978948  6513152"
      ]
     },
     "execution_count": 98,
     "metadata": {},
     "output_type": "execute_result"
    }
   ],
   "source": [
    "df['seoul':'deagu']\n",
    "# 문자열은 이상, 이하 개념이 없다."
   ]
  },
  {
   "cell_type": "code",
   "execution_count": 100,
   "id": "6745e96c",
   "metadata": {},
   "outputs": [
    {
     "data": {
      "text/html": [
       "<div>\n",
       "<style scoped>\n",
       "    .dataframe tbody tr th:only-of-type {\n",
       "        vertical-align: middle;\n",
       "    }\n",
       "\n",
       "    .dataframe tbody tr th {\n",
       "        vertical-align: top;\n",
       "    }\n",
       "\n",
       "    .dataframe thead th {\n",
       "        text-align: right;\n",
       "    }\n",
       "</style>\n",
       "<table border=\"1\" class=\"dataframe\">\n",
       "  <thead>\n",
       "    <tr style=\"text-align: right;\">\n",
       "      <th></th>\n",
       "      <th>2020</th>\n",
       "      <th>2010</th>\n",
       "    </tr>\n",
       "  </thead>\n",
       "  <tbody>\n",
       "    <tr>\n",
       "      <th>busan</th>\n",
       "      <td>3319564</td>\n",
       "      <td>45645645</td>\n",
       "    </tr>\n",
       "    <tr>\n",
       "      <th>deagu</th>\n",
       "      <td>4654654</td>\n",
       "      <td>78978948</td>\n",
       "    </tr>\n",
       "  </tbody>\n",
       "</table>\n",
       "</div>"
      ],
      "text/plain": [
       "          2020      2010\n",
       "busan  3319564  45645645\n",
       "deagu  4654654  78978948"
      ]
     },
     "execution_count": 100,
     "metadata": {},
     "output_type": "execute_result"
    }
   ],
   "source": [
    "df.loc['busan':'deagu','2020':'2010']"
   ]
  },
  {
   "cell_type": "code",
   "execution_count": 102,
   "id": "4130320f",
   "metadata": {},
   "outputs": [
    {
     "data": {
      "text/html": [
       "<div>\n",
       "<style scoped>\n",
       "    .dataframe tbody tr th:only-of-type {\n",
       "        vertical-align: middle;\n",
       "    }\n",
       "\n",
       "    .dataframe tbody tr th {\n",
       "        vertical-align: top;\n",
       "    }\n",
       "\n",
       "    .dataframe thead th {\n",
       "        text-align: right;\n",
       "    }\n",
       "</style>\n",
       "<table border=\"1\" class=\"dataframe\">\n",
       "  <thead>\n",
       "    <tr style=\"text-align: right;\">\n",
       "      <th></th>\n",
       "      <th>2020</th>\n",
       "      <th>2010</th>\n",
       "      <th>2005</th>\n",
       "    </tr>\n",
       "  </thead>\n",
       "  <tbody>\n",
       "    <tr>\n",
       "      <th>busan</th>\n",
       "      <td>3319564</td>\n",
       "      <td>45645645</td>\n",
       "      <td>4654542</td>\n",
       "    </tr>\n",
       "    <tr>\n",
       "      <th>deagu</th>\n",
       "      <td>4654654</td>\n",
       "      <td>78978948</td>\n",
       "      <td>6513152</td>\n",
       "    </tr>\n",
       "  </tbody>\n",
       "</table>\n",
       "</div>"
      ],
      "text/plain": [
       "          2020      2010     2005\n",
       "busan  3319564  45645645  4654542\n",
       "deagu  4654654  78978948  6513152"
      ]
     },
     "execution_count": 102,
     "metadata": {},
     "output_type": "execute_result"
    }
   ],
   "source": [
    "df.loc['busan':'deagu','2020':]\n"
   ]
  },
  {
   "cell_type": "code",
   "execution_count": 104,
   "id": "59b4f76e",
   "metadata": {},
   "outputs": [
    {
     "data": {
      "text/plain": [
       "2020    1564562\n",
       "2010     789789\n",
       "2005    4612613\n",
       "Name: jeju, dtype: int64"
      ]
     },
     "execution_count": 104,
     "metadata": {},
     "output_type": "execute_result"
    }
   ],
   "source": [
    "df.iloc[3]"
   ]
  },
  {
   "cell_type": "code",
   "execution_count": 105,
   "id": "6bbebba8",
   "metadata": {},
   "outputs": [
    {
     "data": {
      "text/plain": [
       "seoul     True\n",
       "busan     True\n",
       "deagu     True\n",
       "jeju     False\n",
       "Name: 2020, dtype: bool"
      ]
     },
     "execution_count": 105,
     "metadata": {},
     "output_type": "execute_result"
    }
   ],
   "source": [
    "df['2020'] >= 2500000"
   ]
  },
  {
   "cell_type": "code",
   "execution_count": 107,
   "id": "318ede57",
   "metadata": {
    "scrolled": true
   },
   "outputs": [
    {
     "data": {
      "text/html": [
       "<div>\n",
       "<style scoped>\n",
       "    .dataframe tbody tr th:only-of-type {\n",
       "        vertical-align: middle;\n",
       "    }\n",
       "\n",
       "    .dataframe tbody tr th {\n",
       "        vertical-align: top;\n",
       "    }\n",
       "\n",
       "    .dataframe thead th {\n",
       "        text-align: right;\n",
       "    }\n",
       "</style>\n",
       "<table border=\"1\" class=\"dataframe\">\n",
       "  <thead>\n",
       "    <tr style=\"text-align: right;\">\n",
       "      <th></th>\n",
       "      <th>2020</th>\n",
       "      <th>2010</th>\n",
       "      <th>2005</th>\n",
       "    </tr>\n",
       "  </thead>\n",
       "  <tbody>\n",
       "    <tr>\n",
       "      <th>seoul</th>\n",
       "      <td>9668465</td>\n",
       "      <td>45645612</td>\n",
       "      <td>5464654</td>\n",
       "    </tr>\n",
       "    <tr>\n",
       "      <th>busan</th>\n",
       "      <td>3319564</td>\n",
       "      <td>45645645</td>\n",
       "      <td>4654542</td>\n",
       "    </tr>\n",
       "    <tr>\n",
       "      <th>deagu</th>\n",
       "      <td>4654654</td>\n",
       "      <td>78978948</td>\n",
       "      <td>6513152</td>\n",
       "    </tr>\n",
       "  </tbody>\n",
       "</table>\n",
       "</div>"
      ],
      "text/plain": [
       "          2020      2010     2005\n",
       "seoul  9668465  45645612  5464654\n",
       "busan  3319564  45645645  4654542\n",
       "deagu  4654654  78978948  6513152"
      ]
     },
     "execution_count": 107,
     "metadata": {},
     "output_type": "execute_result"
    }
   ],
   "source": [
    "df[df['2010'] >= 2500000]"
   ]
  },
  {
   "cell_type": "code",
   "execution_count": 123,
   "id": "ecef8623",
   "metadata": {
    "scrolled": true
   },
   "outputs": [
    {
     "data": {
      "text/html": [
       "<div>\n",
       "<style scoped>\n",
       "    .dataframe tbody tr th:only-of-type {\n",
       "        vertical-align: middle;\n",
       "    }\n",
       "\n",
       "    .dataframe tbody tr th {\n",
       "        vertical-align: top;\n",
       "    }\n",
       "\n",
       "    .dataframe thead th {\n",
       "        text-align: right;\n",
       "    }\n",
       "</style>\n",
       "<table border=\"1\" class=\"dataframe\">\n",
       "  <thead>\n",
       "    <tr style=\"text-align: right;\">\n",
       "      <th></th>\n",
       "      <th>도시</th>\n",
       "      <th>지역</th>\n",
       "      <th>2015</th>\n",
       "      <th>2010</th>\n",
       "      <th>2005</th>\n",
       "      <th>2000</th>\n",
       "    </tr>\n",
       "  </thead>\n",
       "  <tbody>\n",
       "    <tr>\n",
       "      <th>0</th>\n",
       "      <td>서울</td>\n",
       "      <td>수도권</td>\n",
       "      <td>9904312</td>\n",
       "      <td>9631482.0</td>\n",
       "      <td>99762546.0</td>\n",
       "      <td>98853972</td>\n",
       "    </tr>\n",
       "    <tr>\n",
       "      <th>1</th>\n",
       "      <td>부산</td>\n",
       "      <td>경상권</td>\n",
       "      <td>3448737</td>\n",
       "      <td>NaN</td>\n",
       "      <td>NaN</td>\n",
       "      <td>3655437</td>\n",
       "    </tr>\n",
       "    <tr>\n",
       "      <th>2</th>\n",
       "      <td>인천</td>\n",
       "      <td>수도권</td>\n",
       "      <td>2890451</td>\n",
       "      <td>2632035.0</td>\n",
       "      <td>NaN</td>\n",
       "      <td>2466338</td>\n",
       "    </tr>\n",
       "    <tr>\n",
       "      <th>3</th>\n",
       "      <td>대구</td>\n",
       "      <td>경상권</td>\n",
       "      <td>2466052</td>\n",
       "      <td>2431774.0</td>\n",
       "      <td>2456016.0</td>\n",
       "      <td>2473990</td>\n",
       "    </tr>\n",
       "  </tbody>\n",
       "</table>\n",
       "</div>"
      ],
      "text/plain": [
       "   도시   지역     2015       2010        2005      2000\n",
       "0  서울  수도권  9904312  9631482.0  99762546.0  98853972\n",
       "1  부산  경상권  3448737        NaN         NaN   3655437\n",
       "2  인천  수도권  2890451  2632035.0         NaN   2466338\n",
       "3  대구  경상권  2466052  2431774.0   2456016.0   2473990"
      ]
     },
     "execution_count": 123,
     "metadata": {},
     "output_type": "execute_result"
    }
   ],
   "source": [
    "population = pd.read_csv('Population - 시트1.csv', encoding = 'utf-8')\n",
    "population\n",
    "# 오류: 파일 이름 틀렸다.\n",
    "# utf로 바꾸니까 iport됐다."
   ]
  },
  {
   "cell_type": "code",
   "execution_count": 124,
   "id": "7f0b2b7c",
   "metadata": {},
   "outputs": [
    {
     "data": {
      "text/html": [
       "<div>\n",
       "<style scoped>\n",
       "    .dataframe tbody tr th:only-of-type {\n",
       "        vertical-align: middle;\n",
       "    }\n",
       "\n",
       "    .dataframe tbody tr th {\n",
       "        vertical-align: top;\n",
       "    }\n",
       "\n",
       "    .dataframe thead th {\n",
       "        text-align: right;\n",
       "    }\n",
       "</style>\n",
       "<table border=\"1\" class=\"dataframe\">\n",
       "  <thead>\n",
       "    <tr style=\"text-align: right;\">\n",
       "      <th></th>\n",
       "      <th>지역</th>\n",
       "      <th>2015</th>\n",
       "      <th>2010</th>\n",
       "      <th>2005</th>\n",
       "      <th>2000</th>\n",
       "    </tr>\n",
       "    <tr>\n",
       "      <th>도시</th>\n",
       "      <th></th>\n",
       "      <th></th>\n",
       "      <th></th>\n",
       "      <th></th>\n",
       "      <th></th>\n",
       "    </tr>\n",
       "  </thead>\n",
       "  <tbody>\n",
       "    <tr>\n",
       "      <th>서울</th>\n",
       "      <td>수도권</td>\n",
       "      <td>9904312</td>\n",
       "      <td>9631482.0</td>\n",
       "      <td>99762546.0</td>\n",
       "      <td>98853972</td>\n",
       "    </tr>\n",
       "    <tr>\n",
       "      <th>부산</th>\n",
       "      <td>경상권</td>\n",
       "      <td>3448737</td>\n",
       "      <td>NaN</td>\n",
       "      <td>NaN</td>\n",
       "      <td>3655437</td>\n",
       "    </tr>\n",
       "    <tr>\n",
       "      <th>인천</th>\n",
       "      <td>수도권</td>\n",
       "      <td>2890451</td>\n",
       "      <td>2632035.0</td>\n",
       "      <td>NaN</td>\n",
       "      <td>2466338</td>\n",
       "    </tr>\n",
       "    <tr>\n",
       "      <th>대구</th>\n",
       "      <td>경상권</td>\n",
       "      <td>2466052</td>\n",
       "      <td>2431774.0</td>\n",
       "      <td>2456016.0</td>\n",
       "      <td>2473990</td>\n",
       "    </tr>\n",
       "  </tbody>\n",
       "</table>\n",
       "</div>"
      ],
      "text/plain": [
       "     지역     2015       2010        2005      2000\n",
       "도시                                               \n",
       "서울  수도권  9904312  9631482.0  99762546.0  98853972\n",
       "부산  경상권  3448737        NaN         NaN   3655437\n",
       "인천  수도권  2890451  2632035.0         NaN   2466338\n",
       "대구  경상권  2466052  2431774.0   2456016.0   2473990"
      ]
     },
     "execution_count": 124,
     "metadata": {},
     "output_type": "execute_result"
    }
   ],
   "source": [
    "population = pd.read_csv('Population - 시트1.csv', index_col = '도시', encoding = 'utf-8')\n",
    "population"
   ]
  },
  {
   "cell_type": "code",
   "execution_count": 125,
   "id": "067445a0",
   "metadata": {},
   "outputs": [
    {
     "data": {
      "text/html": [
       "<div>\n",
       "<style scoped>\n",
       "    .dataframe tbody tr th:only-of-type {\n",
       "        vertical-align: middle;\n",
       "    }\n",
       "\n",
       "    .dataframe tbody tr th {\n",
       "        vertical-align: top;\n",
       "    }\n",
       "\n",
       "    .dataframe thead th {\n",
       "        text-align: right;\n",
       "    }\n",
       "</style>\n",
       "<table border=\"1\" class=\"dataframe\">\n",
       "  <thead>\n",
       "    <tr style=\"text-align: right;\">\n",
       "      <th></th>\n",
       "      <th>지역</th>\n",
       "      <th>2015</th>\n",
       "      <th>2010</th>\n",
       "      <th>2005</th>\n",
       "      <th>2000</th>\n",
       "    </tr>\n",
       "    <tr>\n",
       "      <th>도시</th>\n",
       "      <th></th>\n",
       "      <th></th>\n",
       "      <th></th>\n",
       "      <th></th>\n",
       "      <th></th>\n",
       "    </tr>\n",
       "  </thead>\n",
       "  <tbody>\n",
       "    <tr>\n",
       "      <th>대구</th>\n",
       "      <td>경상권</td>\n",
       "      <td>2466052</td>\n",
       "      <td>2431774.0</td>\n",
       "      <td>2456016.0</td>\n",
       "      <td>2473990</td>\n",
       "    </tr>\n",
       "    <tr>\n",
       "      <th>부산</th>\n",
       "      <td>경상권</td>\n",
       "      <td>3448737</td>\n",
       "      <td>NaN</td>\n",
       "      <td>NaN</td>\n",
       "      <td>3655437</td>\n",
       "    </tr>\n",
       "    <tr>\n",
       "      <th>서울</th>\n",
       "      <td>수도권</td>\n",
       "      <td>9904312</td>\n",
       "      <td>9631482.0</td>\n",
       "      <td>99762546.0</td>\n",
       "      <td>98853972</td>\n",
       "    </tr>\n",
       "    <tr>\n",
       "      <th>인천</th>\n",
       "      <td>수도권</td>\n",
       "      <td>2890451</td>\n",
       "      <td>2632035.0</td>\n",
       "      <td>NaN</td>\n",
       "      <td>2466338</td>\n",
       "    </tr>\n",
       "  </tbody>\n",
       "</table>\n",
       "</div>"
      ],
      "text/plain": [
       "     지역     2015       2010        2005      2000\n",
       "도시                                               \n",
       "대구  경상권  2466052  2431774.0   2456016.0   2473990\n",
       "부산  경상권  3448737        NaN         NaN   3655437\n",
       "서울  수도권  9904312  9631482.0  99762546.0  98853972\n",
       "인천  수도권  2890451  2632035.0         NaN   2466338"
      ]
     },
     "execution_count": 125,
     "metadata": {},
     "output_type": "execute_result"
    }
   ],
   "source": [
    "population.sort_index()"
   ]
  },
  {
   "cell_type": "code",
   "execution_count": 126,
   "id": "75236c22",
   "metadata": {},
   "outputs": [
    {
     "data": {
      "text/plain": [
       "도시\n",
       "대구    2431774.0\n",
       "인천    2632035.0\n",
       "서울    9631482.0\n",
       "부산          NaN\n",
       "Name: 2010, dtype: float64"
      ]
     },
     "execution_count": 126,
     "metadata": {},
     "output_type": "execute_result"
    }
   ],
   "source": [
    "population['2010'].sort_values()"
   ]
  },
  {
   "cell_type": "code",
   "execution_count": 127,
   "id": "b3fe8f3c",
   "metadata": {},
   "outputs": [
    {
     "data": {
      "text/html": [
       "<div>\n",
       "<style scoped>\n",
       "    .dataframe tbody tr th:only-of-type {\n",
       "        vertical-align: middle;\n",
       "    }\n",
       "\n",
       "    .dataframe tbody tr th {\n",
       "        vertical-align: top;\n",
       "    }\n",
       "\n",
       "    .dataframe thead th {\n",
       "        text-align: right;\n",
       "    }\n",
       "</style>\n",
       "<table border=\"1\" class=\"dataframe\">\n",
       "  <thead>\n",
       "    <tr style=\"text-align: right;\">\n",
       "      <th></th>\n",
       "      <th>지역</th>\n",
       "      <th>2015</th>\n",
       "      <th>2010</th>\n",
       "      <th>2005</th>\n",
       "      <th>2000</th>\n",
       "    </tr>\n",
       "    <tr>\n",
       "      <th>도시</th>\n",
       "      <th></th>\n",
       "      <th></th>\n",
       "      <th></th>\n",
       "      <th></th>\n",
       "      <th></th>\n",
       "    </tr>\n",
       "  </thead>\n",
       "  <tbody>\n",
       "    <tr>\n",
       "      <th>대구</th>\n",
       "      <td>경상권</td>\n",
       "      <td>2466052</td>\n",
       "      <td>2431774.0</td>\n",
       "      <td>2456016.0</td>\n",
       "      <td>2473990</td>\n",
       "    </tr>\n",
       "    <tr>\n",
       "      <th>인천</th>\n",
       "      <td>수도권</td>\n",
       "      <td>2890451</td>\n",
       "      <td>2632035.0</td>\n",
       "      <td>NaN</td>\n",
       "      <td>2466338</td>\n",
       "    </tr>\n",
       "    <tr>\n",
       "      <th>서울</th>\n",
       "      <td>수도권</td>\n",
       "      <td>9904312</td>\n",
       "      <td>9631482.0</td>\n",
       "      <td>99762546.0</td>\n",
       "      <td>98853972</td>\n",
       "    </tr>\n",
       "    <tr>\n",
       "      <th>부산</th>\n",
       "      <td>경상권</td>\n",
       "      <td>3448737</td>\n",
       "      <td>NaN</td>\n",
       "      <td>NaN</td>\n",
       "      <td>3655437</td>\n",
       "    </tr>\n",
       "  </tbody>\n",
       "</table>\n",
       "</div>"
      ],
      "text/plain": [
       "     지역     2015       2010        2005      2000\n",
       "도시                                               \n",
       "대구  경상권  2466052  2431774.0   2456016.0   2473990\n",
       "인천  수도권  2890451  2632035.0         NaN   2466338\n",
       "서울  수도권  9904312  9631482.0  99762546.0  98853972\n",
       "부산  경상권  3448737        NaN         NaN   3655437"
      ]
     },
     "execution_count": 127,
     "metadata": {},
     "output_type": "execute_result"
    }
   ],
   "source": [
    "population.sort_values(by = '2010')"
   ]
  },
  {
   "cell_type": "code",
   "execution_count": 129,
   "id": "7429c7d8",
   "metadata": {},
   "outputs": [
    {
     "data": {
      "text/html": [
       "<div>\n",
       "<style scoped>\n",
       "    .dataframe tbody tr th:only-of-type {\n",
       "        vertical-align: middle;\n",
       "    }\n",
       "\n",
       "    .dataframe tbody tr th {\n",
       "        vertical-align: top;\n",
       "    }\n",
       "\n",
       "    .dataframe thead th {\n",
       "        text-align: right;\n",
       "    }\n",
       "</style>\n",
       "<table border=\"1\" class=\"dataframe\">\n",
       "  <thead>\n",
       "    <tr style=\"text-align: right;\">\n",
       "      <th></th>\n",
       "      <th>지역</th>\n",
       "      <th>2015</th>\n",
       "      <th>2010</th>\n",
       "      <th>2005</th>\n",
       "      <th>2000</th>\n",
       "    </tr>\n",
       "    <tr>\n",
       "      <th>도시</th>\n",
       "      <th></th>\n",
       "      <th></th>\n",
       "      <th></th>\n",
       "      <th></th>\n",
       "      <th></th>\n",
       "    </tr>\n",
       "  </thead>\n",
       "  <tbody>\n",
       "    <tr>\n",
       "      <th>대구</th>\n",
       "      <td>경상권</td>\n",
       "      <td>2466052</td>\n",
       "      <td>2431774.0</td>\n",
       "      <td>2456016.0</td>\n",
       "      <td>2473990</td>\n",
       "    </tr>\n",
       "    <tr>\n",
       "      <th>부산</th>\n",
       "      <td>경상권</td>\n",
       "      <td>3448737</td>\n",
       "      <td>NaN</td>\n",
       "      <td>NaN</td>\n",
       "      <td>3655437</td>\n",
       "    </tr>\n",
       "    <tr>\n",
       "      <th>인천</th>\n",
       "      <td>수도권</td>\n",
       "      <td>2890451</td>\n",
       "      <td>2632035.0</td>\n",
       "      <td>NaN</td>\n",
       "      <td>2466338</td>\n",
       "    </tr>\n",
       "    <tr>\n",
       "      <th>서울</th>\n",
       "      <td>수도권</td>\n",
       "      <td>9904312</td>\n",
       "      <td>9631482.0</td>\n",
       "      <td>99762546.0</td>\n",
       "      <td>98853972</td>\n",
       "    </tr>\n",
       "  </tbody>\n",
       "</table>\n",
       "</div>"
      ],
      "text/plain": [
       "     지역     2015       2010        2005      2000\n",
       "도시                                               \n",
       "대구  경상권  2466052  2431774.0   2456016.0   2473990\n",
       "부산  경상권  3448737        NaN         NaN   3655437\n",
       "인천  수도권  2890451  2632035.0         NaN   2466338\n",
       "서울  수도권  9904312  9631482.0  99762546.0  98853972"
      ]
     },
     "execution_count": 129,
     "metadata": {},
     "output_type": "execute_result"
    }
   ],
   "source": [
    "population.sort_values(by = ['지역','2010'])"
   ]
  },
  {
   "cell_type": "code",
   "execution_count": 135,
   "id": "3fd5af48",
   "metadata": {
    "scrolled": true
   },
   "outputs": [
    {
     "data": {
      "text/html": [
       "<div>\n",
       "<style scoped>\n",
       "    .dataframe tbody tr th:only-of-type {\n",
       "        vertical-align: middle;\n",
       "    }\n",
       "\n",
       "    .dataframe tbody tr th {\n",
       "        vertical-align: top;\n",
       "    }\n",
       "\n",
       "    .dataframe thead th {\n",
       "        text-align: right;\n",
       "    }\n",
       "</style>\n",
       "<table border=\"1\" class=\"dataframe\">\n",
       "  <thead>\n",
       "    <tr style=\"text-align: right;\">\n",
       "      <th></th>\n",
       "      <th>과목</th>\n",
       "      <th>1반</th>\n",
       "      <th>2반</th>\n",
       "      <th>3반</th>\n",
       "      <th>4반</th>\n",
       "    </tr>\n",
       "  </thead>\n",
       "  <tbody>\n",
       "    <tr>\n",
       "      <th>0</th>\n",
       "      <td>파이썬</td>\n",
       "      <td>45</td>\n",
       "      <td>44</td>\n",
       "      <td>73</td>\n",
       "      <td>39</td>\n",
       "    </tr>\n",
       "    <tr>\n",
       "      <th>1</th>\n",
       "      <td>DB</td>\n",
       "      <td>76</td>\n",
       "      <td>92</td>\n",
       "      <td>45</td>\n",
       "      <td>69</td>\n",
       "    </tr>\n",
       "    <tr>\n",
       "      <th>2</th>\n",
       "      <td>자바</td>\n",
       "      <td>47</td>\n",
       "      <td>92</td>\n",
       "      <td>45</td>\n",
       "      <td>69</td>\n",
       "    </tr>\n",
       "    <tr>\n",
       "      <th>3</th>\n",
       "      <td>크롤링</td>\n",
       "      <td>92</td>\n",
       "      <td>81</td>\n",
       "      <td>85</td>\n",
       "      <td>40</td>\n",
       "    </tr>\n",
       "    <tr>\n",
       "      <th>4</th>\n",
       "      <td>Web</td>\n",
       "      <td>11</td>\n",
       "      <td>79</td>\n",
       "      <td>47</td>\n",
       "      <td>26</td>\n",
       "    </tr>\n",
       "  </tbody>\n",
       "</table>\n",
       "</div>"
      ],
      "text/plain": [
       "    과목  1반  2반  3반  4반\n",
       "0  파이썬  45  44  73  39\n",
       "1   DB  76  92  45  69\n",
       "2   자바  47  92  45  69\n",
       "3  크롤링  92  81  85  40\n",
       "4  Web  11  79  47  26"
      ]
     },
     "execution_count": 135,
     "metadata": {},
     "output_type": "execute_result"
    }
   ],
   "source": [
    "score = pd.read_csv('score - 시트2.csv', encoding = 'utf-8')\n",
    "score\n",
    "\n",
    "# population = pd.read_csv('Population - 시트1.csv', encoding = 'utf-8')\n",
    "# population"
   ]
  },
  {
   "cell_type": "code",
   "execution_count": 139,
   "id": "c4172306",
   "metadata": {},
   "outputs": [
    {
     "data": {
      "text/html": [
       "<div>\n",
       "<style scoped>\n",
       "    .dataframe tbody tr th:only-of-type {\n",
       "        vertical-align: middle;\n",
       "    }\n",
       "\n",
       "    .dataframe tbody tr th {\n",
       "        vertical-align: top;\n",
       "    }\n",
       "\n",
       "    .dataframe thead th {\n",
       "        text-align: right;\n",
       "    }\n",
       "</style>\n",
       "<table border=\"1\" class=\"dataframe\">\n",
       "  <thead>\n",
       "    <tr style=\"text-align: right;\">\n",
       "      <th></th>\n",
       "      <th>1반</th>\n",
       "      <th>2반</th>\n",
       "      <th>3반</th>\n",
       "      <th>4반</th>\n",
       "    </tr>\n",
       "    <tr>\n",
       "      <th>과목</th>\n",
       "      <th></th>\n",
       "      <th></th>\n",
       "      <th></th>\n",
       "      <th></th>\n",
       "    </tr>\n",
       "  </thead>\n",
       "  <tbody>\n",
       "    <tr>\n",
       "      <th>파이썬</th>\n",
       "      <td>45</td>\n",
       "      <td>44</td>\n",
       "      <td>73</td>\n",
       "      <td>39</td>\n",
       "    </tr>\n",
       "    <tr>\n",
       "      <th>DB</th>\n",
       "      <td>76</td>\n",
       "      <td>92</td>\n",
       "      <td>45</td>\n",
       "      <td>69</td>\n",
       "    </tr>\n",
       "    <tr>\n",
       "      <th>자바</th>\n",
       "      <td>47</td>\n",
       "      <td>92</td>\n",
       "      <td>45</td>\n",
       "      <td>69</td>\n",
       "    </tr>\n",
       "    <tr>\n",
       "      <th>크롤링</th>\n",
       "      <td>92</td>\n",
       "      <td>81</td>\n",
       "      <td>85</td>\n",
       "      <td>40</td>\n",
       "    </tr>\n",
       "    <tr>\n",
       "      <th>Web</th>\n",
       "      <td>11</td>\n",
       "      <td>79</td>\n",
       "      <td>47</td>\n",
       "      <td>26</td>\n",
       "    </tr>\n",
       "  </tbody>\n",
       "</table>\n",
       "</div>"
      ],
      "text/plain": [
       "     1반  2반  3반  4반\n",
       "과목                 \n",
       "파이썬  45  44  73  39\n",
       "DB   76  92  45  69\n",
       "자바   47  92  45  69\n",
       "크롤링  92  81  85  40\n",
       "Web  11  79  47  26"
      ]
     },
     "execution_count": 139,
     "metadata": {},
     "output_type": "execute_result"
    }
   ],
   "source": [
    "score = pd.read_csv('score - 시트2.csv', index_col = '과목', encoding = 'utf-8')\n",
    "score"
   ]
  },
  {
   "cell_type": "code",
   "execution_count": 140,
   "id": "082867e2",
   "metadata": {},
   "outputs": [
    {
     "data": {
      "text/html": [
       "<div>\n",
       "<style scoped>\n",
       "    .dataframe tbody tr th:only-of-type {\n",
       "        vertical-align: middle;\n",
       "    }\n",
       "\n",
       "    .dataframe tbody tr th {\n",
       "        vertical-align: top;\n",
       "    }\n",
       "\n",
       "    .dataframe thead th {\n",
       "        text-align: right;\n",
       "    }\n",
       "</style>\n",
       "<table border=\"1\" class=\"dataframe\">\n",
       "  <thead>\n",
       "    <tr style=\"text-align: right;\">\n",
       "      <th></th>\n",
       "      <th>1반</th>\n",
       "      <th>2반</th>\n",
       "      <th>3반</th>\n",
       "      <th>4반</th>\n",
       "    </tr>\n",
       "    <tr>\n",
       "      <th>과목</th>\n",
       "      <th></th>\n",
       "      <th></th>\n",
       "      <th></th>\n",
       "      <th></th>\n",
       "    </tr>\n",
       "  </thead>\n",
       "  <tbody>\n",
       "    <tr>\n",
       "      <th>DB</th>\n",
       "      <td>76</td>\n",
       "      <td>92</td>\n",
       "      <td>45</td>\n",
       "      <td>69</td>\n",
       "    </tr>\n",
       "    <tr>\n",
       "      <th>Web</th>\n",
       "      <td>11</td>\n",
       "      <td>79</td>\n",
       "      <td>47</td>\n",
       "      <td>26</td>\n",
       "    </tr>\n",
       "    <tr>\n",
       "      <th>자바</th>\n",
       "      <td>47</td>\n",
       "      <td>92</td>\n",
       "      <td>45</td>\n",
       "      <td>69</td>\n",
       "    </tr>\n",
       "    <tr>\n",
       "      <th>크롤링</th>\n",
       "      <td>92</td>\n",
       "      <td>81</td>\n",
       "      <td>85</td>\n",
       "      <td>40</td>\n",
       "    </tr>\n",
       "    <tr>\n",
       "      <th>파이썬</th>\n",
       "      <td>45</td>\n",
       "      <td>44</td>\n",
       "      <td>73</td>\n",
       "      <td>39</td>\n",
       "    </tr>\n",
       "  </tbody>\n",
       "</table>\n",
       "</div>"
      ],
      "text/plain": [
       "     1반  2반  3반  4반\n",
       "과목                 \n",
       "DB   76  92  45  69\n",
       "Web  11  79  47  26\n",
       "자바   47  92  45  69\n",
       "크롤링  92  81  85  40\n",
       "파이썬  45  44  73  39"
      ]
     },
     "execution_count": 140,
     "metadata": {},
     "output_type": "execute_result"
    }
   ],
   "source": [
    "score.sort_index()\n",
    "# 인덱스 기준 정렬"
   ]
  },
  {
   "cell_type": "code",
   "execution_count": 141,
   "id": "8d98fc76",
   "metadata": {},
   "outputs": [
    {
     "data": {
      "text/plain": [
       "1반    271\n",
       "2반    388\n",
       "3반    295\n",
       "4반    243\n",
       "dtype: int64"
      ]
     },
     "execution_count": 141,
     "metadata": {},
     "output_type": "execute_result"
    }
   ],
   "source": [
    "score.sum()"
   ]
  },
  {
   "cell_type": "code",
   "execution_count": 142,
   "id": "919bbc65",
   "metadata": {},
   "outputs": [
    {
     "data": {
      "text/plain": [
       "2반    388\n",
       "3반    295\n",
       "1반    271\n",
       "4반    243\n",
       "dtype: int64"
      ]
     },
     "execution_count": 142,
     "metadata": {},
     "output_type": "execute_result"
    }
   ],
   "source": [
    "score.sum().sort_values(ascending = False)\n",
    "# 값 기준 정렬"
   ]
  },
  {
   "cell_type": "code",
   "execution_count": 143,
   "id": "0b7c7e56",
   "metadata": {},
   "outputs": [
    {
     "data": {
      "text/plain": [
       "과목\n",
       "파이썬    201\n",
       "DB     282\n",
       "자바     253\n",
       "크롤링    298\n",
       "Web    163\n",
       "dtype: int64"
      ]
     },
     "execution_count": 143,
     "metadata": {},
     "output_type": "execute_result"
    }
   ],
   "source": [
    "score.sum(axis = 1)\n",
    "# 행: axis = 1\n",
    "# 열: axis = 0"
   ]
  },
  {
   "cell_type": "code",
   "execution_count": 144,
   "id": "ac9789a5",
   "metadata": {},
   "outputs": [
    {
     "data": {
      "text/plain": [
       "1반    271\n",
       "2반    388\n",
       "3반    295\n",
       "4반    243\n",
       "dtype: int64"
      ]
     },
     "execution_count": 144,
     "metadata": {},
     "output_type": "execute_result"
    }
   ],
   "source": [
    "score.sum(axis = 0)"
   ]
  },
  {
   "cell_type": "code",
   "execution_count": null,
   "id": "bfa75a55",
   "metadata": {},
   "outputs": [],
   "source": []
  }
 ],
 "metadata": {
  "kernelspec": {
   "display_name": "Python 3 (ipykernel)",
   "language": "python",
   "name": "python3"
  },
  "language_info": {
   "codemirror_mode": {
    "name": "ipython",
    "version": 3
   },
   "file_extension": ".py",
   "mimetype": "text/x-python",
   "name": "python",
   "nbconvert_exporter": "python",
   "pygments_lexer": "ipython3",
   "version": "3.9.12"
  }
 },
 "nbformat": 4,
 "nbformat_minor": 5
}
