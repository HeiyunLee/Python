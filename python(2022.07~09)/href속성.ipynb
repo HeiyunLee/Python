{
 "cells": [
  {
   "cell_type": "code",
   "execution_count": 1,
   "id": "d0b8455b",
   "metadata": {},
   "outputs": [],
   "source": [
    "from selenium import webdriver\n",
    "from webdriver_manager.chrome import ChromeDriverManager\n",
    "from selenium.webdriver.common.keys import Keys\n",
    "from bs4 import BeautifulSoup as bs\n",
    "import pandas as pd\n",
    "import requests as req\n",
    "import time\n",
    "from tqdm import tqdm_notebook\n",
    "from selenium.webdriver.common.action_chains import ActionChains"
   ]
  },
  {
   "cell_type": "code",
   "execution_count": 4,
   "id": "2c32388c",
   "metadata": {
    "scrolled": true
   },
   "outputs": [],
   "source": [
    "driver = webdriver.Chrome(ChromeDriverManager().install())\n",
    "driver.get(\"https://news.sbs.co.kr/news/newsflash.do?plink=NEW&cooper=SBSNEWSMAIN\")"
   ]
  },
  {
   "cell_type": "code",
   "execution_count": 5,
   "id": "d957155f",
   "metadata": {},
   "outputs": [],
   "source": [
    "soup = bs(driver.page_source, \"lxml\")"
   ]
  },
  {
   "cell_type": "code",
   "execution_count": 6,
   "id": "e911a043",
   "metadata": {},
   "outputs": [],
   "source": [
    "news = soup.select('a.news')"
   ]
  },
  {
   "cell_type": "code",
   "execution_count": 7,
   "id": "5448d6a0",
   "metadata": {},
   "outputs": [
    {
     "name": "stdout",
     "output_type": "stream",
     "text": [
      "https://news.sbs.co.kr/news/endPage.do?news_id=N1006858587\n",
      "https://news.sbs.co.kr/news/endPage.do?news_id=N1006858580\n",
      "https://news.sbs.co.kr/news/endPage.do?news_id=N1006858579\n",
      "https://news.sbs.co.kr/news/endPage.do?news_id=N1006858578\n",
      "https://news.sbs.co.kr/news/endPage.do?news_id=N1006858577\n",
      "https://news.sbs.co.kr/news/endPage.do?news_id=N1006858565\n",
      "https://news.sbs.co.kr/news/endPage.do?news_id=N1006858564\n",
      "https://news.sbs.co.kr/news/endPage.do?news_id=N1006858535\n",
      "https://news.sbs.co.kr/news/endPage.do?news_id=N1006858392\n",
      "https://news.sbs.co.kr/news/endPage.do?news_id=N1006858532\n"
     ]
    }
   ],
   "source": [
    "for i in news:\n",
    "    print('https://news.sbs.co.kr' + i['href'])"
   ]
  },
  {
   "cell_type": "code",
   "execution_count": null,
   "id": "e7e6c3a4",
   "metadata": {},
   "outputs": [],
   "source": []
  }
 ],
 "metadata": {
  "kernelspec": {
   "display_name": "Python 3 (ipykernel)",
   "language": "python",
   "name": "python3"
  },
  "language_info": {
   "codemirror_mode": {
    "name": "ipython",
    "version": 3
   },
   "file_extension": ".py",
   "mimetype": "text/x-python",
   "name": "python",
   "nbconvert_exporter": "python",
   "pygments_lexer": "ipython3",
   "version": "3.9.12"
  }
 },
 "nbformat": 4,
 "nbformat_minor": 5
}
