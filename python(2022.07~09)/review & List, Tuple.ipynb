{
 "cells": [
  {
   "cell_type": "code",
   "execution_count": 13,
   "id": "224c4ffc",
   "metadata": {},
   "outputs": [
    {
     "name": "stdout",
     "output_type": "stream",
     "text": [
      "현재 주가: 3\n",
      "현재 주가: 3\n",
      "주가 상승\n",
      "현재 주가: 4\n"
     ]
    }
   ],
   "source": [
    "import random\n",
    "\n",
    "stock = int(input(\"현재 주가: \"))\n",
    "if stock == 10:\n",
    "    print(\"이미 최대 주가\")\n",
    "elif stock not in range(10):\n",
    "    print(\"error\")\n",
    "else:\n",
    "    print(\"현재 주가: {0}\".format(stock))\n",
    "    up = random.random() * 20\n",
    "    if up <= 16 - stock:\n",
    "        print(\"주가 상승\")\n",
    "        print(\"현재 주가: {}\".format(stock + 1))\n",
    "    else:\n",
    "        up2 = random.random() * 20\n",
    "        if up2 <= 14:\n",
    "            print(\"주가 유지\")\n",
    "            print(\"현재 주가 {}\".format(stock))\n",
    "        elif up2 >= 17:\n",
    "            print(\"주가 하락\")\n",
    "            print(\"현재 주가: {}\".format(stock - 1))\n",
    "        else:\n",
    "            print(\"주가폭락\")"
   ]
  },
  {
   "cell_type": "markdown",
   "id": "adb8e1dd",
   "metadata": {},
   "source": [
    "- BUlleted List 1\n",
    "    - Bulletted List 2\n",
    "   "
   ]
  },
  {
   "cell_type": "code",
   "execution_count": 17,
   "id": "bda45c33",
   "metadata": {},
   "outputs": [
    {
     "data": {
      "text/plain": [
       "float"
      ]
     },
     "execution_count": 17,
     "metadata": {},
     "output_type": "execute_result"
    }
   ],
   "source": [
    "type(1.3)"
   ]
  },
  {
   "cell_type": "code",
   "execution_count": 18,
   "id": "48c73061",
   "metadata": {},
   "outputs": [
    {
     "data": {
      "text/plain": [
       "int"
      ]
     },
     "execution_count": 18,
     "metadata": {},
     "output_type": "execute_result"
    }
   ],
   "source": [
    "num = 1 \n",
    "type(num)"
   ]
  },
  {
   "cell_type": "code",
   "execution_count": 19,
   "id": "835ba404",
   "metadata": {},
   "outputs": [
    {
     "data": {
      "text/plain": [
       "str"
      ]
     },
     "execution_count": 19,
     "metadata": {},
     "output_type": "execute_result"
    }
   ],
   "source": [
    "type(\"1\")"
   ]
  },
  {
   "cell_type": "code",
   "execution_count": 22,
   "id": "126d5e63",
   "metadata": {},
   "outputs": [
    {
     "name": "stdout",
     "output_type": "stream",
     "text": [
      "오늘 점심에는 족발을 먹을거야\n"
     ]
    }
   ],
   "source": [
    "lunch1 = \"족발\"\n",
    "lunch2 = \"곱창\"\n",
    "print(\"오늘 점심에는 %s을 먹을거야\"%lunch1)"
   ]
  },
  {
   "cell_type": "code",
   "execution_count": 24,
   "id": "c3f484e6",
   "metadata": {},
   "outputs": [
    {
     "data": {
      "text/plain": [
       "4"
      ]
     },
     "execution_count": 24,
     "metadata": {},
     "output_type": "execute_result"
    }
   ],
   "source": [
    "song = \"sorry sorry sorry sorry 내가 내가 내가 내가 먼저 네가 빠져 빠져\"\n",
    "song.count(\"sorry\")"
   ]
  },
  {
   "cell_type": "code",
   "execution_count": 26,
   "id": "c99a4c8d",
   "metadata": {},
   "outputs": [
    {
     "ename": "SyntaxError",
     "evalue": "invalid syntax (872034921.py, line 1)",
     "output_type": "error",
     "traceback": [
      "\u001b[1;36m  Input \u001b[1;32mIn [26]\u001b[1;36m\u001b[0m\n\u001b[1;33m    print(song) -> (괄호 안에 명령을 넣는 것?)함수\u001b[0m\n\u001b[1;37m                ^\u001b[0m\n\u001b[1;31mSyntaxError\u001b[0m\u001b[1;31m:\u001b[0m invalid syntax\n"
     ]
    }
   ],
   "source": [
    "print(song) -> (괄호 안에 명령을 넣는 것?)함수\n",
    "song.count(\"\") -> 메소드"
   ]
  },
  {
   "cell_type": "code",
   "execution_count": 50,
   "id": "689cdd78",
   "metadata": {},
   "outputs": [
    {
     "data": {
      "text/plain": [
       "'     SORRY SORRY SORRY SORRY    '"
      ]
     },
     "execution_count": 50,
     "metadata": {},
     "output_type": "execute_result"
    }
   ],
   "source": [
    "song2 = \"     sorry sorry sorry sorry    \"\n",
    "song2.upper()"
   ]
  },
  {
   "cell_type": "code",
   "execution_count": 36,
   "id": "da4f8764",
   "metadata": {},
   "outputs": [
    {
     "data": {
      "text/plain": [
       "'     sorry sorry sorry sorry    '"
      ]
     },
     "execution_count": 36,
     "metadata": {},
     "output_type": "execute_result"
    }
   ],
   "source": [
    "song2.lower()"
   ]
  },
  {
   "cell_type": "code",
   "execution_count": 41,
   "id": "d806c3da",
   "metadata": {},
   "outputs": [
    {
     "data": {
      "text/plain": [
       "'sorry sorry sorry sorry 내가 내가 내가 내가 먼저 네가 빠져 빠져'"
      ]
     },
     "execution_count": 41,
     "metadata": {},
     "output_type": "execute_result"
    }
   ],
   "source": [
    "song2.strip()"
   ]
  },
  {
   "cell_type": "code",
   "execution_count": 51,
   "id": "ce1c580d",
   "metadata": {},
   "outputs": [
    {
     "data": {
      "text/plain": [
       "'     sorry sorry sorry sorry    '"
      ]
     },
     "execution_count": 51,
     "metadata": {},
     "output_type": "execute_result"
    }
   ],
   "source": [
    "song2"
   ]
  },
  {
   "cell_type": "code",
   "execution_count": 52,
   "id": "feda842d",
   "metadata": {},
   "outputs": [
    {
     "data": {
      "text/plain": [
       "'SORRY SORRY SORRY SORRY'"
      ]
     },
     "execution_count": 52,
     "metadata": {},
     "output_type": "execute_result"
    }
   ],
   "source": [
    "song2 = song2.upper()\n",
    "song2 = song2.strip()\n",
    "song2"
   ]
  },
  {
   "cell_type": "code",
   "execution_count": 46,
   "id": "f4610760",
   "metadata": {},
   "outputs": [],
   "source": [
    "song2 = song2.upper().strip()"
   ]
  },
  {
   "cell_type": "code",
   "execution_count": 53,
   "id": "251c773d",
   "metadata": {},
   "outputs": [
    {
     "data": {
      "text/plain": [
       "'WORRY WORRY WORRY WORRY'"
      ]
     },
     "execution_count": 53,
     "metadata": {},
     "output_type": "execute_result"
    }
   ],
   "source": [
    "song2.replace(\"S\", \"W\")"
   ]
  },
  {
   "cell_type": "code",
   "execution_count": 54,
   "id": "30e82d9f",
   "metadata": {},
   "outputs": [
    {
     "data": {
      "text/plain": [
       "['SO', 'Y SO', 'Y SO', 'Y SO', 'Y']"
      ]
     },
     "execution_count": 54,
     "metadata": {},
     "output_type": "execute_result"
    }
   ],
   "source": [
    "song2.split(\"RR\")"
   ]
  },
  {
   "cell_type": "code",
   "execution_count": 57,
   "id": "c0afee21",
   "metadata": {},
   "outputs": [
    {
     "data": {
      "text/plain": [
       "'백두산이'"
      ]
     },
     "execution_count": 57,
     "metadata": {},
     "output_type": "execute_result"
    }
   ],
   "source": [
    "lyrics = \"동해물과 백두산이 마르고 닳도록\"\n",
    "lyrics [5:9]"
   ]
  },
  {
   "cell_type": "code",
   "execution_count": 60,
   "id": "10066d19",
   "metadata": {},
   "outputs": [
    {
     "data": {
      "text/plain": [
       "343"
      ]
     },
     "execution_count": 60,
     "metadata": {},
     "output_type": "execute_result"
    }
   ],
   "source": [
    "7**3\n",
    "# ** : 제곱"
   ]
  },
  {
   "cell_type": "code",
   "execution_count": 67,
   "id": "45124930",
   "metadata": {},
   "outputs": [
    {
     "ename": "SyntaxError",
     "evalue": "unexpected character after line continuation character (4076284306.py, line 1)",
     "output_type": "error",
     "traceback": [
      "\u001b[1;36m  Input \u001b[1;32mIn [67]\u001b[1;36m\u001b[0m\n\u001b[1;33m    \"백두산\" * \\n * 7\u001b[0m\n\u001b[1;37m             ^\u001b[0m\n\u001b[1;31mSyntaxError\u001b[0m\u001b[1;31m:\u001b[0m unexpected character after line continuation character\n"
     ]
    }
   ],
   "source": [
    "\"백두산\" * 7"
   ]
  },
  {
   "cell_type": "code",
   "execution_count": 70,
   "id": "b6263893",
   "metadata": {},
   "outputs": [
    {
     "data": {
      "text/plain": [
       "True"
      ]
     },
     "execution_count": 70,
     "metadata": {},
     "output_type": "execute_result"
    }
   ],
   "source": [
    "not 1 + 1 != 2"
   ]
  },
  {
   "cell_type": "code",
   "execution_count": 77,
   "id": "7e434e5f",
   "metadata": {},
   "outputs": [
    {
     "name": "stdout",
     "output_type": "stream",
     "text": [
      "숫자 3\n"
     ]
    }
   ],
   "source": [
    "test = float(input(\"숫자 \"))"
   ]
  },
  {
   "cell_type": "code",
   "execution_count": 78,
   "id": "42995f4d",
   "metadata": {},
   "outputs": [
    {
     "data": {
      "text/plain": [
       "3.0"
      ]
     },
     "execution_count": 78,
     "metadata": {},
     "output_type": "execute_result"
    }
   ],
   "source": [
    "test"
   ]
  },
  {
   "cell_type": "code",
   "execution_count": 79,
   "id": "c454f36b",
   "metadata": {},
   "outputs": [
    {
     "data": {
      "text/plain": [
       "3"
      ]
     },
     "execution_count": 79,
     "metadata": {},
     "output_type": "execute_result"
    }
   ],
   "source": [
    "int(3.5)"
   ]
  },
  {
   "cell_type": "code",
   "execution_count": 80,
   "id": "59f5b8b9",
   "metadata": {},
   "outputs": [
    {
     "data": {
      "text/plain": [
       "4"
      ]
     },
     "execution_count": 80,
     "metadata": {},
     "output_type": "execute_result"
    }
   ],
   "source": [
    "import math\n",
    "math.ceil(3.3)"
   ]
  },
  {
   "cell_type": "code",
   "execution_count": 81,
   "id": "29e929bb",
   "metadata": {},
   "outputs": [
    {
     "data": {
      "text/plain": [
       "3"
      ]
     },
     "execution_count": 81,
     "metadata": {},
     "output_type": "execute_result"
    }
   ],
   "source": [
    "math.floor(3.3)"
   ]
  },
  {
   "cell_type": "code",
   "execution_count": 85,
   "id": "5f4f753a",
   "metadata": {},
   "outputs": [
    {
     "data": {
      "text/plain": [
       "3.612345"
      ]
     },
     "execution_count": 85,
     "metadata": {},
     "output_type": "execute_result"
    }
   ],
   "source": [
    "round(3.612345, 9)"
   ]
  },
  {
   "cell_type": "code",
   "execution_count": 92,
   "id": "5a9fc903",
   "metadata": {},
   "outputs": [
    {
     "data": {
      "text/plain": [
       "[]"
      ]
     },
     "execution_count": 92,
     "metadata": {},
     "output_type": "execute_result"
    }
   ],
   "source": [
    "a = []\n",
    "a"
   ]
  },
  {
   "cell_type": "code",
   "execution_count": 95,
   "id": "36a28194",
   "metadata": {},
   "outputs": [],
   "source": [
    "b = [1,2,3]\n",
    "c = [\"a\",\"b\",\"c\"]\n",
    "d = [1,3,\"w\",\"r\"]\n",
    "e = [1,\"b\", [2, \"e\"]]"
   ]
  },
  {
   "cell_type": "code",
   "execution_count": 100,
   "id": "f9d6fc4b",
   "metadata": {},
   "outputs": [
    {
     "data": {
      "text/plain": [
       "2"
      ]
     },
     "execution_count": 100,
     "metadata": {},
     "output_type": "execute_result"
    }
   ],
   "source": [
    "e[2][0]"
   ]
  },
  {
   "cell_type": "code",
   "execution_count": 102,
   "id": "f94cf61a",
   "metadata": {},
   "outputs": [
    {
     "data": {
      "text/plain": [
       "'c'"
      ]
     },
     "execution_count": 102,
     "metadata": {},
     "output_type": "execute_result"
    }
   ],
   "source": [
    "c[-1]"
   ]
  },
  {
   "cell_type": "code",
   "execution_count": 103,
   "id": "640bc7e6",
   "metadata": {},
   "outputs": [
    {
     "data": {
      "text/plain": [
       "tuple"
      ]
     },
     "execution_count": 103,
     "metadata": {},
     "output_type": "execute_result"
    }
   ],
   "source": [
    "a = ()\n",
    "type(a)"
   ]
  },
  {
   "cell_type": "code",
   "execution_count": 2,
   "id": "72df4a8b",
   "metadata": {},
   "outputs": [],
   "source": [
    "b = (1,2,3)\n",
    "c = (\"a\",\"b\",\"c\")\n",
    "d = (1,3,\"w\",\"r\")\n",
    "e = (1,\"b\", (2, \"e\"))"
   ]
  },
  {
   "cell_type": "code",
   "execution_count": 4,
   "id": "3296717e",
   "metadata": {},
   "outputs": [
    {
     "data": {
      "text/plain": [
       "('c',)"
      ]
     },
     "execution_count": 4,
     "metadata": {},
     "output_type": "execute_result"
    }
   ],
   "source": [
    "c[2:4]"
   ]
  },
  {
   "cell_type": "code",
   "execution_count": 5,
   "id": "5c37b79d",
   "metadata": {},
   "outputs": [
    {
     "data": {
      "text/plain": [
       "(1, 2, 3)"
      ]
     },
     "execution_count": 5,
     "metadata": {},
     "output_type": "execute_result"
    }
   ],
   "source": [
    "b"
   ]
  },
  {
   "cell_type": "code",
   "execution_count": 9,
   "id": "a1be12ee",
   "metadata": {},
   "outputs": [],
   "source": [
    "b = [1,2,3]\n",
    "c = [\"a\",\"b\",\"c\"]\n",
    "d = [1,3,\"w\",\"r\"]\n",
    "e = [1,\"b\", [2, \"e\"]]"
   ]
  },
  {
   "cell_type": "code",
   "execution_count": 11,
   "id": "b0773cf8",
   "metadata": {},
   "outputs": [
    {
     "data": {
      "text/plain": [
       "[1, 2, 3, 4, 4]"
      ]
     },
     "execution_count": 11,
     "metadata": {},
     "output_type": "execute_result"
    }
   ],
   "source": [
    "b.append(4)\n",
    "b"
   ]
  },
  {
   "cell_type": "code",
   "execution_count": 100,
   "id": "a038febd",
   "metadata": {},
   "outputs": [],
   "source": [
    "b = [1,2,3]\n",
    "c = (1,2,3)"
   ]
  },
  {
   "cell_type": "code",
   "execution_count": 101,
   "id": "9b2ca1f6",
   "metadata": {},
   "outputs": [
    {
     "data": {
      "text/plain": [
       "[1, 2, 3, 4]"
      ]
     },
     "execution_count": 101,
     "metadata": {},
     "output_type": "execute_result"
    }
   ],
   "source": [
    "b.append(4)\n",
    "b"
   ]
  },
  {
   "cell_type": "code",
   "execution_count": 102,
   "id": "6284dd27",
   "metadata": {},
   "outputs": [
    {
     "ename": "AttributeError",
     "evalue": "'tuple' object has no attribute 'append'",
     "output_type": "error",
     "traceback": [
      "\u001b[1;31m---------------------------------------------------------------------------\u001b[0m",
      "\u001b[1;31mAttributeError\u001b[0m                            Traceback (most recent call last)",
      "Input \u001b[1;32mIn [102]\u001b[0m, in \u001b[0;36m<cell line: 1>\u001b[1;34m()\u001b[0m\n\u001b[1;32m----> 1\u001b[0m \u001b[43mc\u001b[49m\u001b[38;5;241;43m.\u001b[39;49m\u001b[43mappend\u001b[49m(\u001b[38;5;241m4\u001b[39m)\n",
      "\u001b[1;31mAttributeError\u001b[0m: 'tuple' object has no attribute 'append'"
     ]
    }
   ],
   "source": [
    "c.append(4)"
   ]
  },
  {
   "cell_type": "code",
   "execution_count": 99,
   "id": "130dd8c9",
   "metadata": {},
   "outputs": [
    {
     "ename": "NameError",
     "evalue": "name 'b' is not defined",
     "output_type": "error",
     "traceback": [
      "\u001b[1;31m---------------------------------------------------------------------------\u001b[0m",
      "\u001b[1;31mNameError\u001b[0m                                 Traceback (most recent call last)",
      "Input \u001b[1;32mIn [99]\u001b[0m, in \u001b[0;36m<cell line: 1>\u001b[1;34m()\u001b[0m\n\u001b[1;32m----> 1\u001b[0m \u001b[43mb\u001b[49m\n",
      "\u001b[1;31mNameError\u001b[0m: name 'b' is not defined"
     ]
    }
   ],
   "source": [
    "b"
   ]
  },
  {
   "cell_type": "code",
   "execution_count": 30,
   "id": "e34dec05",
   "metadata": {},
   "outputs": [
    {
     "data": {
      "text/plain": [
       "[1, 1.5, 3, 4]"
      ]
     },
     "execution_count": 30,
     "metadata": {},
     "output_type": "execute_result"
    }
   ],
   "source": [
    "b.insert(1, 1.5)\n",
    "b"
   ]
  },
  {
   "cell_type": "code",
   "execution_count": 98,
   "id": "08c2472f",
   "metadata": {},
   "outputs": [
    {
     "ename": "NameError",
     "evalue": "name 'b' is not defined",
     "output_type": "error",
     "traceback": [
      "\u001b[1;31m---------------------------------------------------------------------------\u001b[0m",
      "\u001b[1;31mNameError\u001b[0m                                 Traceback (most recent call last)",
      "Input \u001b[1;32mIn [98]\u001b[0m, in \u001b[0;36m<cell line: 1>\u001b[1;34m()\u001b[0m\n\u001b[1;32m----> 1\u001b[0m \u001b[43mb\u001b[49m[\u001b[38;5;241m1\u001b[39m] \u001b[38;5;241m=\u001b[39m \u001b[38;5;241m1.7\u001b[39m\n\u001b[0;32m      2\u001b[0m b\n",
      "\u001b[1;31mNameError\u001b[0m: name 'b' is not defined"
     ]
    }
   ],
   "source": [
    "b[1] = 1.7\n",
    "b\n",
    "# 1의 자리의 수를 바꾼다는 뜻?"
   ]
  },
  {
   "cell_type": "code",
   "execution_count": 97,
   "id": "37bb6485",
   "metadata": {},
   "outputs": [
    {
     "ename": "NameError",
     "evalue": "name 'b' is not defined",
     "output_type": "error",
     "traceback": [
      "\u001b[1;31m---------------------------------------------------------------------------\u001b[0m",
      "\u001b[1;31mNameError\u001b[0m                                 Traceback (most recent call last)",
      "Input \u001b[1;32mIn [97]\u001b[0m, in \u001b[0;36m<cell line: 1>\u001b[1;34m()\u001b[0m\n\u001b[1;32m----> 1\u001b[0m \u001b[38;5;28;01mdel\u001b[39;00m \u001b[43mb\u001b[49m[\u001b[38;5;241m1\u001b[39m]\n\u001b[0;32m      2\u001b[0m b\n",
      "\u001b[1;31mNameError\u001b[0m: name 'b' is not defined"
     ]
    }
   ],
   "source": [
    "del b[1]\n",
    "b"
   ]
  },
  {
   "cell_type": "code",
   "execution_count": 96,
   "id": "79178c8b",
   "metadata": {},
   "outputs": [
    {
     "ename": "NameError",
     "evalue": "name 'b' is not defined",
     "output_type": "error",
     "traceback": [
      "\u001b[1;31m---------------------------------------------------------------------------\u001b[0m",
      "\u001b[1;31mNameError\u001b[0m                                 Traceback (most recent call last)",
      "Input \u001b[1;32mIn [96]\u001b[0m, in \u001b[0;36m<cell line: 1>\u001b[1;34m()\u001b[0m\n\u001b[1;32m----> 1\u001b[0m \u001b[43mb\u001b[49m\u001b[38;5;241m.\u001b[39mremove(\u001b[38;5;241m1\u001b[39m)\n\u001b[0;32m      2\u001b[0m b\n",
      "\u001b[1;31mNameError\u001b[0m: name 'b' is not defined"
     ]
    }
   ],
   "source": [
    "b.remove(1)\n",
    "b"
   ]
  },
  {
   "cell_type": "code",
   "execution_count": 36,
   "id": "69d8e349",
   "metadata": {},
   "outputs": [
    {
     "data": {
      "text/plain": [
       "[2, 1]"
      ]
     },
     "execution_count": 36,
     "metadata": {},
     "output_type": "execute_result"
    }
   ],
   "source": [
    "k = [1,2,1]\n",
    "k.remove(1)\n",
    "k"
   ]
  },
  {
   "cell_type": "code",
   "execution_count": 37,
   "id": "843cea8c",
   "metadata": {},
   "outputs": [
    {
     "data": {
      "text/plain": [
       "[0, 1, 2, 6, 7]"
      ]
     },
     "execution_count": 37,
     "metadata": {},
     "output_type": "execute_result"
    }
   ],
   "source": [
    "num = [1, 7, 2, 0, 6]\n",
    "num.sort()\n",
    "num\n",
    "# sort -> 오름차순 정렬"
   ]
  },
  {
   "cell_type": "code",
   "execution_count": 39,
   "id": "af61632c",
   "metadata": {},
   "outputs": [
    {
     "data": {
      "text/plain": [
       "[7, 6, 2, 1, 0]"
      ]
     },
     "execution_count": 39,
     "metadata": {},
     "output_type": "execute_result"
    }
   ],
   "source": [
    "num = [1, 7, 2, 0, 6]\n",
    "num.sort(reverse = True)\n",
    "num\n",
    "# reverse = True 내림차순 "
   ]
  },
  {
   "cell_type": "code",
   "execution_count": 41,
   "id": "4c3af610",
   "metadata": {},
   "outputs": [
    {
     "data": {
      "text/plain": [
       "[6, 0, 2, 7, 1]"
      ]
     },
     "execution_count": 41,
     "metadata": {},
     "output_type": "execute_result"
    }
   ],
   "source": [
    "num = [1, 7, 2, 0, 6]\n",
    "num.reverse()\n",
    "num\n",
    "# 그냥 리버스"
   ]
  },
  {
   "cell_type": "code",
   "execution_count": 42,
   "id": "b43b283a",
   "metadata": {},
   "outputs": [
    {
     "ename": "SyntaxError",
     "evalue": "cannot assign to function call (3516318039.py, line 1)",
     "output_type": "error",
     "traceback": [
      "\u001b[1;36m  Input \u001b[1;32mIn [42]\u001b[1;36m\u001b[0m\n\u001b[1;33m    num.sort(reverse) = num.sort().reverse()\u001b[0m\n\u001b[1;37m    ^\u001b[0m\n\u001b[1;31mSyntaxError\u001b[0m\u001b[1;31m:\u001b[0m cannot assign to function call\n"
     ]
    }
   ],
   "source": [
    "num.sort(reverse) = num.sort().reverse()"
   ]
  },
  {
   "cell_type": "code",
   "execution_count": 49,
   "id": "84f8740a",
   "metadata": {},
   "outputs": [
    {
     "data": {
      "text/plain": [
       "0"
      ]
     },
     "execution_count": 49,
     "metadata": {},
     "output_type": "execute_result"
    }
   ],
   "source": [
    "c = [\"a\",\"b\",\"c\",\"a\"]\n",
    "c.index(\"a\")\n",
    "# 중복값이 있어도 맨 앞에 것만 출력한다."
   ]
  },
  {
   "cell_type": "code",
   "execution_count": 50,
   "id": "1de4f32e",
   "metadata": {},
   "outputs": [
    {
     "data": {
      "text/plain": [
       "['a', 'b', 'c']"
      ]
     },
     "execution_count": 50,
     "metadata": {},
     "output_type": "execute_result"
    }
   ],
   "source": [
    "c.pop()\n",
    "c"
   ]
  },
  {
   "cell_type": "code",
   "execution_count": 56,
   "id": "35e6b321",
   "metadata": {},
   "outputs": [
    {
     "data": {
      "text/plain": [
       "2"
      ]
     },
     "execution_count": 56,
     "metadata": {},
     "output_type": "execute_result"
    }
   ],
   "source": [
    "len(b)\n",
    "# 원소의 개수\n",
    "# 튜플에서도 먹힌다."
   ]
  },
  {
   "cell_type": "code",
   "execution_count": 59,
   "id": "c0cd382e",
   "metadata": {},
   "outputs": [
    {
     "data": {
      "text/plain": [
       "2.5"
      ]
     },
     "execution_count": 59,
     "metadata": {},
     "output_type": "execute_result"
    }
   ],
   "source": [
    "d = [1,2,3,4]\n",
    "sum(d)/len(d)\n",
    "# d 원소들의 평균"
   ]
  },
  {
   "cell_type": "code",
   "execution_count": 62,
   "id": "54dff789",
   "metadata": {},
   "outputs": [
    {
     "data": {
      "text/plain": [
       "True"
      ]
     },
     "execution_count": 62,
     "metadata": {},
     "output_type": "execute_result"
    }
   ],
   "source": [
    "menu = [\"곱창볶음\", \"족발\", \"꽈베기\", \"순대국밥\"]\n",
    "\"떡볶이\" not in menu"
   ]
  },
  {
   "cell_type": "code",
   "execution_count": 63,
   "id": "a3fcd186",
   "metadata": {},
   "outputs": [
    {
     "name": "stdout",
     "output_type": "stream",
     "text": [
      "뒷골목으로 간다.\n"
     ]
    }
   ],
   "source": [
    "if \"떡볶이\" in menu:\n",
    "    print(\"남성시장으로 간다.\")\n",
    "else:\n",
    "    print(\"뒷골목으로 간다.\")"
   ]
  },
  {
   "cell_type": "code",
   "execution_count": 64,
   "id": "5e9b0c6a",
   "metadata": {},
   "outputs": [
    {
     "data": {
      "text/plain": [
       "range(0, 10)"
      ]
     },
     "execution_count": 64,
     "metadata": {},
     "output_type": "execute_result"
    }
   ],
   "source": [
    "# range(양의 정수)\n",
    "byunsu = range(10)\n",
    "byunsu "
   ]
  },
  {
   "cell_type": "code",
   "execution_count": 67,
   "id": "5c6f4b01",
   "metadata": {},
   "outputs": [
    {
     "data": {
      "text/plain": [
       "[0, 1, 2, 3, 4, 5, 6, 7, 8, 9]"
      ]
     },
     "execution_count": 67,
     "metadata": {},
     "output_type": "execute_result"
    }
   ],
   "source": [
    "byunsu = list(byunsu)\n",
    "byunsu"
   ]
  },
  {
   "cell_type": "code",
   "execution_count": 68,
   "id": "d0ce7976",
   "metadata": {},
   "outputs": [
    {
     "ename": "SyntaxError",
     "evalue": "invalid syntax (2582521971.py, line 2)",
     "output_type": "error",
     "traceback": [
      "\u001b[1;36m  Input \u001b[1;32mIn [68]\u001b[1;36m\u001b[0m\n\u001b[1;33m    for i in range(1, 1001)\u001b[0m\n\u001b[1;37m                           ^\u001b[0m\n\u001b[1;31mSyntaxError\u001b[0m\u001b[1;31m:\u001b[0m invalid syntax\n"
     ]
    }
   ],
   "source": [
    "# 반복문\n",
    "for i in range(1, 1001)\n",
    "print(i)"
   ]
  },
  {
   "cell_type": "code",
   "execution_count": 69,
   "id": "901400e7",
   "metadata": {},
   "outputs": [
    {
     "name": "stdout",
     "output_type": "stream",
     "text": [
      "1\n",
      "2\n",
      "3\n"
     ]
    }
   ],
   "source": [
    "num = 1\n",
    "while num <= 3:\n",
    "    print (num)\n",
    "    num += 1"
   ]
  },
  {
   "cell_type": "code",
   "execution_count": 3,
   "id": "b0349944",
   "metadata": {},
   "outputs": [
    {
     "name": "stdout",
     "output_type": "stream",
     "text": [
      "파이썬 최고!\n",
      "파이썬 최고!\n",
      "파이썬 최고!\n",
      "파이썬 최고!\n",
      "파이썬 최고!\n",
      "파이썬 최고!\n",
      "파이썬 최고!\n",
      "파이썬 최고!\n",
      "파이썬 최고!\n",
      "파이썬 최고!\n",
      "파이썬 최고!\n",
      "파이썬 최고!\n",
      "파이썬 최고!\n"
     ]
    }
   ],
   "source": [
    "num = 0\n",
    "while num < 13:\n",
    "    print(\"파이썬 최고!\")\n",
    "    num += 1\n"
   ]
  },
  {
   "cell_type": "code",
   "execution_count": 6,
   "id": "419c74af",
   "metadata": {},
   "outputs": [
    {
     "ename": "IndentationError",
     "evalue": "expected an indented block (1660154523.py, line 6)",
     "output_type": "error",
     "traceback": [
      "\u001b[1;36m  Input \u001b[1;32mIn [6]\u001b[1;36m\u001b[0m\n\u001b[1;33m    break:\u001b[0m\n\u001b[1;37m    ^\u001b[0m\n\u001b[1;31mIndentationError\u001b[0m\u001b[1;31m:\u001b[0m expected an indented block\n"
     ]
    }
   ],
   "source": [
    "num = 1\n",
    "while true:\n",
    "    print(num)\n",
    "    num += 1\n",
    "    if num > 3:\n",
    "    break:"
   ]
  },
  {
   "cell_type": "markdown",
   "id": "faaae6be",
   "metadata": {},
   "source": [
    "###  두 개의 정수를 받아서 그 합을 츨력하는 무한루프 함수를 만들어보다. \n",
    "- 단 두 정수 모두 0으로 받을 경우 게임 종료"
   ]
  },
  {
   "cell_type": "code",
   "execution_count": 13,
   "id": "d2e52102",
   "metadata": {
    "scrolled": true
   },
   "outputs": [
    {
     "name": "stdout",
     "output_type": "stream",
     "text": [
      "정수를 입력하세요: 2\n",
      "정수를 입력하세요: 3\n",
      "5\n",
      "정수를 입력하세요: 4\n",
      "정수를 입력하세요: 3\n",
      "7\n",
      "정수를 입력하세요: 0\n",
      "정수를 입력하세요: 0\n"
     ]
    }
   ],
   "source": [
    "while True:\n",
    "    num1 = int(input(\"정수를 입력하세요: \"))\n",
    "    num2 = int(input(\"정수를 입력하세요: \"))\n",
    "    \n",
    "    if (num1 == 0) and (num2 == 0):\n",
    "        break\n",
    "    print(num1 + num2)"
   ]
  },
  {
   "cell_type": "markdown",
   "id": "26b5b73b",
   "metadata": {},
   "source": [
    "### 다이어트 관리 프로그램\n",
    "- 현재의 몸무게를 정수로 받는다. \n",
    "- 목표 몸무게를 정수로 받는다.\n",
    "- 매일 감량한 몸무게를 입력 받아서, 목표 몸무게에 도달하면 \"목표 달성을 출력한 뒤 프로그램 종료.\""
   ]
  },
  {
   "cell_type": "code",
   "execution_count": 26,
   "id": "4f525753",
   "metadata": {},
   "outputs": [
    {
     "name": "stdout",
     "output_type": "stream",
     "text": [
      "현재 몸무게를 입력하세요: 50\n",
      "목표 몸무게를 입력하세요: 40\n",
      "감량한 몸무게를 입력하세요: 20\n",
      "목표 몸무게에 도달했습니다. 종료.\n"
     ]
    }
   ],
   "source": [
    "while True:\n",
    "    nowWeight = int(input(\"현재 몸무게를 입력하세요: \"))\n",
    "    goalWeight = int(input(\"목표 몸무게를 입력하세요: \"))\n",
    "    loseWight = int(input(\"감량한 몸무게를 입력하세요: \"))\n",
    "    \n",
    "    if (nowWeight-loseWight <= goalWeight):\n",
    "        print(\"목표 몸무게에 도달했습니다. 종료.\")\n",
    "        break\n",
    "        \n",
    "    print(\"남은 몸무게: \", abs(goalWeight - nowWeight))\n",
    "    \n",
    "    "
   ]
  },
  {
   "cell_type": "code",
   "execution_count": 30,
   "id": "286dd3ad",
   "metadata": {},
   "outputs": [
    {
     "name": "stdout",
     "output_type": "stream",
     "text": [
      "현재 몸무게를 입력하세요: 50\n",
      "목표 몸무게를 입력하세요: 40\n",
      "감량한 몸무게를 입력하세요: 5\n",
      "감량한 몸무게를 입력하세요: 5\n",
      "목표 몸무게에 도달했습니다. 종료.\n"
     ]
    }
   ],
   "source": [
    "nowWeight = int(input(\"현재 몸무게를 입력하세요: \"))\n",
    "goalWeight = int(input(\"목표 몸무게를 입력하세요: \"))\n",
    "\n",
    "while nowWeight > goalWeight:\n",
    "    loseWight = int(input(\"감량한 몸무게를 입력하세요: \"))\n",
    "    nowWeight -= loseWight\n",
    "    \n",
    "    \n",
    "print(\"목표 몸무게에 도달했습니다. 종료.\")"
   ]
  },
  {
   "cell_type": "code",
   "execution_count": 47,
   "id": "57b07c81",
   "metadata": {},
   "outputs": [
    {
     "name": "stdout",
     "output_type": "stream",
     "text": [
      "정수 입력: 50\n",
      "더 큰 수를 입력하세요.\n",
      "정수 입력: 60\n",
      "더 작은 수를 입력하세요.\n",
      "정수 입력: 55\n",
      "더 큰 수를 입력하세요.\n",
      "정수 입력: 57\n",
      "정답입니다.\n",
      "4번 만에 성공했습니다. End..\n"
     ]
    }
   ],
   "source": [
    "import random\n",
    "k = random.randint(1, 100)\n",
    "count = 0\n",
    "\n",
    "while True:\n",
    "    i = int(input(\"정수 입력: \"))\n",
    "    count += 1\n",
    "    if (k > i):\n",
    "        print(\"더 큰 수를 입력하세요.\")\n",
    "    elif (k < i):\n",
    "        print(\"더 작은 수를 입력하세요.\")\n",
    "    else:\n",
    "      print(\"정답입니다.\")\n",
    "      break\n",
    "print(\"{}번 만에 성공했습니다. End..\".format(count))"
   ]
  },
  {
   "cell_type": "code",
   "execution_count": 48,
   "id": "53d6a13d",
   "metadata": {},
   "outputs": [
    {
     "name": "stdout",
     "output_type": "stream",
     "text": [
      "오늘 점심은 족발로 정했어.\n",
      "오늘 점심은 곱창로 정했어.\n",
      "오늘 점심은 꽈베기로 정했어.\n"
     ]
    }
   ],
   "source": [
    "food_list = [\"족발\", \"곱창\", \"꽈베기\"]\n",
    "for food in food_list:\n",
    "    # 인덱싱이 가능한 개체: 튜플, 문자열...\n",
    "    print(\"오늘 점심은 {}로 정했어.\".format(food))"
   ]
  },
  {
   "cell_type": "code",
   "execution_count": 53,
   "id": "2d9e8a1c",
   "metadata": {},
   "outputs": [
    {
     "name": "stdout",
     "output_type": "stream",
     "text": [
      "안\n",
      "녕\n",
      "하\n",
      "세\n",
      "요\n"
     ]
    }
   ],
   "source": [
    "hello = \"안녕하세요\"\n",
    "for i in hello:\n",
    "    print(i)"
   ]
  },
  {
   "cell_type": "code",
   "execution_count": 54,
   "id": "7acc0242",
   "metadata": {},
   "outputs": [
    {
     "name": "stdout",
     "output_type": "stream",
     "text": [
      "파이썬 최고!\n",
      "파이썬 최고!\n",
      "파이썬 최고!\n",
      "파이썬 최고!\n",
      "파이썬 최고!\n",
      "파이썬 최고!\n",
      "파이썬 최고!\n",
      "파이썬 최고!\n",
      "파이썬 최고!\n",
      "파이썬 최고!\n",
      "파이썬 최고!\n",
      "파이썬 최고!\n",
      "파이썬 최고!\n"
     ]
    }
   ],
   "source": [
    "for i in range(13):\n",
    "    print(\"파이썬 최고!\")"
   ]
  },
  {
   "cell_type": "code",
   "execution_count": 55,
   "id": "f5dbc47f",
   "metadata": {},
   "outputs": [
    {
     "name": "stdout",
     "output_type": "stream",
     "text": [
      "0\n",
      "1\n",
      "2\n",
      "3\n",
      "4\n",
      "5\n",
      "6\n",
      "7\n",
      "8\n",
      "9\n",
      "10\n",
      "11\n",
      "12\n"
     ]
    }
   ],
   "source": [
    "for i in range(13):\n",
    "    # range를 사용하면 몇 번 반복하라고 명확하게 지시 가능.\n",
    "    print(i)"
   ]
  },
  {
   "cell_type": "code",
   "execution_count": 76,
   "id": "2d212813",
   "metadata": {},
   "outputs": [
    {
     "name": "stdout",
     "output_type": "stream",
     "text": [
      "5050\n"
     ]
    }
   ],
   "source": [
    "sum_i = 0\n",
    "for i in range(101):\n",
    "    sum_i += i\n",
    "print(sum_i)\n",
    "\n",
    "# 오류1: 반복문이 실행될 때 마다 sum_i의 값을 0으로 초기화했다. \n",
    "# -> sum_i선언을 반복문 밖으로 뺀다.\n",
    "# 오류2: 출력값이 하나만 나오지 않고 로그 전체가 출력\n",
    "# -> 들여쓰기로 출력값의 범위를 바꾼다."
   ]
  },
  {
   "cell_type": "markdown",
   "id": "4a39afe0",
   "metadata": {},
   "source": [
    "**1에서 100까지의 자연수 중 3의 배수의 합은?**"
   ]
  },
  {
   "cell_type": "code",
   "execution_count": 81,
   "id": "8273b2c1",
   "metadata": {},
   "outputs": [
    {
     "name": "stdout",
     "output_type": "stream",
     "text": [
      "1683\n"
     ]
    }
   ],
   "source": [
    "sum_i = 0\n",
    "for i in range(101):\n",
    "    if (i % 3 == 0):\n",
    "        sum_i += i\n",
    "print(sum_i)\n"
   ]
  },
  {
   "cell_type": "markdown",
   "id": "46af7dfd",
   "metadata": {},
   "source": [
    "**구구단을 출력하시오**"
   ]
  },
  {
   "cell_type": "code",
   "execution_count": 92,
   "id": "020c4e10",
   "metadata": {
    "scrolled": true
   },
   "outputs": [
    {
     "ename": "IndentationError",
     "evalue": "expected an indented block (1623550348.py, line 3)",
     "output_type": "error",
     "traceback": [
      "\u001b[1;36m  Input \u001b[1;32mIn [92]\u001b[1;36m\u001b[0m\n\u001b[1;33m    if (y != 0):\u001b[0m\n\u001b[1;37m    ^\u001b[0m\n\u001b[1;31mIndentationError\u001b[0m\u001b[1;31m:\u001b[0m expected an indented block\n"
     ]
    }
   ],
   "source": [
    "\n",
    "if (i != 0):\n",
    "    for i in range(10):\n",
    "    if (y != 0):\n",
    "        for y in range(10):\n",
    "    print(i * y)\n",
    "    print(\"i x y = \", i * y)\n",
    "        "
   ]
  },
  {
   "cell_type": "code",
   "execution_count": 95,
   "id": "60a4ebda",
   "metadata": {
    "scrolled": true
   },
   "outputs": [
    {
     "name": "stdout",
     "output_type": "stream",
     "text": [
      "2 x 2 = 4\n",
      "2 x 3 = 6\n",
      "2 x 4 = 8\n",
      "2 x 5 = 10\n",
      "2 x 6 = 12\n",
      "2 x 7 = 14\n",
      "2 x 8 = 16\n",
      "2 x 9 = 18\n",
      "3 x 2 = 6\n",
      "3 x 3 = 9\n",
      "3 x 4 = 12\n",
      "3 x 5 = 15\n",
      "3 x 6 = 18\n",
      "3 x 7 = 21\n",
      "3 x 8 = 24\n",
      "3 x 9 = 27\n",
      "4 x 2 = 8\n",
      "4 x 3 = 12\n",
      "4 x 4 = 16\n",
      "4 x 5 = 20\n",
      "4 x 6 = 24\n",
      "4 x 7 = 28\n",
      "4 x 8 = 32\n",
      "4 x 9 = 36\n",
      "5 x 2 = 10\n",
      "5 x 3 = 15\n",
      "5 x 4 = 20\n",
      "5 x 5 = 25\n",
      "5 x 6 = 30\n",
      "5 x 7 = 35\n",
      "5 x 8 = 40\n",
      "5 x 9 = 45\n",
      "6 x 2 = 12\n",
      "6 x 3 = 18\n",
      "6 x 4 = 24\n",
      "6 x 5 = 30\n",
      "6 x 6 = 36\n",
      "6 x 7 = 42\n",
      "6 x 8 = 48\n",
      "6 x 9 = 54\n",
      "7 x 2 = 14\n",
      "7 x 3 = 21\n",
      "7 x 4 = 28\n",
      "7 x 5 = 35\n",
      "7 x 6 = 42\n",
      "7 x 7 = 49\n",
      "7 x 8 = 56\n",
      "7 x 9 = 63\n",
      "8 x 2 = 16\n",
      "8 x 3 = 24\n",
      "8 x 4 = 32\n",
      "8 x 5 = 40\n",
      "8 x 6 = 48\n",
      "8 x 7 = 56\n",
      "8 x 8 = 64\n",
      "8 x 9 = 72\n",
      "9 x 2 = 18\n",
      "9 x 3 = 27\n",
      "9 x 4 = 36\n",
      "9 x 5 = 45\n",
      "9 x 6 = 54\n",
      "9 x 7 = 63\n",
      "9 x 8 = 72\n",
      "9 x 9 = 81\n"
     ]
    }
   ],
   "source": [
    "for i in range(2, 10):\n",
    "    for w in range(2, 10):\n",
    "        print(\"{0} x {1} = {2}\".format(i, w, i*w))"
   ]
  },
  {
   "cell_type": "code",
   "execution_count": 131,
   "id": "bca30ee4",
   "metadata": {},
   "outputs": [
    {
     "name": "stdout",
     "output_type": "stream",
     "text": [
      "아이디를 입력하시오.=.=\n",
      "=.=\n"
     ]
    }
   ],
   "source": [
    "new_id = input(\"아이디를 입력하시오.\")\n",
    "\n",
    "\n",
    "# 1단계\n",
    "new_id = new_id.lower()\n",
    "\n",
    "# 2단계\n",
    "allowed = []\n",
    "new_id2 = new_id\n",
    "for i in new_id2:\n",
    "    if i not in allowed:\n",
    "        new_id.replace(i, \"\")\n",
    "\n",
    "\n",
    "# 3단계\n",
    "\n",
    "while \"..\" in new_id:\n",
    "    new_id.replace(\"..\", \".\")\n",
    "    \n",
    "# 4단계\n",
    "while new_id[0] == \".\":\n",
    "    new_id = new_id[1:]\n",
    "while new_id[-1] == \".\":\n",
    "    new_id = new_id[:-1]\n",
    "    \n",
    "# 5단계\n",
    "if new_id == \"\":\n",
    "    new_id = \"a\"\n",
    "\n",
    "    \n",
    "# 6단계\n",
    "if len(new_id) >= 16:\n",
    "    new_id = new_id[:15]\n",
    "    while new_id[-1] == \".\":\n",
    "        new_id = new_id[-1]\n",
    "\n",
    "# 7단계\n",
    "while len(new_id) < 3:\n",
    "    new_id += new_id[-1]\n",
    "    \n",
    "    \n",
    "print(new_id)\n"
   ]
  },
  {
   "cell_type": "code",
   "execution_count": null,
   "id": "a152e50c",
   "metadata": {},
   "outputs": [],
   "source": [
    "new_id = str(input(\"아이디를 입력하시오.\"))\n",
    "\n",
    "while \"..\" in new_id:\n",
    "    new_id.replace(\"..\", \".\")\n",
    "\n",
    "    if new_id[0] == \".\":\n",
    "        new_id.replace(\".\", \"\")\n",
    "    elif new_id[-1] == \".\":\n",
    "        new_id.replace(\".\", \"\")\n",
    "    else:\n",
    "        pass\n",
    "print(new_id)"
   ]
  },
  {
   "cell_type": "code",
   "execution_count": 125,
   "id": "07f88f00",
   "metadata": {},
   "outputs": [
    {
     "name": "stdout",
     "output_type": "stream",
     "text": [
      "아이디를 입력하시오.qw\n"
     ]
    },
    {
     "ename": "AttributeError",
     "evalue": "'str' object has no attribute 'append'",
     "output_type": "error",
     "traceback": [
      "\u001b[1;31m---------------------------------------------------------------------------\u001b[0m",
      "\u001b[1;31mAttributeError\u001b[0m                            Traceback (most recent call last)",
      "Input \u001b[1;32mIn [125]\u001b[0m, in \u001b[0;36m<cell line: 4>\u001b[1;34m()\u001b[0m\n\u001b[0;32m      3\u001b[0m \u001b[38;5;28;01mwhile\u001b[39;00m \u001b[38;5;28;01mTrue\u001b[39;00m:\n\u001b[0;32m      4\u001b[0m     \u001b[38;5;28;01mif\u001b[39;00m \u001b[38;5;28mlen\u001b[39m(new_id) \u001b[38;5;241m<\u001b[39m\u001b[38;5;241m=\u001b[39m \u001b[38;5;241m2\u001b[39m:\n\u001b[1;32m----> 5\u001b[0m         \u001b[43mnew_id\u001b[49m\u001b[38;5;241;43m.\u001b[39;49m\u001b[43mappend\u001b[49m(new_id[\u001b[38;5;241m-\u001b[39m\u001b[38;5;241m1\u001b[39m])\n\u001b[0;32m      6\u001b[0m     \u001b[38;5;28;01melif\u001b[39;00m \u001b[38;5;28mlen\u001b[39m(new_id) \u001b[38;5;241m==\u001b[39m \u001b[38;5;241m3\u001b[39m:\n\u001b[0;32m      7\u001b[0m         \u001b[38;5;28;01mbreak\u001b[39;00m\n",
      "\u001b[1;31mAttributeError\u001b[0m: 'str' object has no attribute 'append'"
     ]
    }
   ],
   "source": [
    "new_id = str(input(\"아이디를 입력하시오.\"))\n",
    "\n",
    "while True:\n",
    "    if len(new_id) <= 2:\n",
    "        new_id.append(new_id[-1])\n",
    "    elif len(new_id) == 3:\n",
    "        break\n",
    "print(new_id)\n",
    "\n",
    "# append는 리스트일 때만 사용 가능."
   ]
  },
  {
   "cell_type": "code",
   "execution_count": 134,
   "id": "800505e0",
   "metadata": {},
   "outputs": [
    {
     "name": "stdout",
     "output_type": "stream",
     "text": [
      "아이디를 입력하시오.=.=\n",
      "=.=\n"
     ]
    }
   ],
   "source": [
    "new_id = input(\"아이디를 입력하시오.\")\n",
    "\n",
    "\n",
    "# 1단계\n",
    "new_id = new_id.lower()\n",
    "\n",
    "# 2단계\n",
    "allowed = ['a','b','c','d','e','f','g','h','i','j','k','l','m','n','o','p'\n",
    "           ,'q','r','s','t','u','v','w','x','y','z','0','1','2','3','4','5','6','7','8',\n",
    "          '9','-','_','.','=']\n",
    "new_id2 = new_id\n",
    "for i in new_id2:\n",
    "    if i not in allowed:\n",
    "        new_id.replace(i, \"\")\n",
    "\n",
    "\n",
    "# 3단계\n",
    "\n",
    "while \"..\" in new_id:\n",
    "    new_id.replace(\"..\", \".\")\n",
    "    \n",
    "# 4단계\n",
    "while new_id[0] == \".\":\n",
    "    new_id = new_id[1:]\n",
    "while new_id[-1] == \".\":\n",
    "    new_id = new_id[:-1]\n",
    "    \n",
    "# 5단계\n",
    "if new_id == \"\":\n",
    "    new_id = \"a\"\n",
    "\n",
    "    \n",
    "# 6단계\n",
    "if len(new_id) >= 16:\n",
    "    new_id = new_id[:15]\n",
    "    while new_id[-1] == \".\":\n",
    "        new_id = new_id[-1]\n",
    "\n",
    "# 7단계\n",
    "while len(new_id) < 3:\n",
    "    new_id += new_id[-1]\n",
    "    \n",
    "    \n",
    "print(new_id)\n"
   ]
  },
  {
   "cell_type": "code",
   "execution_count": 133,
   "id": "d3c7b828",
   "metadata": {},
   "outputs": [
    {
     "name": "stdout",
     "output_type": "stream",
     "text": [
      "0.1\n"
     ]
    }
   ],
   "source": [
    "try:\n",
    "    print(1/10)\n",
    "    # 그 조건을 일단 해봐라\n",
    "except:\n",
    "    print(\"인되네..\")\n",
    "    # 만약 시도했는데 안되면 제외?\n",
    "    "
   ]
  },
  {
   "cell_type": "code",
   "execution_count": null,
   "id": "22e200c1",
   "metadata": {},
   "outputs": [],
   "source": [
    "for i in range(10):\n",
    "    print(1/)"
   ]
  },
  {
   "cell_type": "code",
   "execution_count": 148,
   "id": "55b7daa2",
   "metadata": {},
   "outputs": [
    {
     "name": "stdout",
     "output_type": "stream",
     "text": [
      "3의 배수를 입력: 49\n",
      "숫자를 입력하세요.\n"
     ]
    }
   ],
   "source": [
    "try:\n",
    "    x = int(input(\"3의 배수를 입력: \"))\n",
    "    if x%3 != 0:\n",
    "        raise Exception(\"3의 배수가 아닙니다.\")\n",
    "        # 내가 커스터마이징한 경고문\n",
    "    else:\n",
    "        print(x)\n",
    "except Exception as e:\n",
    "    # 파이썬이 지정한 오류에 내가 추가 설명을 하는 것\n",
    "    print(\"숫자를 입력하세요.\")"
   ]
  },
  {
   "cell_type": "markdown",
   "id": "176579a7",
   "metadata": {},
   "source": [
    "1. try, except\n",
    "\n",
    "2. raise Exception\n",
    " - 파이썬은 괜찮지만 내가 커스터마이징한 에러를 만든다. \n",
    " - 오류를 발생시킴\n",
    "3. except Exception as e\n",
    " - 파이썬이 용납하지 안하는 경우는 try를 써야한다.\n",
    "    \n",
    "    "
   ]
  },
  {
   "cell_type": "code",
   "execution_count": 143,
   "id": "0c22be14",
   "metadata": {
    "scrolled": true
   },
   "outputs": [
    {
     "name": "stdout",
     "output_type": "stream",
     "text": [
      "0.14285714285714285\n",
      "0.16666666666666666\n",
      "0.2\n",
      "0.25\n",
      "0.3333333333333333\n",
      "0.5\n",
      "1.0\n",
      "에러\n",
      "-1.0\n",
      "-0.5\n"
     ]
    }
   ],
   "source": [
    "for i in range(10):\n",
    "    try:\n",
    "        print(1/(7-i))\n",
    "    except:\n",
    "        print(\"에러\")"
   ]
  },
  {
   "cell_type": "code",
   "execution_count": 150,
   "id": "482427a6",
   "metadata": {},
   "outputs": [
    {
     "ename": "SyntaxError",
     "evalue": "invalid syntax (1383122442.py, line 6)",
     "output_type": "error",
     "traceback": [
      "\u001b[1;36m  Input \u001b[1;32mIn [150]\u001b[1;36m\u001b[0m\n\u001b[1;33m    elif a != 정수\u001b[0m\n\u001b[1;37m                ^\u001b[0m\n\u001b[1;31mSyntaxError\u001b[0m\u001b[1;31m:\u001b[0m invalid syntax\n"
     ]
    }
   ],
   "source": [
    "while True:\n",
    "    try:\n",
    "        a = int(input(\"정수 입력: \"))\n",
    "        if(a < 1): \n",
    "            raise Exception(\"정수만 입력하라고\")\n",
    "        elif a != 정수\n",
    "            \n",
    "        \n",
    "print(a)"
   ]
  },
  {
   "cell_type": "code",
   "execution_count": null,
   "id": "6846a241",
   "metadata": {},
   "outputs": [],
   "source": [
    "try\n",
    "a = int(input(\"정수 입력: \"))\n",
    "while type(a) != int:\n",
    "    print(\"정수를 입력하라고!\")\n",
    "    a = int(input(\"정수 입력: \"))\n",
    "        print(\"정수를 입렭하세요: \")"
   ]
  }
 ],
 "metadata": {
  "kernelspec": {
   "display_name": "Python 3 (ipykernel)",
   "language": "python",
   "name": "python3"
  },
  "language_info": {
   "codemirror_mode": {
    "name": "ipython",
    "version": 3
   },
   "file_extension": ".py",
   "mimetype": "text/x-python",
   "name": "python",
   "nbconvert_exporter": "python",
   "pygments_lexer": "ipython3",
   "version": "3.9.12"
  }
 },
 "nbformat": 4,
 "nbformat_minor": 5
}
