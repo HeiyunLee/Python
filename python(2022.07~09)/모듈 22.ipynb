{
 "cells": [
  {
   "cell_type": "code",
   "execution_count": 1,
   "id": "060b8ab4",
   "metadata": {},
   "outputs": [],
   "source": [
    "from class_test import jss"
   ]
  },
  {
   "cell_type": "code",
   "execution_count": 3,
   "id": "34c6fa24",
   "metadata": {},
   "outputs": [
    {
     "name": "stdout",
     "output_type": "stream",
     "text": [
      "이름을 입력하세요: dl\n",
      "나이를 입력하세요: 20\n",
      "fkfkfkfkd\n"
     ]
    }
   ],
   "source": [
    "a = jss()"
   ]
  },
  {
   "cell_type": "code",
   "execution_count": 7,
   "id": "6dcba26e",
   "metadata": {},
   "outputs": [
    {
     "data": {
      "text/plain": [
       "('dl', '20')"
      ]
     },
     "execution_count": 7,
     "metadata": {},
     "output_type": "execute_result"
    }
   ],
   "source": [
    "a.show(2)"
   ]
  },
  {
   "cell_type": "code",
   "execution_count": 1,
   "id": "adb7a084",
   "metadata": {},
   "outputs": [],
   "source": [
    "from module_test import add"
   ]
  },
  {
   "cell_type": "code",
   "execution_count": 3,
   "id": "141e977b",
   "metadata": {},
   "outputs": [
    {
     "data": {
      "text/plain": [
       "3"
      ]
     },
     "execution_count": 3,
     "metadata": {},
     "output_type": "execute_result"
    }
   ],
   "source": [
    "add(1, 2)"
   ]
  },
  {
   "cell_type": "code",
   "execution_count": null,
   "id": "d3f50571",
   "metadata": {},
   "outputs": [],
   "source": []
  }
 ],
 "metadata": {
  "kernelspec": {
   "display_name": "Python 3 (ipykernel)",
   "language": "python",
   "name": "python3"
  },
  "language_info": {
   "codemirror_mode": {
    "name": "ipython",
    "version": 3
   },
   "file_extension": ".py",
   "mimetype": "text/x-python",
   "name": "python",
   "nbconvert_exporter": "python",
   "pygments_lexer": "ipython3",
   "version": "3.9.12"
  }
 },
 "nbformat": 4,
 "nbformat_minor": 5
}
