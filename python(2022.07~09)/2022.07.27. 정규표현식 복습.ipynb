{
 "cells": [
  {
   "cell_type": "code",
   "execution_count": 2,
   "id": "3c19411e",
   "metadata": {},
   "outputs": [],
   "source": [
    "import re"
   ]
  },
  {
   "cell_type": "markdown",
   "id": "ef73f161",
   "metadata": {},
   "source": [
    "### 정규표현식 기본 함수 \n",
    "- compilee\n",
    "- match\n",
    "- findall\n",
    "- search"
   ]
  },
  {
   "cell_type": "code",
   "execution_count": 2,
   "id": "81934efb",
   "metadata": {},
   "outputs": [],
   "source": [
    "a = re.compile (\"hungry\")"
   ]
  },
  {
   "cell_type": "code",
   "execution_count": 5,
   "id": "19cc6b1a",
   "metadata": {},
   "outputs": [
    {
     "data": {
      "text/plain": [
       "re.compile(r'hungry', re.UNICODE)"
      ]
     },
     "execution_count": 5,
     "metadata": {},
     "output_type": "execute_result"
    }
   ],
   "source": [
    "a.match(\"hungry really\")\n",
    "a.match(\"really hungry\")\n",
    "# 앞에서 부터 판별하니까 불순물이 앞에 있으면 매칭 NO"
   ]
  },
  {
   "cell_type": "code",
   "execution_count": 8,
   "id": "625311cf",
   "metadata": {},
   "outputs": [
    {
     "data": {
      "text/plain": [
       "<re.Match object; span=(43, 49), match='hungry'>"
      ]
     },
     "execution_count": 8,
     "metadata": {},
     "output_type": "execute_result"
    }
   ],
   "source": [
    "a.search(\"I ate dinner yesterday early because I was hungry.\")"
   ]
  },
  {
   "cell_type": "code",
   "execution_count": 11,
   "id": "b94f91f7",
   "metadata": {},
   "outputs": [
    {
     "data": {
      "text/plain": [
       "<re.Match object; span=(14, 20), match='hungry'>"
      ]
     },
     "execution_count": 11,
     "metadata": {},
     "output_type": "execute_result"
    }
   ],
   "source": [
    "a.search(\"I snag a song hungry hungry hungry\")\n",
    "# 가장 앞에 것만 찾는다\n",
    "# 위치 나타냄"
   ]
  },
  {
   "cell_type": "code",
   "execution_count": 13,
   "id": "018e9374",
   "metadata": {},
   "outputs": [
    {
     "data": {
      "text/plain": [
       "['hungry', 'hungry', 'hungry']"
      ]
     },
     "execution_count": 13,
     "metadata": {},
     "output_type": "execute_result"
    }
   ],
   "source": [
    "a.findall(\"I snag a song hungry hungry hungry\")\n",
    "# 매칭되는 값을 모두 찾는다.\n",
    "# 위치는 나오지않는다."
   ]
  },
  {
   "cell_type": "markdown",
   "id": "07393672",
   "metadata": {},
   "source": [
    "### 정규표현식 기본 문법2"
   ]
  },
  {
   "cell_type": "code",
   "execution_count": 16,
   "id": "55d1906c",
   "metadata": {},
   "outputs": [
    {
     "name": "stdout",
     "output_type": "stream",
     "text": [
      "<re.Match object; span=(0, 6), match='hungry'>\n",
      "<re.Match object; span=(0, 6), match='huntry'>\n",
      "None\n",
      "None\n",
      "None\n"
     ]
    }
   ],
   "source": [
    "b = re.compile(\"hun.ry\")\n",
    "print(b.match(\"hungry\"))\n",
    "print(b.match(\"huntry\"))\n",
    "print(b.match(\"hunry\"))\n",
    "print(b.match(\"hunggggry\"))\n",
    "print(b.match(\"hunggggrrrrrry\"))\n"
   ]
  },
  {
   "cell_type": "code",
   "execution_count": 17,
   "id": "68138792",
   "metadata": {},
   "outputs": [
    {
     "name": "stdout",
     "output_type": "stream",
     "text": [
      "None\n",
      "None\n",
      "<re.Match object; span=(0, 5), match='hunry'>\n",
      "None\n",
      "None\n"
     ]
    }
   ],
   "source": [
    "b = re.compile(\"hun*ry\")\n",
    "print(b.match(\"hungry\"))\n",
    "print(b.match(\"huntry\"))\n",
    "print(b.match(\"hunry\"))\n",
    "print(b.match(\"hunggggry\"))\n",
    "print(b.match(\"hunggggrrrrrry\"))"
   ]
  },
  {
   "cell_type": "code",
   "execution_count": 22,
   "id": "de19e6ac",
   "metadata": {},
   "outputs": [
    {
     "name": "stdout",
     "output_type": "stream",
     "text": [
      "<re.Match object; span=(0, 6), match='hungry'>\n",
      "None\n",
      "None\n",
      "<re.Match object; span=(0, 9), match='hunggggry'>\n",
      "None\n"
     ]
    }
   ],
   "source": [
    "b = re.compile(\"hung+ry\")\n",
    "print(b.match(\"hungry\"))\n",
    "print(b.match(\"huntry\"))\n",
    "print(b.match(\"hunry\"))\n",
    "print(b.match(\"hunggggry\"))\n",
    "print(b.match(\"hunggggrrrrrry\"))\n",
    "# + 앞의 글자가 1번 이상 반복되는 것을 매칭"
   ]
  },
  {
   "cell_type": "code",
   "execution_count": 20,
   "id": "cc458d1d",
   "metadata": {},
   "outputs": [
    {
     "name": "stdout",
     "output_type": "stream",
     "text": [
      "None\n",
      "None\n",
      "None\n",
      "<re.Match object; span=(0, 8), match='hungggry'>\n",
      "None\n"
     ]
    }
   ],
   "source": [
    "b = re.compile(\"hung{3}ry\")\n",
    "print(b.match(\"hungry\"))\n",
    "print(b.match(\"huntry\"))\n",
    "print(b.match(\"hunry\"))\n",
    "print(b.match(\"hungggry\"))\n",
    "print(b.match(\"hunggggrrrrrry\"))"
   ]
  },
  {
   "cell_type": "code",
   "execution_count": 28,
   "id": "4e3db14b",
   "metadata": {},
   "outputs": [
    {
     "name": "stdout",
     "output_type": "stream",
     "text": [
      "None\n",
      "None\n",
      "None\n",
      "<re.Match object; span=(0, 8), match='hungggry'>\n",
      "None\n"
     ]
    }
   ],
   "source": [
    "b = re.compile(\"hung{2,5}ry\")\n",
    "print(b.match(\"hungry\"))\n",
    "print(b.match(\"huntry\"))\n",
    "print(b.match(\"hunry\"))\n",
    "print(b.match(\"hungggry\"))\n",
    "print(b.match(\"hunggggrrrrrry\"))\n",
    "# 2 이상 5 이하"
   ]
  },
  {
   "cell_type": "code",
   "execution_count": 27,
   "id": "53b7a355",
   "metadata": {},
   "outputs": [
    {
     "name": "stdout",
     "output_type": "stream",
     "text": [
      "<re.Match object; span=(0, 6), match='hungry'>\n",
      "None\n",
      "<re.Match object; span=(0, 5), match='hunry'>\n",
      "None\n",
      "None\n"
     ]
    }
   ],
   "source": [
    "b = re.compile(\"hung?ry\")\n",
    "print(b.match(\"hungry\"))\n",
    "print(b.match(\"huntry\"))\n",
    "print(b.match(\"hunry\"))\n",
    "print(b.match(\"hungggry\"))\n",
    "print(b.match(\"hunggggrrrrrry\"))"
   ]
  },
  {
   "cell_type": "markdown",
   "id": "1552bfc8",
   "metadata": {},
   "source": [
    "### 정규표현식 문법3"
   ]
  },
  {
   "cell_type": "code",
   "execution_count": 29,
   "id": "d0dd7929",
   "metadata": {},
   "outputs": [
    {
     "name": "stdout",
     "output_type": "stream",
     "text": [
      "None\n",
      "None\n",
      "None\n",
      "<re.Match object; span=(0, 4), match='1111'>\n"
     ]
    }
   ],
   "source": [
    "c = re.compile(\"\\d{4}\")\n",
    "print(c.match(\"1\"))\n",
    "print(c.match(\"12\"))\n",
    "print(c.match(\"123\"))\n",
    "print(c.match(\"1111234\"))"
   ]
  },
  {
   "cell_type": "code",
   "execution_count": 31,
   "id": "97e516a4",
   "metadata": {},
   "outputs": [
    {
     "name": "stdout",
     "output_type": "stream",
     "text": [
      "<re.Match object; span=(0, 1), match='1'>\n",
      "<re.Match object; span=(0, 2), match='12'>\n",
      "<re.Match object; span=(0, 3), match='123'>\n",
      "<re.Match object; span=(0, 7), match='1111234'>\n"
     ]
    }
   ],
   "source": [
    "c = re.compile(\"\\d+\")\n",
    "print(c.match(\"1\"))\n",
    "print(c.match(\"12\"))\n",
    "print(c.match(\"123\"))\n",
    "print(c.match(\"1111234\"))"
   ]
  },
  {
   "cell_type": "code",
   "execution_count": 32,
   "id": "ab07103e",
   "metadata": {},
   "outputs": [
    {
     "name": "stdout",
     "output_type": "stream",
     "text": [
      "<re.Match object; span=(0, 1), match=' '>\n",
      "None\n",
      "None\n",
      "<re.Match object; span=(0, 1), match=' '>\n"
     ]
    }
   ],
   "source": [
    "c = re.compile(\"\\s\")\n",
    "print(c.match(\" \"))\n",
    "print(c.match(\"1  23\"))\n",
    "print(c.match(\"1  \"))\n",
    "print(c.match(\"    \"))"
   ]
  },
  {
   "cell_type": "code",
   "execution_count": 33,
   "id": "3fcb5069",
   "metadata": {},
   "outputs": [
    {
     "name": "stdout",
     "output_type": "stream",
     "text": [
      "<re.Match object; span=(0, 1), match=' '>\n",
      "None\n",
      "None\n",
      "<re.Match object; span=(0, 4), match='    '>\n"
     ]
    }
   ],
   "source": [
    "c = re.compile(\"\\s+\")\n",
    "print(c.match(\" \"))\n",
    "print(c.match(\"1  23\"))\n",
    "print(c.match(\"1  \"))\n",
    "print(c.match(\"    \"))"
   ]
  },
  {
   "cell_type": "code",
   "execution_count": 34,
   "id": "79be32a5",
   "metadata": {},
   "outputs": [
    {
     "ename": "SyntaxError",
     "evalue": "invalid syntax (1296969172.py, line 2)",
     "output_type": "error",
     "traceback": [
      "\u001b[1;36m  Input \u001b[1;32mIn [34]\u001b[1;36m\u001b[0m\n\u001b[1;33m    성신 여자대학교\u001b[0m\n\u001b[1;37m       ^\u001b[0m\n\u001b[1;31mSyntaxError\u001b[0m\u001b[1;31m:\u001b[0m invalid syntax\n"
     ]
    }
   ],
   "source": [
    "성신여자대학교\n",
    "성신 여자대학교\n",
    "성신 여자 대학교\n",
    "성신여자 대학교"
   ]
  },
  {
   "cell_type": "code",
   "execution_count": 38,
   "id": "c1279154",
   "metadata": {},
   "outputs": [
    {
     "name": "stdout",
     "output_type": "stream",
     "text": [
      "None\n",
      "None\n",
      "<re.Match object; span=(0, 3), match='asw'>\n",
      "None\n",
      "None\n"
     ]
    }
   ],
   "source": [
    "c = re.compile(\"\\w{3}\")\n",
    "print(c.match(\" 123\"))\n",
    "print(c.match(\"1  asd23\"))\n",
    "print(c.match(\"asw1  \"))\n",
    "print(c.match(\"  ewee  \"))\n",
    "print(c.match(\"_\"))\n",
    "# 특수문자 제외 매칭, 언더바는 예외."
   ]
  },
  {
   "cell_type": "code",
   "execution_count": 42,
   "id": "9bcdef88",
   "metadata": {},
   "outputs": [
    {
     "name": "stdout",
     "output_type": "stream",
     "text": [
      "<re.Match object; span=(0, 0), match=''>\n",
      "<re.Match object; span=(0, 1), match='1'>\n",
      "<re.Match object; span=(0, 4), match='asw1'>\n",
      "<re.Match object; span=(0, 0), match=''>\n",
      "<re.Match object; span=(0, 1), match='_'>\n"
     ]
    }
   ],
   "source": [
    "c = re.compile(\"\\w{0,5}\")\n",
    "print(c.match(\" 123\"))\n",
    "print(c.match(\"1  asd23\"))\n",
    "print(c.match(\"asw1  \"))\n",
    "print(c.match(\"  ewee  \"))\n",
    "print(c.match(\"_\"))\n",
    "# 특수문자 제외 매칭, 언더바는 예외."
   ]
  },
  {
   "cell_type": "markdown",
   "id": "c75d70ef",
   "metadata": {},
   "source": [
    "   ### 정규표현식 기본 문법4"
   ]
  },
  {
   "cell_type": "code",
   "execution_count": 45,
   "id": "199cc834",
   "metadata": {},
   "outputs": [
    {
     "name": "stdout",
     "output_type": "stream",
     "text": [
      "<re.Match object; span=(0, 6), match='hungry'>\n",
      "None\n",
      "None\n",
      "None\n",
      "None\n",
      "None\n"
     ]
    }
   ],
   "source": [
    "d = re.compile(\"hu(ng)+ry\")\n",
    "print(d.match(\"hungry\"))\n",
    "print(d.match(\"hungggry\"))\n",
    "print(d.match(\"hunggry\"))\n",
    "print(d.match(\"hunnggry\"))\n",
    "print(d.match(\"hunngngngngnggry\"))\n",
    "print(d.match(\"hunfgngngngngry\"))"
   ]
  },
  {
   "cell_type": "code",
   "execution_count": 47,
   "id": "958032ca",
   "metadata": {},
   "outputs": [
    {
     "name": "stdout",
     "output_type": "stream",
     "text": [
      "None\n",
      "None\n",
      "None\n",
      "None\n",
      "None\n",
      "None\n"
     ]
    }
   ],
   "source": [
    "d = re.compile(\"hu^[ng]ry\")\n",
    "print(d.match(\"hungry\"))\n",
    "print(d.match(\"hungggry\"))\n",
    "print(d.match(\"hunggry\"))\n",
    "print(d.match(\"hunnggry\"))\n",
    "print(d.match(\"hunngngngngnggry\"))\n",
    "print(d.match(\"hunfgngngngngry\"))"
   ]
  },
  {
   "cell_type": "code",
   "execution_count": 50,
   "id": "9b23cf34",
   "metadata": {},
   "outputs": [],
   "source": [
    "d = re.compile(\"[a-z]\")\n",
    "d = re.compile(\"[A-Z]\")\n",
    "d = re.compile(\"[0-9]\")\n",
    "d = re.compile(\"[ㄱ-힣]\")"
   ]
  },
  {
   "cell_type": "code",
   "execution_count": 4,
   "id": "0886ebb6",
   "metadata": {},
   "outputs": [
    {
     "data": {
      "text/plain": [
       "<re.Match object; span=(0, 1), match='ㅋ'>"
      ]
     },
     "execution_count": 4,
     "metadata": {},
     "output_type": "execute_result"
    }
   ],
   "source": [
    "d = re.compile(\"[ㄱ-힣]\")\n",
    "d.match(\"ㅋㅋㅋㅋㅋㅋ\")"
   ]
  },
  {
   "cell_type": "markdown",
   "id": "3039f19e",
   "metadata": {},
   "source": [
    "### 네이버 기사 수집\n",
    "- article을 input으로 받았을 때, 기자 이름과 기자 이메일을 지운 문자열을 봔환하는 solution함수 정의"
   ]
  },
  {
   "cell_type": "code",
   "execution_count": null,
   "id": "dbc20215",
   "metadata": {},
   "outputs": [],
   "source": [
    "article = \"오늘 날씨는 덥습니다. 이기자: asdfasdf.naver.com\"\n",
    "solution(article)\n",
    "\"오늘 날씨는 덥습니다.\""
   ]
  },
  {
   "cell_type": "code",
   "execution_count": 50,
   "id": "68184c48",
   "metadata": {},
   "outputs": [
    {
     "name": "stdout",
     "output_type": "stream",
     "text": [
      "<re.Match object; span=(0, 1), match='오'>\n"
     ]
    }
   ],
   "source": [
    "t = re.compile(\"\\S\")\n",
    "print(t.match(\"오늘 날씨는 덥습니다. 이 기자: asdfasd@naver.com\"))"
   ]
  },
  {
   "cell_type": "code",
   "execution_count": 90,
   "id": "5b5113ac",
   "metadata": {},
   "outputs": [
    {
     "data": {
      "text/plain": [
       "['. 이 기자']"
      ]
     },
     "execution_count": 90,
     "metadata": {},
     "output_type": "execute_result"
    }
   ],
   "source": [
    "article = \"오늘 날씨는 덥습니다. 이 기자: asdfasdf@naver.com\"\n",
    "press = re.compile(\"\\.\\s.+\\s기자\")\n",
    "press.findall(article)"
   ]
  },
  {
   "cell_type": "code",
   "execution_count": 55,
   "id": "ac94309e",
   "metadata": {},
   "outputs": [],
   "source": [
    "article = \"오늘 날씨는 덥습니다. 이 기자: asdfasdf@naver.com\"\n",
    "press = re.compile(\"\\.\\s.+\\s기자:\\s.+@.+\\.com\")\n",
    "p = press.findall(article)\n",
    "# findall과 search의 차이점: 괄호가 지역변수라는 뜻을 가짐.\n",
    "# findall은 괄호가 여러 개이면 가장 앞에 있는 괄호를 기준으로 찾는다. 지역변수에 민감. \n",
    "# search는 글로벌(전역) 별수로만 인식한다. "
   ]
  },
  {
   "cell_type": "code",
   "execution_count": 56,
   "id": "df05e245",
   "metadata": {},
   "outputs": [
    {
     "name": "stdout",
     "output_type": "stream",
     "text": [
      "오늘 날씨는 덥습니다\n"
     ]
    }
   ],
   "source": [
    "for i in p:\n",
    "    article = article.replace(i, \"\")\n",
    "    print(article)"
   ]
  },
  {
   "cell_type": "code",
   "execution_count": 78,
   "id": "442c80de",
   "metadata": {},
   "outputs": [],
   "source": [
    "univ = re.compile(\"(공|여|상)?대(학교|학원|학)?\")"
   ]
  },
  {
   "cell_type": "code",
   "execution_count": 79,
   "id": "8546e61b",
   "metadata": {},
   "outputs": [],
   "source": [
    "s = \"여기 여대출신, 공대출신, 대학원출신, 상대출신 다 왓구만.\""
   ]
  },
  {
   "cell_type": "code",
   "execution_count": 82,
   "id": "908657a0",
   "metadata": {},
   "outputs": [
    {
     "data": {
      "text/plain": [
       "[('여', ''), ('공', ''), ('', '학원'), ('상', '')]"
      ]
     },
     "execution_count": 82,
     "metadata": {},
     "output_type": "execute_result"
    }
   ],
   "source": [
    "univ.findall(s)"
   ]
  },
  {
   "cell_type": "code",
   "execution_count": 84,
   "id": "62750b78",
   "metadata": {},
   "outputs": [
    {
     "data": {
      "text/plain": [
       "['여대', '공대', '대학원', '상대']"
      ]
     },
     "execution_count": 84,
     "metadata": {},
     "output_type": "execute_result"
    }
   ],
   "source": [
    "s1 = s\n",
    "token = []\n",
    "while True:\n",
    "    try:\n",
    "        p = univ.search(s1)[0]\n",
    "        token.append(p)\n",
    "        s1 = s1.replace(p, \"\")\n",
    "    except:\n",
    "        break\n",
    "token\n",
    "    "
   ]
  },
  {
   "cell_type": "markdown",
   "id": "2d50c94b",
   "metadata": {},
   "source": [
    "### 사용자 정의 함수"
   ]
  },
  {
   "cell_type": "code",
   "execution_count": 92,
   "id": "5ae99883",
   "metadata": {},
   "outputs": [
    {
     "data": {
      "text/plain": [
       "3"
      ]
     },
     "execution_count": 92,
     "metadata": {},
     "output_type": "execute_result"
    }
   ],
   "source": [
    "int(3.6)"
   ]
  },
  {
   "cell_type": "code",
   "execution_count": 93,
   "id": "488ea06b",
   "metadata": {},
   "outputs": [],
   "source": [
    "import random"
   ]
  },
  {
   "cell_type": "code",
   "execution_count": 95,
   "id": "36363a1c",
   "metadata": {},
   "outputs": [
    {
     "data": {
      "text/plain": [
       "0.2410420214340806"
      ]
     },
     "execution_count": 95,
     "metadata": {},
     "output_type": "execute_result"
    }
   ],
   "source": [
    "random.random()\n"
   ]
  },
  {
   "cell_type": "code",
   "execution_count": 97,
   "id": "251f13a7",
   "metadata": {},
   "outputs": [],
   "source": [
    "# 함수 정의\n",
    "def add(x,y):\n",
    "    return x + y"
   ]
  },
  {
   "cell_type": "code",
   "execution_count": 100,
   "id": "98c4af88",
   "metadata": {},
   "outputs": [
    {
     "data": {
      "text/plain": [
       "12"
      ]
     },
     "execution_count": 100,
     "metadata": {},
     "output_type": "execute_result"
    }
   ],
   "source": [
    "a = add(10,2)\n",
    "a"
   ]
  },
  {
   "cell_type": "code",
   "execution_count": 103,
   "id": "d0318e29",
   "metadata": {},
   "outputs": [],
   "source": [
    "def subtract(x,y,reverse = False):\n",
    "    # reverse = False -> 선택지를 준 것.\n",
    "    # reverse = False 를 따로 선언하지 않으면 기본 값으로 False.\n",
    "    if reverse == False:\n",
    "        result = x - y\n",
    "    else:\n",
    "        result = y - x\n",
    "    return result"
   ]
  },
  {
   "cell_type": "code",
   "execution_count": 104,
   "id": "4fbc136c",
   "metadata": {},
   "outputs": [
    {
     "data": {
      "text/plain": [
       "-1"
      ]
     },
     "execution_count": 104,
     "metadata": {},
     "output_type": "execute_result"
    }
   ],
   "source": [
    "subtract(1, 2, reverse = False)"
   ]
  },
  {
   "cell_type": "code",
   "execution_count": 106,
   "id": "b96e4f27",
   "metadata": {},
   "outputs": [
    {
     "data": {
      "text/plain": [
       "1"
      ]
     },
     "execution_count": 106,
     "metadata": {},
     "output_type": "execute_result"
    }
   ],
   "source": [
    "subtract(1, 2, reverse = True)"
   ]
  },
  {
   "cell_type": "code",
   "execution_count": 108,
   "id": "952143b9",
   "metadata": {},
   "outputs": [],
   "source": [
    "def add(*x):\n",
    "    # * 는 튜플로 들어올 것을 예상하게 한다.\n",
    "    # * 를 사용하면 두 개 이상의 인자를 받을 수 있다.\n",
    "    return sum(x)"
   ]
  },
  {
   "cell_type": "code",
   "execution_count": 117,
   "id": "f7d8bcad",
   "metadata": {},
   "outputs": [
    {
     "data": {
      "text/plain": [
       "33"
      ]
     },
     "execution_count": 117,
     "metadata": {},
     "output_type": "execute_result"
    }
   ],
   "source": [
    "add(1,2,3,4,5,6, a)"
   ]
  },
  {
   "cell_type": "code",
   "execution_count": 118,
   "id": "1976a2fd",
   "metadata": {},
   "outputs": [
    {
     "ename": "NameError",
     "evalue": "name 'solution' is not defined",
     "output_type": "error",
     "traceback": [
      "\u001b[1;31m---------------------------------------------------------------------------\u001b[0m",
      "\u001b[1;31mNameError\u001b[0m                                 Traceback (most recent call last)",
      "Input \u001b[1;32mIn [118]\u001b[0m, in \u001b[0;36m<cell line: 1>\u001b[1;34m()\u001b[0m\n\u001b[1;32m----> 1\u001b[0m \u001b[38;5;28;01mimport\u001b[39;00m \u001b[38;5;21;01mdef_test\u001b[39;00m\n\u001b[0;32m      2\u001b[0m \u001b[38;5;28;01mimport\u001b[39;00m \u001b[38;5;21;01mre\u001b[39;00m\n",
      "File \u001b[1;32m~\\def_test.py:30\u001b[0m, in \u001b[0;36m<module>\u001b[1;34m\u001b[0m\n\u001b[0;32m     26\u001b[0m \u001b[38;5;66;03m# In[3]:\u001b[39;00m\n\u001b[0;32m     29\u001b[0m article \u001b[38;5;241m=\u001b[39m \u001b[38;5;124m\"\u001b[39m\u001b[38;5;124m오늘 날씨는 덥습니다. 이기자: asdfasdf.naver.com\u001b[39m\u001b[38;5;124m\"\u001b[39m\n\u001b[1;32m---> 30\u001b[0m \u001b[43msolution\u001b[49m(article)\n\u001b[0;32m     31\u001b[0m \u001b[38;5;124m\"\u001b[39m\u001b[38;5;124m오늘 날씨는 덥습니다.\u001b[39m\u001b[38;5;124m\"\u001b[39m\n\u001b[0;32m     34\u001b[0m \u001b[38;5;66;03m# In[4]:\u001b[39;00m\n",
      "\u001b[1;31mNameError\u001b[0m: name 'solution' is not defined"
     ]
    }
   ],
   "source": [
    "import def_test\n",
    "import re"
   ]
  },
  {
   "cell_type": "code",
   "execution_count": null,
   "id": "a3fc9b8f",
   "metadata": {},
   "outputs": [],
   "source": []
  },
  {
   "cell_type": "markdown",
   "id": "ec0814c8",
   "metadata": {},
   "source": [
    "### class"
   ]
  },
  {
   "cell_type": "code",
   "execution_count": 120,
   "id": "d27d9308",
   "metadata": {},
   "outputs": [],
   "source": [
    "class jss:\n",
    "    def __init__(self):\n",
    "        self.name = input(\"이름을 입력하세요: \")\n",
    "        self.age = input(\"나이를 입력하세요: \")\n",
    "        \n",
    "# 클래스 내에서 새롭게 정의하는 변수에 self를 붙혀 지역변수로 기능하도록..\n",
    "# self 를 써서 다른 사용자가 이미 썼을 변수 이름과 충돌을 방지.\n",
    "\n",
    "    def show(self, a = 2):\n",
    "        if a == 0:\n",
    "            self.result = self.name\n",
    "        elif a == 1:\n",
    "            self.result = self.age\n",
    "        elif a == 2:\n",
    "            self.result = (self.name, self.age)\n",
    "        else:\n",
    "            raise Exception(\"유효하지 않은 입력입니다.\")\n",
    "        return self.result"
   ]
  },
  {
   "cell_type": "code",
   "execution_count": 128,
   "id": "78997d72",
   "metadata": {},
   "outputs": [],
   "source": [
    "class jss2(jss):\n",
    "    def __init__(self):\n",
    "        super().__init__()\n",
    "        self.gender = input(\"성별을 입력하세요: \")"
   ]
  },
  {
   "cell_type": "code",
   "execution_count": 129,
   "id": "a683b9fa",
   "metadata": {},
   "outputs": [
    {
     "name": "stdout",
     "output_type": "stream",
     "text": [
      "이름을 입력하세요: 이이이\n",
      "나이를 입력하세요: 20\n"
     ]
    }
   ],
   "source": [
    "a = jss()"
   ]
  },
  {
   "cell_type": "code",
   "execution_count": 127,
   "id": "ed0c2043",
   "metadata": {},
   "outputs": [
    {
     "ename": "Exception",
     "evalue": "유효하지 않은 입력입니다.",
     "output_type": "error",
     "traceback": [
      "\u001b[1;31m---------------------------------------------------------------------------\u001b[0m",
      "\u001b[1;31mException\u001b[0m                                 Traceback (most recent call last)",
      "Input \u001b[1;32mIn [127]\u001b[0m, in \u001b[0;36m<cell line: 1>\u001b[1;34m()\u001b[0m\n\u001b[1;32m----> 1\u001b[0m \u001b[43ma\u001b[49m\u001b[38;5;241;43m.\u001b[39;49m\u001b[43mshow\u001b[49m\u001b[43m(\u001b[49m\u001b[38;5;124;43m\"\u001b[39;49m\u001b[38;5;124;43mf\u001b[39;49m\u001b[38;5;124;43m\"\u001b[39;49m\u001b[43m)\u001b[49m\n",
      "Input \u001b[1;32mIn [120]\u001b[0m, in \u001b[0;36mjss.show\u001b[1;34m(self, a)\u001b[0m\n\u001b[0;32m     13\u001b[0m     \u001b[38;5;28mself\u001b[39m\u001b[38;5;241m.\u001b[39mresult \u001b[38;5;241m=\u001b[39m (\u001b[38;5;28mself\u001b[39m\u001b[38;5;241m.\u001b[39mname, \u001b[38;5;28mself\u001b[39m\u001b[38;5;241m.\u001b[39mage)\n\u001b[0;32m     14\u001b[0m \u001b[38;5;28;01melse\u001b[39;00m:\n\u001b[1;32m---> 15\u001b[0m     \u001b[38;5;28;01mraise\u001b[39;00m \u001b[38;5;167;01mException\u001b[39;00m(\u001b[38;5;124m\"\u001b[39m\u001b[38;5;124m유효하지 않은 입력입니다.\u001b[39m\u001b[38;5;124m\"\u001b[39m)\n\u001b[0;32m     16\u001b[0m \u001b[38;5;28;01mreturn\u001b[39;00m \u001b[38;5;28mself\u001b[39m\u001b[38;5;241m.\u001b[39mresult\n",
      "\u001b[1;31mException\u001b[0m: 유효하지 않은 입력입니다."
     ]
    }
   ],
   "source": [
    " a.show(\"f\")"
   ]
  },
  {
   "cell_type": "code",
   "execution_count": 130,
   "id": "c58a1271",
   "metadata": {},
   "outputs": [
    {
     "name": "stdout",
     "output_type": "stream",
     "text": [
      "이름을 입력하세요: dldldl\n",
      "나이를 입력하세요: 20\n",
      "성별을 입력하세요: female\n"
     ]
    }
   ],
   "source": [
    "b = jss2()"
   ]
  },
  {
   "cell_type": "code",
   "execution_count": null,
   "id": "591b4a82",
   "metadata": {},
   "outputs": [],
   "source": []
  }
 ],
 "metadata": {
  "kernelspec": {
   "display_name": "Python 3 (ipykernel)",
   "language": "python",
   "name": "python3"
  },
  "language_info": {
   "codemirror_mode": {
    "name": "ipython",
    "version": 3
   },
   "file_extension": ".py",
   "mimetype": "text/x-python",
   "name": "python",
   "nbconvert_exporter": "python",
   "pygments_lexer": "ipython3",
   "version": "3.9.12"
  }
 },
 "nbformat": 4,
 "nbformat_minor": 5
}
