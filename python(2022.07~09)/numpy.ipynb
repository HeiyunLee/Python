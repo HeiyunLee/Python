{
 "cells": [
  {
   "cell_type": "code",
   "execution_count": 1,
   "id": "ec04275e",
   "metadata": {},
   "outputs": [],
   "source": [
    "import numpy as np\n",
    "# numpy를 np로 불러온다..?"
   ]
  },
  {
   "cell_type": "code",
   "execution_count": 2,
   "id": "a265c868",
   "metadata": {},
   "outputs": [
    {
     "data": {
      "text/plain": [
       "[1, 2, 3, 4, 5]"
      ]
     },
     "execution_count": 2,
     "metadata": {},
     "output_type": "execute_result"
    }
   ],
   "source": [
    "# 1차원 예시\n",
    "list1 = [1,2,3,4,5]\n",
    "list1"
   ]
  },
  {
   "cell_type": "code",
   "execution_count": 3,
   "id": "7d134785",
   "metadata": {},
   "outputs": [
    {
     "data": {
      "text/plain": [
       "array([1, 2, 3, 4, 5])"
      ]
     },
     "execution_count": 3,
     "metadata": {},
     "output_type": "execute_result"
    }
   ],
   "source": [
    "arr = np.array(list1)\n",
    "arr"
   ]
  },
  {
   "cell_type": "code",
   "execution_count": 5,
   "id": "4f74990e",
   "metadata": {},
   "outputs": [
    {
     "data": {
      "text/plain": [
       "array([1, 2, 3, 4, 5])"
      ]
     },
     "execution_count": 5,
     "metadata": {},
     "output_type": "execute_result"
    }
   ],
   "source": [
    "arr1 = np.array([1,2,3,4,5])\n",
    "arr1"
   ]
  },
  {
   "cell_type": "code",
   "execution_count": 6,
   "id": "104bd14a",
   "metadata": {},
   "outputs": [
    {
     "data": {
      "text/plain": [
       "array([[1, 2, 3],\n",
       "       [5, 6, 7]])"
      ]
     },
     "execution_count": 6,
     "metadata": {},
     "output_type": "execute_result"
    }
   ],
   "source": [
    "# 2차원 예시\n",
    "# 배열 안에 배열..?\n",
    "arr2 = np.array([[1,2,3],[5,6,7]])\n",
    "arr2"
   ]
  },
  {
   "cell_type": "code",
   "execution_count": 7,
   "id": "88c8c66f",
   "metadata": {},
   "outputs": [
    {
     "data": {
      "text/plain": [
       "array([1, 2, 3, 4, 5])"
      ]
     },
     "execution_count": 7,
     "metadata": {},
     "output_type": "execute_result"
    }
   ],
   "source": [
    "arr1"
   ]
  },
  {
   "cell_type": "code",
   "execution_count": 8,
   "id": "1ca28be3",
   "metadata": {},
   "outputs": [
    {
     "data": {
      "text/plain": [
       "(5,)"
      ]
     },
     "execution_count": 8,
     "metadata": {},
     "output_type": "execute_result"
    }
   ],
   "source": [
    "# arr1 안에 원소가 5개 들어있다.\n",
    "arr1.shape"
   ]
  },
  {
   "cell_type": "code",
   "execution_count": 9,
   "id": "45b9bdba",
   "metadata": {},
   "outputs": [
    {
     "data": {
      "text/plain": [
       "(2, 3)"
      ]
     },
     "execution_count": 9,
     "metadata": {},
     "output_type": "execute_result"
    }
   ],
   "source": [
    "# 2 * 3 행렬로 되어 있다.\n",
    "arr2.shape"
   ]
  },
  {
   "cell_type": "code",
   "execution_count": 10,
   "id": "ceb62fa2",
   "metadata": {},
   "outputs": [
    {
     "name": "stdout",
     "output_type": "stream",
     "text": [
      "[1 2 3 4 5]\n",
      "5\n"
     ]
    }
   ],
   "source": [
    "print(arr1)\n",
    "print(arr1.size)\n",
    "# size: "
   ]
  },
  {
   "cell_type": "code",
   "execution_count": 11,
   "id": "37358616",
   "metadata": {},
   "outputs": [
    {
     "name": "stdout",
     "output_type": "stream",
     "text": [
      "[1 2 3 4 5]\n",
      "int32\n"
     ]
    }
   ],
   "source": [
    "# 배열의 타입 확인\n",
    "print(arr1)\n",
    "print(arr1.dtype)"
   ]
  },
  {
   "cell_type": "code",
   "execution_count": 22,
   "id": "be6bee32",
   "metadata": {},
   "outputs": [
    {
     "name": "stdout",
     "output_type": "stream",
     "text": [
      "[[1 2 3]\n",
      " [5 6 7]]\n",
      "int32\n",
      "(2, 3)\n"
     ]
    }
   ],
   "source": [
    "print(arr2)\n",
    "print(arr2.dtype)\n",
    "print(arr2.shape)"
   ]
  },
  {
   "cell_type": "code",
   "execution_count": 14,
   "id": "b2896dfe",
   "metadata": {
    "scrolled": true
   },
   "outputs": [
    {
     "name": "stdout",
     "output_type": "stream",
     "text": [
      "[1 2 3 4 5] 1\n",
      "[[1 2 3]\n",
      " [5 6 7]] 2\n"
     ]
    }
   ],
   "source": [
    "# 배열의 차원(Dimension) 확인\n",
    "print(arr1, arr1.ndim)\n",
    "print(arr2, arr2.ndim)\n"
   ]
  },
  {
   "cell_type": "code",
   "execution_count": 18,
   "id": "8ab2526a",
   "metadata": {},
   "outputs": [
    {
     "data": {
      "text/plain": [
       "array([[[1, 2],\n",
       "        [3, 4],\n",
       "        [5, 6],\n",
       "        [7, 8]]])"
      ]
     },
     "execution_count": 18,
     "metadata": {},
     "output_type": "execute_result"
    }
   ],
   "source": [
    "arr3 = np.array([[[1,2],[3,4],[5,6],[7,8]]])\n",
    "arr3"
   ]
  },
  {
   "cell_type": "code",
   "execution_count": 21,
   "id": "86296261",
   "metadata": {},
   "outputs": [
    {
     "name": "stdout",
     "output_type": "stream",
     "text": [
      "3\n",
      "(1, 4, 2)\n",
      "8\n"
     ]
    }
   ],
   "source": [
    "print(arr3.ndim)\n",
    "print(arr3.shape)\n",
    "print(arr3.size)"
   ]
  },
  {
   "cell_type": "code",
   "execution_count": 31,
   "id": "b425ce3a",
   "metadata": {
    "scrolled": true
   },
   "outputs": [
    {
     "name": "stdout",
     "output_type": "stream",
     "text": [
      "3\n",
      "(3, 2, 3)\n",
      "18\n"
     ]
    }
   ],
   "source": [
    "arr4 = np.array([[[1,1,1],[1,2,3]],[[2,4,3],[2,3,4,]],[[4,5,6],[6,7,9]]])\n",
    "print(arr4.ndim)\n",
    "print(arr4.shape)\n",
    "print(arr4.size)"
   ]
  },
  {
   "cell_type": "code",
   "execution_count": 34,
   "id": "d4ae4254",
   "metadata": {},
   "outputs": [
    {
     "data": {
      "text/plain": [
       "array([[1., 1., 1., 1.],\n",
       "       [1., 1., 1., 1.],\n",
       "       [1., 1., 1., 1.]])"
      ]
     },
     "execution_count": 34,
     "metadata": {},
     "output_type": "execute_result"
    }
   ],
   "source": [
    "# 0이랑 1는 따로 숫자로 지정하지 않아도 들어간다. 실수형으로 들어간다.\n",
    "# 정수로 넣고 싶으면 dtype으로 정수형으로 변환.\n",
    "arr_zeros = np.zeros((3,4))\n",
    "arr_zeros = np.ones((3,4))\n",
    "arr_zeros"
   ]
  },
  {
   "cell_type": "code",
   "execution_count": 35,
   "id": "5615376f",
   "metadata": {},
   "outputs": [
    {
     "data": {
      "text/plain": [
       "array([[7, 7, 7, 7, 7],\n",
       "       [7, 7, 7, 7, 7],\n",
       "       [7, 7, 7, 7, 7],\n",
       "       [7, 7, 7, 7, 7],\n",
       "       [7, 7, 7, 7, 7]])"
      ]
     },
     "execution_count": 35,
     "metadata": {},
     "output_type": "execute_result"
    }
   ],
   "source": [
    "arr_full = np.full((5,5),7)\n",
    "# 5행 5열에 7을 넣겠다.\n",
    "arr_full"
   ]
  },
  {
   "cell_type": "code",
   "execution_count": 44,
   "id": "49e6f8e5",
   "metadata": {},
   "outputs": [
    {
     "name": "stdout",
     "output_type": "stream",
     "text": [
      "[1, 2, 3, 4, 5, 6, 7, 8, 9, 10, 11, 12, 13, 14, 15, 16, 17, 18, 19, 20, 21, 22, 23, 24, 25, 26, 27, 28, 29, 30, 31, 32, 33, 34, 35, 36, 37, 38, 39, 40, 41, 42, 43, 44, 45, 46, 47, 48, 49, 50]\n"
     ]
    }
   ],
   "source": [
    "list = []\n",
    "for i in range(1,51):\n",
    "    list.append(i)\n",
    "print(list)\n",
    "    # 오류 확인 하기.."
   ]
  },
  {
   "cell_type": "code",
   "execution_count": 45,
   "id": "1e9d8f33",
   "metadata": {},
   "outputs": [
    {
     "data": {
      "text/plain": [
       "array([ 1,  2,  3,  4,  5,  6,  7,  8,  9, 10, 11, 12, 13, 14, 15, 16, 17,\n",
       "       18, 19, 20, 21, 22, 23, 24, 25, 26, 27, 28, 29, 30, 31, 32, 33, 34,\n",
       "       35, 36, 37, 38, 39, 40, 41, 42, 43, 44, 45, 46, 47, 48, 49, 50])"
      ]
     },
     "execution_count": 45,
     "metadata": {},
     "output_type": "execute_result"
    }
   ],
   "source": [
    "arr = np.array(list)\n",
    "arr"
   ]
  },
  {
   "cell_type": "code",
   "execution_count": 47,
   "id": "38825bad",
   "metadata": {},
   "outputs": [
    {
     "data": {
      "text/plain": [
       "array([ 1,  2,  3,  4,  5,  6,  7,  8,  9, 10, 11, 12, 13, 14, 15, 16, 17,\n",
       "       18, 19, 20, 21, 22, 23, 24, 25, 26, 27, 28, 29, 30, 31, 32, 33, 34,\n",
       "       35, 36, 37, 38, 39, 40, 41, 42, 43, 44, 45, 46, 47, 48, 49, 50])"
      ]
     },
     "execution_count": 47,
     "metadata": {},
     "output_type": "execute_result"
    }
   ],
   "source": [
    "arr = np.arange(1,51)\n",
    "arr"
   ]
  },
  {
   "cell_type": "code",
   "execution_count": 52,
   "id": "fd0fa60c",
   "metadata": {},
   "outputs": [
    {
     "data": {
      "text/plain": [
       "array([  1,   0,  -1,  -2,  -3,  -4,  -5,  -6,  -7,  -8,  -9, -10, -11,\n",
       "       -12, -13, -14, -15, -16, -17, -18, -19, -20, -21, -22, -23, -24,\n",
       "       -25, -26, -27, -28, -29, -30, -31, -32, -33, -34, -35, -36, -37,\n",
       "       -38, -39, -40, -41, -42, -43, -44, -45, -46, -47, -48, -49])"
      ]
     },
     "execution_count": 52,
     "metadata": {},
     "output_type": "execute_result"
    }
   ],
   "source": [
    "arr = np.arange(1, -50, -1)\n",
    "arr"
   ]
  },
  {
   "cell_type": "code",
   "execution_count": 54,
   "id": "360bb14b",
   "metadata": {},
   "outputs": [
    {
     "data": {
      "text/plain": [
       "array([[0.58910168, 0.84495182, 0.84134364],\n",
       "       [0.78281984, 0.07158255, 0.95689499]])"
      ]
     },
     "execution_count": 54,
     "metadata": {},
     "output_type": "execute_result"
    }
   ],
   "source": [
    "arr = np.random.rand(2,3)\n",
    "# 랜덤값 배열 생성하기\n",
    "arr"
   ]
  },
  {
   "cell_type": "code",
   "execution_count": 56,
   "id": "ed79b5bd",
   "metadata": {},
   "outputs": [
    {
     "data": {
      "text/plain": [
       "4"
      ]
     },
     "execution_count": 56,
     "metadata": {},
     "output_type": "execute_result"
    }
   ],
   "source": [
    "arr = np.random.randint(2,10)\n",
    "# 2 이상 10 미만에서 랜덤으로 수 하나를 출력.\n",
    "arr"
   ]
  },
  {
   "cell_type": "code",
   "execution_count": 57,
   "id": "6144816a",
   "metadata": {},
   "outputs": [
    {
     "data": {
      "text/plain": [
       "array([[4, 3, 7],\n",
       "       [6, 5, 6]])"
      ]
     },
     "execution_count": 57,
     "metadata": {},
     "output_type": "execute_result"
    }
   ],
   "source": [
    "arr = np.random.randint(2,10,size = (2,3))\n",
    "# size = (2,3): 2행 3열로 출력\n",
    "arr"
   ]
  },
  {
   "cell_type": "code",
   "execution_count": 59,
   "id": "7967cbd6",
   "metadata": {},
   "outputs": [
    {
     "data": {
      "text/plain": [
       "array([1, 2, 3], dtype=int64)"
      ]
     },
     "execution_count": 59,
     "metadata": {},
     "output_type": "execute_result"
    }
   ],
   "source": [
    "arr_type = np.array([1.2,2.2,3.3], dtype = np.int64)\n",
    "arr_type"
   ]
  },
  {
   "cell_type": "code",
   "execution_count": 60,
   "id": "cc841447",
   "metadata": {},
   "outputs": [
    {
     "data": {
      "text/plain": [
       "array([1., 2., 3.])"
      ]
     },
     "execution_count": 60,
     "metadata": {},
     "output_type": "execute_result"
    }
   ],
   "source": [
    "arr_type = arr_type.astype(\"float64\")\n",
    "# float 으로 바꿀 때 \"\" 따옴표 꼭 붙히기.\n",
    "arr_type"
   ]
  },
  {
   "cell_type": "code",
   "execution_count": 61,
   "id": "3bf5fd84",
   "metadata": {},
   "outputs": [
    {
     "data": {
      "text/plain": [
       "dtype('float64')"
      ]
     },
     "execution_count": 61,
     "metadata": {},
     "output_type": "execute_result"
    }
   ],
   "source": [
    "arr_type.dtype"
   ]
  },
  {
   "cell_type": "code",
   "execution_count": 62,
   "id": "7c073a40",
   "metadata": {},
   "outputs": [
    {
     "data": {
      "text/plain": [
       "array([1, 2, 3])"
      ]
     },
     "execution_count": 62,
     "metadata": {},
     "output_type": "execute_result"
    }
   ],
   "source": [
    "arr = np.array([1,2,3])\n",
    "arr"
   ]
  },
  {
   "cell_type": "code",
   "execution_count": 63,
   "id": "65e9cff9",
   "metadata": {},
   "outputs": [
    {
     "data": {
      "text/plain": [
       "array([2, 4, 6])"
      ]
     },
     "execution_count": 63,
     "metadata": {},
     "output_type": "execute_result"
    }
   ],
   "source": [
    "arr + arr\n",
    "# 1+1, 2+2, 3+3"
   ]
  },
  {
   "cell_type": "code",
   "execution_count": 64,
   "id": "9bec1b75",
   "metadata": {},
   "outputs": [
    {
     "data": {
      "text/plain": [
       "array([1, 4, 9])"
      ]
     },
     "execution_count": 64,
     "metadata": {},
     "output_type": "execute_result"
    }
   ],
   "source": [
    "arr * arr\n",
    "# 1*1, 2*2, 3*3"
   ]
  },
  {
   "cell_type": "code",
   "execution_count": 65,
   "id": "45e67d3a",
   "metadata": {},
   "outputs": [
    {
     "data": {
      "text/plain": [
       "array([1, 2, 3])"
      ]
     },
     "execution_count": 65,
     "metadata": {},
     "output_type": "execute_result"
    }
   ],
   "source": [
    "arr_a = np.array([1,2,3])\n",
    "arr_a"
   ]
  },
  {
   "cell_type": "code",
   "execution_count": 66,
   "id": "e3050560",
   "metadata": {},
   "outputs": [
    {
     "data": {
      "text/plain": [
       "array([4, 3, 2])"
      ]
     },
     "execution_count": 66,
     "metadata": {},
     "output_type": "execute_result"
    }
   ],
   "source": [
    "arr_b = np.array([4,3,2])\n",
    "arr_b"
   ]
  },
  {
   "cell_type": "code",
   "execution_count": 72,
   "id": "573d4a6d",
   "metadata": {},
   "outputs": [
    {
     "data": {
      "text/plain": [
       "array([5, 5, 5])"
      ]
     },
     "execution_count": 72,
     "metadata": {},
     "output_type": "execute_result"
    }
   ],
   "source": [
    "arr_a + arr_b"
   ]
  },
  {
   "cell_type": "code",
   "execution_count": 73,
   "id": "3e8680a4",
   "metadata": {},
   "outputs": [
    {
     "data": {
      "text/plain": [
       "array([-3, -1,  1])"
      ]
     },
     "execution_count": 73,
     "metadata": {},
     "output_type": "execute_result"
    }
   ],
   "source": [
    "arr_a - arr_b"
   ]
  },
  {
   "cell_type": "code",
   "execution_count": 74,
   "id": "41ee6294",
   "metadata": {},
   "outputs": [
    {
     "data": {
      "text/plain": [
       "array([4, 6, 6])"
      ]
     },
     "execution_count": 74,
     "metadata": {},
     "output_type": "execute_result"
    }
   ],
   "source": [
    "arr_a * arr_b"
   ]
  },
  {
   "cell_type": "code",
   "execution_count": 75,
   "id": "d4decfe8",
   "metadata": {},
   "outputs": [
    {
     "data": {
      "text/plain": [
       "array([0.25      , 0.66666667, 1.5       ])"
      ]
     },
     "execution_count": 75,
     "metadata": {},
     "output_type": "execute_result"
    }
   ],
   "source": [
    "arr_a / arr_b"
   ]
  },
  {
   "cell_type": "code",
   "execution_count": 76,
   "id": "0cf14614",
   "metadata": {},
   "outputs": [
    {
     "data": {
      "text/plain": [
       "array([[1, 2, 3],\n",
       "       [3, 4, 5]])"
      ]
     },
     "execution_count": 76,
     "metadata": {},
     "output_type": "execute_result"
    }
   ],
   "source": [
    "arr2_a = np.array([[1,2,3],[3,4,5]])\n",
    "arr2_a "
   ]
  },
  {
   "cell_type": "code",
   "execution_count": 77,
   "id": "8baccd53",
   "metadata": {},
   "outputs": [
    {
     "data": {
      "text/plain": [
       "array([[1, 2, 2],\n",
       "       [1, 1, 1]])"
      ]
     },
     "execution_count": 77,
     "metadata": {},
     "output_type": "execute_result"
    }
   ],
   "source": [
    "arr2_b = np.array([[1,2,2],[1,1,1]])\n",
    "arr2_b "
   ]
  },
  {
   "cell_type": "code",
   "execution_count": 78,
   "id": "761504cd",
   "metadata": {},
   "outputs": [
    {
     "data": {
      "text/plain": [
       "array([[2, 4, 5],\n",
       "       [4, 5, 6]])"
      ]
     },
     "execution_count": 78,
     "metadata": {},
     "output_type": "execute_result"
    }
   ],
   "source": [
    "arr2_a + arr2_b"
   ]
  },
  {
   "cell_type": "code",
   "execution_count": 79,
   "id": "492e474e",
   "metadata": {},
   "outputs": [
    {
     "data": {
      "text/plain": [
       "array([[4, 5, 6],\n",
       "       [6, 7, 8]])"
      ]
     },
     "execution_count": 79,
     "metadata": {},
     "output_type": "execute_result"
    }
   ],
   "source": [
    "# list와 단일 정수와 연산 가능...\n",
    "\n",
    "arr2_a + 3 "
   ]
  },
  {
   "cell_type": "code",
   "execution_count": 80,
   "id": "12e80107",
   "metadata": {},
   "outputs": [
    {
     "data": {
      "text/plain": [
       "array([[4, 8, 8],\n",
       "       [4, 4, 4]])"
      ]
     },
     "execution_count": 80,
     "metadata": {},
     "output_type": "execute_result"
    }
   ],
   "source": [
    "arr2_b * 4"
   ]
  },
  {
   "cell_type": "code",
   "execution_count": 81,
   "id": "406acf74",
   "metadata": {},
   "outputs": [
    {
     "data": {
      "text/plain": [
       "array([1, 2, 3, 4, 0])"
      ]
     },
     "execution_count": 81,
     "metadata": {},
     "output_type": "execute_result"
    }
   ],
   "source": [
    "arr_1 = np.array([1,2,3,4,0])\n",
    "arr_1"
   ]
  },
  {
   "cell_type": "code",
   "execution_count": 82,
   "id": "2ab0eb9b",
   "metadata": {},
   "outputs": [
    {
     "data": {
      "text/plain": [
       "2"
      ]
     },
     "execution_count": 82,
     "metadata": {},
     "output_type": "execute_result"
    }
   ],
   "source": [
    "arr_1[1]"
   ]
  },
  {
   "cell_type": "code",
   "execution_count": 87,
   "id": "c131f20a",
   "metadata": {},
   "outputs": [
    {
     "data": {
      "text/plain": [
       "array([[1, 2, 3],\n",
       "       [8, 1, 1]])"
      ]
     },
     "execution_count": 87,
     "metadata": {},
     "output_type": "execute_result"
    }
   ],
   "source": [
    "arr = np.array([[1,2,3],[8,1,1]])\n",
    "arr"
   ]
  },
  {
   "cell_type": "code",
   "execution_count": 84,
   "id": "0e31f1bf",
   "metadata": {},
   "outputs": [
    {
     "data": {
      "text/plain": [
       "array([1, 2, 3])"
      ]
     },
     "execution_count": 84,
     "metadata": {},
     "output_type": "execute_result"
    }
   ],
   "source": [
    "arr[0]"
   ]
  },
  {
   "cell_type": "code",
   "execution_count": 88,
   "id": "c9f76bab",
   "metadata": {},
   "outputs": [
    {
     "data": {
      "text/plain": [
       "8"
      ]
     },
     "execution_count": 88,
     "metadata": {},
     "output_type": "execute_result"
    }
   ],
   "source": [
    "arr[1][0]\n",
    "# list의 중첩!!! 첫 번쨰 리스트에서 첫 번쨰 자리수 출력"
   ]
  },
  {
   "cell_type": "code",
   "execution_count": 90,
   "id": "7bf0996b",
   "metadata": {},
   "outputs": [
    {
     "data": {
      "text/plain": [
       "8"
      ]
     },
     "execution_count": 90,
     "metadata": {},
     "output_type": "execute_result"
    }
   ],
   "source": [
    "arr[1,0]"
   ]
  },
  {
   "cell_type": "code",
   "execution_count": 95,
   "id": "3aa96b7e",
   "metadata": {},
   "outputs": [
    {
     "data": {
      "text/plain": [
       "array([ 1,  2,  3,  4,  5,  6,  7,  8,  9, 10])"
      ]
     },
     "execution_count": 95,
     "metadata": {},
     "output_type": "execute_result"
    }
   ],
   "source": [
    "arr1 = np.arange(1,11)\n",
    "arr1"
   ]
  },
  {
   "cell_type": "code",
   "execution_count": 103,
   "id": "19c22c71",
   "metadata": {},
   "outputs": [
    {
     "data": {
      "text/plain": [
       "array([11])"
      ]
     },
     "execution_count": 103,
     "metadata": {},
     "output_type": "execute_result"
    }
   ],
   "source": [
    "# slicing\n",
    "# 3이상 8미만\n",
    "arr1[3:4]"
   ]
  },
  {
   "cell_type": "code",
   "execution_count": 102,
   "id": "0b53189d",
   "metadata": {},
   "outputs": [
    {
     "data": {
      "text/plain": [
       "array([ 1,  2,  3, 11, 11, 11, 11, 11,  9, 10])"
      ]
     },
     "execution_count": 102,
     "metadata": {},
     "output_type": "execute_result"
    }
   ],
   "source": [
    "arr1[3:5] = 11\n",
    "arr1"
   ]
  },
  {
   "cell_type": "code",
   "execution_count": 104,
   "id": "0d0c7741",
   "metadata": {},
   "outputs": [
    {
     "data": {
      "text/plain": [
       "array([[ 0,  1,  2,  3,  4,  5,  6,  7,  8,  9],\n",
       "       [10, 11, 12, 13, 14, 15, 16, 17, 18, 19],\n",
       "       [20, 21, 22, 23, 24, 25, 26, 27, 28, 29],\n",
       "       [30, 31, 32, 33, 34, 35, 36, 37, 38, 39],\n",
       "       [40, 41, 42, 43, 44, 45, 46, 47, 48, 49]])"
      ]
     },
     "execution_count": 104,
     "metadata": {},
     "output_type": "execute_result"
    }
   ],
   "source": [
    "arr2 = np.arange(50).reshape(5,10)\n",
    "# 2차원 안에 10개씩, 1차원 안에 5 줄...?\n",
    "arr2"
   ]
  },
  {
   "cell_type": "code",
   "execution_count": 107,
   "id": "0e4a6b5a",
   "metadata": {},
   "outputs": [
    {
     "data": {
      "text/plain": [
       "array([[ 0,  1,  2,  3,  4,  5,  6,  7,  8,  9],\n",
       "       [10, 11, 12, 13, 14, 15, 16, 17, 18, 19]])"
      ]
     },
     "execution_count": 107,
     "metadata": {},
     "output_type": "execute_result"
    }
   ],
   "source": [
    "arr2[:2,:]\n",
    "# 0행 부터 1행까지, 전체 열 출력"
   ]
  },
  {
   "cell_type": "code",
   "execution_count": 109,
   "id": "6da22752",
   "metadata": {},
   "outputs": [
    {
     "data": {
      "text/plain": [
       "array([ 0, 10, 20, 30, 40])"
      ]
     },
     "execution_count": 109,
     "metadata": {},
     "output_type": "execute_result"
    }
   ],
   "source": [
    "arr2[:,0]\n",
    "# 행은 다 뽑아줄게, 그리고 열은 첫 번쨰 열만 뽑아 줄게"
   ]
  },
  {
   "cell_type": "code",
   "execution_count": 110,
   "id": "2bdd7e23",
   "metadata": {},
   "outputs": [
    {
     "data": {
      "text/plain": [
       "array([[ 0,  1,  2,  3,  4],\n",
       "       [10, 11, 12, 13, 14],\n",
       "       [20, 21, 22, 23, 24],\n",
       "       [30, 31, 32, 33, 34]])"
      ]
     },
     "execution_count": 110,
     "metadata": {},
     "output_type": "execute_result"
    }
   ],
   "source": [
    "arr2[:4,:5]"
   ]
  },
  {
   "cell_type": "code",
   "execution_count": 115,
   "id": "18ed72a4",
   "metadata": {},
   "outputs": [
    {
     "data": {
      "text/plain": [
       "4"
      ]
     },
     "execution_count": 115,
     "metadata": {},
     "output_type": "execute_result"
    }
   ],
   "source": [
    "arr2[0,4]"
   ]
  },
  {
   "cell_type": "code",
   "execution_count": 120,
   "id": "3d29e922",
   "metadata": {},
   "outputs": [
    {
     "data": {
      "text/plain": [
       "array([80, 70, 60, 90])"
      ]
     },
     "execution_count": 120,
     "metadata": {},
     "output_type": "execute_result"
    }
   ],
   "source": [
    "score = np.array([80,70,60,90])\n",
    "score"
   ]
  },
  {
   "cell_type": "code",
   "execution_count": 121,
   "id": "3271403c",
   "metadata": {},
   "outputs": [
    {
     "data": {
      "text/plain": [
       "array([ True,  True,  True, False])"
      ]
     },
     "execution_count": 121,
     "metadata": {},
     "output_type": "execute_result"
    }
   ],
   "source": [
    "score <= 80"
   ]
  },
  {
   "cell_type": "code",
   "execution_count": 122,
   "id": "373a0eb5",
   "metadata": {},
   "outputs": [
    {
     "data": {
      "text/plain": [
       "array([80, 90])"
      ]
     },
     "execution_count": 122,
     "metadata": {},
     "output_type": "execute_result"
    }
   ],
   "source": [
    "score[score >= 80]\n",
    "# 인덱싱이니까 [] 대괄호를 친다."
   ]
  },
  {
   "cell_type": "code",
   "execution_count": 123,
   "id": "78e0cca9",
   "metadata": {},
   "outputs": [
    {
     "data": {
      "text/plain": [
       "array(['same', 'tom', 'rora', 'kim'], dtype='<U4')"
      ]
     },
     "execution_count": 123,
     "metadata": {},
     "output_type": "execute_result"
    }
   ],
   "source": [
    "name = np.array([\"same\", \"tom\", \"rora\", \"kim\"])\n",
    "name"
   ]
  },
  {
   "cell_type": "code",
   "execution_count": 125,
   "id": "4ca544c0",
   "metadata": {},
   "outputs": [
    {
     "data": {
      "text/plain": [
       "array([False,  True, False,  True])"
      ]
     },
     "execution_count": 125,
     "metadata": {},
     "output_type": "execute_result"
    }
   ],
   "source": [
    "bool = np.array([False, True, False, True])\n",
    "bool"
   ]
  },
  {
   "cell_type": "code",
   "execution_count": 126,
   "id": "1aff826d",
   "metadata": {},
   "outputs": [
    {
     "data": {
      "text/plain": [
       "array(['tom', 'kim'], dtype='<U4')"
      ]
     },
     "execution_count": 126,
     "metadata": {},
     "output_type": "execute_result"
    }
   ],
   "source": [
    "name[bool]\n",
    "# boolean은 True인 값만 반환하기 때문에 False값은 출력하지 않는다."
   ]
  },
  {
   "cell_type": "code",
   "execution_count": 129,
   "id": "9c1df443",
   "metadata": {},
   "outputs": [
    {
     "name": "stdout",
     "output_type": "stream",
     "text": [
      "[[60 60]\n",
      " [70 70]\n",
      " [80 80]\n",
      " [90 90]]\n",
      "2\n"
     ]
    }
   ],
   "source": [
    "score = np.array([[60,60],[70,70],[80,80],[90,90]])\n",
    "print(score)\n",
    "print(score.ndim)"
   ]
  },
  {
   "cell_type": "code",
   "execution_count": 130,
   "id": "776bcfee",
   "metadata": {},
   "outputs": [
    {
     "data": {
      "text/plain": [
       "array([False, False, False, False])"
      ]
     },
     "execution_count": 130,
     "metadata": {},
     "output_type": "execute_result"
    }
   ],
   "source": [
    "name == \"bob\""
   ]
  },
  {
   "cell_type": "code",
   "execution_count": 131,
   "id": "e2fb28b9",
   "metadata": {},
   "outputs": [
    {
     "data": {
      "text/plain": [
       "array([False,  True, False, False])"
      ]
     },
     "execution_count": 131,
     "metadata": {},
     "output_type": "execute_result"
    }
   ],
   "source": [
    "name == \"tom\""
   ]
  },
  {
   "cell_type": "code",
   "execution_count": 133,
   "id": "29a939ba",
   "metadata": {},
   "outputs": [
    {
     "data": {
      "text/plain": [
       "array([[60, 60]])"
      ]
     },
     "execution_count": 133,
     "metadata": {},
     "output_type": "execute_result"
    }
   ],
   "source": [
    "score[name == \"same\"]"
   ]
  },
  {
   "cell_type": "code",
   "execution_count": 135,
   "id": "92f0955b",
   "metadata": {},
   "outputs": [
    {
     "data": {
      "text/plain": [
       "array([[9, 3, 3, 5, 5],\n",
       "       [8, 1, 2, 6, 2]])"
      ]
     },
     "execution_count": 135,
     "metadata": {},
     "output_type": "execute_result"
    }
   ],
   "source": [
    "arr = np.random.randint(1,10, size = (2,5))\n",
    "# 따로 지정하지 않으면 int 하나만 출력하는데 size = (2,5)를 써서 원하는 만큼 출력\n",
    "arr"
   ]
  },
  {
   "cell_type": "code",
   "execution_count": 145,
   "id": "a037087b",
   "metadata": {},
   "outputs": [
    {
     "name": "stdout",
     "output_type": "stream",
     "text": [
      "57\n",
      "57\n"
     ]
    }
   ],
   "source": [
    "print(arr.sum())\n",
    "print(np.sum(arr))"
   ]
  },
  {
   "cell_type": "code",
   "execution_count": 141,
   "id": "f4b00e01",
   "metadata": {},
   "outputs": [
    {
     "data": {
      "text/plain": [
       "array([[9, 8, 4, 7, 7],\n",
       "       [4, 3, 7, 1, 7]])"
      ]
     },
     "execution_count": 141,
     "metadata": {},
     "output_type": "execute_result"
    }
   ],
   "source": [
    "arr = np.random.randint(1,10,size = (2,5))\n",
    "arr"
   ]
  },
  {
   "cell_type": "code",
   "execution_count": 144,
   "id": "1f2e7573",
   "metadata": {},
   "outputs": [
    {
     "name": "stdout",
     "output_type": "stream",
     "text": [
      "5.7\n",
      "5.7\n"
     ]
    }
   ],
   "source": [
    "print(arr.mean())\n",
    "print(np.mean(arr))"
   ]
  },
  {
   "cell_type": "code",
   "execution_count": 147,
   "id": "5d4f170c",
   "metadata": {},
   "outputs": [
    {
     "data": {
      "text/plain": [
       "array([1, 2, 3, 4, 5])"
      ]
     },
     "execution_count": 147,
     "metadata": {},
     "output_type": "execute_result"
    }
   ],
   "source": [
    "arr = np.arange(1,6)\n",
    "arr"
   ]
  },
  {
   "cell_type": "code",
   "execution_count": 148,
   "id": "2fdb0029",
   "metadata": {},
   "outputs": [
    {
     "data": {
      "text/plain": [
       "array([1.        , 1.41421356, 1.73205081, 2.        , 2.23606798])"
      ]
     },
     "execution_count": 148,
     "metadata": {},
     "output_type": "execute_result"
    }
   ],
   "source": [
    "np.sqrt(arr)\n",
    "# sqrt = 제곱근"
   ]
  },
  {
   "cell_type": "code",
   "execution_count": 151,
   "id": "705bb757",
   "metadata": {},
   "outputs": [
    {
     "data": {
      "text/plain": [
       "array([ 1, -1,  2, -3,  5])"
      ]
     },
     "execution_count": 151,
     "metadata": {},
     "output_type": "execute_result"
    }
   ],
   "source": [
    "arr = np.array([1,-1,2,-3,5])\n",
    "arr"
   ]
  },
  {
   "cell_type": "code",
   "execution_count": 152,
   "id": "d026a82c",
   "metadata": {},
   "outputs": [
    {
     "data": {
      "text/plain": [
       "array([1, 1, 2, 3, 5])"
      ]
     },
     "execution_count": 152,
     "metadata": {},
     "output_type": "execute_result"
    }
   ],
   "source": [
    "np.abs(arr)\n",
    "# 절대값"
   ]
  },
  {
   "cell_type": "markdown",
   "id": "712880b2",
   "metadata": {},
   "source": [
    "### numpy는 왜 쓰는 것? 언제 사용?\n",
    "- 수치 데이터를 활용하기 좋은 무언가..."
   ]
  },
  {
   "cell_type": "markdown",
   "id": "c12c33d3",
   "metadata": {},
   "source": [
    "## 실습"
   ]
  },
  {
   "cell_type": "code",
   "execution_count": 156,
   "id": "71bcc048",
   "metadata": {},
   "outputs": [],
   "source": [
    "import numpy as np"
   ]
  },
  {
   "cell_type": "code",
   "execution_count": 162,
   "id": "8afefcb6",
   "metadata": {
    "scrolled": true
   },
   "outputs": [
    {
     "name": "stdout",
     "output_type": "stream",
     "text": [
      "[10 20 30]\n",
      "[ 70  80 100]\n",
      "[ 80 100 130]\n",
      "이름: ['a', 'b', 'c'], 성적: [ 80 100 130]원 입니다.\n"
     ]
    }
   ],
   "source": [
    "arr_student = ([\"a\", \"b\", \"c\"])\n",
    "arr_score = np.array([[10, 70], [20, 80], [30, 100]])\n",
    "mid_score = arr_score[:,0]\n",
    "final_score = arr_score[:,1]\n",
    "total_score = mid_score + final_score\n",
    "sentence = f\"이름: {arr_student}, 성적: {total_score}원 입니다.\"\n",
    "print(mid_score)\n",
    "print(final_score)\n",
    "print(total_score)\n",
    "print(sentence)"
   ]
  },
  {
   "cell_type": "code",
   "execution_count": 157,
   "id": "2d0209df",
   "metadata": {},
   "outputs": [
    {
     "data": {
      "text/plain": [
       "array([ 80, 100, 130])"
      ]
     },
     "execution_count": 157,
     "metadata": {},
     "output_type": "execute_result"
    }
   ],
   "source": [
    "mid_score = np.array([10,20,30])\n",
    "final_score = np.array([70,80,100])\n",
    "total = mid_score + final_score\n",
    "total"
   ]
  },
  {
   "cell_type": "markdown",
   "id": "44e286d4",
   "metadata": {},
   "source": [
    "### 실습1\n",
    "- 0에서 9까지 정수 값을 가지는 ndarray 객체 array_a를 넘파이를 이용해 출력"
   ]
  },
  {
   "cell_type": "code",
   "execution_count": 165,
   "id": "f21fc3e3",
   "metadata": {},
   "outputs": [
    {
     "data": {
      "text/plain": [
       "[0, 1, 2, 3, 4, 5, 6, 7, 8, 9]"
      ]
     },
     "execution_count": 165,
     "metadata": {},
     "output_type": "execute_result"
    }
   ],
   "source": [
    "array_a = [0,1,2,3,4,5,6,7,8,9]\n",
    "array_a"
   ]
  },
  {
   "cell_type": "markdown",
   "id": "537da837",
   "metadata": {},
   "source": [
    "### 실습2\n",
    "- range[]함수를 사용해 0에서 9까지 정스 값 가지는 array_b 출력"
   ]
  },
  {
   "cell_type": "code",
   "execution_count": 169,
   "id": "b4e5763c",
   "metadata": {},
   "outputs": [
    {
     "data": {
      "text/plain": [
       "array([0, 1, 2, 3, 4, 5, 6, 7, 8, 9])"
      ]
     },
     "execution_count": 169,
     "metadata": {},
     "output_type": "execute_result"
    }
   ],
   "source": [
    "array_b = np.arange(0,10)\n",
    "array_b"
   ]
  },
  {
   "cell_type": "markdown",
   "id": "09fbe45a",
   "metadata": {},
   "source": [
    "### 실습3\n",
    "- 0에서 9까지의 정수 값에서 짝수를 가지는 array_c"
   ]
  },
  {
   "cell_type": "code",
   "execution_count": 170,
   "id": "0b449085",
   "metadata": {},
   "outputs": [
    {
     "data": {
      "text/plain": [
       "array([0, 2, 4, 6, 8])"
      ]
     },
     "execution_count": 170,
     "metadata": {},
     "output_type": "execute_result"
    }
   ],
   "source": [
    "array_c = np.arange(0,10, 2)\n",
    "# 2의 간격으로 0부터 출력\n",
    "array_c\n"
   ]
  },
  {
   "cell_type": "markdown",
   "id": "d41d2d18",
   "metadata": {},
   "source": [
    "### 실습4\n",
    "- array_c의 shape, ndim, size"
   ]
  },
  {
   "cell_type": "code",
   "execution_count": 172,
   "id": "5cacfff7",
   "metadata": {},
   "outputs": [
    {
     "name": "stdout",
     "output_type": "stream",
     "text": [
      "(5,)\n",
      "1\n",
      "5\n",
      "int32\n"
     ]
    }
   ],
   "source": [
    "print(array_c.shape)\n",
    "print(array_c.ndim)\n",
    "print(array_c.size)\n",
    "print(array_c.dtype)"
   ]
  },
  {
   "cell_type": "markdown",
   "id": "52c7dfcd",
   "metadata": {},
   "source": [
    "### 실습5\n",
    "- 회사의 매출이 올라서 전 직원의 월급을 100만원씩 올려줌\n",
    "- 현재 직원의 월급: 200, 250, 300, 350, 400"
   ]
  },
  {
   "cell_type": "code",
   "execution_count": 174,
   "id": "883c10cd",
   "metadata": {},
   "outputs": [
    {
     "data": {
      "text/plain": [
       "array([300, 350, 400, 450, 500])"
      ]
     },
     "execution_count": 174,
     "metadata": {},
     "output_type": "execute_result"
    }
   ],
   "source": [
    "# 회사의 매출이 올라서 전 직원의 월급을 100만원씨가 올려줌\n",
    "# 현재 직원의ㅏ 월급: 200, 250, 300, 350, 400\n",
    "\n",
    "salary = np.array([200, 250, 300, 350, 400])\n",
    "increase_salary = salary + 100\n",
    "increase_salary"
   ]
  },
  {
   "cell_type": "code",
   "execution_count": 175,
   "id": "39260862",
   "metadata": {},
   "outputs": [
    {
     "data": {
      "text/plain": [
       "array([400, 500, 600, 700, 800])"
      ]
     },
     "execution_count": 175,
     "metadata": {},
     "output_type": "execute_result"
    }
   ],
   "source": [
    "salary = np.array([200, 250, 300, 350, 400])\n",
    "increase_salary = salary * 2\n",
    "increase_salary"
   ]
  },
  {
   "cell_type": "code",
   "execution_count": null,
   "id": "9aac7380",
   "metadata": {},
   "outputs": [],
   "source": []
  },
  {
   "cell_type": "code",
   "execution_count": 178,
   "id": "123b14e0",
   "metadata": {},
   "outputs": [
    {
     "name": "stdout",
     "output_type": "stream",
     "text": [
      "2 3\n",
      "(4, 3) (2, 2, 2)\n",
      "12 8\n"
     ]
    }
   ],
   "source": [
    "matrix_array2 = np.array([[1,2,3],[1,1,1],[0,0,0],[7,8,9]])\n",
    "matrix_array3 = np.array([[[1,1],[2,1]],[[3,3],[0,9]]])\n",
    "print(matrix_array2.ndim, matrix_array3.ndim)\n",
    "print(matrix_array2.shape, matrix_array3.shape)\n",
    "print(matrix_array2.size, matrix_array3.size)"
   ]
  },
  {
   "cell_type": "code",
   "execution_count": 189,
   "id": "de3f2d27",
   "metadata": {},
   "outputs": [
    {
     "data": {
      "text/plain": [
       "array([[170. ,  76.4],\n",
       "       [183.4,  78.5],\n",
       "       [190.1,  80.3],\n",
       "       [187.2,  81. ]])"
      ]
     },
     "execution_count": 189,
     "metadata": {},
     "output_type": "execute_result"
    }
   ],
   "source": [
    "# 선수 중 몸무게 80 이상\n",
    "# 선수 중 키가 180 이상만 출력\n",
    "\n",
    "players = np.array([[170, 76.4], [183.4,78.5], [190.1, 80.3], [187.2, 81]])\n",
    "players"
   ]
  },
  {
   "cell_type": "code",
   "execution_count": 192,
   "id": "da3f976a",
   "metadata": {},
   "outputs": [
    {
     "name": "stdout",
     "output_type": "stream",
     "text": [
      "[80.3 81. ]\n"
     ]
    }
   ],
   "source": [
    "players_weight = players[:,1]\n",
    "print(players_weight[players_weight >= 80.0])"
   ]
  },
  {
   "cell_type": "code",
   "execution_count": 228,
   "id": "2a52c0b6",
   "metadata": {},
   "outputs": [
    {
     "name": "stdout",
     "output_type": "stream",
     "text": [
      "[80.3 81. ]\n"
     ]
    }
   ],
   "source": [
    "players_weight = players[:,1:]\n",
    "# , 콤마를 기준으로 행이냐 열이냐\n",
    "print(players_weight[players_weight >= 80.0])"
   ]
  },
  {
   "cell_type": "code",
   "execution_count": null,
   "id": "067d01ca",
   "metadata": {},
   "outputs": [],
   "source": []
  },
  {
   "cell_type": "code",
   "execution_count": 195,
   "id": "9418e648",
   "metadata": {},
   "outputs": [
    {
     "name": "stdout",
     "output_type": "stream",
     "text": [
      "[[190.1  80.3]\n",
      " [187.2  81. ]]\n"
     ]
    }
   ],
   "source": [
    "print(players[players[:,1] >= 80.0])"
   ]
  },
  {
   "cell_type": "code",
   "execution_count": 193,
   "id": "5fcd835a",
   "metadata": {},
   "outputs": [
    {
     "name": "stdout",
     "output_type": "stream",
     "text": [
      "[183.4 190.1 187.2]\n"
     ]
    }
   ],
   "source": [
    "players_height = players[:,0]\n",
    "print(players_height[players_height >= 180.0])"
   ]
  },
  {
   "cell_type": "code",
   "execution_count": 196,
   "id": "e0988eeb",
   "metadata": {},
   "outputs": [
    {
     "name": "stdout",
     "output_type": "stream",
     "text": [
      "[[183.4  78.5]\n",
      " [190.1  80.3]\n",
      " [187.2  81. ]]\n"
     ]
    }
   ],
   "source": [
    "print(players[players[:,0] >= 180.0])"
   ]
  },
  {
   "cell_type": "code",
   "execution_count": 208,
   "id": "8f4d46b5",
   "metadata": {},
   "outputs": [
    {
     "name": "stdout",
     "output_type": "stream",
     "text": [
      "[ 300000  400000 3400000  140000  180000  200000  100000  300000  100000\n",
      "  340000  330000  320000  350000  360000  400000  420000  200000  320000\n",
      "  320000  330000  340000  360000  330000  320000  310000  300000  340000]\n",
      "1\n"
     ]
    }
   ],
   "source": [
    "revenue_in_yen = np.array([300000, 400000, 3400000, 140000, 180000, 200000, 100000, 300000,\n",
    "                           100000, 340000, 330000, 320000, 350000, 360000, 400000, 420000, \n",
    "                           200000,320000, 320000, 330000, 340000, 360000, 330000, 320000,\n",
    "                           310000, 300000, 340000])\n",
    "                  \n",
    "print(revenue_in_yen)\n",
    "print(revenue_in_yen.ndim)"
   ]
  },
  {
   "cell_type": "code",
   "execution_count": 206,
   "id": "783f94b5",
   "metadata": {},
   "outputs": [
    {
     "data": {
      "text/plain": [
       "array([ 2931000.,  3908000., 33218000.,  1367800.,  1758600.,  1954000.,\n",
       "         977000.,  2931000.,   977000.,  3321800.,  3224100.,  3126400.,\n",
       "        3419500.,  3517200.,  3908000.,  4103400.,  1954000.,  3126400.,\n",
       "        3126400.,  3224100.,  3321800.,  3517200.,  3224100.,  3126400.,\n",
       "        3028700.,  2931000.,  3321800.])"
      ]
     },
     "execution_count": 206,
     "metadata": {},
     "output_type": "execute_result"
    }
   ],
   "source": [
    "won_array = revenue_in_yen * 9.77\n",
    "won_array"
   ]
  },
  {
   "cell_type": "code",
   "execution_count": 219,
   "id": "fb410425",
   "metadata": {},
   "outputs": [
    {
     "data": {
      "text/plain": [
       "array([2000, 2200, 2300, 2400, 1500, 1600, 2800, 2700, 2300, 2400, 2500,\n",
       "       2200, 2100, 2600, 2700, 2200, 2500, 2600, 2700, 2000, 3000, 3200,\n",
       "       3300, 3400, 2300, 2500, 2300])"
      ]
     },
     "execution_count": 219,
     "metadata": {},
     "output_type": "execute_result"
    }
   ],
   "source": [
    "dallar_array = np.array([2000, 2200, 2300, 2400, 1500, 1600, 2800, 2700, \n",
    "                        2300, 2400, 2500, 2200, 2100, 2600, 2700, 2200, \n",
    "                        2500, 2600, 2700, 2000, 3000, 3200, 3300, 3400,\n",
    "                        2300, 2500, 2300])\n",
    "dallar_array"
   ]
  },
  {
   "cell_type": "code",
   "execution_count": 220,
   "id": "cd312f08",
   "metadata": {},
   "outputs": [
    {
     "data": {
      "text/plain": [
       "array([2602000, 2862200, 2992300, 3122400, 1951500, 2081600, 3642800,\n",
       "       3512700, 2992300, 3122400, 3252500, 2862200, 2732100, 3382600,\n",
       "       3512700, 2862200, 3252500, 3382600, 3512700, 2602000, 3903000,\n",
       "       4163200, 4293300, 4423400, 2992300, 3252500, 2992300])"
      ]
     },
     "execution_count": 220,
     "metadata": {},
     "output_type": "execute_result"
    }
   ],
   "source": [
    "won_array2 = dallar_array * 1301\n",
    "won_array2"
   ]
  },
  {
   "cell_type": "code",
   "execution_count": 221,
   "id": "40ad6ef6",
   "metadata": {},
   "outputs": [
    {
     "data": {
      "text/plain": [
       "array([ 5533000.,  6770200., 36210300.,  4490200.,  3710100.,  4035600.,\n",
       "        4619800.,  6443700.,  3969300.,  6444200.,  6476600.,  5988600.,\n",
       "        6151600.,  6899800.,  7420700.,  6965600.,  5206500.,  6509000.,\n",
       "        6639100.,  5826100.,  7224800.,  7680400.,  7517400.,  7549800.,\n",
       "        6021000.,  6183500.,  6314100.])"
      ]
     },
     "execution_count": 221,
     "metadata": {},
     "output_type": "execute_result"
    }
   ],
   "source": [
    "total_array = won_array + won_array2\n",
    "total_array"
   ]
  },
  {
   "cell_type": "code",
   "execution_count": 225,
   "id": "9cb1f387",
   "metadata": {
    "scrolled": true
   },
   "outputs": [
    {
     "name": "stdout",
     "output_type": "stream",
     "text": [
      "[1367800. 1758600. 1954000.  977000.  977000. 1954000.]\n",
      "[1951500]\n",
      "[3710100. 3969300.]\n"
     ]
    }
   ],
   "source": [
    "print(won_array[won_array <= 2000000])\n",
    "print(won_array2[won_array2 <= 2000000])\n",
    "print(total_array[total_array <= 4000000])"
   ]
  },
  {
   "cell_type": "code",
   "execution_count": 229,
   "id": "bf0198f8",
   "metadata": {},
   "outputs": [
    {
     "data": {
      "text/plain": [
       "array([11, 22, 33, 44, 55, 12, 13])"
      ]
     },
     "execution_count": 229,
     "metadata": {},
     "output_type": "execute_result"
    }
   ],
   "source": [
    "array1 = np.array([11,22,33,44,55,12,13])\n",
    "array1"
   ]
  },
  {
   "cell_type": "code",
   "execution_count": 236,
   "id": "dbb120b0",
   "metadata": {},
   "outputs": [
    {
     "ename": "AttributeError",
     "evalue": "'numpy.ndarray' object has no attribute 'median'",
     "output_type": "error",
     "traceback": [
      "\u001b[1;31m---------------------------------------------------------------------------\u001b[0m",
      "\u001b[1;31mAttributeError\u001b[0m                            Traceback (most recent call last)",
      "Input \u001b[1;32mIn [236]\u001b[0m, in \u001b[0;36m<cell line: 1>\u001b[1;34m()\u001b[0m\n\u001b[1;32m----> 1\u001b[0m \u001b[38;5;28mprint\u001b[39m(\u001b[43marray1\u001b[49m\u001b[38;5;241;43m.\u001b[39;49m\u001b[43mmedian\u001b[49m())\n",
      "\u001b[1;31mAttributeError\u001b[0m: 'numpy.ndarray' object has no attribute 'median'"
     ]
    }
   ],
   "source": [
    "print(array1.median())\n",
    "# ?? 질문!!!!!!!"
   ]
  },
  {
   "cell_type": "code",
   "execution_count": 231,
   "id": "0111828b",
   "metadata": {},
   "outputs": [
    {
     "name": "stdout",
     "output_type": "stream",
     "text": [
      "55\n",
      "11\n"
     ]
    }
   ],
   "source": [
    "# 최댓값 max\n",
    "# 최솟값 min\n",
    "print(array1.max())\n",
    "print(array1.min())"
   ]
  },
  {
   "cell_type": "code",
   "execution_count": 235,
   "id": "210c14e0",
   "metadata": {},
   "outputs": [
    {
     "name": "stdout",
     "output_type": "stream",
     "text": [
      "22.0\n",
      "16.08396336575722\n",
      "258.69387755102036\n"
     ]
    }
   ],
   "source": [
    "# 중앙값: median\n",
    "# 표준편차: std\n",
    "# 분산: var\n",
    "print(np.median(array1))\n",
    "print(array1.std())\n",
    "print(array1.var())"
   ]
  },
  {
   "cell_type": "code",
   "execution_count": null,
   "id": "9283b0d0",
   "metadata": {},
   "outputs": [],
   "source": []
  }
 ],
 "metadata": {
  "kernelspec": {
   "display_name": "Python 3 (ipykernel)",
   "language": "python",
   "name": "python3"
  },
  "language_info": {
   "codemirror_mode": {
    "name": "ipython",
    "version": 3
   },
   "file_extension": ".py",
   "mimetype": "text/x-python",
   "name": "python",
   "nbconvert_exporter": "python",
   "pygments_lexer": "ipython3",
   "version": "3.9.12"
  }
 },
 "nbformat": 4,
 "nbformat_minor": 5
}
