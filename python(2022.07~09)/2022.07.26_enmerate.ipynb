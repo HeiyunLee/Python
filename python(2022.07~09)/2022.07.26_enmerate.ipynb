{
 "cells": [
  {
   "cell_type": "code",
   "execution_count": 6,
   "id": "6325043f",
   "metadata": {},
   "outputs": [
    {
     "name": "stdout",
     "output_type": "stream",
     "text": [
      "4\n",
      "7\n",
      "10\n"
     ]
    }
   ],
   "source": [
    "for i in range(4, 11, 3):\n",
    "    # range(start, end, steps(얼마나 건너 뛰느냐))\n",
    "    print(i)"
   ]
  },
  {
   "cell_type": "code",
   "execution_count": 8,
   "id": "f5838bfb",
   "metadata": {},
   "outputs": [
    {
     "name": "stdout",
     "output_type": "stream",
     "text": [
      "5\n"
     ]
    }
   ],
   "source": [
    "name = ['err', 'mike', 'ga', 'ra', 'te']\n",
    "print(len(name))\n",
    "# len(리스트) : 리스트에 있는 문자열 개수 출력\n"
   ]
  },
  {
   "cell_type": "code",
   "execution_count": 9,
   "id": "c6cde379",
   "metadata": {},
   "outputs": [],
   "source": [
    "a = []"
   ]
  },
  {
   "cell_type": "code",
   "execution_count": 10,
   "id": "7cbcd4d6",
   "metadata": {},
   "outputs": [],
   "source": [
    "b = ()"
   ]
  },
  {
   "cell_type": "code",
   "execution_count": 11,
   "id": "f70cecab",
   "metadata": {},
   "outputs": [
    {
     "data": {
      "text/plain": [
       "0"
      ]
     },
     "execution_count": 11,
     "metadata": {},
     "output_type": "execute_result"
    }
   ],
   "source": [
    "len(b)"
   ]
  },
  {
   "cell_type": "markdown",
   "id": "a59988a3",
   "metadata": {},
   "source": [
    "- 리스트는 튜플과 달리 수정이 가능하다. \n",
    "1. 원소의 추가\n",
    "2. 원소의 삭제\n",
    "3. 원소의 교체\n",
    "4. 원소의 재정렬"
   ]
  },
  {
   "cell_type": "markdown",
   "id": "24163eb9",
   "metadata": {},
   "source": [
    "### 원소의 추가\n",
    "- append는 맨 뒤에 추가\n",
    "- insert는 원하는 자리에 삽입 가능."
   ]
  },
  {
   "cell_type": "code",
   "execution_count": 12,
   "id": "3ee4c95e",
   "metadata": {},
   "outputs": [
    {
     "data": {
      "text/plain": [
       "[1, 2, 3, 4, 5, 7]"
      ]
     },
     "execution_count": 12,
     "metadata": {},
     "output_type": "execute_result"
    }
   ],
   "source": [
    "a1 = [1, 2, 3, 4, 5]\n",
    "a1.append(7)\n",
    "# append: 리스트에서 원소를 추가할 때 쓰는 명령어 \n",
    "a1"
   ]
  },
  {
   "cell_type": "code",
   "execution_count": 13,
   "id": "a28a96c8",
   "metadata": {},
   "outputs": [
    {
     "data": {
      "text/plain": [
       "[8, 1, 2, 3, 4, 5, 7]"
      ]
     },
     "execution_count": 13,
     "metadata": {},
     "output_type": "execute_result"
    }
   ],
   "source": [
    "a1.insert(0, 8)\n",
    "# insert(들어갈 자리, 넣을 숫자)\n",
    "a1"
   ]
  },
  {
   "cell_type": "markdown",
   "id": "f258930c",
   "metadata": {},
   "source": [
    "### 원소의 삭제"
   ]
  },
  {
   "cell_type": "code",
   "execution_count": 14,
   "id": "c9d62563",
   "metadata": {},
   "outputs": [
    {
     "data": {
      "text/plain": [
       "[1, 2, 3, 4, 5, 7]"
      ]
     },
     "execution_count": 14,
     "metadata": {},
     "output_type": "execute_result"
    }
   ],
   "source": [
    "a1.remove(8)\n",
    "# remove: 지울 원소를 직접적으로 선언\n",
    "# (): 지울 원소 \n",
    "a1"
   ]
  },
  {
   "cell_type": "code",
   "execution_count": 15,
   "id": "966823d2",
   "metadata": {},
   "outputs": [
    {
     "data": {
      "text/plain": [
       "[1, 2, 3, 4, 5]"
      ]
     },
     "execution_count": 15,
     "metadata": {},
     "output_type": "execute_result"
    }
   ],
   "source": [
    "del a1[5]\n",
    "# del: 지울 원소가 위치한 자리 \n",
    "# []: 자리 번호\n",
    "a1"
   ]
  },
  {
   "cell_type": "markdown",
   "id": "a941b5d3",
   "metadata": {},
   "source": [
    "### 원소의 교체"
   ]
  },
  {
   "cell_type": "code",
   "execution_count": 16,
   "id": "bbfaa3d7",
   "metadata": {},
   "outputs": [
    {
     "data": {
      "text/plain": [
       "[7, 2, 3, 4, 5]"
      ]
     },
     "execution_count": 16,
     "metadata": {},
     "output_type": "execute_result"
    }
   ],
   "source": [
    "# a1.replace\n",
    "# replace: 문자열에서만 사용 가능하다. \n",
    "a1[0] = 7\n",
    "# 리스트에서는 원소 교체할 때 리플레이스 사용X. \n",
    "# 들어갈 자리 지정, 그 자리에 들어갈 원소 선언\n",
    "a1"
   ]
  },
  {
   "cell_type": "markdown",
   "id": "4569bcb5",
   "metadata": {},
   "source": [
    "### 원소의 재정렬"
   ]
  },
  {
   "cell_type": "code",
   "execution_count": 19,
   "id": "fa76f39f",
   "metadata": {},
   "outputs": [
    {
     "data": {
      "text/plain": [
       "[2, 3, 4, 5, 7]"
      ]
     },
     "execution_count": 19,
     "metadata": {},
     "output_type": "execute_result"
    }
   ],
   "source": [
    "a1.sort()\n",
    "a1"
   ]
  },
  {
   "cell_type": "code",
   "execution_count": 17,
   "id": "2366b7bf",
   "metadata": {},
   "outputs": [
    {
     "data": {
      "text/plain": [
       "[7, 5, 4, 3, 2]"
      ]
     },
     "execution_count": 17,
     "metadata": {},
     "output_type": "execute_result"
    }
   ],
   "source": [
    "a1.sort(reverse = True)\n",
    "a1"
   ]
  },
  {
   "cell_type": "code",
   "execution_count": 18,
   "id": "1bfc4672",
   "metadata": {},
   "outputs": [
    {
     "data": {
      "text/plain": [
       "[2, 3, 4, 5, 7]"
      ]
     },
     "execution_count": 18,
     "metadata": {},
     "output_type": "execute_result"
    }
   ],
   "source": [
    "a1.reverse()\n",
    "a1"
   ]
  },
  {
   "cell_type": "markdown",
   "id": "cfcbe33c",
   "metadata": {},
   "source": [
    "### 원소 확인"
   ]
  },
  {
   "cell_type": "code",
   "execution_count": 20,
   "id": "2856d9c3",
   "metadata": {},
   "outputs": [
    {
     "data": {
      "text/plain": [
       "True"
      ]
     },
     "execution_count": 20,
     "metadata": {},
     "output_type": "execute_result"
    }
   ],
   "source": [
    "2 in a1"
   ]
  },
  {
   "cell_type": "markdown",
   "id": "f2b68387",
   "metadata": {},
   "source": [
    "### while문"
   ]
  },
  {
   "cell_type": "code",
   "execution_count": 22,
   "id": "1f49b10e",
   "metadata": {},
   "outputs": [
    {
     "name": "stdout",
     "output_type": "stream",
     "text": [
      "파이썬 쉽다.\n",
      "파이썬 쉽다.\n"
     ]
    }
   ],
   "source": [
    "n = 1\n",
    "while n < 3:\n",
    "    # while문은 몇 번 시도하는지 해봐야 안다. \n",
    "    print(\"파이썬 쉽다.\")\n",
    "    n += 1"
   ]
  },
  {
   "cell_type": "code",
   "execution_count": 23,
   "id": "ca3338b4",
   "metadata": {},
   "outputs": [],
   "source": [
    "z = [1, 2, 3, 4, 5, 1, 1,1, 8, 9, 6, 7]"
   ]
  },
  {
   "cell_type": "code",
   "execution_count": 24,
   "id": "ec9661c2",
   "metadata": {},
   "outputs": [],
   "source": [
    "z.remove(1)\n",
    "# 1이 여러 개인 경우 맨 앞의 1만 지운다."
   ]
  },
  {
   "cell_type": "code",
   "execution_count": 25,
   "id": "24efc352",
   "metadata": {},
   "outputs": [
    {
     "data": {
      "text/plain": [
       "[2, 3, 4, 5, 1, 1, 1, 8, 9, 6, 7]"
      ]
     },
     "execution_count": 25,
     "metadata": {},
     "output_type": "execute_result"
    }
   ],
   "source": [
    "z"
   ]
  },
  {
   "cell_type": "code",
   "execution_count": 27,
   "id": "fcd0fdfb",
   "metadata": {},
   "outputs": [
    {
     "data": {
      "text/plain": [
       "[2, 3, 4, 5, 8, 9, 6, 7]"
      ]
     },
     "execution_count": 27,
     "metadata": {},
     "output_type": "execute_result"
    }
   ],
   "source": [
    "z = [1, 2, 3, 4, 5, 1, 1,1, 8, 9, 6, 7]\n",
    "while 1 in z:\n",
    "    z.remove(1)\n",
    "z"
   ]
  },
  {
   "cell_type": "markdown",
   "id": "64231111",
   "metadata": {},
   "source": [
    "### for문\n",
    "- for k in [](리스트 가능)\n",
    "- for k in \"\"(문자열 가능)\n",
    "- for k in 인덱싱이 가능한 자료형:"
   ]
  },
  {
   "cell_type": "code",
   "execution_count": 38,
   "id": "84d1d1d2",
   "metadata": {},
   "outputs": [
    {
     "data": {
      "text/plain": [
       "[1, 1, 1, 1, 0]"
      ]
     },
     "execution_count": 38,
     "metadata": {},
     "output_type": "execute_result"
    }
   ],
   "source": [
    "a = [1, 2, 3, 4, 5]\n",
    "b = [1, 2, 3, 4, 6]\n",
    "c = []\n",
    "\n",
    "for i in range(len(a)):\n",
    "    c.append(int(a[i] == b[i]))\n",
    "c"
   ]
  },
  {
   "cell_type": "code",
   "execution_count": 56,
   "id": "032cb0ba",
   "metadata": {},
   "outputs": [
    {
     "data": {
      "text/plain": [
       "[True, True, True, True, False]"
      ]
     },
     "execution_count": 56,
     "metadata": {},
     "output_type": "execute_result"
    }
   ],
   "source": [
    "a = [1, 2, 3, 4, 5]\n",
    "b = [1, 2, 3, 4, 6]\n",
    "c = [a[i] == b[i] for i in range(len(a))]\n",
    "c"
   ]
  },
  {
   "cell_type": "code",
   "execution_count": null,
   "id": "c6014bc4",
   "metadata": {},
   "outputs": [],
   "source": []
  },
  {
   "cell_type": "code",
   "execution_count": 33,
   "id": "8e62a4f2",
   "metadata": {},
   "outputs": [],
   "source": [
    "c = []"
   ]
  },
  {
   "cell_type": "code",
   "execution_count": 34,
   "id": "96923944",
   "metadata": {},
   "outputs": [
    {
     "data": {
      "text/plain": [
       "<enumerate at 0x23c6a6e2800>"
      ]
     },
     "execution_count": 34,
     "metadata": {},
     "output_type": "execute_result"
    }
   ],
   "source": [
    "enumerate(a)\n",
    "# 리스트에 인덱스 번호를 같이 붙힌다."
   ]
  },
  {
   "cell_type": "code",
   "execution_count": 35,
   "id": "76af2649",
   "metadata": {},
   "outputs": [
    {
     "ename": "SyntaxError",
     "evalue": "invalid syntax (2737158552.py, line 1)",
     "output_type": "error",
     "traceback": [
      "\u001b[1;36m  Input \u001b[1;32mIn [35]\u001b[1;36m\u001b[0m\n\u001b[1;33m    for i in a\u001b[0m\n\u001b[1;37m              ^\u001b[0m\n\u001b[1;31mSyntaxError\u001b[0m\u001b[1;31m:\u001b[0m invalid syntax\n"
     ]
    }
   ],
   "source": [
    "for i in a\n",
    "# a, b, c, d 차례로 돌아가며 값이 들어갔다 나온다. \n",
    "a = ['a', 'b', 'c', 'd']\n",
    "\n",
    "for w, i in enumerate(a)\n",
    "{0:'a', 1:'b', 2:'c', 3:'d'}"
   ]
  },
  {
   "cell_type": "code",
   "execution_count": 41,
   "id": "30aa09f3",
   "metadata": {},
   "outputs": [
    {
     "data": {
      "text/plain": [
       "[1, 1, 1, 1, 0, True, True, True, True, False]"
      ]
     },
     "execution_count": 41,
     "metadata": {},
     "output_type": "execute_result"
    }
   ],
   "source": [
    "for w, i in enumerate(a):\n",
    "    c.append(i == b[w])\n",
    "    # b의 w 번째 인덱스랑 i랑 비교\n",
    "    # c.append(int(a[w] == b[w]))\n",
    "c\n",
    "# 오류: [1, 1, 1, 1, 0, True, True, True, True, False] \n",
    "# -> c값을 초기화 하지 않아서.."
   ]
  },
  {
   "cell_type": "code",
   "execution_count": 40,
   "id": "e17bee84",
   "metadata": {},
   "outputs": [
    {
     "data": {
      "text/plain": [
       "True"
      ]
     },
     "execution_count": 40,
     "metadata": {},
     "output_type": "execute_result"
    }
   ],
   "source": [
    "False == 0"
   ]
  },
  {
   "cell_type": "code",
   "execution_count": 42,
   "id": "fb7bfa6e",
   "metadata": {},
   "outputs": [
    {
     "data": {
      "text/plain": [
       "[True, True, True, True, False]"
      ]
     },
     "execution_count": 42,
     "metadata": {},
     "output_type": "execute_result"
    }
   ],
   "source": [
    "a = [1, 2, 3, 4, 5]\n",
    "b = [1, 2, 3, 4, 6]\n",
    "c = []\n",
    "\n",
    "for i in range(len(a)):\n",
    "    c.append(a[i] == b[i])\n",
    "c"
   ]
  },
  {
   "cell_type": "code",
   "execution_count": 51,
   "id": "2de86bff",
   "metadata": {},
   "outputs": [
    {
     "data": {
      "text/plain": [
       "[1, 1, 1, 1, 1]"
      ]
     },
     "execution_count": 51,
     "metadata": {},
     "output_type": "execute_result"
    }
   ],
   "source": [
    "c = []\n",
    "for w, i in enumerate(a):\n",
    "    c.append(int(a[w] == b[w]))\n",
    "c"
   ]
  },
  {
   "cell_type": "code",
   "execution_count": 52,
   "id": "144f8240",
   "metadata": {},
   "outputs": [
    {
     "ename": "SyntaxError",
     "evalue": "closing parenthesis ']' does not match opening parenthesis '(' (3266852747.py, line 2)",
     "output_type": "error",
     "traceback": [
      "\u001b[1;36m  Input \u001b[1;32mIn [52]\u001b[1;36m\u001b[0m\n\u001b[1;33m    c = [int(a[w] == b[w] for w, i in enumerate(a)]\u001b[0m\n\u001b[1;37m                                                  ^\u001b[0m\n\u001b[1;31mSyntaxError\u001b[0m\u001b[1;31m:\u001b[0m closing parenthesis ']' does not match opening parenthesis '('\n"
     ]
    }
   ],
   "source": [
    "c = []\n",
    "c = [int(a[w] == b[w] for w, i in enumerate(a)]\n",
    "c"
   ]
  },
  {
   "cell_type": "code",
   "execution_count": 45,
   "id": "b5be71f8",
   "metadata": {},
   "outputs": [
    {
     "data": {
      "text/plain": [
       "[2, 3, 4, 5, 6]"
      ]
     },
     "execution_count": 45,
     "metadata": {},
     "output_type": "execute_result"
    }
   ],
   "source": [
    "a = [1, 2, 3, 4, 5]\n",
    "b = []\n",
    "\n",
    "for i in a:\n",
    "    b.append(i + 1)\n",
    "    # a값을 a+1로 치환하고 싶은 상황\n",
    "b"
   ]
  },
  {
   "cell_type": "code",
   "execution_count": 47,
   "id": "d18d57d1",
   "metadata": {},
   "outputs": [
    {
     "data": {
      "text/plain": [
       "[2, 3, 4, 5, 6]"
      ]
     },
     "execution_count": 47,
     "metadata": {},
     "output_type": "execute_result"
    }
   ],
   "source": [
    "a = [1, 2, 3, 4, 5]\n",
    "b = [i + 1 for i in a]\n",
    "\n",
    "b"
   ]
  },
  {
   "cell_type": "code",
   "execution_count": 50,
   "id": "06378664",
   "metadata": {},
   "outputs": [
    {
     "data": {
      "text/plain": [
       "[1, 4, 9, 16, 25]"
      ]
     },
     "execution_count": 50,
     "metadata": {},
     "output_type": "execute_result"
    }
   ],
   "source": [
    "a = [1, 2, 3, 4, 5]\n",
    "a = [i**2 for i in a]\n",
    "# 한 줄 for문 단점: 연산이 복잡해지면 쓰기 쉽지 않다.\n",
    "a"
   ]
  },
  {
   "cell_type": "code",
   "execution_count": null,
   "id": "a944acc9",
   "metadata": {},
   "outputs": [],
   "source": []
  }
 ],
 "metadata": {
  "kernelspec": {
   "display_name": "Python 3 (ipykernel)",
   "language": "python",
   "name": "python3"
  },
  "language_info": {
   "codemirror_mode": {
    "name": "ipython",
    "version": 3
   },
   "file_extension": ".py",
   "mimetype": "text/x-python",
   "name": "python",
   "nbconvert_exporter": "python",
   "pygments_lexer": "ipython3",
   "version": "3.9.12"
  }
 },
 "nbformat": 4,
 "nbformat_minor": 5
}
