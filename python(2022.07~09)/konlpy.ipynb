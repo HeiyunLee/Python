{
 "cells": [
  {
   "cell_type": "code",
   "execution_count": 1,
   "id": "06832f6a",
   "metadata": {},
   "outputs": [],
   "source": [
    "from konlpy.tag import Okt\n",
    "okt=Okt()"
   ]
  },
  {
   "cell_type": "code",
   "execution_count": 2,
   "id": "7d950789",
   "metadata": {},
   "outputs": [
    {
     "data": {
      "text/plain": [
       "['설치', '가', '잘', '되었는지', '확인', '해봅시다', '.']"
      ]
     },
     "execution_count": 2,
     "metadata": {},
     "output_type": "execute_result"
    }
   ],
   "source": [
    "okt.morphs(\"설치가 잘 되었는지 확인해봅시다.\")\n",
    "# 모든 형태소 분석기 사용 전에 okt 선언을 한다."
   ]
  },
  {
   "cell_type": "code",
   "execution_count": 3,
   "id": "b3db04ee",
   "metadata": {},
   "outputs": [],
   "source": [
    "text = '나는 오늘 친구와 영화를 볼 계획이다.'"
   ]
  },
  {
   "cell_type": "code",
   "execution_count": 4,
   "id": "e46330d9",
   "metadata": {},
   "outputs": [
    {
     "data": {
      "text/plain": [
       "['나', '는', '오늘', '친구', '와', '영화', '를', '볼', '계획', '이다', '.']"
      ]
     },
     "execution_count": 4,
     "metadata": {},
     "output_type": "execute_result"
    }
   ],
   "source": [
    "okt.morphs(text)"
   ]
  },
  {
   "cell_type": "code",
   "execution_count": 5,
   "id": "cb32b17a",
   "metadata": {},
   "outputs": [
    {
     "data": {
      "text/plain": [
       "[('나', 'Noun'),\n",
       " ('는', 'Josa'),\n",
       " ('오늘', 'Noun'),\n",
       " ('친구', 'Noun'),\n",
       " ('와', 'Josa'),\n",
       " ('영화', 'Noun'),\n",
       " ('를', 'Josa'),\n",
       " ('볼', 'Noun'),\n",
       " ('계획', 'Noun'),\n",
       " ('이다', 'Josa'),\n",
       " ('.', 'Punctuation')]"
      ]
     },
     "execution_count": 5,
     "metadata": {},
     "output_type": "execute_result"
    }
   ],
   "source": [
    "okt.pos(text)"
   ]
  },
  {
   "cell_type": "code",
   "execution_count": 6,
   "id": "c60af508",
   "metadata": {
    "scrolled": true
   },
   "outputs": [
    {
     "data": {
      "text/plain": [
       "['나', '오늘', '친구', '영화', '볼', '계획']"
      ]
     },
     "execution_count": 6,
     "metadata": {},
     "output_type": "execute_result"
    }
   ],
   "source": [
    "okt.nouns(text)"
   ]
  },
  {
   "cell_type": "code",
   "execution_count": 7,
   "id": "013f0edc",
   "metadata": {},
   "outputs": [],
   "source": [
    "text = '나 오늘 끝나고 친구랑 저녁 맛있는거 먹을꺼얔ㅋㅋㅋ'"
   ]
  },
  {
   "cell_type": "code",
   "execution_count": 8,
   "id": "7ae7fadf",
   "metadata": {},
   "outputs": [
    {
     "data": {
      "text/plain": [
       "['나', '오늘', '끝나고', '친구', '랑', '저녁', '맛있는거', '먹을꺼야', 'ㅋㅋㅋ']"
      ]
     },
     "execution_count": 8,
     "metadata": {},
     "output_type": "execute_result"
    }
   ],
   "source": [
    "okt.morphs(text, norm = True)\n",
    "# 문장의 정규화\n",
    "# 100% 정규화되는 것은 아님."
   ]
  },
  {
   "cell_type": "code",
   "execution_count": 9,
   "id": "19ebc3f4",
   "metadata": {},
   "outputs": [
    {
     "data": {
      "text/plain": [
       "['나', '오늘', '끝나다', '친구', '랑', '저녁', '맛있다', '먹다', '얔', 'ㅋㅋㅋ']"
      ]
     },
     "execution_count": 9,
     "metadata": {},
     "output_type": "execute_result"
    }
   ],
   "source": [
    "okt.morphs(text, stem=True)\n",
    "# stem = True -> 어간화(?)"
   ]
  },
  {
   "cell_type": "code",
   "execution_count": 10,
   "id": "461d6e25",
   "metadata": {},
   "outputs": [
    {
     "data": {
      "text/plain": [
       "['나', '오늘', '끝나다', '친구', '랑', '저녁', '맛있다', '먹다', 'ㅋㅋㅋ']"
      ]
     },
     "execution_count": 10,
     "metadata": {},
     "output_type": "execute_result"
    }
   ],
   "source": [
    "okt.morphs(text, stem=True, norm = True)\n",
    "# 어간화와 정규화 동시에 적용 가능."
   ]
  },
  {
   "cell_type": "code",
   "execution_count": 11,
   "id": "5c36176b",
   "metadata": {},
   "outputs": [],
   "source": [
    "from konlpy.tag import Hannanum\n",
    "hannanum = Hannanum()"
   ]
  },
  {
   "cell_type": "code",
   "execution_count": 12,
   "id": "0dfca239",
   "metadata": {},
   "outputs": [
    {
     "data": {
      "text/plain": [
       "['설치', '가', '잘', '되', '었는지', '확인', '하', '어', '보', 'ㅂ시다', '.']"
      ]
     },
     "execution_count": 12,
     "metadata": {},
     "output_type": "execute_result"
    }
   ],
   "source": [
    "hannanum.morphs('설치가 잘 되었는지 확인해 봅시다.')"
   ]
  },
  {
   "cell_type": "code",
   "execution_count": 13,
   "id": "61f1171b",
   "metadata": {},
   "outputs": [],
   "source": [
    "text1 = '나 오늘 친구랑 저녁 맛있는거 먹을꺼얔ㅋㅋㅋ'"
   ]
  },
  {
   "cell_type": "code",
   "execution_count": 14,
   "id": "aba8ba7c",
   "metadata": {
    "scrolled": true
   },
   "outputs": [
    {
     "data": {
      "text/plain": [
       "['나', '오늘', '친구', '랑', '저녁', '맛있는거', '먹을꺼얔ㅋㅋㅋ']"
      ]
     },
     "execution_count": 14,
     "metadata": {},
     "output_type": "execute_result"
    }
   ],
   "source": [
    "hannanum.morphs(text1)"
   ]
  },
  {
   "cell_type": "code",
   "execution_count": 15,
   "id": "40baaeaa",
   "metadata": {},
   "outputs": [
    {
     "data": {
      "text/plain": [
       "['나', '오늘', '친구', '저녁', '맛있는거', '먹을꺼얔ㅋㅋㅋ']"
      ]
     },
     "execution_count": 15,
     "metadata": {},
     "output_type": "execute_result"
    }
   ],
   "source": [
    "hannanum.nouns(text1)"
   ]
  },
  {
   "cell_type": "code",
   "execution_count": 16,
   "id": "3ccd21f5",
   "metadata": {},
   "outputs": [
    {
     "data": {
      "text/plain": [
       "[('나', 'N'),\n",
       " ('오늘', 'N'),\n",
       " ('친구', 'N'),\n",
       " ('랑', 'J'),\n",
       " ('저녁', 'N'),\n",
       " ('맛있는거', 'N'),\n",
       " ('먹을꺼얔ㅋㅋㅋ', 'N')]"
      ]
     },
     "execution_count": 16,
     "metadata": {},
     "output_type": "execute_result"
    }
   ],
   "source": [
    "hannanum.pos(text1)"
   ]
  },
  {
   "cell_type": "code",
   "execution_count": 18,
   "id": "883cba42",
   "metadata": {},
   "outputs": [
    {
     "ename": "TypeError",
     "evalue": "morphs() got an unexpected keyword argument 'norm'",
     "output_type": "error",
     "traceback": [
      "\u001b[1;31m---------------------------------------------------------------------------\u001b[0m",
      "\u001b[1;31mTypeError\u001b[0m                                 Traceback (most recent call last)",
      "Input \u001b[1;32mIn [18]\u001b[0m, in \u001b[0;36m<cell line: 1>\u001b[1;34m()\u001b[0m\n\u001b[1;32m----> 1\u001b[0m \u001b[43mhannanum\u001b[49m\u001b[38;5;241;43m.\u001b[39;49m\u001b[43mmorphs\u001b[49m\u001b[43m(\u001b[49m\u001b[43mtext\u001b[49m\u001b[43m,\u001b[49m\u001b[43m \u001b[49m\u001b[43mnorm\u001b[49m\u001b[43m \u001b[49m\u001b[38;5;241;43m=\u001b[39;49m\u001b[43m \u001b[49m\u001b[38;5;28;43;01mFalse\u001b[39;49;00m\u001b[43m)\u001b[49m\n",
      "\u001b[1;31mTypeError\u001b[0m: morphs() got an unexpected keyword argument 'norm'"
     ]
    }
   ],
   "source": [
    "hannanum.morphs(text, norm = False)"
   ]
  },
  {
   "cell_type": "code",
   "execution_count": null,
   "id": "6bbb1998",
   "metadata": {},
   "outputs": [],
   "source": [
    "hannanum.morphs(text, stem = True)"
   ]
  },
  {
   "cell_type": "code",
   "execution_count": null,
   "id": "1497ee5c",
   "metadata": {},
   "outputs": [],
   "source": [
    "from konlpy.tag import Komoran\n",
    "komoran = Komoran()"
   ]
  },
  {
   "cell_type": "code",
   "execution_count": null,
   "id": "d382fe6b",
   "metadata": {},
   "outputs": [],
   "source": []
  },
  {
   "cell_type": "code",
   "execution_count": null,
   "id": "27ad82eb",
   "metadata": {},
   "outputs": [],
   "source": [
    "text, "
   ]
  },
  {
   "cell_type": "code",
   "execution_count": null,
   "id": "685d183d",
   "metadata": {},
   "outputs": [],
   "source": [
    "okt.pos(text)[0]"
   ]
  },
  {
   "cell_type": "code",
   "execution_count": null,
   "id": "8c5d72d5",
   "metadata": {},
   "outputs": [],
   "source": [
    "okt.pos(text)[0][1]"
   ]
  },
  {
   "cell_type": "code",
   "execution_count": null,
   "id": "3dc196cc",
   "metadata": {},
   "outputs": [],
   "source": [
    "pos_word = okt.pos(text, stem=True, norm=True)\n",
    "pos_word"
   ]
  },
  {
   "cell_type": "code",
   "execution_count": null,
   "id": "06de2707",
   "metadata": {},
   "outputs": [],
   "source": [
    "pos_word = okt.pos(text, stem=True, norm=True)\n",
    "\n",
    "stopwords=['나', '이다']\n",
    "# 불용어는 한국어를 지원하지 않아서 따로 지정해야 한다.\n",
    "\n",
    "word_list = []\n",
    "for word, tag in pos_word:\n",
    "    # i에는 '나', j에는 noun이 들어가게 된다..?\n",
    "    if tag in ['Verb', 'Noun']:\n",
    "        if word not in stopwords:\n",
    "            word_list.append(word)"
   ]
  },
  {
   "cell_type": "code",
   "execution_count": null,
   "id": "371a46a5",
   "metadata": {},
   "outputs": [],
   "source": [
    "word_list"
   ]
  },
  {
   "cell_type": "code",
   "execution_count": null,
   "id": "f18a405f",
   "metadata": {},
   "outputs": [],
   "source": [
    "def extract_pos():\n",
    "    pos_word = okt.pos(text, stem = True, norm = True)\n",
    "    \n",
    "    stopwords=['나', '이다']\n",
    "\n",
    "    word_list = []\n",
    "    for word, tag in pos_word:\n",
    "        if tag in ['Verb', 'Noun']:\n",
    "            if word not in stopwords:\n",
    "                word_list.append(word)\n",
    "    return word_list"
   ]
  },
  {
   "cell_type": "code",
   "execution_count": null,
   "id": "71bbf186",
   "metadata": {},
   "outputs": [],
   "source": [
    "string = '나 오늘 끝나고 저녁 맛있는거 먹을꺼얔ㅋㅋㅋ'"
   ]
  },
  {
   "cell_type": "code",
   "execution_count": null,
   "id": "ddc2797c",
   "metadata": {},
   "outputs": [],
   "source": [
    "extract_pos()\n",
    "# 파라미터 없이 출력 명령하기."
   ]
  },
  {
   "cell_type": "code",
   "execution_count": null,
   "id": "e5e77485",
   "metadata": {},
   "outputs": [],
   "source": [
    "!pip install nltk"
   ]
  },
  {
   "cell_type": "code",
   "execution_count": null,
   "id": "079e1745",
   "metadata": {},
   "outputs": [],
   "source": [
    "import nltk\n",
    "from nltk import pos_tag"
   ]
  },
  {
   "cell_type": "code",
   "execution_count": null,
   "id": "e9a7fbf8",
   "metadata": {
    "scrolled": true
   },
   "outputs": [],
   "source": [
    "# import nltk\n",
    "# nltk.download()"
   ]
  },
  {
   "cell_type": "code",
   "execution_count": null,
   "id": "510da8b9",
   "metadata": {},
   "outputs": [],
   "source": [
    "nltk.download('punkt')"
   ]
  },
  {
   "cell_type": "code",
   "execution_count": null,
   "id": "934320da",
   "metadata": {},
   "outputs": [],
   "source": [
    "nltk.download('stopwords')"
   ]
  },
  {
   "cell_type": "code",
   "execution_count": null,
   "id": "f4517532",
   "metadata": {},
   "outputs": [],
   "source": []
  },
  {
   "cell_type": "code",
   "execution_count": null,
   "id": "6fe9d929",
   "metadata": {},
   "outputs": [],
   "source": [
    "text = 'The little yellow dog barked at the Parsian cat which lives in Korea.'"
   ]
  },
  {
   "cell_type": "code",
   "execution_count": null,
   "id": "25affbb1",
   "metadata": {},
   "outputs": [],
   "source": [
    "nltk.word_tokenize(text)"
   ]
  },
  {
   "cell_type": "code",
   "execution_count": null,
   "id": "8a1302b8",
   "metadata": {},
   "outputs": [],
   "source": [
    "split_text = nltk.word_tokenize(text)\n",
    "tagged_text = nltk.pos_tag(split_text)"
   ]
  },
  {
   "cell_type": "code",
   "execution_count": null,
   "id": "dce5b35e",
   "metadata": {},
   "outputs": [],
   "source": [
    "split_text"
   ]
  },
  {
   "cell_type": "code",
   "execution_count": null,
   "id": "edf544d2",
   "metadata": {},
   "outputs": [],
   "source": [
    "tagged_text"
   ]
  },
  {
   "cell_type": "code",
   "execution_count": null,
   "id": "3e17f914",
   "metadata": {
    "scrolled": true
   },
   "outputs": [],
   "source": [
    "stopwords = nltk.corpus.stopwords.words('english')\n",
    "stopwords\n",
    "# 불용어 불러오기\n",
    "# error: 스탑워드스 뒤에 워드스 뺴먹음.\n",
    "# stopwords, words 모두 지정된 명령어"
   ]
  },
  {
   "cell_type": "code",
   "execution_count": null,
   "id": "462e1984",
   "metadata": {},
   "outputs": [],
   "source": [
    "text"
   ]
  },
  {
   "cell_type": "code",
   "execution_count": null,
   "id": "e62a8ea1",
   "metadata": {},
   "outputs": [],
   "source": [
    "text.lower()"
   ]
  },
  {
   "cell_type": "code",
   "execution_count": null,
   "id": "1d305cc5",
   "metadata": {},
   "outputs": [],
   "source": [
    "srting = 'The little yellow dog barked at the Parsian cat.'"
   ]
  },
  {
   "cell_type": "code",
   "execution_count": null,
   "id": "4494ec30",
   "metadata": {},
   "outputs": [],
   "source": [
    "def extract_english(text):\n",
    "    text = text.lower()\n",
    "    text = nltk.word_tokenize(text)\n",
    "    text = nltk.pos_tag(text)\n",
    "\n",
    "    word_list = []\n",
    "    for word, tag in text:\n",
    "        if tag in ['NN', 'NNS', \"NNP\"]:\n",
    "            if word not in stopwords:\n",
    "                word_list.append(word)\n",
    "    return word_list"
   ]
  },
  {
   "cell_type": "code",
   "execution_count": null,
   "id": "a1897b3e",
   "metadata": {
    "scrolled": true
   },
   "outputs": [],
   "source": [
    "extract_english(srting)"
   ]
  },
  {
   "cell_type": "code",
   "execution_count": null,
   "id": "24609fd9",
   "metadata": {},
   "outputs": [],
   "source": [
    "data = extract_english(srting)\n",
    "data"
   ]
  },
  {
   "cell_type": "code",
   "execution_count": null,
   "id": "a06acba5",
   "metadata": {},
   "outputs": [],
   "source": [
    "import pickle"
   ]
  },
  {
   "cell_type": "code",
   "execution_count": null,
   "id": "f7c5bad7",
   "metadata": {},
   "outputs": [],
   "source": [
    "with open('save_data.pkl', 'wb') as file:\n",
    "    pickle.dump(data, file)"
   ]
  },
  {
   "cell_type": "code",
   "execution_count": null,
   "id": "07f6ad0e",
   "metadata": {},
   "outputs": [],
   "source": [
    "with open('save_data.pkl', 'rb') as file:\n",
    "    data2 = pickle.load(file)\n",
    "# 피클을 이용해 저장한 파일은 파일 자체를 열 수는 없고 주피터를 사용해 불러올 수 있다."
   ]
  },
  {
   "cell_type": "code",
   "execution_count": null,
   "id": "cde6ee9f",
   "metadata": {},
   "outputs": [],
   "source": [
    "data2"
   ]
  },
  {
   "cell_type": "code",
   "execution_count": null,
   "id": "52e33fc3",
   "metadata": {},
   "outputs": [],
   "source": [
    "!pip install wordcloud"
   ]
  },
  {
   "cell_type": "code",
   "execution_count": null,
   "id": "7a2d3a6a",
   "metadata": {},
   "outputs": [],
   "source": [
    "from wordcloud import WordCloud\n",
    "from collections import Counter\n",
    "import matplotlib.pyplot as plt\n",
    "\n",
    "# 위 세 가지가 있어야 워드 클라우스 생성 가능."
   ]
  },
  {
   "cell_type": "code",
   "execution_count": null,
   "id": "3ebf5db9",
   "metadata": {},
   "outputs": [],
   "source": [
    "text = \"집중호우 피해에 대응하기 위해 한주 미뤘던 윤석열 정부의 첫 주택 공급대책이 16일 발표된다. 정부는 이날 오전 정부서울청사에서 국토교통부와 기획재정부 등이 참여하는 부동산 관계 장관 회의를 열어 핵심 주택 정책인 '250만호+α(알파)' 공급대책을 확정한 뒤 브리핑을 통해 발표할 예정이다.이번 공급대책은 민간의 재개발·재건축 등 정비사업을 활성화해 서울을 비롯한 수도권의 주택 공급을 확대하는 데 방점이 찍힌 것으로 알려졌다. 직전 정부가 신도시와 공공택지 등 수도권 외곽을 중심으로 공급 계획을 마련했다면 현 정부는 수요가 밀집된 도심의 규제를 완화해 주택공급을 확대하는 '공급 패러다임'의 전환을 예고한 바 있다. 이를 위해 역세권 등지를 중심으로 용적률을 500% 이상으로 높여 공급물량을 확대하고, 정비사업에 '통합심의'를 도입해 공급 절차를 간소화하는 방안 등이 검토된 것으로 전해졌다. 대선 공약으로 제시된 청년 원가 주택과 역세권 첫 집 주택 공급 방안도 이번 대책에서 함께 공개될 것으로 보인다. 아울러 도심에 대한 주택공급을 신속히 진행하기 위해 공공이 아닌 민간 주도의 주택사업에도 각종 특례를 부여하는 '민간제안 도심복합 사업' 도입 방안도 발표될 전망이다. 민간 부문에서 재건축 사업의 가장 큰 걸림돌로 지적되는 재건축 초과이익환수제(재초환) 개선 등 재건축·재개발 규제 개선안도 이번 대책에 담긴 것으로 알려졌다. 특히 가구당 적게는 수천만원, 많게는 수억원에 달하는 재초환 부담금을 낮춰주기 위해 현행 3천만원 이하인 재건축 부담금 면제 기준을 1억원으로 상향 조정해 면제 대상을 확대하고, 또 3천만원 초과부터 초과이익 구간별로 10%부터 최대 50%인 현재의 부과율을 낮추는 방안이 유력하게 검토된 것으로 전해졌다. 집값 상승에 대한 우려로 내년 이후로 늦춰질 것으로 예상됐던 재건축 안전진단 규제 완화 계획도 이번 공급대책에 포함될 전망이다. 윤석열 대통령은 대선 공약에서 현재 안전진단 통과의 가장 큰 걸림돌로 꼽히는 구조안전성 비중을 현행 50%에서 30%로 낮추는 반면 주거환경 비중은 15%에서 30%로, 건축 마감·설비 노후도는 25%에서 30%로 각각 높이는 방안을 제시한 바 있다.\"\n",
    "text"
   ]
  },
  {
   "cell_type": "code",
   "execution_count": null,
   "id": "3396aa30",
   "metadata": {},
   "outputs": [],
   "source": [
    "from konlpy.tag import Okt"
   ]
  },
  {
   "cell_type": "code",
   "execution_count": null,
   "id": "3171db23",
   "metadata": {},
   "outputs": [],
   "source": [
    "def extract_pos(text):\n",
    "    pos_word = okt.pos(text, stem = True, norm = True)\n",
    "    \n",
    "    stopwords=['하다', '위해', '날', '인', '도', '로', '것', '등', '또','되다']\n",
    "\n",
    "    word_list = []\n",
    "    for word, tag in pos_word:\n",
    "        if tag in ['Verb', 'Noun']:\n",
    "            if word not in stopwords:\n",
    "                word_list.append(word)\n",
    "    return word_list"
   ]
  },
  {
   "cell_type": "code",
   "execution_count": null,
   "id": "8da27fb2",
   "metadata": {},
   "outputs": [],
   "source": [
    "result = extract_pos(text)"
   ]
  },
  {
   "cell_type": "code",
   "execution_count": null,
   "id": "fbbbf5b6",
   "metadata": {},
   "outputs": [],
   "source": [
    "result"
   ]
  },
  {
   "cell_type": "code",
   "execution_count": null,
   "id": "ac43f8f3",
   "metadata": {},
   "outputs": [],
   "source": [
    "count = Counter(result)\n",
    "count"
   ]
  },
  {
   "cell_type": "code",
   "execution_count": null,
   "id": "ffa38946",
   "metadata": {},
   "outputs": [],
   "source": [
    "# count.most_common(100)\n",
    "# 전체를 기준으로 단어를 뽑아서 실컷 지운 단어를 다시 포함시킴."
   ]
  },
  {
   "cell_type": "code",
   "execution_count": null,
   "id": "0d620d6d",
   "metadata": {},
   "outputs": [],
   "source": [
    "wordcloud = WordCloud(font_path = 'C:\\Windows\\Fonts\\gulim.ttc',\n",
    "                     width = 700,\n",
    "                     height = 700,\n",
    "                     background_color = 'white',\n",
    "                     colormap = 'winter',\n",
    "                     random_state = 1).generate_from_frequencies(count)"
   ]
  },
  {
   "cell_type": "code",
   "execution_count": null,
   "id": "764120c1",
   "metadata": {},
   "outputs": [],
   "source": [
    "plt.figure(figsize = (10,10))\n",
    "plt.imshow(wordcloud)\n",
    "plt.axis(\"off\")\n",
    "plt.title(\"Word Frequency\", size = 20)\n",
    "plt.show"
   ]
  },
  {
   "cell_type": "code",
   "execution_count": null,
   "id": "fa691b2b",
   "metadata": {},
   "outputs": [],
   "source": [
    "from PIL import Image\n",
    "import numpy as np"
   ]
  },
  {
   "cell_type": "code",
   "execution_count": null,
   "id": "1d0c387c",
   "metadata": {},
   "outputs": [],
   "source": [
    "mask_image = np.array(Image.open(r\"C:\\Users\\user\\Downloads\\죠르디이미지.jpg\"))\n",
    "mask_image"
   ]
  },
  {
   "cell_type": "code",
   "execution_count": null,
   "id": "b151932f",
   "metadata": {},
   "outputs": [],
   "source": [
    "wordcloud = WordCloud(font_path = 'C:\\Windows\\Fonts\\gulim.ttc',\n",
    "                     width = 400,\n",
    "                     height = 400,\n",
    "                     background_color = 'white',\n",
    "                     colormap = 'winter',\n",
    "                     mask = mask_image,\n",
    "                     random_state = 1).generate_from_frequencies(count)"
   ]
  },
  {
   "cell_type": "code",
   "execution_count": null,
   "id": "2483df9d",
   "metadata": {
    "scrolled": true
   },
   "outputs": [],
   "source": [
    "plt.figure(figsize = (10,10))\n",
    "plt.imshow(wordcloud)\n",
    "plt.axis(\"off\")\n",
    "plt.title(\"Word Frequency\", size = 20)\n",
    "plt.show\n",
    "# 그림 모양대로 뽑을 때 배경 흰 색인 이미지로 넣어야 인식함."
   ]
  },
  {
   "cell_type": "code",
   "execution_count": null,
   "id": "1d5cf56c",
   "metadata": {},
   "outputs": [],
   "source": []
  },
  {
   "cell_type": "code",
   "execution_count": null,
   "id": "9828146f",
   "metadata": {},
   "outputs": [],
   "source": [
    "!pip install selenium==3.141.0"
   ]
  },
  {
   "cell_type": "code",
   "execution_count": null,
   "id": "99869751",
   "metadata": {},
   "outputs": [],
   "source": [
    "!pip install webdriver_manager"
   ]
  },
  {
   "cell_type": "code",
   "execution_count": null,
   "id": "e8e8418c",
   "metadata": {},
   "outputs": [],
   "source": [
    "from selenium import webdriver\n",
    "from selenium.webdriver.common.keys import Keys\n",
    "import time\n",
    "from bs4 import BeautifulSoup as bs\n",
    "from webdriver_manager.chrome import ChromeDriverManager"
   ]
  },
  {
   "cell_type": "code",
   "execution_count": null,
   "id": "599b2861",
   "metadata": {
    "scrolled": true
   },
   "outputs": [],
   "source": [
    "driver = webdriver.Chrome(ChromeDriverManager().install())"
   ]
  },
  {
   "cell_type": "code",
   "execution_count": null,
   "id": "913c6faa",
   "metadata": {},
   "outputs": [],
   "source": [
    "driver.get('https://news.sbs.co.kr/news/newsflash.do?plink=GNB&cooper=SBSNEWS')"
   ]
  },
  {
   "cell_type": "code",
   "execution_count": null,
   "id": "f6f09b2a",
   "metadata": {},
   "outputs": [],
   "source": [
    "soup = bs(driver.page_source, 'lxml')"
   ]
  },
  {
   "cell_type": "code",
   "execution_count": null,
   "id": "255437dc",
   "metadata": {},
   "outputs": [],
   "source": [
    "news = soup.select('a.news')"
   ]
  },
  {
   "cell_type": "code",
   "execution_count": null,
   "id": "62337e0f",
   "metadata": {},
   "outputs": [],
   "source": [
    "urls = []\n",
    "for i in news:\n",
    "    urls.append('https://news.sbs.co.kr'+i['href'])"
   ]
  },
  {
   "cell_type": "code",
   "execution_count": null,
   "id": "cd09e2a8",
   "metadata": {
    "scrolled": true
   },
   "outputs": [],
   "source": [
    "urls"
   ]
  },
  {
   "cell_type": "code",
   "execution_count": null,
   "id": "3556081b",
   "metadata": {},
   "outputs": [],
   "source": [
    "import time"
   ]
  },
  {
   "cell_type": "code",
   "execution_count": null,
   "id": "3a187486",
   "metadata": {},
   "outputs": [],
   "source": [
    "driver.get('https://news.sbs.co.kr/news/endPage.do?news_id=N1006861647')\n",
    "time.sleep(1)\n",
    "soup = bs(driver.page_source, 'lxml')\n",
    "article = soup.select('div.text_area')\n",
    "article"
   ]
  },
  {
   "cell_type": "code",
   "execution_count": null,
   "id": "68500e80",
   "metadata": {},
   "outputs": [],
   "source": [
    "article_list = []\n",
    "\n",
    "for url in urls:\n",
    "    driver.get(url)\n",
    "    time.sleep(1)\n",
    "    soup = bs(driver.page_source, 'lxml')\n",
    "    article = soup.select('div.text_area')\n",
    "    article = article[0].text.replace('\\n', '')\n",
    "    article_list.append(article)"
   ]
  },
  {
   "cell_type": "code",
   "execution_count": null,
   "id": "03ec02ae",
   "metadata": {},
   "outputs": [],
   "source": [
    "article_list[0]"
   ]
  },
  {
   "cell_type": "code",
   "execution_count": null,
   "id": "bc6a44da",
   "metadata": {},
   "outputs": [],
   "source": [
    "total_string=' '.join(article_list)\n",
    "total_string\n",
    "# 띄어쓰기를 기준으로 모두 포스태깅"
   ]
  },
  {
   "cell_type": "code",
   "execution_count": null,
   "id": "6ae68c24",
   "metadata": {},
   "outputs": [],
   "source": [
    "# 클라우드 만들기"
   ]
  },
  {
   "cell_type": "code",
   "execution_count": null,
   "id": "1298c2c4",
   "metadata": {},
   "outputs": [],
   "source": []
  }
 ],
 "metadata": {
  "kernelspec": {
   "display_name": "Python 3 (ipykernel)",
   "language": "python",
   "name": "python3"
  },
  "language_info": {
   "codemirror_mode": {
    "name": "ipython",
    "version": 3
   },
   "file_extension": ".py",
   "mimetype": "text/x-python",
   "name": "python",
   "nbconvert_exporter": "python",
   "pygments_lexer": "ipython3",
   "version": "3.9.12"
  }
 },
 "nbformat": 4,
 "nbformat_minor": 5
}
