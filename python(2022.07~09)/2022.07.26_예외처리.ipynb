{
 "cells": [
  {
   "cell_type": "markdown",
   "id": "aace82a6",
   "metadata": {},
   "source": [
    "### 예외처리"
   ]
  },
  {
   "cell_type": "markdown",
   "id": "b74ce0e5",
   "metadata": {},
   "source": [
    "1. try, except\n",
    "2. raise Exception\n",
    "3. except Exception as e"
   ]
  },
  {
   "cell_type": "code",
   "execution_count": 1,
   "id": "cecc28f4",
   "metadata": {},
   "outputs": [
    {
     "ename": "IndentationError",
     "evalue": "expected an indented block (1995155994.py, line 2)",
     "output_type": "error",
     "traceback": [
      "\u001b[1;36m  Input \u001b[1;32mIn [1]\u001b[1;36m\u001b[0m\n\u001b[1;33m    # 오류가 날 수도 있는데 한 번 해봐\u001b[0m\n\u001b[1;37m                         ^\u001b[0m\n\u001b[1;31mIndentationError\u001b[0m\u001b[1;31m:\u001b[0m expected an indented block\n"
     ]
    }
   ],
   "source": [
    "try:\n",
    "    # 오류가 날 수도 있는데 한 번 해봐"
   ]
  },
  {
   "cell_type": "markdown",
   "id": "ae27f45f",
   "metadata": {},
   "source": [
    "## 1. try, except"
   ]
  },
  {
   "cell_type": "code",
   "execution_count": 3,
   "id": "2a5c69a2",
   "metadata": {},
   "outputs": [
    {
     "name": "stdout",
     "output_type": "stream",
     "text": [
      "-0.14285714285714285\n",
      "-0.16666666666666666\n",
      "-0.2\n",
      "-0.25\n",
      "-0.3333333333333333\n",
      "-0.5\n",
      "-1.0\n",
      "7번 째 반복에서 오류 발생. 확인해.\n",
      "1.0\n",
      "0.5\n"
     ]
    }
   ],
   "source": [
    "for i in range(10):\n",
    "    try:\n",
    "        print(1/(i-7))\n",
    "    except:\n",
    "        print(\"{}번 째 반복에서 오류 발생. 확인해.\".format(i))"
   ]
  },
  {
   "cell_type": "markdown",
   "id": "f69bd0e6",
   "metadata": {},
   "source": [
    "## 2. raise Exception"
   ]
  },
  {
   "cell_type": "code",
   "execution_count": 5,
   "id": "53c805aa",
   "metadata": {},
   "outputs": [
    {
     "name": "stdout",
     "output_type": "stream",
     "text": [
      "30의 배수 입력: 22\n"
     ]
    },
    {
     "ename": "Exception",
     "evalue": "30의 배수를 입력하라니깐..",
     "output_type": "error",
     "traceback": [
      "\u001b[1;31m---------------------------------------------------------------------------\u001b[0m",
      "\u001b[1;31mException\u001b[0m                                 Traceback (most recent call last)",
      "Input \u001b[1;32mIn [5]\u001b[0m, in \u001b[0;36m<cell line: 2>\u001b[1;34m()\u001b[0m\n\u001b[0;32m      1\u001b[0m a \u001b[38;5;241m=\u001b[39m \u001b[38;5;28mint\u001b[39m(\u001b[38;5;28minput\u001b[39m(\u001b[38;5;124m\"\u001b[39m\u001b[38;5;124m30의 배수 입력: \u001b[39m\u001b[38;5;124m\"\u001b[39m))\n\u001b[0;32m      2\u001b[0m \u001b[38;5;28;01mif\u001b[39;00m a\u001b[38;5;241m%\u001b[39m\u001b[38;5;241m30\u001b[39m \u001b[38;5;241m!=\u001b[39m \u001b[38;5;241m0\u001b[39m:\n\u001b[1;32m----> 3\u001b[0m     \u001b[38;5;28;01mraise\u001b[39;00m \u001b[38;5;167;01mException\u001b[39;00m(\u001b[38;5;124m\"\u001b[39m\u001b[38;5;124m30의 배수를 입력하라니깐..\u001b[39m\u001b[38;5;124m\"\u001b[39m)\n\u001b[0;32m      4\u001b[0m \u001b[38;5;28;01melse\u001b[39;00m:\n\u001b[0;32m      5\u001b[0m     \u001b[38;5;28;01mpass\u001b[39;00m\n",
      "\u001b[1;31mException\u001b[0m: 30의 배수를 입력하라니깐.."
     ]
    }
   ],
   "source": [
    "a = int(input(\"30의 배수 입력: \"))\n",
    "if a%30 != 0:\n",
    "    raise Exception(\"30의 배수를 입력하라니깐..\")\n",
    "else:\n",
    "    pass"
   ]
  },
  {
   "cell_type": "markdown",
   "id": "521eed5a",
   "metadata": {},
   "source": [
    "## 3. except Exception as e"
   ]
  },
  {
   "cell_type": "code",
   "execution_count": 7,
   "id": "db3da6a5",
   "metadata": {},
   "outputs": [
    {
     "name": "stdout",
     "output_type": "stream",
     "text": [
      "30의 배수 입력: dskdk\n",
      "30의 배수를 입력하라니깐.. invalid literal for int() with base 10: 'dskdk'\n",
      "3\n"
     ]
    }
   ],
   "source": [
    "try:\n",
    "    a = int(input(\"30의 배수 입력: \"))\n",
    "    print(a)\n",
    "except Exception as e:\n",
    "    # 그냥 except만 쓰는거랑 같음,,,만약 print를 하지 않고 pass르르 하면...\n",
    "    print(\"30의 배수를 입력하라니깐..\", e)\n",
    "    \n",
    "print(1 + 2)"
   ]
  },
  {
   "cell_type": "code",
   "execution_count": 10,
   "id": "9df7eba0",
   "metadata": {},
   "outputs": [
    {
     "data": {
      "text/plain": [
       "dict"
      ]
     },
     "execution_count": 10,
     "metadata": {},
     "output_type": "execute_result"
    }
   ],
   "source": [
    "d = {\"key\" : \"value\"}\n",
    "type(d)"
   ]
  },
  {
   "cell_type": "markdown",
   "id": "945b219d",
   "metadata": {},
   "source": [
    "## dictionary사용\n",
    "- key는 중복될 수 없다. \n",
    "- key는 수정x, value는 수정 가능.\n",
    "- key의 순서는 중요하지 않지만, value의 순서는 중요.\n",
    "- 슬라이싱 잘 안됨.\n"
   ]
  },
  {
   "cell_type": "markdown",
   "id": "07a4d5b6",
   "metadata": {},
   "source": [
    "### 출석부를 만들어 보자"
   ]
  },
  {
   "cell_type": "code",
   "execution_count": 11,
   "id": "1f20d5f5",
   "metadata": {},
   "outputs": [],
   "source": [
    "csb = {\"name\":[\"홍길동\",\"김철수\",\"김영희\"], \"성별\": [\"male\", \"male\", \"female\"]}"
   ]
  },
  {
   "cell_type": "code",
   "execution_count": 12,
   "id": "d36d3f53",
   "metadata": {},
   "outputs": [
    {
     "ename": "KeyError",
     "evalue": "0",
     "output_type": "error",
     "traceback": [
      "\u001b[1;31m---------------------------------------------------------------------------\u001b[0m",
      "\u001b[1;31mKeyError\u001b[0m                                  Traceback (most recent call last)",
      "Input \u001b[1;32mIn [12]\u001b[0m, in \u001b[0;36m<cell line: 1>\u001b[1;34m()\u001b[0m\n\u001b[1;32m----> 1\u001b[0m \u001b[43mcsb\u001b[49m\u001b[43m[\u001b[49m\u001b[38;5;241;43m0\u001b[39;49m\u001b[43m]\u001b[49m\n",
      "\u001b[1;31mKeyError\u001b[0m: 0"
     ]
    }
   ],
   "source": [
    "csb[0]\n",
    "# key로 불러야됨"
   ]
  },
  {
   "cell_type": "code",
   "execution_count": 15,
   "id": "4a0f871e",
   "metadata": {},
   "outputs": [
    {
     "data": {
      "text/plain": [
       "['male', 'male', 'female']"
      ]
     },
     "execution_count": 15,
     "metadata": {},
     "output_type": "execute_result"
    }
   ],
   "source": [
    "csb[\"name\"]\n",
    "csb[\"성별\"]"
   ]
  },
  {
   "cell_type": "code",
   "execution_count": 16,
   "id": "61f45ffe",
   "metadata": {},
   "outputs": [
    {
     "data": {
      "text/plain": [
       "{'name': ['홍길동', '김철수', '김영희'],\n",
       " '성별': ['male', 'male', 'female'],\n",
       " '나이': [20, 27, 10, 40]}"
      ]
     },
     "execution_count": 16,
     "metadata": {},
     "output_type": "execute_result"
    }
   ],
   "source": [
    "csb[\"나이\"] = [20, 27, 10, 40]\n",
    "csb"
   ]
  },
  {
   "cell_type": "code",
   "execution_count": 17,
   "id": "dd954f42",
   "metadata": {},
   "outputs": [
    {
     "data": {
      "text/plain": [
       "{'name': ['홍길동', '김철수', '김영희'], '성별': ['male', 'male', 'female']}"
      ]
     },
     "execution_count": 17,
     "metadata": {},
     "output_type": "execute_result"
    }
   ],
   "source": [
    "del csb[\"나이\"]\n",
    "csb"
   ]
  },
  {
   "cell_type": "code",
   "execution_count": 18,
   "id": "f0578842",
   "metadata": {},
   "outputs": [
    {
     "data": {
      "text/plain": [
       "dict_keys(['name', '성별'])"
      ]
     },
     "execution_count": 18,
     "metadata": {},
     "output_type": "execute_result"
    }
   ],
   "source": [
    "csb.keys()"
   ]
  },
  {
   "cell_type": "code",
   "execution_count": 20,
   "id": "78eeb2d5",
   "metadata": {},
   "outputs": [
    {
     "data": {
      "text/plain": [
       "dict_values([['홍길동', '김철수', '김영희'], ['male', 'male', 'female']])"
      ]
     },
     "execution_count": 20,
     "metadata": {},
     "output_type": "execute_result"
    }
   ],
   "source": [
    "csb.values()"
   ]
  },
  {
   "cell_type": "code",
   "execution_count": 21,
   "id": "24f838e2",
   "metadata": {},
   "outputs": [
    {
     "name": "stdout",
     "output_type": "stream",
     "text": [
      "name\n",
      "성별\n"
     ]
    }
   ],
   "source": [
    "for key in csb.keys():\n",
    "    print(key)\n",
    "# for문이 먹힌다."
   ]
  },
  {
   "cell_type": "code",
   "execution_count": 22,
   "id": "1124bf1e",
   "metadata": {},
   "outputs": [
    {
     "name": "stdout",
     "output_type": "stream",
     "text": [
      "['홍길동', '김철수', '김영희']\n",
      "['male', 'male', 'female']\n"
     ]
    }
   ],
   "source": [
    "for key in csb.values():\n",
    "    print(key)\n",
    "# for문이 먹힌다."
   ]
  },
  {
   "cell_type": "code",
   "execution_count": 23,
   "id": "124853e1",
   "metadata": {},
   "outputs": [
    {
     "name": "stdout",
     "output_type": "stream",
     "text": [
      "name ['홍길동', '김철수', '김영희']\n",
      "성별 ['male', 'male', 'female']\n"
     ]
    }
   ],
   "source": [
    "for key, value in csb.items():\n",
    "    print(key, value)"
   ]
  },
  {
   "cell_type": "code",
   "execution_count": 24,
   "id": "6fb7fe36",
   "metadata": {},
   "outputs": [
    {
     "data": {
      "text/plain": [
       "{}"
      ]
     },
     "execution_count": 24,
     "metadata": {},
     "output_type": "execute_result"
    }
   ],
   "source": [
    "csb.clear()\n",
    "# 내용 지우기..\n",
    "csb"
   ]
  },
  {
   "cell_type": "code",
   "execution_count": null,
   "id": "0a52d53d",
   "metadata": {},
   "outputs": [],
   "source": [
    "score = {'berry':{'수학':99, '영어':100, '국어':80},\n",
    "         'ree': {'수학':40, '영어':80, '국어':90},\n",
    "         'ftee': {'수학':50, '영어':70, '국어':100}}"
   ]
  },
  {
   "cell_type": "code",
   "execution_count": 37,
   "id": "2a99eed8",
   "metadata": {},
   "outputs": [
    {
     "data": {
      "text/plain": [
       "{'berry': {'수학': 99, '영어': 100, '국어': 80},\n",
       " 'ree': {'수학': 40, '영어': 80, '국어': 90},\n",
       " 'ftee': {'수학': 50, '영어': 70, '국어': 100}}"
      ]
     },
     "execution_count": 37,
     "metadata": {},
     "output_type": "execute_result"
    }
   ],
   "source": [
    "math = []\n",
    "eng = []\n",
    "kor = []\n",
    "\n",
    "for i in score.values():\n",
    "    math.append(i[\"수학\"])\n",
    "    eng.append(i[\"영어\"])\n",
    "    kor.append(i[\"국어\"])\n",
    "    \n",
    "score[\"평균\"]: {\"수학\": sum(math)/len(math), \"영어\": sum(eng)/len(eng), \"국어\":sum(kor)/len(kor)}\n",
    "score    "
   ]
  },
  {
   "cell_type": "code",
   "execution_count": 35,
   "id": "0f544fc6",
   "metadata": {},
   "outputs": [
    {
     "ename": "SyntaxError",
     "evalue": "invalid syntax (896043726.py, line 5)",
     "output_type": "error",
     "traceback": [
      "\u001b[1;36m  Input \u001b[1;32mIn [35]\u001b[1;36m\u001b[0m\n\u001b[1;33m    score[\"평균\"] = ['수학':sum('수학'.value())/len('수학'),\u001b[0m\n\u001b[1;37m                       ^\u001b[0m\n\u001b[1;31mSyntaxError\u001b[0m\u001b[1;31m:\u001b[0m invalid syntax\n"
     ]
    }
   ],
   "source": [
    "\n",
    "\n",
    "score[\"평균\"] = ['수학':sum('수학'.value())/len('수학'),\n",
    "                 '영어':sum('영어'.value())/len('영어'), \n",
    "                 '국어':sum('국어'.value())/len('국어')]\n",
    "score"
   ]
  },
  {
   "cell_type": "code",
   "execution_count": null,
   "id": "c7a3533e",
   "metadata": {},
   "outputs": [],
   "source": []
  }
 ],
 "metadata": {
  "kernelspec": {
   "display_name": "Python 3 (ipykernel)",
   "language": "python",
   "name": "python3"
  },
  "language_info": {
   "codemirror_mode": {
    "name": "ipython",
    "version": 3
   },
   "file_extension": ".py",
   "mimetype": "text/x-python",
   "name": "python",
   "nbconvert_exporter": "python",
   "pygments_lexer": "ipython3",
   "version": "3.9.12"
  }
 },
 "nbformat": 4,
 "nbformat_minor": 5
}
