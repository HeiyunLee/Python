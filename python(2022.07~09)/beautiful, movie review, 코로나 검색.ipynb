{
 "cells": [
  {
   "cell_type": "code",
   "execution_count": 1,
   "id": "9e0b362e",
   "metadata": {},
   "outputs": [],
   "source": [
    "from bs4 import BeautifulSoup as bs\n",
    "import requests as req\n",
    "import pandas as pd"
   ]
  },
  {
   "cell_type": "code",
   "execution_count": 2,
   "id": "692f1900",
   "metadata": {},
   "outputs": [
    {
     "data": {
      "text/plain": [
       "'\\r\\n\\r\\n\\r\\n\\r\\n\\r\\n\\r\\n\\r\\n\\r\\n\\r\\n\\r\\n\\t\\r\\n\\t\\r\\n\\t\\r\\n\\t\\r\\n\\t\\r\\n\\r\\n\\t\\r\\n\\t\\r\\n\\r\\n\\r\\n\\t\\r\\n\\t\\r\\n\\t\\r\\n\\t\\r\\n\\t\\r\\n\\t\\r\\n\\t\\r\\n\\t\\r\\n\\t\\r\\n\\t\\r\\n\\t\\r\\n\\t\\r\\n\\r\\n\\t\\r\\n\\t\\r\\n\\t\\r\\n\\t\\r\\n\\t\\r\\n\\r\\n\\t\\r\\n\\t\\r\\n\\t\\r\\n\\r\\n\\t\\r\\n\\t\\r\\n\\t\\r\\n\\r\\n\\r\\n\\t\\r\\n\\t\\r\\n\\t\\r\\n\\t\\r\\n\\t\\t\\r\\n\\t\\t\\t\\r\\n\\t\\t\\t\\t\\r\\n\\t\\t\\t\\r\\n\\t\\t\\t\\r\\n\\t\\t\\t\\r\\n\\t\\t\\t\\r\\n\\t\\t\\r\\n\\t\\r\\n\\t\\r\\n\\t\\t\\r\\n\\t\\r\\n\\r\\n<!DOCTYPE html>\\r\\n<html lang=\"ko\">\\r\\n<head>\\r\\n<meta http-equiv=\"Content-Type\" content=\"text/html; charset=UTF-8\">\\r\\n<meta http-equiv=\"X-UA-Compatible\" content=\"IE=edge\">\\r\\n\\r\\n\\r\\n\\r\\n\\r\\n\\r\\n\\r\\n<meta property=\"me2:image\" content=\"http://imgmovie.naver.com/today/naverme/naverme_profile.jpg\"/>\\r\\n<meta property=\"me2:post_tag\" content=\"네이버영화 \"/>\\r\\n<meta property=\"me2:category1\" content=\"네이버영화\"/>\\r\\n<meta property=\"me2:category2\" content=\"\"/>\\r\\n\\r\\n\\r\\n\\r\\n\\r\\n\\r\\n\\t\\r\\n\\t\\r\\n\\t\\r\\n\\t\\r\\n\\t\\t<meta property=\"og:title\" content=\"평점 : 네이버 영화\"/>\\r\\n\\t\\t<meta property=\"og:description\" content=\"네티즌 평점과 리뷰 정보 제공\"/>\\r\\n\\t\\r\\n\\t\\r\\n\\t\\r\\n\\r\\n\\r\\n<meta property=\"og:type\" content=\"article\"/>\\r\\n<meta property=\"og:url\" content=\"https://movie.naver.com/movie/point/af/list.naver\"/>\\r\\n\\r\\n\\t\\r\\n\\t\\r\\n\\t\\t<meta property=\"og:image\" content=\"http://static.naver.net/m/movie/icons/OG_270_270.png\"/><!-- http://static.naver.net/m/movie/im/navermovie.jpg -->\\r\\n\\t\\r\\n\\r\\n\\r\\n<meta property=\"og:article:thumbnailUrl\" content=\"http://imgmovie.naver.com/today/naverme/naverme_profile.jpg\"/>\\r\\n<meta property=\"og:article:author\" content=\"네이버 영화\"/>\\r\\n<meta property=\"og:article:author:url\" content=\"https://movie.naver.com/\"/>\\r\\n\\r\\n\\r\\n\\n\\n\\n\\t\\n\\t\\n\\t\\n\\t\\n\\t\\t<link rel=\"shortcut icon\" href=\"https://ssl.pstatic.net/static/m/movie/icons/naver_movie_favicon.ico\" type=\"image/x-icon\">\\n\\t\\t\\t\\n\\n\\r\\n<title>네티즌 평점 : 네이버 영화</title>\\r\\n\\r\\n\\r\\n\\r\\n\\r\\n\\r\\n\\t\\r\\n\\t\\r\\n\\t\\r\\n\\t\\r\\n\\t\\r\\n\\t\\r\\n\\t\\t\\r\\n\\t\\t<link rel=\"stylesheet\" type=\"text/css\" href=\"/common/css/movie_tablet.css?20220628175136\">\\r\\n\\t\\t<link rel=\"stylesheet\" type=\"text/css\" href=\"/common/css/common.css?20220628175136\">\\r\\n\\t\\t<link rel=\"stylesheet\" type=\"text/css\" href=\"/common/css/layout.css?20220628175136\">\\r\\n\\t\\t<link rel=\"stylesheet\" type=\"text/css\" href=\"/common/css/old_default.css?20220628175136\">\\r\\n\\t\\t<link rel=\"stylesheet\" type=\"text/css\" href=\"/common/css/old_layout.css?20220628175136\">\\r\\n\\t\\t<link rel=\"stylesheet\" type=\"text/css\" href=\"/common/css/old_common.css?20220628175136\">\\t\\r\\n\\t\\t<link rel=\"stylesheet\" type=\"text/css\" href=\"/common/css/old_community.css?20220628175136\">\\r\\n\\t\\r\\n\\t\\r\\n\\t\\r\\n\\r\\n\\r\\n<script type=\"text/javascript\" src=\"/common/js/default-min.js\"></script>\\r\\n<script language=\"JavaScript\" src=\"/common/js/jindo2.js\"></script>\\n<script language=\"JavaScript\" src=\"/common/js/pwm.js\"></script>\\n<script type=\"text/javascript\">\\n\\n\\tvar pwmManager = new PwmManager();\\n\\t\\n\\tfunction find_list(st, sword) {\\n\\t\\tlocation.href = \"/movie/point/af/list.naver?st=nickname&sword=\" + sword;\\n\\t}\\n\\t\\n\\tfunction login_check() {\\n\\t\\tif(\"\" == \"\"){\\n\\t\\t\\tif(confirm(\"로그인이 필요합니다. 로그인 하시겠습니까?\")){\\n\\t\\t\\t\\tgoLogin();\\n\\t\\t\\t}\\n\\t\\t\\treturn false;\\n\\t\\t}\\n\\t}\\n\\t\\n\\tfunction goLogin() {\\n\\t\\tlocation.href=\"https://nid.naver.com/nidlogin.login?mode=form&url=\"+encodeURIComponent(location.href);\\n\\t}\\n\\t\\n\\tfunction deletePoint(nid, target) {\\n\\t\\tif( \\'Y\\' == \\'N\\' || \\'Y\\' == \\'G\\' ) {\\n\\t\\t\\topenNotify(\\'Y\\', \\'\\');\\n\\t\\t\\treturn;\\n\\t\\t}\\n\\t\\t\\n\\t\\tvar tmp = document.delete_point_form;\\n\\t\\ttmp.target.value = target;\\n\\t\\ttmp.nid.value = nid;\\n\\t\\t\\n\\t\\tif(confirm(\"사용자 삭제시 복원 할 수 없습니다.정말로 삭제 하시겠습니까?\")){\\n\\t\\t\\ttmp.submit();\\n\\t\\t}\\n\\t\\treturn;\\n\\t}\\n\\t\\n\\tvar gradePopupWin;\\n\\tfunction openRulePopup() {\\n\\t\\tif (screen === undefined || screen.availHeight === undefined || screen.availHeight > 800) {\\n\\t\\t\\tgradePopupWin = window.open(\"/movie/board/popup/board_rule.naver\", \"gradePopup\", \"width=550, height=800, history=no, resizable=no, scrollbars=yes, status=no, menubar=no, toolbar=no\");\\n\\t\\t} else {\\n\\t\\t\\tgradePopupWin = window.open(\"/movie/board/popup/board_rule.naver\", \"gradePopup\", \"width=550, height=560, history=no, resizable=no, scrollbars=yes, status=no, menubar=no, toolbar=no\");\\n\\t\\t}\\n\\t\\t\\n\\t\\tif (gradePopupWin) {\\n\\t\\t\\tgradePopupWin.focus();\\n\\t\\t}\\n\\t}\\n\\t\\n\\n\\n</script>\\r\\n</head>\\r\\n<body >\\r\\n\\r\\n\\r\\n\\t\\r\\n\\t\\r\\n\\t\\r\\n\\t\\r\\n\\t\\r\\n\\t\\t\\r\\n\\t\\r\\n\\r\\n<div id=\"wrap\" class=\"fix\">\\r\\n\\t<!-- GNB -->\\r\\n\\t\\r\\n\\r\\n\\r\\n\\r\\n\\r\\n\\r\\n<script type=\"text/javascript\">\\r\\nfunction delayed_submit(object) {\\r\\n\\tif (navigator.userAgent.indexOf(\\'MSIE\\') == -1) {\\r\\n\\t\\tvar b = c = new Date();\\r\\n      \\twhile ((b.getTime() - c.getTime()) < 100) {\\r\\n\\t\\t\\tb = new Date();\\r\\n      \\t}\\r\\n\\t\\t//window.setTimeout(function() {object.submit(); console.log(\\'s\\');}, 300);\\r\\n\\t}\\r\\n}\\r\\nvar gnb_service = \\'movie\\';\\r\\nvar gnb_logout = \\'http://movie.naver.com/movie/point/af/list.naver\\';\\r\\nvar gnb_template = \"gnb_utf8\"; /* https://ssl.pstatic.net/static.gn/templates/gnb_utf8.nhn */\\r\\nvar gnb_brightness=3;\\r\\nvar gnb_response = true;\\r\\n</script>\\r\\n\\r\\n\\r\\n\\t\\r\\n\\t\\r\\n\\r\\n<a name=\"gnb_top\"></a>\\r\\n    <!-- skip navigation -->\\r\\n    <div id=\"u_skip\">\\r\\n            <a href=\"#header\" onclick=\"document.getElementById(\\'header\\').tabIndex=-1;document.getElementById(\\'header\\').focus();return false;\"><span>메인 메뉴로 바로가기</span></a>\\r\\n            <a href=\"#content\" id=\"gnb_goContent\" onclick=\"document.getElementById(\\'content\\').tabIndex=-1;document.getElementById(\\'content\\').focus();return false;\"><span>본문으로 바로가기</span></a>\\r\\n    </div>\\r\\n    <!-- //skip navigation -->\\r\\n\\t<!-- GNB -->\\r\\n\\t<div class=\"gnb_container\">\\r\\n\\t\\t<div class=\"gnb_content\">\\r\\n\\t\\t\\t<div class=\"gnb_box\">\\r\\n\\t\\t\\t \\t<div class=\"gnb_wrap\">\\r\\n\\t\\t\\t\\t\\t<div id=\"gnb\" onload=\"javascript:getGNB();\">\\r\\n\\t\\t\\t\\t   \\t \\t<script type=\"text/javascript\" charset=\"utf-8\" src=\"https://ssl.pstatic.net/static.gn/templates/gnb_utf8.nhn\"></script>\\r\\n\\t\\t\\t\\t\\t</div>\\r\\n\\t\\t\\t\\t</div>\\r\\n\\t\\t\\t\\t<!-- 검색창 -->\\r\\n\\t\\t\\t\\t<form id=\"jSearchForm\" action=\"/movie/search/result.naver\" method=\"get\" style=\"margin:0;display:none;\">\\r\\n\\t\\t\\t\\t\\t<input type=\"text\" name=\"query\" maxlength=\"100\" title=\"영화검색\" />\\r\\n\\t\\t\\t\\t\\t<input type=\"hidden\" name=\"section\" value=\"all\"/>\\r\\n\\t\\t\\t\\t</form>\\r\\n\\t\\t\\t\\t<fieldset id=\"jSearchArea\" class=\"srch_area\">\\r\\n\\t\\t\\t\\t\\t<legend><span class=\"blind\">영화검색 영역</span></legend>\\r\\n\\t\\t\\t\\t\\t<div class=\"srch_field_on _view\">\\r\\n\\t\\t\\t\\t\\t\\t<span class=\"ipt_srch\">\\r\\n\\t\\t\\t\\t\\t\\t\\t<label for=\"ipt_tx_srch\" id=\"search_placeholder\">영화검색</label>\\r\\n\\t\\t\\t\\t\\t\\t\\t<input type=\"text\" id=\"ipt_tx_srch\" class=\"ipt_tx_srch\" name=\"query\" maxlength=\"100\" accesskey=\"s\" style=\"ime-mode:active;\" autocomplete=\"off\" />\\r\\n\\t\\t\\t\\t\\t\\t\\t<span class=\"align\"></span>\\r\\n\\t\\t\\t\\t\\t\\t\\t<span class=\"auto_tx\"><a href=\"#\" title=\"자동완성 펼치기\"><img src=\"https://ssl.pstatic.net/static/movie/2012/06/srch_arrow_down.gif\" width=\"7\" height=\"4\" title=\"자동완성 펼치기\" alt=\"자동완성 펼치기\" /></a></span>\\r\\n\\t\\t\\t\\t\\t\\t</span>\\r\\n\\t\\t\\t\\t\\t\\t<button type=\"submit\" title=\"검색\" class=\"btn_srch\" onclick=\"clickcr(this, \\'GNB.search\\', \\'\\', \\'\\', event); delayed_submit(this);\"><span class=\"blind\">검색</span></button>\\r\\n\\t\\t\\t\\t\\t\\t <!-- 자동 완성 영역임 #autocomplate_template-->\\r\\n\\t\\t\\t\\t\\t</div>\\r\\n\\t\\t\\t\\t</fieldset>\\r\\n\\t\\t\\t\\t<!-- //검색창 -->\\r\\n\\t\\t\\t</div>\\r\\n\\t\\t</div>\\r\\n\\t</div>\\r\\n\\t<!-- //GNB -->\\r\\n\\t<!-- nClicks -->\\r\\n\\t\\r\\n\\t\\t\\r\\n\\t\\t\\r\\n\\t\\t\\r\\n\\t\\t\\r\\n\\t\\t\\t<script type=\"text/javascript\">var nsc = \"movie.comm\";</script>\\r\\n\\t\\t\\t<script type=\"text/javascript\" src=\"/common/js/clickcr.js\"></script>\\r\\n\\t\\t\\r\\n\\t\\t\\t\\t\\r\\n\\t\\t\\r\\n\\t\\t\\r\\n\\t\\t\\r\\n\\t\\t\\r\\n\\t\\t\\r\\n\\t\\t\\r\\n\\t\\t\\r\\n\\t\\t\\r\\n\\t\\r\\n\\t<!-- // nClicks -->\\t\\r\\n\\t<!-- //GNB -->\\r\\n\\t\\r\\n\\t<!-- LNB -->\\r\\n\\t\\n\\n\\n\\n\\t<!-- header -->\\n\\t<div id=\"header\">\\n\\t\\t<h1 class=\"svc_name\">\\n\\t\\t\\t<a href=\"http://www.naver.com/\" title=\"naver로 바로가기\" class=\"ci_logo\" id=\"lnb_gonaver\" onclick=\"clickcr(this, \\'LNB.naver\\', \\'\\', \\'\\', event);\"><img src=\"https://ssl.pstatic.net/static/movie/2013/07/logo_ci.png\" width=\"62\" height=\"13\" alt=\"NAVER\" /></a>\\n\\t\\t\\t<a href=\"/\" title=\"영화서비스홈으로 바로가기\" class=\"svc_logo\" onclick=\"clickcr(this, \\'LNB.movie\\', \\'\\', \\'\\', event);\"><img src=\"https://ssl.pstatic.net/static/movie/2012/06/logo_svc.png\" width=\"34\" height=\"19\" alt=\"영화\" /></a>\\n\\t\\t</h1>\\n\\t\\t<div id=\"scrollbar\" class=\"scrollbar scrollbar-noscript\">\\n\\t\\t\\t<div class=\"scrollbar-box\">\\n\\t\\t\\t\\t<div class=\"scrollbar-content\">\\n\\t\\t\\t\\t\\t<div class=\"in_scroll\">\\n\\t\\t\\t\\t\\t\\t<ul class=\"navi\">\\n\\t\\t\\t\\t\\t\\t<li>\\n\\t\\t\\t\\t\\t\\t\\t<a href=\"/\" title=\"영화홈\" class=\"menu01\" onclick=\"clickcr(this, \\'LNB.home\\', \\'\\', \\'\\', event);\"><strong>영화홈</strong></a>\\n\\t\\t\\t\\t\\t\\t</li>\\n\\t\\t\\t\\t\\t\\t<li>\\n\\t\\t\\t\\t\\t\\t\\t<a href=\"/movie/running/current.naver\" title=\"상영작·예정작\" class=\"menu02\" onclick=\"clickcr(this, \\'LNB.movies\\', \\'\\', \\'\\', event);\"><strong>상영작·예정작</strong></a>\\n\\t\\t\\t\\t\\t\\t\\t<ul class=\"navi_sub\" style=\"display:none\">\\n\\t\\t\\t\\t\\t\\t\\t<li><a href=\"/movie/running/current.naver\" title=\"현재 상영영화\" class=\"sub2_1\" onclick=\"clickcr(this, \\'LNB.now\\', \\'\\', \\'\\', event);\"><em>현재 상영영화</em></a></li>\\n\\t\\t\\t\\t\\t\\t\\t<li><a href=\"/movie/running/premovie.naver\" title=\"개봉 예정영화\" class=\"sub2_2\" onclick=\"clickcr(this, \\'LNB.soon\\', \\'\\', \\'\\', event);\"><em>개봉 예정영화</em></a></li>\\n\\t\\t\\t\\t\\t\\t\\t<li><a href=\"/movie/running/movieclip.naver\" title=\"예고편\" class=\"sub2_4\" onclick=\"clickcr(this, \\'LNB.tailer\\', \\'\\', \\'\\', event);\"><em>예고편</em></a></li>\\n\\t\\t\\t\\t\\t\\t\\t</ul>\\n\\t\\t\\t\\t\\t\\t</li>\\n\\t\\t\\t\\t\\t\\t<li>\\n\\t\\t\\t\\t\\t\\t\\t<a href=\"/movie/sdb/rank/rmovie.naver\" title=\"영화랭킹\" class=\"menu03\" onclick=\"clickcr(this, \\'LNB.db\\', \\'\\', \\'\\', event);\"><strong>영화랭킹</strong></a>\\n\\t\\t\\t\\t\\t\\t\\t<ul class=\"navi_sub\" style=\"display:none\">\\n\\t\\t\\t\\t\\t\\t\\t<li><a href=\"/movie/sdb/rank/rmovie.naver\" title=\"랭킹\" class=\"sub3_1\" onclick=\"clickcr(this, \\'LNB.rank\\', \\'\\', \\'\\', event);\"><em>랭킹</em></a></li>\\n\\t\\t\\t\\t\\t\\t\\t<li><a href=\"/movie/sdb/browsing/bmovie_nation.naver\" title=\"디렉토리\" class=\"sub3_2\" onclick=\"clickcr(this, \\'LNB.dir\\', \\'\\', \\'\\', event);\"><em>디렉토리</em></a></li>\\n\\t\\t\\t\\t\\t\\t\\t</ul>\\n\\t\\t\\t\\t\\t\\t</li>\\n\\n\\n\\t\\t\\t\\t\\t\\t<li>\\n\\t\\t\\t\\t\\t\\t\\t<a href=\"/movie/point/af/list.naver\" title=\"평점\" class=\"menu07_on\" onclick=\"clickcr(this, \\'LNB.comm\\', \\'\\', \\'\\', event);\"><strong>평점</strong></a>\\n                            <ul class=\"navi_sub\" style=\"display:block\">\\n                                <li><a href=\"/movie/point/af/list.naver\" title=\"네티즌 평점\" class=\"sub7_1_on\" onclick=\"clickcr(this, \\'LNB.rating\\', \\'\\', \\'\\', event);\"><em>네티즌 평점</em></a></li>\\n                                <li><a href=\"/movie/board/review/list.naver\" title=\"네티즌 리뷰\" class=\"sub7_2\" onclick=\"clickcr(this, \\'LNB.review\\', \\'\\', \\'\\', event);\"><em>네티즌 리뷰</em></a></li>\\n                                \\n                            </ul>\\n\\t\\t\\t\\t\\t\\t</li>\\n\\t\\t\\t\\t\\t\\t<li>\\n\\t\\t\\t\\t\\t\\t\\t<a href=\"http://serieson.naver.com/movie/home.nhn\" title=\"다운로드\" class=\"menu08\" onclick=\"clickcr(this, \\'LNB.download\\', \\'\\', \\'\\', event);\" target=\"_blank\"><strong>다운로드</strong></a>\\n\\t\\t\\t\\t\\t\\t</li>\\n\\t\\t\\t\\t\\t\\t<li class=\"nav_indi\">\\n\\t\\t\\t\\t\\t\\t        <a href=\"http://tv.naver.com/indiecinema\" title=\"인디극장 UP\" target=\"_blank\"><strong>인디극장 UP</strong></a><!-- N=a:LNB.indie -->\\n\\t\\t\\t\\t\\t\\t</li>\\t\\t\\t\\t\\t\\t\\n\\t\\t\\t\\t\\t\\t</ul>\\n\\t\\t\\t\\t\\t\\t<!-- div class=\"view_mode\">\\n\\t\\t\\t\\t\\t\\t\\t<a href=\"#\" title=\"\" class=\"normal_on\"><em>1단 보기</em></a>\\n\\t\\t\\t\\t\\t\\t\\t<a href=\"#\" title=\"\" class=\"wide_off\"><em>2단 보기</em></a>\\n\\t\\t\\t\\t\\t\\t</div -->\\n\\t\\t\\t\\t\\t</div>\\n\\t\\t\\t\\t</div>\\n\\t\\t\\t</div>\\n\\t\\t\\t<div class=\"scrollbar-v\">\\n\\t\\t\\t\\t<div class=\"scrollbar-button-up\"></div>\\n\\t\\t\\t\\t<div class=\"scrollbar-track\">\\n\\t\\t\\t\\t\\t<div class=\"scrollbar-thumb\"></div>\\n\\t\\t\\t\\t</div>\\n\\t\\t\\t\\t<div class=\"scrollbar-button-down\"></div>\\n\\t\\t\\t</div>\\n\\t\\t</div>\\n\\t</div>\\n\\t<!-- //header -->\\r\\n\\t<!-- //LNB -->\\r\\n\\t\\r\\n\\t<div id=\"container\">\\r\\n\\t\\t<!-- content -->\\r\\n\\t\\t<div id=\"content\">\\r\\n\\t\\t\\t<div class=\"article\">\\r\\n\\t\\t\\t\\r\\n\\t\\t\\t\\t<div class=\"old_layout old_community\">\\r\\n\\r\\n\\t\\t\\t\\t\\r\\n\\t\\t\\t\\t\\r\\n\\r\\n\\t\\t\\t\\t<!-- Content Body -->\\r\\n\\t\\t\\t\\t<div id=\"cbody\" class=\"type_1\">\\r\\n\\t\\t\\t\\t\\r\\n\\t\\t\\t\\t\\t<div id=\"old_content\">\\r\\n\\t\\t\\t\\t\\t<form name=\"delete_point_form\" method=\"post\" action=\"dpoint.naver\">\\n\\t\\t<input type=\"hidden\" name=\"queryString\" value=\"target=after&page=1\"/>\\n\\t\\t<input type=\"hidden\" name=\"target\" value=\"after\"/>\\n\\t\\t<input type=\"hidden\" name=\"nid\"/>\\n\\t</form>\\n\\n\\t<h4 class=\"tlt\"><img src=\"https://ssl.pstatic.net/static/movie/2019/09/tlt_netizen_grad_2.png\" alt=\"네티즌 관람객 평점\" width=\"116\" height=\"15\"></h4>\\n\\t<div class=\"choice_movie_box\">\\n\\t\\t\\n\\t\\t\\n\\t\\t\\t\\n\\t\\t<!-- 영화선택 -->\\n\\t\\t<div class=\"choice_movie\">\\n\\t\\t<span class=\"fl\">\\n\\t\\t<label for=\"current_movie\"><img src=\"https://ssl.pstatic.net/static/movie/2019/09/txt_review_3.png\" alt=\"현재 상영작 평점보기\" width=\"105\" height=\"14\"></label><br>\\n\\t\\t<select id=\"current_movie\" size=\"1\" name=\"\" style=\"width:250px;\" class=\"select_type_1\" onChange=\"javascript:find_list(\\'mcode\\',this.options[selectedIndex].value);\">\\n\\t\\t\\t\\t<option>현재 상영작</option>\\n\\t\\t\\t\\t\\n\\t\\t\\t\\t\\t<option value=\"213423\">바다 탐험대 옥토넛 : 탐험선 대작전</option>\\n\\t\\t\\t\\t\\n\\t\\t\\t\\t\\t<option value=\"196393\">멋진 세계</option>\\n\\t\\t\\t\\t\\n\\t\\t\\t\\t\\t<option value=\"214314\">굿 럭 투 유, 리오 그랜드</option>\\n\\t\\t\\t\\t\\n\\t\\t\\t\\t\\t<option value=\"194789\">뱅크시</option>\\n\\t\\t\\t\\t\\n\\t\\t\\t\\t\\t<option value=\"209728\">모퉁이</option>\\n\\t\\t\\t\\t\\n\\t\\t\\t\\t\\t<option value=\"206609\">카우</option>\\n\\t\\t\\t\\t\\n\\t\\t\\t\\t\\t<option value=\"195758\">헌트</option>\\n\\t\\t\\t\\t\\n\\t\\t\\t\\t\\t<option value=\"217035\">DC 리그 오브 슈퍼-펫</option>\\n\\t\\t\\t\\t\\n\\t\\t\\t\\t\\t<option value=\"218758\">극장판 살아남기 시리즈: 인체에서 살아남기</option>\\n\\t\\t\\t\\t\\n\\t\\t\\t\\t\\t<option value=\"206656\">베르히만 아일랜드</option>\\n\\t\\t\\t\\t\\n\\t\\t\\t\\t\\t<option value=\"206685\">보일링 포인트</option>\\n\\t\\t\\t\\t\\n\\t\\t\\t\\t\\t<option value=\"184519\">비상선언</option>\\n\\t\\t\\t\\t\\n\\t\\t\\t\\t\\t<option value=\"218980\">극장판 도라에몽: 진구의 우주소전쟁 리틀스타워즈 2021</option>\\n\\t\\t\\t\\t\\n\\t\\t\\t\\t\\t<option value=\"213481\">뽀로로 극장판 드래곤캐슬 대모험</option>\\n\\t\\t\\t\\t\\n\\t\\t\\t\\t\\t<option value=\"209724\">초록밤</option>\\n\\t\\t\\t\\t\\n\\t\\t\\t\\t\\t<option value=\"202678\">배드 럭 뱅잉</option>\\n\\t\\t\\t\\t\\n\\t\\t\\t\\t\\t<option value=\"180157\">임파서블 러브</option>\\n\\t\\t\\t\\t\\n\\t\\t\\t\\t\\t<option value=\"194196\">한산: 용의 출현</option>\\n\\t\\t\\t\\t\\n\\t\\t\\t\\t\\t<option value=\"213404\">비욘드 라이브 더 무비 : 엑소의 사다리 타고 세계여행3</option>\\n\\t\\t\\t\\t\\n\\t\\t\\t\\t\\t<option value=\"213510\">아이를 위한 아이</option>\\n\\t\\t\\t\\t\\n\\t\\t\\t\\t\\t<option value=\"191634\">미니언즈2</option>\\n\\t\\t\\t\\t\\n\\t\\t\\t\\t\\t<option value=\"192151\">외계+인 1부</option>\\n\\t\\t\\t\\t\\n\\t\\t\\t\\t\\t<option value=\"199004\">썸머 필름을 타고!</option>\\n\\t\\t\\t\\t\\n\\t\\t\\t\\t\\t<option value=\"207922\">로스트 도터</option>\\n\\t\\t\\t\\t\\n\\t\\t\\t\\t\\t<option value=\"192053\">군다</option>\\n\\t\\t\\t\\t\\n\\t\\t\\t\\t\\t<option value=\"217719\">명탐정 코난: 할로윈의 신부</option>\\n\\t\\t\\t\\t\\n\\t\\t\\t\\t\\t<option value=\"217472\">엘비스</option>\\n\\t\\t\\t\\t\\n\\t\\t\\t\\t\\t<option value=\"213471\">체리마호: 30살까지 동정이면 마법사가 될 수 있대</option>\\n\\t\\t\\t\\t\\n\\t\\t\\t\\t\\t<option value=\"216027\">멘</option>\\n\\t\\t\\t\\t\\n\\t\\t\\t\\t\\t<option value=\"26545\">큐어</option>\\n\\t\\t\\t\\t\\n\\t\\t\\t\\t\\t<option value=\"187347\">토르: 러브 앤 썬더</option>\\n\\t\\t\\t\\t\\n\\t\\t\\t\\t\\t<option value=\"208431\">컴온 컴온</option>\\n\\t\\t\\t\\t\\n\\t\\t\\t\\t\\t<option value=\"217742\">프리! 더 파이널 스트로크 후편</option>\\n\\t\\t\\t\\t\\n\\t\\t\\t\\t\\t<option value=\"217081\">보통의 용기</option>\\n\\t\\t\\t\\t\\n\\t\\t\\t\\t\\t<option value=\"198413\">헤어질 결심</option>\\n\\t\\t\\t\\t\\n\\t\\t\\t\\t\\t<option value=\"198472\">니얼굴</option>\\n\\t\\t\\t\\t\\n\\t\\t\\t\\t\\t<option value=\"208144\">모어</option>\\n\\t\\t\\t\\t\\n\\t\\t\\t\\t\\t<option value=\"81888\">탑건: 매버릭</option>\\n\\t\\t\\t\\t\\n\\t\\t\\t\\t\\t<option value=\"216272\">경아의 딸</option>\\n\\t\\t\\t\\t\\n\\t\\t\\t\\t\\t<option value=\"196854\">브로커</option>\\n\\t\\t\\t\\t\\n\\t\\t\\t\\t\\t<option value=\"206637\">애프터 양</option>\\n\\t\\t\\t\\t\\n\\t\\t\\t\\t\\t<option value=\"208772\">카시오페아</option>\\n\\t\\t\\t\\t\\n\\t\\t\\t\\t\\t<option value=\"192608\">범죄도시2</option>\\n\\t\\t\\t\\t\\n\\t\\t\\t\\t\\t<option value=\"207202\">아치의 노래, 정태춘</option>\\n\\t\\t\\t\\t\\n\\t\\t\\t\\t\\t<option value=\"202675\">우연과 상상</option>\\n\\t\\t\\t\\t\\n\\t\\t\\t\\t\\t<option value=\"206217\">평평남녀</option>\\n\\t\\t\\t\\t\\n\\t\\t\\t\\t\\t<option value=\"212159\">소설가의 영화</option>\\n\\t\\t\\t\\t\\n\\t\\t\\t\\t\\t<option value=\"17059\">중경삼림</option>\\n\\t\\t\\t\\t\\n\\t\\t\\t\\t\\t<option value=\"203618\">드라이</option>\\n\\t\\t\\t\\t\\n\\t\\t\\t\\t\\t<option value=\"194668\">보드랍게</option>\\n\\t\\t\\t\\t\\n\\t\\t\\t\\t\\t<option value=\"213733\">극장판 주술회전 0</option>\\n\\t\\t\\t\\t\\n\\t\\t\\t\\t\\t<option value=\"213620\">프리! 더 파이널 스트로크 전편</option>\\n\\t\\t\\t\\t\\n\\t\\t\\t\\t\\t<option value=\"108904\">호수의 이방인</option>\\n\\t\\t\\t\\t\\n\\t\\t\\t\\t\\t<option value=\"202986\">빌리 홀리데이</option>\\n\\t\\t\\t\\t\\n\\t\\t\\t\\t\\t<option value=\"201073\">코다</option>\\n\\t\\t\\t\\t\\n\\t\\t\\t\\t\\t<option value=\"193327\">빛나는 순간</option>\\n\\t\\t\\t\\t\\n\\t\\t\\t\\t\\t<option value=\"163829\">피넛 버터 팔콘</option>\\n\\t\\t\\t\\t\\n\\t\\t\\t\\t\\t<option value=\"196052\">스파이의 아내</option>\\n\\t\\t\\t\\t\\n\\t\\t\\t\\t\\t<option value=\"183278\">테스와 보낸 여름</option>\\n\\t\\t\\t\\t\\n\\t\\t\\t\\t\\t<option value=\"186239\">어서오시게스트하우스</option>\\n\\t\\t\\t\\t\\n\\t\\t\\t\\t\\t<option value=\"185269\">소년 아메드</option>\\n\\t\\t\\t\\t\\n\\t\\t\\t\\t\\t<option value=\"16411\">녹색 광선</option>\\n\\t\\t\\t\\t\\n\\t\\t\\t\\t\\t<option value=\"154223\">더 스퀘어</option>\\n\\t\\t\\t\\t\\n\\t\\t\\t\\t\\t<option value=\"71151\">아이 엠 러브</option>\\n\\t\\t\\t\\t\\n\\t\\t\\t\\t\\t<option value=\"172344\">신은 죽지 않았다 3: 어둠 속의 빛</option>\\n\\t\\t\\t\\t\\n\\t\\t\\t\\t\\t<option value=\"154437\">내 사랑</option>\\n\\t\\t\\t\\t\\n\\t\\t\\t\\t\\t<option value=\"137841\">물숨</option>\\n\\t\\t\\t\\t\\n\\t\\t\\t\\t\\t<option value=\"129045\">비거 스플래쉬</option>\\n\\t\\t\\t\\t\\n\\t\\t\\t\\t\\t<option value=\"20329\">순응자</option>\\n\\t\\t\\t\\t\\n\\t\\t\\t\\t\\t<option value=\"124238\">헤이트풀8</option>\\n\\t\\t\\t\\t\\n\\t\\t\\t\\t\\t<option value=\"115296\">대니 콜린스</option>\\n\\t\\t\\t\\t\\n\\t\\t\\t\\t\\t<option value=\"36944\">올드보이</option>\\n\\t\\t\\t\\t\\n\\t\\t\\t\\t\\t<option value=\"95251\">홀리 모터스</option>\\n\\t\\t\\t\\t\\n\\t\\t\\t\\t\\t<option value=\"23525\">하녀</option>\\n\\t\\t\\t\\t\\n\\t\\t\\t\\t\\t<option value=\"26539\">그 여름 가장 조용한 바다</option>\\n\\t\\t\\t\\t\\n\\t\\t\\t\\t\\t<option value=\"16571\">펄프 픽션</option>\\n\\t\\t\\t\\t\\n\\t\\t\\t\\t\\t<option value=\"10555\">오발탄</option>\\n\\t\\t\\t\\t\\n\\t\\t\\t\\t\\t<option value=\"20535\">돌아온 사나이</option>\\n\\t\\t\\t\\t\\n\\t\\t\\t\\t\\t<option value=\"22672\">이 생명 다하도록</option>\\n\\t\\t\\t\\t\\n\\t\\t\\t\\t\\t<option value=\"23212\">청춘 쌍곡선</option>\\n\\t\\t\\t\\t\\n\\t\\t\\t\\t\\t<option value=\"29891\">맨발의 백작부인</option>\\n\\t\\t\\t\\t\\n\\n\\t\\t</select>\\n\\t\\t</span>\\n\\t\\t</div>\\n\\t\\t<!-- //영화선택 -->\\n\\t</div>\\n\\t<!-- 리스트 제목> -->\\n\\t\\n\\t\\t\\n\\t\\t\\n\\t\\t\\n\\t\\t\\n\\t\\t\\t<h5 class=\"sub_tlt underline\"><img src=\"https://ssl.pstatic.net/imgmovie/2007/img/community/stlt_all_list.gif\" alt=\"전체 리스트\" width=\"59\" height=\"13\">\\n\\t\\t\\t\\t\\t<div class=\"h5_right_txt\">총 <strong class=\"c_88 fs_11\">14217037</strong>개의 평점이 있습니다.</div>\\n\\t\\t\\t</h5>\\n\\t\\t\\n\\t\\n\\t<!--// 리스트 제목> -->\\n\\t<!-- list -->\\n\\t<table cellspacing=\"0\" class=\"list_netizen\">\\n\\t\\t<caption class=\"blind\">개봉 후 평점 목록으로 번호, 평점, 내용, 글쓴이, 날짜 정보를 제공</caption>\\n\\t\\t<colgroup><col width=\"44\"><col width=\"*\"><col width=\"68\">\\n\\t\\t<thead>\\n\\t\\t<tr>\\n\\t\\t\\t<th>번호</th>\\n\\t\\t\\t<th>감상평</th>\\n\\t\\t\\t<th class=\"al\"><span class=\"th_m1\">글쓴이·날짜</span></th>\\n\\t\\t</tr>\\n\\t\\t</thead>\\n\\t<tbody>\\n\\t\\n\\t<tr>\\n\\t\\t<td class=\"ac num\">18351155</td>\\n\\t\\t\\t<td class=\"title\">\\n\\t\\t\\t\\n\\t\\t\\t\\n\\t\\t\\t\\t<a href=\"?st=mcode&sword=184519&target=after\" class=\"movie color_b\">비상선언</a>\\n\\t\\t\\t\\n\\t\\t\\t\\n\\t\\t\\t\\n\\t\\t\\t<div class=\"list_netizen_score\">\\n\\t\\t\\t\\t<span class=\"st_off\"><span class=\"st_on\" style=\"width:10%\">별점 - 총 10점 중</span></span><em>1</em>\\n\\t\\t\\t</div>\\n\\t\\t\\t<br>진짜 평점 확인안하고 본걸 후회한다..노골적인 반미 반일갬성에, 물타기감동없는 어거지 신파에 OO것 러닝타임은 왜 이리 쳐기냐진짜 배우들이 애처롭더라..진짜 이 영화가 뭘 표현하려는건지보는내내 화가 나더라! \\n\\t\\t\\t\\n\\t\\t\\t\\n\\t\\t\\t\\n\\t\\t\\t\\t\\n\\t\\t\\t\\t\\n\\t\\t\\t\\t\\n\\t\\t\\t\\t<a href=\"#\" onclick=\"report(\\'koya****\\', \\'0m/DZHMR2ylAeNzqBddXfIIJD5qf0/UoylLQbUnqcGI=\\', \\'진짜 평점 확인안하고 본걸 후회한다..노골적인 반미 반일갬성에, 물타기감동없는 어거지 신파에 싯팔것 러닝타임은 왜 이리 쳐기냐진짜 배우들이 애처롭더라..진짜 이 영화가 뭘 표현하려는건지보는내내 화가 나더라!\\', \\'18351155\\', \\'point_after\\');\" class=\"report\" style=\"color:#8F8F8F\" title=\"새 창\">신고</a>\\n\\t\\t\\t\\n\\t\\t\\t\\n\\t\\t\\t</td>\\n\\t\\t<td class=\"num\"><a href=\"javascript:find_list(\\'nickname\\',\\'18351155\\');\" class=\"author\">koya****</a><br>22.08.11</td>\\n\\t</tr>\\n\\t\\n\\t<tr>\\n\\t\\t<td class=\"ac num\">18351156</td>\\n\\t\\t\\t<td class=\"title\">\\n\\t\\t\\t\\n\\t\\t\\t\\n\\t\\t\\t\\t<a href=\"?st=mcode&sword=167099&target=after\" class=\"movie color_b\">사바하</a>\\n\\t\\t\\t\\n\\t\\t\\t\\n\\t\\t\\t\\n\\t\\t\\t<div class=\"list_netizen_score\">\\n\\t\\t\\t\\t<span class=\"st_off\"><span class=\"st_on\" style=\"width:80%\">별점 - 총 10점 중</span></span><em>8</em>\\n\\t\\t\\t</div>\\n\\t\\t\\t<br>스토리 끝내줌.해외에서도 인기있을것. \\n\\t\\t\\t\\n\\t\\t\\t\\n\\t\\t\\t\\n\\t\\t\\t\\t\\n\\t\\t\\t\\t\\n\\t\\t\\t\\t\\n\\t\\t\\t\\t<a href=\"#\" onclick=\"report(\\'d198****\\', \\'P2tJ7lnJYOTyt5UCvC4yrZ+OWl7XpO61E1uxBnkPCD4=\\', \\'스토리 끝내줌.해외에서도 인기있을것.\\', \\'18351156\\', \\'point_after\\');\" class=\"report\" style=\"color:#8F8F8F\" title=\"새 창\">신고</a>\\n\\t\\t\\t\\n\\t\\t\\t\\n\\t\\t\\t</td>\\n\\t\\t<td class=\"num\"><a href=\"javascript:find_list(\\'nickname\\',\\'18351156\\');\" class=\"author\">d198****</a><br>22.08.11</td>\\n\\t</tr>\\n\\t\\n\\t<tr>\\n\\t\\t<td class=\"ac num\">18351154</td>\\n\\t\\t\\t<td class=\"title\">\\n\\t\\t\\t\\n\\t\\t\\t\\n\\t\\t\\t\\t<a href=\"?st=mcode&sword=192151&target=after\" class=\"movie color_b\">외계+인 1부</a>\\n\\t\\t\\t\\n\\t\\t\\t\\n\\t\\t\\t\\n\\t\\t\\t<div class=\"list_netizen_score\">\\n\\t\\t\\t\\t<span class=\"st_off\"><span class=\"st_on\" style=\"width:80%\">별점 - 총 10점 중</span></span><em>8</em>\\n\\t\\t\\t</div>\\n\\t\\t\\t<br>솔직히 초반~중반까지는 응? 뭐지 이게 이랬는데 점점 볼수록 재밌었어요 약간 난해한 부분도 있는데 전 나름 재밌게 봤습니다 2부가 기대되요 평점이 많이 낮네요 이해는 갑니다 \\n\\t\\t\\t\\n\\t\\t\\t\\n\\t\\t\\t\\n\\t\\t\\t\\t\\n\\t\\t\\t\\t\\n\\t\\t\\t\\t\\n\\t\\t\\t\\t<a href=\"#\" onclick=\"report(\\'love****\\', \\'/nGZTe4FU0vukBdKxNdiu1WiNs6tVjdVXYcvZoby9Q8=\\', \\'솔직히 초반~중반까지는 응? 뭐지 이게 이랬는데 점점 볼수록 재밌었어요 약간 난해한 부분도 있는데 전 나름 재밌게 봤습니다 2부가 기대되요 평점이 많이 낮네요 이해는 갑니다\\', \\'18351154\\', \\'point_after\\');\" class=\"report\" style=\"color:#8F8F8F\" title=\"새 창\">신고</a>\\n\\t\\t\\t\\n\\t\\t\\t\\n\\t\\t\\t</td>\\n\\t\\t<td class=\"num\"><a href=\"javascript:find_list(\\'nickname\\',\\'18351154\\');\" class=\"author\">love****</a><br>22.08.11</td>\\n\\t</tr>\\n\\t\\n\\t<tr>\\n\\t\\t<td class=\"ac num\">18351153</td>\\n\\t\\t\\t<td class=\"title\">\\n\\t\\t\\t\\n\\t\\t\\t\\n\\t\\t\\t\\t<a href=\"?st=mcode&sword=195758&target=after\" class=\"movie color_b\">헌트</a>\\n\\t\\t\\t\\n\\t\\t\\t\\n\\t\\t\\t\\n\\t\\t\\t<div class=\"list_netizen_score\">\\n\\t\\t\\t\\t<span class=\"st_off\"><span class=\"st_on\" style=\"width:70%\">별점 - 총 10점 중</span></span><em>7</em>\\n\\t\\t\\t</div>\\n\\t\\t\\t<br>80년대 한국의 현대사를 적절하게 변주해 긴장감 있는 첩보액션을 완성해냄. 특히 총격씬들 사운드와 연출이 시원해서 좋았다. \\n\\t\\t\\t\\n\\t\\t\\t\\n\\t\\t\\t\\n\\t\\t\\t\\t\\n\\t\\t\\t\\t\\n\\t\\t\\t\\t\\n\\t\\t\\t\\t<a href=\"#\" onclick=\"report(\\'kjun****\\', \\'l4JI9t8lzYyDp+b+fJoy358G8Sv+O2INjMqs0kCXcoA=\\', \\'80년대 한국의 현대사를 적절하게 변주해 긴장감 있는 첩보액션을 완성해냄. 특히 총격씬들 사운드와 연출이 시원해서 좋았다.\\', \\'18351153\\', \\'point_after\\');\" class=\"report\" style=\"color:#8F8F8F\" title=\"새 창\">신고</a>\\n\\t\\t\\t\\n\\t\\t\\t\\n\\t\\t\\t</td>\\n\\t\\t<td class=\"num\"><a href=\"javascript:find_list(\\'nickname\\',\\'18351153\\');\" class=\"author\">kjun****</a><br>22.08.11</td>\\n\\t</tr>\\n\\t\\n\\t<tr>\\n\\t\\t<td class=\"ac num\">18351152</td>\\n\\t\\t\\t<td class=\"title\">\\n\\t\\t\\t\\n\\t\\t\\t\\n\\t\\t\\t\\t<a href=\"?st=mcode&sword=195758&target=after\" class=\"movie color_b\">헌트</a>\\n\\t\\t\\t\\n\\t\\t\\t\\n\\t\\t\\t\\n\\t\\t\\t<div class=\"list_netizen_score\">\\n\\t\\t\\t\\t<span class=\"st_off\"><span class=\"st_on\" style=\"width:100%\">별점 - 총 10점 중</span></span><em>10</em>\\n\\t\\t\\t</div>\\n\\t\\t\\t<br>이정재의 후진과 정우성의 세수가 다 한 영화라고 생각해요 완전 핫뽀이들이세요 섹시~~ \\n\\t\\t\\t\\n\\t\\t\\t\\n\\t\\t\\t\\n\\t\\t\\t\\t\\n\\t\\t\\t\\t\\n\\t\\t\\t\\t\\n\\t\\t\\t\\t<a href=\"#\" onclick=\"report(\\'0316****\\', \\'nHGOpYm2/ateMX/rIQOxY6B3iACCWe7wXDSSHw4p5pI=\\', \\'이정재의 후진과 정우성의 세수가 다 한 영화라고 생각해요 완전 핫뽀이들이세요 섹시~~\\', \\'18351152\\', \\'point_after\\');\" class=\"report\" style=\"color:#8F8F8F\" title=\"새 창\">신고</a>\\n\\t\\t\\t\\n\\t\\t\\t\\n\\t\\t\\t</td>\\n\\t\\t<td class=\"num\"><a href=\"javascript:find_list(\\'nickname\\',\\'18351152\\');\" class=\"author\">0316****</a><br>22.08.11</td>\\n\\t</tr>\\n\\t\\n\\t<tr>\\n\\t\\t<td class=\"ac num\">18351151</td>\\n\\t\\t\\t<td class=\"title\">\\n\\t\\t\\t\\n\\t\\t\\t\\n\\t\\t\\t\\t<a href=\"?st=mcode&sword=195758&target=after\" class=\"movie color_b\">헌트</a>\\n\\t\\t\\t\\n\\t\\t\\t\\n\\t\\t\\t\\n\\t\\t\\t<div class=\"list_netizen_score\">\\n\\t\\t\\t\\t<span class=\"st_off\"><span class=\"st_on\" style=\"width:100%\">별점 - 총 10점 중</span></span><em>10</em>\\n\\t\\t\\t</div>\\n\\t\\t\\t<br>2022년 제일 재밌던 영화 \\n\\t\\t\\t\\n\\t\\t\\t\\n\\t\\t\\t\\n\\t\\t\\t\\t\\n\\t\\t\\t\\t\\n\\t\\t\\t\\t\\n\\t\\t\\t\\t<a href=\"#\" onclick=\"report(\\'nin8****\\', \\'/OFYhMazaEqCN027Tbid7PEEjo1Frr1p8BA6njybfBM=\\', \\'2022년 제일 재밌던 영화\\', \\'18351151\\', \\'point_after\\');\" class=\"report\" style=\"color:#8F8F8F\" title=\"새 창\">신고</a>\\n\\t\\t\\t\\n\\t\\t\\t\\n\\t\\t\\t</td>\\n\\t\\t<td class=\"num\"><a href=\"javascript:find_list(\\'nickname\\',\\'18351151\\');\" class=\"author\">nin8****</a><br>22.08.11</td>\\n\\t</tr>\\n\\t\\n\\t<tr>\\n\\t\\t<td class=\"ac num\">18351150</td>\\n\\t\\t\\t<td class=\"title\">\\n\\t\\t\\t\\n\\t\\t\\t\\n\\t\\t\\t\\t<a href=\"?st=mcode&sword=203101&target=after\" class=\"movie color_b\">카터</a>\\n\\t\\t\\t\\n\\t\\t\\t\\n\\t\\t\\t\\n\\t\\t\\t<div class=\"list_netizen_score\">\\n\\t\\t\\t\\t<span class=\"st_off\"><span class=\"st_on\" style=\"width:20%\">별점 - 총 10점 중</span></span><em>2</em>\\n\\t\\t\\t</div>\\n\\t\\t\\t<br>초반 좀 괜찮네 하다가  허걱  이건 모 너무 힘이드네요...제 기준 망작 \\n\\t\\t\\t\\n\\t\\t\\t\\n\\t\\t\\t\\n\\t\\t\\t\\t\\n\\t\\t\\t\\t\\n\\t\\t\\t\\t\\n\\t\\t\\t\\t<a href=\"#\" onclick=\"report(\\'ybk1****\\', \\'CM/w++GNZODhndmbd/dU0H8nOM4rrZ6+cGBpEQL4sag=\\', \\'초반 좀 괜찮네 하다가  허걱  이건 모 너무 힘이드네요...제 기준 망작\\', \\'18351150\\', \\'point_after\\');\" class=\"report\" style=\"color:#8F8F8F\" title=\"새 창\">신고</a>\\n\\t\\t\\t\\n\\t\\t\\t\\n\\t\\t\\t</td>\\n\\t\\t<td class=\"num\"><a href=\"javascript:find_list(\\'nickname\\',\\'18351150\\');\" class=\"author\">ybk1****</a><br>22.08.11</td>\\n\\t</tr>\\n\\t\\n\\t<tr>\\n\\t\\t<td class=\"ac num\">18351149</td>\\n\\t\\t\\t<td class=\"title\">\\n\\t\\t\\t\\n\\t\\t\\t\\n\\t\\t\\t\\t<a href=\"?st=mcode&sword=198413&target=after\" class=\"movie color_b\">헤어질 결심</a>\\n\\t\\t\\t\\n\\t\\t\\t\\n\\t\\t\\t\\n\\t\\t\\t<div class=\"list_netizen_score\">\\n\\t\\t\\t\\t<span class=\"st_off\"><span class=\"st_on\" style=\"width:10%\">별점 - 총 10점 중</span></span><em>1</em>\\n\\t\\t\\t</div>\\n\\t\\t\\t<br>2022년에 이런 영화를  박해일 탕웨이 두 배우를 가지고 만들 었다는 자체가  기록에 남을만하다.연기 연출 시나리오  어느 하나 제대로 된게 하나도 없는 팬덤층에게 호소하는  쓰레기 \\n\\t\\t\\t\\n\\t\\t\\t\\n\\t\\t\\t\\n\\t\\t\\t\\t\\n\\t\\t\\t\\t\\n\\t\\t\\t\\t\\n\\t\\t\\t\\t<a href=\"#\" onclick=\"report(\\'ocea****\\', \\'wQW/p16GSijpeosKcY632mOcmRjjvu6Ms6Txfmp4+V8=\\', \\'2022년에 이런 영화를  박해일 탕웨이 두 배우를 가지고 만들 었다는 자체가  기록에 남을만하다.연기 연출 시나리오  어느 하나 제대로 된게 하나도 없는 팬덤층에게 호소하는  쓰레기\\', \\'18351149\\', \\'point_after\\');\" class=\"report\" style=\"color:#8F8F8F\" title=\"새 창\">신고</a>\\n\\t\\t\\t\\n\\t\\t\\t\\n\\t\\t\\t</td>\\n\\t\\t<td class=\"num\"><a href=\"javascript:find_list(\\'nickname\\',\\'18351149\\');\" class=\"author\">ocea****</a><br>22.08.11</td>\\n\\t</tr>\\n\\t\\n\\t<tr>\\n\\t\\t<td class=\"ac num\">18351148</td>\\n\\t\\t\\t<td class=\"title\">\\n\\t\\t\\t\\n\\t\\t\\t\\n\\t\\t\\t\\t<a href=\"?st=mcode&sword=198413&target=after\" class=\"movie color_b\">헤어질 결심</a>\\n\\t\\t\\t\\n\\t\\t\\t\\n\\t\\t\\t\\n\\t\\t\\t<div class=\"list_netizen_score\">\\n\\t\\t\\t\\t<span class=\"st_off\"><span class=\"st_on\" style=\"width:100%\">별점 - 총 10점 중</span></span><em>10</em>\\n\\t\\t\\t</div>\\n\\t\\t\\t<br>방금 극장에서 나왔는데 갑자기 눈물난다 \\n\\t\\t\\t\\n\\t\\t\\t\\n\\t\\t\\t\\n\\t\\t\\t\\t\\n\\t\\t\\t\\t\\n\\t\\t\\t\\t\\n\\t\\t\\t\\t<a href=\"#\" onclick=\"report(\\'carl****\\', \\'RVo/DjZb2td0phw0Z+ahKVm9+WhH3yO58OuH/b4zW7c=\\', \\'방금 극장에서 나왔는데 갑자기 눈물난다\\', \\'18351148\\', \\'point_after\\');\" class=\"report\" style=\"color:#8F8F8F\" title=\"새 창\">신고</a>\\n\\t\\t\\t\\n\\t\\t\\t\\n\\t\\t\\t</td>\\n\\t\\t<td class=\"num\"><a href=\"javascript:find_list(\\'nickname\\',\\'18351148\\');\" class=\"author\">carl****</a><br>22.08.11</td>\\n\\t</tr>\\n\\t\\n\\t<tr>\\n\\t\\t<td class=\"ac num\">18351147</td>\\n\\t\\t\\t<td class=\"title\">\\n\\t\\t\\t\\n\\t\\t\\t\\n\\t\\t\\t\\t<a href=\"?st=mcode&sword=217719&target=after\" class=\"movie color_b\">명탐정 코난: 할로윈의 신부</a>\\n\\t\\t\\t\\n\\t\\t\\t\\n\\t\\t\\t\\n\\t\\t\\t<div class=\"list_netizen_score\">\\n\\t\\t\\t\\t<span class=\"st_off\"><span class=\"st_on\" style=\"width:100%\">별점 - 총 10점 중</span></span><em>10</em>\\n\\t\\t\\t</div>\\n\\t\\t\\t<br>개레전드 인생영화에요 와.. \\n\\t\\t\\t\\n\\t\\t\\t\\n\\t\\t\\t\\n\\t\\t\\t\\t\\n\\t\\t\\t\\t\\n\\t\\t\\t\\t\\n\\t\\t\\t\\t<a href=\"#\" onclick=\"report(\\'mine****\\', \\'3MtXaZ15SSPkBQe9VYjpPKaEuf0n5jeqJ1tydIEQu7U=\\', \\'개레전드 인생영화에요 와..\\', \\'18351147\\', \\'point_after\\');\" class=\"report\" style=\"color:#8F8F8F\" title=\"새 창\">신고</a>\\n\\t\\t\\t\\n\\t\\t\\t\\n\\t\\t\\t</td>\\n\\t\\t<td class=\"num\"><a href=\"javascript:find_list(\\'nickname\\',\\'18351147\\');\" class=\"author\">mine****</a><br>22.08.11</td>\\n\\t</tr>\\n\\t\\n\\t\\n\\t</tbody>\\n\\t</table>\\n\\t<form id=\"reportForm\" name=\"reportForm1\"></form>\\n\\t<script type=\"text/javascript\">\\n\\tfunction report(writerId, encryptedId, title, nid, boardId){\\n\\t\\tif( \\'Y\\' == \\'N\\' || \\'Y\\' == \\'G\\' ) {\\n\\t\\t\\topenNotify(\\'Y\\', \\'\\');\\n\\t\\t\\treturn;\\n\\t\\t}\\n\\t\\tif(login_check()== false) {\\n\\t\\t\\treturn;\\n\\t\\t}\\n\\t\\t\\t\\n\\t\\t\\turl = location.protocol+ \"//\" + location.host + \"/movie/board/common/report.naver\";\\n\\t\\t\\tif(\"\" == \"\"){\\n\\t\\t\\t\\tgoLogin();\\n\\t\\t\\t}else{\\n\\t\\t\\t\\tvar reportForm = document.getElementById(\"reportForm\");\\n\\t\\t\\t\\tvar formInput1 = createReportHiddenParameter(\"writerId\", writerId);\\n\\t\\t\\t\\tvar formInput2 = createReportHiddenParameter(\"nid\", nid);\\n\\t\\t\\t\\tvar formInput3 = createReportHiddenParameter(\"boardId\", boardId);\\n\\t\\t\\t\\tvar formInput4 = createReportHiddenParameter(\"title\", title);\\n\\t\\t\\t\\tvar formInput5 = createReportHiddenParameter(\"encryptedId\", encryptedId);\\n\\n\\t\\t\\t\\treportForm.appendChild(formInput1);\\n\\t\\t\\t\\treportForm.appendChild(formInput2);\\n\\t\\t\\t\\treportForm.appendChild(formInput3);\\n\\t\\t\\t\\treportForm.appendChild(formInput4);\\n\\t\\t\\t\\treportForm.appendChild(formInput5);\\n\\t\\t\\t\\t\\n\\t\\t\\t\\twindow.open(\"\", \"report\", \"status=yes, width=575, height=800, scrollbars=yes, menubar=no, toolbar=no, location=no\");\\n\\t\\t\\t\\treportForm.action = url;\\n\\t\\t\\t\\treportForm.target=\"report\";\\n\\t\\t\\t\\treportForm.submit();\\n\\n\\t\\t\\t\\treportForm.removeChild(formInput1);\\n\\t\\t\\t\\treportForm.removeChild(formInput2);\\n\\t\\t\\t\\treportForm.removeChild(formInput3);\\n\\t\\t\\t\\treportForm.removeChild(formInput4);\\t\\n\\t\\t\\t\\treportForm.removeChild(formInput5);\\t\\n\\t\\t\\t}\\n\\t}\\n\\tfunction createReportHiddenParameter(name, value){\\n\\t\\tvar input = document.createElement(\"input\");\\n\\t\\tinput.type=\"hidden\";\\n\\t\\tinput.name = name;\\n\\t\\tinput.value = value;\\n\\t\\treturn input;\\n\\t}\\n\\t</script>\\n\\t<!-- //list -->\\n\\t<!-- 페이징 -->\\n\\t<div class=\"paging\">\\n\\t\\t<div>\\n\\t\\t\\n\\t\\t\\t\\n\\t\\t\\t<a href=\"/movie/point/af/list.naver?&page=1\"><span class=\"on\">1</span></a>\\n<a href=\"/movie/point/af/list.naver?&page=2\"><span>2</span></a>\\n<a href=\"/movie/point/af/list.naver?&page=3\"><span>3</span></a>\\n<a href=\"/movie/point/af/list.naver?&page=4\"><span>4</span></a>\\n<a href=\"/movie/point/af/list.naver?&page=5\"><span>5</span></a>\\n<a href=\"/movie/point/af/list.naver?&page=6\"><span>6</span></a>\\n<a href=\"/movie/point/af/list.naver?&page=7\"><span>7</span></a>\\n<a href=\"/movie/point/af/list.naver?&page=8\"><span>8</span></a>\\n<a href=\"/movie/point/af/list.naver?&page=9\"><span>9</span></a>\\n<a href=\"/movie/point/af/list.naver?&page=10\"><span>10</span></a>\\n\\n\\t\\t\\t<a href=\"/movie/point/af/list.naver?&page=2\" title=\\'다음\\' class=\\'pg_next\\'><em>다음</em></a>\\n\\n\\t\\t\\n\\t\\t</div>\\n\\t</div>\\n\\t<!-- //페이징 -->\\n\\t<!-- 검색 -->\\n\\t<fieldset class=\"form_board_search pt_18\">\\n\\t<legend>게시물 검색</legend>\\n\\t\\t<form name=\"searchListForm\" action=\"list.naver\" method=\"get\" onSubmit=\"doSearchList(); return false;\">\\n\\t\\t\\t<select size=\"1\" name=\"st\" style=\"width:75px;\" class=\"select_type_1\" onchange=\"checkSearchType(); return false;\" title=\"게시물 검색\">\\n\\t\\t\\t\\t<option value=\"userid\">글쓴이</option>\\n\\t\\t\\t\\t<option value=\"movie\">관련영화</option>\\n\\t\\t\\t</select>\\n\\t\\t\\t<input type=\"hidden\" name=\"target\" value=\"after\"/>\\n\\t\\t\\t<input type=\"hidden\" name=\"mcode\" value=\"\"/>\\n\\t\\t\\t<input name=\"sword\" type=\"text\" style=\"width:145px\" title=\"검색어입력\" class=\"input_type_text_4\" onfocus=\"openMovieSearchPopupOrNot(); return false;\">\\n\\t\\t\\t<input type=\"image\" src=\"https://ssl.pstatic.net/imgmovie/2007/img/common/btn_search.gif\" alt=\"검색\">\\n\\t\\t</form>\\n\\t</fieldset>\\n\\t<!-- //검색 -->\\n\\t<script type=\"text/javascript\">\\n\\t\\n\\t\\tvar oForm = document.searchListForm;\\n\\t\\t\\n\\t\\tfunction checkSearchType() {\\n\\t\\t\\tvar searchType = oForm.st.value;\\n\\t\\t\\t\\n\\t\\t\\tif (searchType == \"movie\") {\\n\\t\\t\\t\\toForm.sword.readOnly = true;\\n\\t\\t\\t} else {\\n\\t\\t\\t\\toForm.sword.readOnly = false;\\n\\t\\t\\t}\\n\\t\\t}\\n\\t\\t\\n\\t\\tfunction openMovieSearchPopupOrNot() {\\n\\t\\t\\tvar searchType = oForm.st.value;\\n\\t\\t\\t\\n\\t\\t\\tif (searchType == \"movie\") {\\n\\t\\t\\t\\toForm.st.focus();\\n\\t\\t\\t\\twindow.open(\"/movie/bi/pop/movie_sel.naver\", \"select_movie\", \"scrollbars=yes, status=no, toolbar=no, width=530, height=470\");\\n\\t\\t\\t}\\n\\t\\t\\t\\n\\t\\t\\treturn false;\\n\\t\\t}\\n\\t\\t\\n\\t\\tfunction doSearchList() {\\n\\t\\t\\tvar searchType = oForm.st.value;\\n\\t\\t\\t\\n\\t\\t\\tif(oForm.sword.value.length < 1) {\\n\\t\\t\\t\\talert(\"검색어를 입력해 주세요.\");\\n\\t\\t\\t\\treturn false;\\n\\t\\t\\t}\\n\\t\\t\\t\\n\\t\\t\\tif (searchType == \"movie\") {\\n\\t\\t\\t\\tvar st = \"mcode\";\\n\\t\\t\\t\\tvar sword = oForm.mcode.value;\\n\\t\\t\\t\\t\\n\\t\\t\\t\\toForm.st.value = st;\\n\\t\\t\\t\\toForm.sword.value = sword;\\n\\t\\t\\t\\tfind_list(st, sword);\\n\\t\\t\\t\\t\\n\\t\\t\\t\\treturn false;\\n\\t\\t\\t}\\n\\t\\t\\t\\n\\t\\t\\toForm.sword.value = oForm.sword.value.replace(/\\\\\\'/g,\"\\\\\\\\\\'\");\\n\\t\\t\\toForm.submit();\\n\\t\\t\\treturn true;\\n\\t\\t}\\n\\t\\t\\n\\t\\t// 영화 검색 팝업 창에서 콜백 하는, 영화 정보 세팅 함수\\n\\t\\tfunction setMovieInfo (mcode, mtitle) {\\n\\t\\t\\toForm.mcode.value = mcode;\\n\\t\\t\\toForm.sword.value = mtitle;\\n\\t\\t}\\n\\t\\t\\n\\t</script>\\n\\t\\n\\t<!-- 안내박스 -->\\n\\t<ul class=\"box_guide mt_35\">\\n\\t\\t<li>\\n\\t\\t\\t<dl class=\"info_guide\">\\n\\t\\t\\t\\t<dt class=\"blind\">유의사항</dt>\\n\\t\\t\\t\\t<dd>평점은 영화별로 1인당 1회만 등록이 가능하며 하루에 최대 3개의 영화까지만 등록이 가능합니다.\\n\\t\\t\\t\\t\\t게시판 용도에 맞지 않는 글은 운영자에 의해 삭제될 수 있습니다. <span class=\"rule\"><a href=\"javascript:openRulePopup();\"></a></span></dd>\\n\\t\\t\\t</dl>\\n\\t\\t</li>\\n\\t</ul>\\n\\t<!-- //안내박스 -->\\n\\t<!-- 탑버튼 -->\\n\\t<div class=\"go_top\">\\n\\t\\n\\t<a href=\"#gnb_top\"><img src=\"https://ssl.pstatic.net/imgmovie/2007/img/common/btn_top.gif\" alt=\"TOP\" width=\"30\" height=\"11\"></a>\\n\\t</div>\\n\\t<!-- //탑버튼 -->\\r\\n\\t\\t\\t\\t\\t</div>\\r\\n\\t\\t\\t\\r\\n\\t\\t\\t\\t\\t<div id=\"assistant\">\\r\\n\\t\\t\\t\\t\\t\\t\\r\\n\\r\\n\\r\\n\\r\\n\\r\\n\\r\\n\\r\\n\\r\\n\\t\\r\\n\\t\\t\\r\\n\\r\\n\\r\\n\\r\\n\\r\\n\\r\\n<!-- 우측 메뉴 -->\\r\\n\\r\\n\\t \\r\\n\\r\\n\\r\\n\\r\\n\\t<!-- 영화 인기검색어 -->\\r\\n\\t<div class=\"box_type_1 mb_8\">\\r\\n\\t<h3><img src=\"https://ssl.pstatic.net/imgmovie/2007/img/super_db/tlt_r_best_movie.gif\" alt=\"영화 인기검색어\" width=\"75\" height=\"11\"></h3>\\r\\n\\t\\t<ul class=\"r_ranking\">\\r\\n\\t\\t\\t\\r\\n\\t\\t\\t\\r\\n\\t\\t\\t\\t\\r\\n\\t\\t\\t\\t\\r\\n\\t\\t\\t\\t\\r\\n\\t\\t\\t\\t\\r\\n\\t\\t\\t\\t\\r\\n\\t\\t\\t\\t<li class=\"ranking01\">\\r\\n\\t\\t\\t\\t\\r\\n\\t\\t\\t\\t\\r\\n\\t\\t\\t\\t<a href=\"/movie/bi/mi/basic.naver?code=184519\" onclick=\"clickcr(this,\\'pop.list\\',\\'184519\\',\\'1\\',event);\" class=\\'b\\' title=\"비상선언\"><span class=\"blind\">1위</span>비상선언</a>\\r\\n\\t\\t\\t\\t<span class=\"rank\">\\r\\n\\t\\t\\t\\t\\r\\n\\t\\t\\t\\t\\r\\n\\t\\t\\t\\t\\r\\n\\t\\t\\t\\t\\r\\n\\t\\t\\t\\t\\t\\r\\n\\t\\t\\t\\t\\r\\n\\t\\t\\t\\t\\r\\n\\t\\t\\t\\t\\r\\n\\t\\t\\t\\t\\t\\r\\n\\t\\t\\t\\t\\t\\r\\n\\t\\t\\t\\t\\t\\r\\n\\t\\t\\t\\t\\t\\r\\n\\t\\t\\t\\t\\r\\n\\t\\t\\t\\t<img src=\"https://ssl.pstatic.net/imgmovie/2007/img/common/icon_na_1.gif\"\\r\\n\\t\\t\\t\\t\\t alt=\"순위 변동 없음\"\\r\\n\\t\\t\\t\\t\\t width=\"7\" height=\"10\">0</span>\\r\\n\\t\\t\\t\\t\\r\\n\\t\\t\\t\\r\\n\\t\\t\\t\\t\\r\\n\\t\\t\\t\\t\\r\\n\\t\\t\\t\\t\\r\\n\\t\\t\\t\\t\\r\\n\\t\\t\\t\\t<li class=\"ranking02\">\\r\\n\\t\\t\\t\\t\\r\\n\\t\\t\\t\\t\\r\\n\\t\\t\\t\\t<a href=\"/movie/bi/mi/basic.naver?code=194196\" onclick=\"clickcr(this,\\'pop.list\\',\\'194196\\',\\'2\\',event);\"  title=\"한산: 용의 출현\"><span class=\"blind\">2위</span>한산: 용의 출현</a>\\r\\n\\t\\t\\t\\t<span class=\"rank\">\\r\\n\\t\\t\\t\\t\\r\\n\\t\\t\\t\\t\\r\\n\\t\\t\\t\\t\\r\\n\\t\\t\\t\\t\\r\\n\\t\\t\\t\\t\\t\\r\\n\\t\\t\\t\\t\\r\\n\\t\\t\\t\\t\\r\\n\\t\\t\\t\\t\\r\\n\\t\\t\\t\\t\\t\\r\\n\\t\\t\\t\\t\\t\\r\\n\\t\\t\\t\\t\\t\\r\\n\\t\\t\\t\\t\\t\\r\\n\\t\\t\\t\\t\\r\\n\\t\\t\\t\\t<img src=\"https://ssl.pstatic.net/imgmovie/2007/img/common/icon_na_1.gif\"\\r\\n\\t\\t\\t\\t\\t alt=\"순위 변동 없음\"\\r\\n\\t\\t\\t\\t\\t width=\"7\" height=\"10\">0</span>\\r\\n\\t\\t\\t\\t\\r\\n\\t\\t\\t\\r\\n\\t\\t\\t\\t\\r\\n\\t\\t\\t\\t\\r\\n\\t\\t\\t\\t\\r\\n\\t\\t\\t\\t\\r\\n\\t\\t\\t\\t<li class=\"ranking03\">\\r\\n\\t\\t\\t\\t\\r\\n\\t\\t\\t\\t\\r\\n\\t\\t\\t\\t<a href=\"/movie/bi/mi/basic.naver?code=195758\" onclick=\"clickcr(this,\\'pop.list\\',\\'195758\\',\\'3\\',event);\"  title=\"헌트\"><span class=\"blind\">3위</span>헌트</a>\\r\\n\\t\\t\\t\\t<span class=\"rank\">\\r\\n\\t\\t\\t\\t\\r\\n\\t\\t\\t\\t\\r\\n\\t\\t\\t\\t\\r\\n\\t\\t\\t\\t\\r\\n\\t\\t\\t\\t\\r\\n\\t\\t\\t\\t\\t\\r\\n\\t\\t\\t\\t\\r\\n\\t\\t\\t\\t\\r\\n\\t\\t\\t\\t\\t\\r\\n\\t\\t\\t\\t\\t\\r\\n\\t\\t\\t\\t\\t\\r\\n\\t\\t\\t\\t\\t\\r\\n\\t\\t\\t\\t\\r\\n\\t\\t\\t\\t<img src=\"https://ssl.pstatic.net/imgmovie/2007/img/common/icon_up_1.gif\"\\r\\n\\t\\t\\t\\t\\t alt=\"순위 상승\"\\r\\n\\t\\t\\t\\t\\t width=\"7\" height=\"10\">3</span>\\r\\n\\t\\t\\t\\t\\r\\n\\t\\t\\t\\r\\n\\t\\t\\t\\t\\r\\n\\t\\t\\t\\t\\r\\n\\t\\t\\t\\t\\r\\n\\t\\t\\t\\t\\r\\n\\t\\t\\t\\t<li class=\"ranking04\">\\r\\n\\t\\t\\t\\t\\r\\n\\t\\t\\t\\t\\r\\n\\t\\t\\t\\t<a href=\"/movie/bi/mi/basic.naver?code=192151\" onclick=\"clickcr(this,\\'pop.list\\',\\'192151\\',\\'4\\',event);\"  title=\"외계+인 1부\"><span class=\"blind\">4위</span>외계+인 1부</a>\\r\\n\\t\\t\\t\\t<span class=\"rank\">\\r\\n\\t\\t\\t\\t\\r\\n\\t\\t\\t\\t\\r\\n\\t\\t\\t\\t\\r\\n\\t\\t\\t\\t\\r\\n\\t\\t\\t\\t\\r\\n\\t\\t\\t\\t\\t\\r\\n\\t\\t\\t\\t\\r\\n\\t\\t\\t\\t\\r\\n\\t\\t\\t\\t\\t\\r\\n\\t\\t\\t\\t\\t\\r\\n\\t\\t\\t\\t\\t\\r\\n\\t\\t\\t\\t\\t\\r\\n\\t\\t\\t\\t\\r\\n\\t\\t\\t\\t<img src=\"https://ssl.pstatic.net/imgmovie/2007/img/common/icon_down_1.gif\"\\r\\n\\t\\t\\t\\t\\t alt=\"순위 하락\"\\r\\n\\t\\t\\t\\t\\t width=\"7\" height=\"10\">1</span>\\r\\n\\t\\t\\t\\t\\r\\n\\t\\t\\t\\r\\n\\t\\t\\t\\t\\r\\n\\t\\t\\t\\t\\r\\n\\t\\t\\t\\t\\r\\n\\t\\t\\t\\t\\r\\n\\t\\t\\t\\t<li class=\"ranking05\">\\r\\n\\t\\t\\t\\t\\r\\n\\t\\t\\t\\t\\r\\n\\t\\t\\t\\t<a href=\"/movie/bi/mi/basic.naver?code=198413\" onclick=\"clickcr(this,\\'pop.list\\',\\'198413\\',\\'5\\',event);\"  title=\"헤어질 결심\"><span class=\"blind\">5위</span>헤어질 결심</a>\\r\\n\\t\\t\\t\\t<span class=\"rank\">\\r\\n\\t\\t\\t\\t\\r\\n\\t\\t\\t\\t\\r\\n\\t\\t\\t\\t\\r\\n\\t\\t\\t\\t\\r\\n\\t\\t\\t\\t\\t\\r\\n\\t\\t\\t\\t\\r\\n\\t\\t\\t\\t\\r\\n\\t\\t\\t\\t\\r\\n\\t\\t\\t\\t\\t\\r\\n\\t\\t\\t\\t\\t\\r\\n\\t\\t\\t\\t\\t\\r\\n\\t\\t\\t\\t\\t\\r\\n\\t\\t\\t\\t\\r\\n\\t\\t\\t\\t<img src=\"https://ssl.pstatic.net/imgmovie/2007/img/common/icon_na_1.gif\"\\r\\n\\t\\t\\t\\t\\t alt=\"순위 변동 없음\"\\r\\n\\t\\t\\t\\t\\t width=\"7\" height=\"10\">0</span>\\r\\n\\t\\t\\t\\t\\r\\n\\t\\t\\t\\r\\n\\t\\t</ul>\\r\\n        <!--[D] 더보기 위치 이동 -->\\r\\n        <a href=\"/movie/sdb/rank/rmovie.naver\" onclick=\"clickcr(this,\\'pop.more\\',\\'\\',\\'\\',event);\" class=\"more\">더보기</a>\\r\\n        <p class=\"term\">2022.08.10</p>\\r\\n\\t</div>\\r\\n  \\r\\n\\r\\n\\t \\n\\n\\n\\n\\t<script type=\"text/javascript\">\\n\\t\\t//탭 토글해주는 스크립트\\n\\t\\tfunction showTopPoint(param){\\t\\t\\t\\n\\t\\t\\tif(param ==\"running\"){\\n\\t\\t\\t\\tdocument.getElementById(\"topRunning\").style.display=\"\";\\n\\t\\t\\t\\tdocument.getElementById(\"topAll\").style.display=\"none\";\\n                document.getElementById(\"running_tab\").focus();\\n\\t\\t\\t\\t\\n\\t\\t\\t}else{\\n\\t\\t\\t\\tdocument.getElementById(\"topRunning\").style.display=\"none\";\\n\\t\\t\\t\\tdocument.getElementById(\"topAll\").style.display=\"\";\\n                document.getElementById(\"all_tab_in_all\").focus();\\n\\t\\t\\t}\\n\\t\\t}\\n\\t</script>\\n\\t<!-- 네티즌 최고 평점 -->\\n\\t<div id=\"topRunning\" class=\"box_type_1 mb_8\">\\n\\t\\t<h3><img src=\"https://ssl.pstatic.net/imgmovie/2007/img/community/tlt_r_netizen_good.gif\" alt=\"네티즌 최고 평점\" width=\"77\" height=\"12\"></h3>\\n\\t\\t<div style=\"_margin-top:-1px;\"><a id=\"running_tab\" href=\"javascript:showTopPoint(\\'running\\');\" onclick=\"clickcr(this,\\'npt.now\\',\\'\\',\\'\\',event);\"><img src=\"https://ssl.pstatic.net/imgmovie/2007/img/community/tab_r_01_on.gif\" alt=\"현재 상영영화\" width=\"99\" height=\"33\"></a><a id=\"all_tab\" href=\"javascript:showTopPoint(\\'all\\');\" onclick=\"clickcr(this,\\'npt.all\\',\\'\\',\\'\\',event);\"><img src=\"https://ssl.pstatic.net/imgmovie/2007/img/community/tab_r_02_off.gif\" alt=\"모든영화\" width=\"99\" height=\"33\"></a></div>\\n\\t\\t<!--[D] 선택 된 탭 대체 텍스트 제공 -->\\n\\t\\t<strong class=\"blind\">현재 상영영화</strong>\\n\\t\\t<ul class=\"grade\">\\n\\t\\t\\t\\n\\t\\t\\t\\t<li class=\"1st ranking01\">\\n\\t\\t\\t\\t\\t<span class=\"blind\">1위</span>\\n\\t\\t\\t\\t\\t\\n\\t\\t\\t\\t\\t\\t<a href=\"/movie/point/af/list.naver?st=mcode&sword=81888\" onclick=\"clickcr(this,\\'npt*n.list\\',\\'81888\\',\\'1\\',event);\" class=\"ls b\" title=\"탑건: 매버릭\">\\n\\t\\t\\t\\t\\t\\t탑건: 매버릭</a><span class=\"num b check\">9.78</span>\\n\\t\\t\\t\\t\\t\\n\\t\\t\\t\\t\\t\\n\\t\\t\\t\\t\\t\\n\\t\\t\\t\\t\\t\\t<p class=\"img_movie\"><a href=\"/movie/point/af/list.naver?st=mcode&sword=81888\" onclick=\"clickcr(this,\\'npt*n.img\\',\\'81888\\',\\'\\',event);\">\\n\\t\\t\\t\\t\\t\\t\\n\\t\\t\\t\\t\\t\\t\\t<img src=\"https://ssl.pstatic.net/imgmovie/mdi/mi_new_master/0818/81888_M67_142641.png\" alt=\"탑건: 매버릭\" width=\"176\" height=\"80\">\\n\\t\\t\\t\\t\\t\\t\\n\\t\\t\\t\\t\\t\\t\\n\\t\\t\\t\\t\\t\\t</a>\\n\\t\\t\\t\\t\\t\\t</p>\\n\\t\\t\\t\\t\\t\\t\\t\\t\\t\\t\\t\\t\\n\\t\\t\\t\\t</li>\\n\\t\\t\\t\\n\\t\\t\\t\\t<li class=\"1st ranking02\">\\n\\t\\t\\t\\t\\t<span class=\"blind\">2위</span>\\n\\t\\t\\t\\t\\t\\n\\t\\t\\t\\t\\t\\n\\t\\t\\t\\t\\t\\t<a href=\"/movie/point/af/list.naver?st=mcode&sword=217719\" onclick=\"clickcr(this,\\'npt*n.list\\',\\'217719\\',\\'2\\',event);\" class=\"ls\" title=\"명탐정 코난: 할로윈의 신부\">\\n\\t\\t\\t\\t\\t\\t명탐정 코난: 할로..</a><span class=\"num b\">9.49</span>\\n\\t\\t\\t\\t\\t\\n\\t\\t\\t\\t\\t\\t\\t\\t\\t\\t\\t\\t\\n\\t\\t\\t\\t</li>\\n\\t\\t\\t\\n\\t\\t\\t\\t<li class=\"1st ranking03\">\\n\\t\\t\\t\\t\\t<span class=\"blind\">3위</span>\\n\\t\\t\\t\\t\\t\\n\\t\\t\\t\\t\\t\\n\\t\\t\\t\\t\\t\\t<a href=\"/movie/point/af/list.naver?st=mcode&sword=192608\" onclick=\"clickcr(this,\\'npt*n.list\\',\\'192608\\',\\'3\\',event);\" class=\"ls\" title=\"범죄도시2\">\\n\\t\\t\\t\\t\\t\\t범죄도시2</a><span class=\"num b\">9.37</span>\\n\\t\\t\\t\\t\\t\\n\\t\\t\\t\\t\\t\\t\\t\\t\\t\\t\\t\\t\\n\\t\\t\\t\\t</li>\\n\\t\\t\\t\\n\\t\\t\\t\\t<li class=\"1st ranking04\">\\n\\t\\t\\t\\t\\t<span class=\"blind\">4위</span>\\n\\t\\t\\t\\t\\t\\n\\t\\t\\t\\t\\t\\n\\t\\t\\t\\t\\t\\t<a href=\"/movie/point/af/list.naver?st=mcode&sword=213733\" onclick=\"clickcr(this,\\'npt*n.list\\',\\'213733\\',\\'4\\',event);\" class=\"ls\" title=\"극장판 주술회전 0\">\\n\\t\\t\\t\\t\\t\\t극장판 주술회전 0</a><span class=\"num b\">9.24</span>\\n\\t\\t\\t\\t\\t\\n\\t\\t\\t\\t\\t\\t\\t\\t\\t\\t\\t\\t\\n\\t\\t\\t\\t</li>\\n\\t\\t\\t\\n\\t\\t\\t\\t<li class=\"1st ranking05\">\\n\\t\\t\\t\\t\\t<span class=\"blind\">5위</span>\\n\\t\\t\\t\\t\\t\\n\\t\\t\\t\\t\\t\\n\\t\\t\\t\\t\\t\\t<a href=\"/movie/point/af/list.naver?st=mcode&sword=154437\" onclick=\"clickcr(this,\\'npt*n.list\\',\\'154437\\',\\'5\\',event);\" class=\"ls\" title=\"내 사랑\">\\n\\t\\t\\t\\t\\t\\t내 사랑</a><span class=\"num b\">9.21</span>\\n\\t\\t\\t\\t\\t\\n\\t\\t\\t\\t\\t\\t\\t\\t\\t\\t\\t\\t\\n\\t\\t\\t\\t</li>\\n\\t\\t\\t\\t\\t\\t\\t\\t\\n\\t\\t</ul>\\n\\t\\t<a href=\"/movie/sdb/rank/rmovie.naver?sel=cur\" onclick=\"clickcr(this,\\'npt.more\\',\\'\\',\\'\\',event);\" class=\"more\">더보기</a><!-- 현재 상영영화의 더보기 -->\\n\\t\\t<p class=\"term\" style=\"padding:0 13px 7px 0;\">2022.08.10<img src=\"https://ssl.pstatic.net/imgmovie/2007/img/community/txt_righ_point.gif\" alt=\"까지의 관람후 누적 평점\" width=\"88\" height=\"9\"></p>\\n\\t</div>\\n\\t<div id=\"topAll\" class=\"box_type_1 mb_8\" style=\"display:none;\">\\n\\t\\t<h3><img src=\"https://ssl.pstatic.net/imgmovie/2007/img/community/tlt_r_netizen_good.gif\" alt=\"네티즌 최고 평점\" width=\"77\" height=\"12\"></h3>\\n\\t\\t<strong class=\"blind\">모든 영화</strong>\\n\\t\\t<div style=\"_margin-top:-1px;\"><a href=\"javascript:showTopPoint(\\'running\\');\" onclick=\"clickcr(this,\\'npt.now\\',\\'\\',\\'\\',event);\"><img src=\"https://ssl.pstatic.net/imgmovie/2007/img/community/tab_r_01_off.gif\" alt=\"현재 상영영화\" width=\"99\" height=\"33\"></a><a id=\"all_tab_in_all\" href=\"javascript:showTopPoint(\\'all\\');\" onclick=\"clickcr(this,\\'npt.all\\',\\'\\',\\'\\',event);\"><img src=\"https://ssl.pstatic.net/imgmovie/2007/img/community/tab_r_02_on.gif\" alt=\"모든영화\" width=\"99\" height=\"33\"></a></div>\\n\\t\\t<ul class=\"grade\">\\n\\t\\t\\t\\n\\t\\t\\t\\t<li class=\"1st ranking01\">\\n\\t\\t\\t\\t\\t<span class=\"blind\">1위</span>\\n\\t\\t\\t\\t\\t\\n\\t\\t\\t\\t\\t\\t<a href=\"/movie/point/af/list.naver?st=mcode&sword=81888\" onclick=\"clickcr(this,\\'npt*a.list\\',\\'81888\\',\\'1\\',event);\" class=\"ls b\" title=\"탑건: 매버릭\">\\n\\t\\t\\t\\t\\t\\t탑건: 매버릭\\n\\t\\t\\t\\t\\t\\t</a><span class=\"num b check\">9.78</span>\\n\\t\\t\\t\\t\\t\\n\\t\\t\\t\\t\\t\\n\\t\\t\\t\\t\\t\\n\\t\\t\\t\\t\\t<p class=\"img_movie\"><a href=\"/movie/point/af/list.naver?st=mcode&sword=81888\" onclick=\"clickcr(this,\\'npt*a.img\\',\\'81888\\',\\'\\',event);\">\\n\\t\\t\\t\\t\\t\\n\\t\\t\\t\\t\\t\\t\\t<img src=\"https://ssl.pstatic.net/imgmovie/mdi/mi_new_master/0818/81888_M67_142641.png\" alt=\"탑건: 매버릭\" width=\"176\" height=\"80\">\\n\\t\\t\\t\\t\\t\\t\\n\\t\\t\\t\\t\\t\\t\\n\\t\\t\\t\\t\\t</a></p>\\n\\t\\t\\t\\t\\t\\t\\t\\t\\t\\t\\t\\t\\n\\t\\t\\t\\t</li>\\n\\t\\t\\t\\n\\t\\t\\t\\t<li class=\"1st ranking02\">\\n\\t\\t\\t\\t\\t<span class=\"blind\">2위</span>\\n\\t\\t\\t\\t\\t\\n\\t\\t\\t\\t\\t\\n\\t\\t\\t\\t\\t\\t<a href=\"/movie/point/af/list.naver?st=mcode&sword=191613\" onclick=\"clickcr(this,\\'npt*a.list\\',\\'191613\\',\\'2\\',event);\" class=\"ls\" title=\"클라우스\">\\n\\t\\t\\t\\t\\t\\t클라우스</a><span class=\"num b\">9.72</span>\\n\\t\\t\\t\\t\\t\\n\\t\\t\\t\\t\\t\\t\\t\\t\\t\\t\\t\\t\\n\\t\\t\\t\\t</li>\\n\\t\\t\\t\\n\\t\\t\\t\\t<li class=\"1st ranking03\">\\n\\t\\t\\t\\t\\t<span class=\"blind\">3위</span>\\n\\t\\t\\t\\t\\t\\n\\t\\t\\t\\t\\t\\n\\t\\t\\t\\t\\t\\t<a href=\"/movie/point/af/list.naver?st=mcode&sword=171539\" onclick=\"clickcr(this,\\'npt*a.list\\',\\'171539\\',\\'3\\',event);\" class=\"ls\" title=\"그린 북\">\\n\\t\\t\\t\\t\\t\\t그린 북</a><span class=\"num b\">9.6</span>\\n\\t\\t\\t\\t\\t\\n\\t\\t\\t\\t\\t\\t\\t\\t\\t\\t\\t\\t\\n\\t\\t\\t\\t</li>\\n\\t\\t\\t\\n\\t\\t\\t\\t<li class=\"1st ranking04\">\\n\\t\\t\\t\\t\\t<span class=\"blind\">4위</span>\\n\\t\\t\\t\\t\\t\\n\\t\\t\\t\\t\\t\\n\\t\\t\\t\\t\\t\\t<a href=\"/movie/point/af/list.naver?st=mcode&sword=174830\" onclick=\"clickcr(this,\\'npt*a.list\\',\\'174830\\',\\'4\\',event);\" class=\"ls\" title=\"가버나움\">\\n\\t\\t\\t\\t\\t\\t가버나움</a><span class=\"num b\">9.59</span>\\n\\t\\t\\t\\t\\t\\n\\t\\t\\t\\t\\t\\t\\t\\t\\t\\t\\t\\t\\n\\t\\t\\t\\t</li>\\n\\t\\t\\t\\n\\t\\t\\t\\t<li class=\"1st ranking05\">\\n\\t\\t\\t\\t\\t<span class=\"blind\">5위</span>\\n\\t\\t\\t\\t\\t\\n\\t\\t\\t\\t\\t\\n\\t\\t\\t\\t\\t\\t<a href=\"/movie/point/af/list.naver?st=mcode&sword=186114\" onclick=\"clickcr(this,\\'npt*a.list\\',\\'186114\\',\\'5\\',event);\" class=\"ls\" title=\"밥정\">\\n\\t\\t\\t\\t\\t\\t밥정</a><span class=\"num b\">9.56</span>\\n\\t\\t\\t\\t\\t\\n\\t\\t\\t\\t\\t\\t\\t\\t\\t\\t\\t\\t\\n\\t\\t\\t\\t</li>\\n\\t\\t\\t\\t\\t\\t\\t\\t\\n\\t\\t</ul>\\n\\t\\t<a href=\"/movie/sdb/rank/rmovie.naver?sel=pnt\" onclick=\"clickcr(this,\\'npt.more\\',\\'\\',\\'\\',event);\" class=\"more\">더보기</a><!-- 모든영화의 더보기 -->\\n\\t\\t<p class=\"term\" style=\"padding:0 13px 7px 0;\">2022.08.10<img src=\"https://ssl.pstatic.net/imgmovie/2007/img/community/txt_righ_point.gif\" alt=\"까지의 관람후 누적 평점\" width=\"88\" height=\"9\"></p>\\n\\t</div>\\n\\t<!-- //네티즌 최고 평점 -->\\n  \\r\\n\\r\\n\\t \\n\\n\\n\\n<!-- 가장 많이 추천된 리뷰 -->\\n<div class=\"box_type_1 mb_8\">\\n\\t<h3><img src=\"https://ssl.pstatic.net/imgmovie/2007/img/community/tlt_r_best_review_reco.gif\" alt=\"가장 많이 추천된 리뷰\" width=\"103\" height=\"12\"></h3>\\n\\t<dl class=\"ranking_data\">\\n\\t\\t\\n\\t\\t\\t<dt class=\"ranking01\">\\n\\t\\t\\t\\t<span class=\"blind\">1위</span>\\n\\t\\t\\t\\t\\n\\t\\t\\t\\t\\t<a href=\"/movie/board/review/read.naver?nid=4810033\" onclick=\"clickcr(this,\\'rcr.title\\',\\'4810033\\',\\'1\\',event);\" class=\"b\" title=\"&lt;비상선언&gt;을 비추선언한다 - 스포일러 리뷰\">&lt;비상선언&gt;을 비추선..</a>\\n\\t\\t\\t\\t\\n\\t\\t\\t\\t\\n\\t\\t\\t\\t\\n\\t\\t\\t</dt>\\n\\t\\t\\t<dd>\\n\\t\\t\\t\\t\\n\\t\\t\\t\\t\\t<a href=\"/movie/bi/mi/basic.naver?code=184519\" onclick=\"clickcr(this,\\'rcr.movie\\',\\'184519\\',\\'1\\',event);\" class=\"check\" title=\"비상선언\">비상선언</a><a href=\"/movie/board/review/list.naver?st=nickname&sword=4810033\" onclick=\"clickcr(this,\\'rcr.id\\',\\'stonela\\',\\'1\\',event);\" class=\"nick check\">ston****</a>\\n\\t\\t\\t\\t\\n\\t\\t\\t\\t\\n\\t\\t\\t</dd>\\n\\t\\t\\n\\t\\t\\t<dt class=\"ranking02\">\\n\\t\\t\\t\\t<span class=\"blind\">2위</span>\\n\\t\\t\\t\\t\\n\\t\\t\\t\\t\\n\\t\\t\\t\\t\\t<a href=\"/movie/board/review/read.naver?nid=4810047\" onclick=\"clickcr(this,\\'rcr.title\\',\\'4810047\\',\\'2\\',event);\" title=\"할리우드 액션영화에 버금가는 작품\">할리우드 액션영화에 버금가..</a>\\n\\t\\t\\t\\t\\n\\t\\t\\t\\t\\n\\t\\t\\t</dt>\\n\\t\\t\\t<dd>\\n\\t\\t\\t\\t\\n\\t\\t\\t\\t\\n\\t\\t\\t\\t\\t<a href=\"/movie/bi/mi/basic.naver?code=203101\" onclick=\"clickcr(this,\\'rcr.movie\\',\\'203101\\',\\'2\\',event);\" title=\"카터\">카터</a> <a href=\"/movie/board/review/list.naver?st=nickname&sword=4810047\" onclick=\"clickcr(this,\\'rcr.id\\',\\'thedreammedia\\',\\'2\\',event);\" class=\"nick\">thed****</a>\\n\\t\\t\\t\\t\\n\\t\\t\\t</dd>\\n\\t\\t\\n\\t\\t\\t<dt class=\"ranking03\">\\n\\t\\t\\t\\t<span class=\"blind\">3위</span>\\n\\t\\t\\t\\t\\n\\t\\t\\t\\t\\n\\t\\t\\t\\t\\t<a href=\"/movie/board/review/read.naver?nid=4810013\" onclick=\"clickcr(this,\\'rcr.title\\',\\'4810013\\',\\'3\\',event);\" title=\"비상선언 ( 어쩌면 재난 영화보다 더 무서운 현실 )-평점 5.5점\">비상선언 ( 어쩌면 재난 영..</a>\\n\\t\\t\\t\\t\\n\\t\\t\\t\\t\\n\\t\\t\\t</dt>\\n\\t\\t\\t<dd>\\n\\t\\t\\t\\t\\n\\t\\t\\t\\t\\n\\t\\t\\t\\t\\t<a href=\"/movie/bi/mi/basic.naver?code=184519\" onclick=\"clickcr(this,\\'rcr.movie\\',\\'184519\\',\\'3\\',event);\" title=\"비상선언\">비상선언</a> <a href=\"/movie/board/review/list.naver?st=nickname&sword=4810013\" onclick=\"clickcr(this,\\'rcr.id\\',\\'renorous\\',\\'3\\',event);\" class=\"nick\">reno****</a>\\n\\t\\t\\t\\t\\n\\t\\t\\t</dd>\\n\\t\\t\\n\\t\\t\\t<dt class=\"ranking04\">\\n\\t\\t\\t\\t<span class=\"blind\">4위</span>\\n\\t\\t\\t\\t\\n\\t\\t\\t\\t\\n\\t\\t\\t\\t\\t<a href=\"/movie/board/review/read.naver?nid=4810042\" onclick=\"clickcr(this,\\'rcr.title\\',\\'4810042\\',\\'4\\',event);\" title=\"비상선언 (스포있음)\">비상선언 (스포있음)</a>\\n\\t\\t\\t\\t\\n\\t\\t\\t\\t\\n\\t\\t\\t</dt>\\n\\t\\t\\t<dd>\\n\\t\\t\\t\\t\\n\\t\\t\\t\\t\\n\\t\\t\\t\\t\\t<a href=\"/movie/bi/mi/basic.naver?code=184519\" onclick=\"clickcr(this,\\'rcr.movie\\',\\'184519\\',\\'4\\',event);\" title=\"비상선언\">비상선언</a> <a href=\"/movie/board/review/list.naver?st=nickname&sword=4810042\" onclick=\"clickcr(this,\\'rcr.id\\',\\'24fps\\',\\'4\\',event);\" class=\"nick\">24fp****</a>\\n\\t\\t\\t\\t\\n\\t\\t\\t</dd>\\n\\t\\t\\n\\t\\t\\t<dt class=\"ranking05\">\\n\\t\\t\\t\\t<span class=\"blind\">5위</span>\\n\\t\\t\\t\\t\\n\\t\\t\\t\\t\\n\\t\\t\\t\\t\\t<a href=\"/movie/board/review/read.naver?nid=4809954\" onclick=\"clickcr(this,\\'rcr.title\\',\\'4809954\\',\\'5\\',event);\" title=\"[영화 리뷰] 영화 한산, 거북선에 대한 집착\">[영화 리뷰] 영화 한산, 거..</a>\\n\\t\\t\\t\\t\\n\\t\\t\\t\\t\\n\\t\\t\\t</dt>\\n\\t\\t\\t<dd>\\n\\t\\t\\t\\t\\n\\t\\t\\t\\t\\n\\t\\t\\t\\t\\t<a href=\"/movie/bi/mi/basic.naver?code=194196\" onclick=\"clickcr(this,\\'rcr.movie\\',\\'194196\\',\\'5\\',event);\" title=\"한산: 용의 출현\">한산: 용의 출현</a> <a href=\"/movie/board/review/list.naver?st=nickname&sword=4809954\" onclick=\"clickcr(this,\\'rcr.id\\',\\'greenman300\\',\\'5\\',event);\" class=\"nick\">gree****</a>\\n\\t\\t\\t\\t\\n\\t\\t\\t</dd>\\n\\t\\t\\n\\t</dl>\\n\\t<p class=\"term\" style=\"padding:0 13px 7px 0;\">2022.08.03-2022.08.10</p>\\n</div>\\n<!-- //가장 많이 추천된 리뷰 -->\\n  \\r\\n\\r\\n\\r\\n\\t\\r\\n\\t\\r\\n\\t\\r\\n\\t\\r\\n\\t\\r\\n\\t\\t\\r\\n\\t\\r\\n\\t\\r\\n\\t\\t\\r\\n\\t\\r\\n\\r\\n\\r\\n\\t\\t\\t\\t\\t</div>\\r\\n\\t\\t\\t\\t\\t<img src=\"https://ssl.pstatic.net/imgmovie/2007/img/common/blank.gif\" alt=\"\" class=\"clear\">\\r\\n\\t\\t\\t\\t</div>\\r\\n\\t\\t\\t\\t<!-- //Content Body -->\\r\\n\\r\\n\\t\\t\\t\\t</div>\\r\\n\\t\\t\\t</div>\\r\\n\\t\\t</div>\\r\\n\\t\\t<!-- //content -->\\r\\n\\t</div>\\r\\n\\t<!-- //container -->\\r\\n\\r\\n\\t<!-- Footer -->\\r\\n\\t<script type=\"text/javascript\" src=\"/common/js/jindo/component/1.0.2/jindo.Component.js\"></script>\\r\\n\\t<script type=\"text/javascript\" src=\"/common/js/jindo/component/1.0.2/jindo.UIComponent.js\"></script>\\r\\n\\t\\n\\n\\n\\n\\n\\n\\n<!-- footer -->\\n<div id=\"footer\">\\n\\t<div class=\"in_footer\">\\n\\t\\t<div class=\"foot_con\">\\n\\t\\t\\t<ul>\\n\\t\\t\\t\\t<li class=\"first\"><a href=\"http://www.naver.com/rules/service.html\" target=\"_blank\" onclick=\"clickcr(this, \\'fot.agreement\\', \\'\\', \\'\\', event);\">이용약관</a></li>\\n\\t\\t\\t\\t<li><a href=\"http://www.naver.com/rules/privacy.html\" target=\"_blank\"  onclick=\"clickcr(this, \\'fot.privacy\\', \\'\\', \\'\\', event);\"><strong>개인정보처리방침</strong></a></li>\\n\\t\\t\\t\\t<li><a href=\"http://www.naver.com/rules/disclaimer.html\" target=\"_blank\" onclick=\"clickcr(this, \\'fot.disclaimer\\', \\'\\', \\'\\', event);\">책임의 한계와 법적고지</a></li>\\n\\t\\t\\t\\t<li><a href=\"https://help.naver.com/support/service/main.nhn?serviceNo=800\" target=\"_blank\" onclick=\"clickcr(this, \\'fot.help\\', \\'\\', \\'\\', event);\">영화 고객센터</a></li>\\n\\t\\t\\t</ul>\\n\\t\\t\\t<p class=\"info\">본 콘텐츠의 저작권은 저작권자 또는 제공처에 있으며, 이를 무단 이용하는 경우 저작권법 등에 따라 법적 책임을 질 수 있습니다.</p>\\n\\t\\t\\t<p class=\"info\">\\n\\t\\t\\t\\t사업자등록번호 : 220-81-62517<span>통신판매업 신고번호</span> : 경기성남 제 2006 - 692호<span>대표이사 : 최수연</span><span><a href=\"http://www.ftc.go.kr/info/bizinfo/communicationList.jsp\" onclick=\"clickcr(this, \\'fot.bizinfo\\', \\'\\', \\'\\', event);\">사업자등록정보 확인</a></span><br>\\n\\t\\t\\t\\t주소 : 경기도 성남시 분당구 정자일로 95, NAVER 1784, 13561 <span>대표전화 : 1588-3820</span>\\n\\t\\t\\t</p>\\n\\t\\t\\t<address>\\n\\t\\t\\t\\t<a href=\"https://www.navercorp.com\" target=\"_blank\" class=\"logo\" onclick=\"clickcr(this, \\'fot.nhn\\', \\'\\', \\'\\', event);\"><img src=\"https://ssl.pstatic.net/static/movie/2013/07/logo_naver.png\" width=\"63\" height=\"11\" alt=\"NAVER\"></a>\\n\\t\\t\\t\\t<em>Copyright &copy;</em>\\n\\t\\t\\t\\t<a href=\"https://www.navercorp.com\" target=\"_blank\" onclick=\"clickcr(this, \\'fot.corp\\', \\'\\', \\'\\', event);\">NAVER Corp.</a>\\n\\t\\t\\t\\t<span>All Rights Reserved.</span>\\n\\t\\t\\t</address>\\n\\t\\t</div>\\n\\t</div>\\n</div>\\n<!-- //footer -->\\n\\n\\n\\n\\n\\r\\n\\r\\n\\r\\n\\r\\n<script type=\"text/javascript\">\\r\\n\\r\\nif (false) {\\r\\n\\tvar alertType = \"NONE\";\\r\\n\\tvar koreanTitle = \"\";\\r\\n\\tvar movieCode = \"0\";\\r\\n\\tvar userReserveCount = \"0\";\\r\\n\\tvar todayDatetime = \"20220811152914\";\\r\\n\\tvar endDatetimeAfterTwoDays = \"00000000000000\";\\r\\n\\t\\r\\n\\t\\r\\n\\tif (movieCode > 0) {\\r\\n\\t\\topenWriteActualPointAlert (alertType, koreanTitle, movieCode, userReserveCount, todayDatetime, endDatetimeAfterTwoDays);\\r\\n\\t}\\r\\n}\\r\\n\\r\\nfunction openWriteActualPointAlert (alertType, koreanTitle, movieCode, count, today, endDate) {\\r\\n\\tif (alertType == \"ONE\" || alertType == \"MORE\") {\\r\\n\\t\\tsetCookieLastUserReserveDate(today, endDate);\\r\\n\\t\\tif (confirm(\"관람하신 \" + koreanTitle + \"에\\\\n평점 등록 시 네이버페이 마일리지 500원 적립!\\\\n지금 평점쓰기 메뉴로 이동하시겠습니까?\")) {\\r\\n\\t\\t\\ttop.location.href = \"http://movie.naver.com/movie/bi/mi/point.naver?code=\" + movieCode;\\r\\n\\t\\t}\\r\\n\\t}\\r\\n\\t\\r\\n}\\r\\n\\r\\nfunction setCookieLastUserReserveDate(today, endDate) {\\r\\n\\tvar cookieForNotOpenActualPointPopup = jindo.$Cookie();\\r\\n\\t\\r\\n\\t\\r\\n\\tcookieForNotOpenActualPointPopup.remove(\"lastUserReserveDatetime\");\\r\\n\\tcookieForNotOpenActualPointPopup.remove(\"lastUserReserveCheckDatetime\");\\r\\n\\t\\r\\n\\tcookieForNotOpenActualPointPopup.set(\"lastUserReserveDatetime\", endDate, 9999, \"movie.naver.com\");\\r\\n\\tcookieForNotOpenActualPointPopup.set(\"lastUserReserveCheckDatetime\", today, 9999, \"movie.naver.com\");\\r\\n}\\r\\n\\r\\n</script>\\n\\n\\n\\n\\r\\n\\r\\n\\r\\n\\r\\n\\r\\n<script type=\"text/javascript\">\\r\\n\\t\\r\\n\\t\\t\\r\\n\\t\\t\\r\\n\\t\\t\\r\\n\\t\\t\\r\\n\\t\\t\\tvar alertMessage = \"지원되지 않는 브라우저로 서비스 이용에 제한이 있습니다.\";\\r\\n\\t\\t\\r\\n\\t\\r\\n\\r\\n\\tfunction getBrowser() {\\r\\n\\t\\tvar ua = navigator.userAgent;\\r\\n\\t\\tif (/NAVER/.test(ua)) {\\r\\n\\t\\t\\treturn \"NAVER_APP\";\\r\\n\\t\\t} else if (/IEMobile/.test(ua)) {\\r\\n\\t\\t\\treturn \"INTERNET_EXPLORER_MOBILE\";\\r\\n\\t\\t} else if (/MSIE/.test(ua) || /Trident/.test(ua)) {\\r\\n\\t\\t\\treturn \"INTERNET_EXPLORER\";\\r\\n\\t\\t} else if (/Firefox/.test(ua)) {\\r\\n\\t\\t\\treturn \"FIREFOX\";\\r\\n\\t\\t} else if (/Opera\\\\//.test(ua) || /OPR\\\\//.test(ua)) {\\r\\n\\t\\t\\treturn \"OPERA\";\\r\\n\\t\\t}  else if (/Swing\\\\//.test(ua)) {\\r\\n\\t\\t\\treturn \"SWING\";\\r\\n\\t\\t} else if (/Chrome\\\\//.test(ua) || /CriOS\\\\//.test(ua)) {\\r\\n\\t\\t\\treturn \"CHROME\";\\r\\n\\t\\t} else if (/BAND\\\\//.test(ua)) {\\r\\n\\t\\t\\treturn \"BAND_APP\";\\r\\n\\t\\t} else if (/FBAN\\\\/FBIOS/.test(ua)) {\\r\\n\\t\\t\\treturn \"FACEBOOK_APP\";\\r\\n\\t\\t} else if (/Twitter/.test(ua)) {\\r\\n\\t\\t\\treturn \"TWITTER_APP\";\\r\\n\\t\\t} else if (/KAKAOTALK/.test(ua)) {\\r\\n\\t\\t\\treturn \"KAKAOTALK_APP\";\\r\\n\\t\\t} else if (/Android/.test(ua) && /Safari/.test(ua)) {\\r\\n\\t\\t\\treturn \"ANDROID_INTERNET_APP\";\\r\\n\\t\\t} else if (/Safari/.test(ua)) {\\r\\n\\t\\t\\treturn \"SAFARI\";\\r\\n\\t\\t}\\r\\n\\r\\n\\t\\treturn \"\";\\r\\n\\t}\\r\\n\\t\\r\\n\\tif (getBrowser() === \"UNKNOWN\" && jindo.$Cookie().get(\"notSupportBrowserAlert\") != \\'true\\') {\\r\\n\\t\\talert(alertMessage);\\r\\n\\t\\tjindo.$Cookie().set(\"notSupportBrowserAlert\", \"true\", \"9999\", \"movie.naver.com\");\\r\\n\\t}\\r\\n</script>\\r\\n\\n\\n\\r\\n<script type=\"text/javascript\" src=\"/common/js/lcslog.js\"></script>\\r\\n<script type=\"text/javascript\" src=\"/common/js/jindo/component/1.0.2/jindo.Component.min.js\"></script>\\r\\n<script type=\"text/javascript\" src=\"/common/js/vendor/jindo.WatchInput.js\" charset=\"UTF-8\"></script>\\r\\n<script type=\"text/javascript\" src=\"/common/js/lib/Core.js?20220628175136\" charset=\"UTF-8\"></script>\\r\\n<script type=\"text/javascript\" src=\"/common/js/lib/LNB.js?20220628175136\" charset=\"UTF-8\"></script>\\r\\n<script type=\"text/javascript\" src=\"/common/js/lib/Search.js?20220628175136\" charset=\"UTF-8\"></script>\\r\\n\\n\\n\\n\\t\\n\\t\\n\\t\\t\\n\\t\\n\\n\\n\\n\\n\\t\\n\\t\\n\\n<script type=\"text/javascript\">\\n\\n    // nhn.movie.Search가 jindo 기반이어서 javascript로 전환함\\n    if (document.addEventListener) {\\n        document.addEventListener(\"DOMContentLoaded\", function () {\\n            document.removeEventListener(\"DOMContentLoaded\", arguments.callee, false);\\n            loadFooter();\\n        }, false);\\n    }\\n// Internet Explorer\\n    else if (document.attachEvent) {\\n        // onreadystatechange 는 모든 브라우저가 반환\\n        document.attachEvent(\"onreadystatechange\", function () {\\n            if (document.readyState == \"complete\" || document.readyState == \\'loaded\\') {\\n                document.detachEvent(\"onreadystatechange\", arguments.callee);\\n                loadFooter();\\n            }\\n        });\\n    }\\n\\n    function loadFooter() {\\n        var goNaver = document.getElementById(\"lnb_gonaver\");\\n        goNaver.addEventListener(\"focus\", focusonNaverIcon, false);\\n\\n        // LNB - 사용처를 못 찾음\\n//   \\tvar oLNB = new nhn.movie.LNB();\\n\\n        // 상단 검색영역\\n        var oSearch = new nhn.movie.Search({\\n            area : \"jSearchArea\",\\n            autosearch : \"https://auto-movie.naver.com/ac?q_enc=UTF-8&st=1&r_lt=1&n_ext=1&t_koreng=1&r_format=json&r_enc=utf-8&r_unicode=0&r_escape=1&q=\",\\n            movelink : \"/movie/bi/mi/basic.naver?code=\",\\n            peoplelink : \"/movie/bi/pi/basic.naver?code=\"\\n        });\\n\\n        getGNB();\\n    }\\n\\n    function focusonNaverIcon(event) {\\n        event.preventDefault();\\t// jindo.$Event.CANCEL_DEFAULT 와 동일한 기능으로 추측됨\\n        document.getElementById(\\'ipt_tx_srch\\').value= \"\";\\n        document.getElementById(\\'search_placeholder\\').style = \"display:inline;\";\\n        if (document.getElementById(\\'jAutoComplate\\') != undefined && document.getElementById(\\'jAutoComplate\\') !== null) {\\n            document.getElementById(\\'jAutoComplate\\').style = \"display:none;\"\\n        }\\n    }\\n\\n    \\n    window.addEventListener(\\'pageshow\\', function(event) { lcs_do(); });\\n\\n    document.addEventListener(\\'click\\', function (event) {\\n        var welSource = event.srcElement;\\t// jindo.$Element(oEvent.element);\\n        if (!document.getElementById(\"gnb\").contains(welSource)) {\\n            gnbAllLayerClose();\\n        }\\n    });\\n</script>\\n\\n\\t\\r\\n\\t<!-- //Footer -->\\r\\n\\t\\t\\t\\r\\n</div>\\r\\n\\r\\n\\r\\n</body>\\r\\n</html>\\t'"
      ]
     },
     "execution_count": 2,
     "metadata": {},
     "output_type": "execute_result"
    }
   ],
   "source": [
    "res = req.get('https://movie.naver.com/movie/point/af/list.naver')\n",
    "res.text"
   ]
  },
  {
   "cell_type": "code",
   "execution_count": 3,
   "id": "a36440a6",
   "metadata": {},
   "outputs": [],
   "source": [
    "soup = bs(res.text, 'html.parser')"
   ]
  },
  {
   "cell_type": "code",
   "execution_count": 4,
   "id": "34d43708",
   "metadata": {},
   "outputs": [
    {
     "data": {
      "text/plain": [
       "[]"
      ]
     },
     "execution_count": 4,
     "metadata": {},
     "output_type": "execute_result"
    }
   ],
   "source": [
    "movie_title = soup.select(\"a.movie color_b\")\n",
    "movie_title"
   ]
  },
  {
   "cell_type": "code",
   "execution_count": 5,
   "id": "20bbddee",
   "metadata": {
    "scrolled": true
   },
   "outputs": [
    {
     "data": {
      "text/plain": [
       "[<em>1</em>,\n",
       " <em>8</em>,\n",
       " <em>8</em>,\n",
       " <em>7</em>,\n",
       " <em>10</em>,\n",
       " <em>10</em>,\n",
       " <em>2</em>,\n",
       " <em>1</em>,\n",
       " <em>10</em>,\n",
       " <em>10</em>]"
      ]
     },
     "execution_count": 5,
     "metadata": {},
     "output_type": "execute_result"
    }
   ],
   "source": [
    "score = soup.select(\"td.title>div>em\")\n",
    "score"
   ]
  },
  {
   "cell_type": "code",
   "execution_count": 6,
   "id": "4025b4ec",
   "metadata": {},
   "outputs": [
    {
     "data": {
      "text/plain": [
       "['1', '8', '8', '7', '10', '10', '2', '1', '10', '10']"
      ]
     },
     "execution_count": 6,
     "metadata": {},
     "output_type": "execute_result"
    }
   ],
   "source": [
    "score_list = []\n",
    "for i in score:\n",
    "    score_list.append(i.text)\n",
    "score_list"
   ]
  },
  {
   "cell_type": "code",
   "execution_count": 7,
   "id": "d69e11a1",
   "metadata": {},
   "outputs": [],
   "source": [
    "view = soup.select('td.title')"
   ]
  },
  {
   "cell_type": "code",
   "execution_count": 8,
   "id": "eb9e9b33",
   "metadata": {},
   "outputs": [
    {
     "data": {
      "text/plain": [
       "'\\n비상선언\\n\\n별점 - 총 10점 중1\\n\\n진짜 평점 확인안하고 본걸 후회한다..노골적인 반미 반일갬성에, 물타기감동없는 어거지 신파에 OO것 러닝타임은 왜 이리 쳐기냐진짜 배우들이 애처롭더라..진짜 이 영화가 뭘 표현하려는건지보는내내 화가 나더라! \\n\\t\\t\\t\\n\\t\\t\\t\\n\\t\\t\\t\\n\\t\\t\\t\\t\\n\\t\\t\\t\\t\\n\\t\\t\\t\\t\\n\\t\\t\\t\\t신고\\n'"
      ]
     },
     "execution_count": 8,
     "metadata": {},
     "output_type": "execute_result"
    }
   ],
   "source": [
    "view[0].text"
   ]
  },
  {
   "cell_type": "code",
   "execution_count": 9,
   "id": "f941f00f",
   "metadata": {},
   "outputs": [
    {
     "data": {
      "text/plain": [
       "'스토리 끝내줌.해외에서도 인기있을것. \\n\\t\\t\\t\\n\\t\\t\\t\\n\\t\\t\\t\\n\\t\\t\\t\\t\\n\\t\\t\\t\\t\\n\\t\\t\\t\\t\\n\\t\\t\\t\\t신고\\n'"
      ]
     },
     "execution_count": 9,
     "metadata": {},
     "output_type": "execute_result"
    }
   ],
   "source": [
    "view[1].text.split('\\n\\n')[2]"
   ]
  },
  {
   "cell_type": "code",
   "execution_count": 10,
   "id": "cfcbd097",
   "metadata": {},
   "outputs": [
    {
     "data": {
      "text/plain": [
       "['\\n사바하',\n",
       " '별점 - 총 10점 중8',\n",
       " '스토리 끝내줌.해외에서도 인기있을것. \\n\\t\\t\\t\\n\\t\\t\\t\\n\\t\\t\\t\\n\\t\\t\\t\\t\\n\\t\\t\\t\\t\\n\\t\\t\\t\\t\\n\\t\\t\\t\\t신고\\n']"
      ]
     },
     "execution_count": 10,
     "metadata": {},
     "output_type": "execute_result"
    }
   ],
   "source": [
    "view[1].text.split('\\n\\n')"
   ]
  },
  {
   "cell_type": "code",
   "execution_count": 11,
   "id": "2a0a4005",
   "metadata": {},
   "outputs": [],
   "source": [
    "title_list = []\n",
    "review_list = []\n",
    "for i in view:\n",
    "    string = i.text.split('\\n\\n')\n",
    "    title_list.append(string[0])\n",
    "    review_list.append(string[1])"
   ]
  },
  {
   "cell_type": "code",
   "execution_count": 12,
   "id": "1f148cd8",
   "metadata": {
    "scrolled": false
   },
   "outputs": [
    {
     "data": {
      "text/plain": [
       "['\\n비상선언',\n",
       " '\\n사바하',\n",
       " '\\n외계+인 1부',\n",
       " '\\n헌트',\n",
       " '\\n헌트',\n",
       " '\\n헌트',\n",
       " '\\n카터',\n",
       " '\\n헤어질 결심',\n",
       " '\\n헤어질 결심',\n",
       " '\\n명탐정 코난: 할로윈의 신부']"
      ]
     },
     "execution_count": 12,
     "metadata": {},
     "output_type": "execute_result"
    }
   ],
   "source": [
    "title_list"
   ]
  },
  {
   "cell_type": "code",
   "execution_count": 13,
   "id": "666f61d2",
   "metadata": {},
   "outputs": [],
   "source": [
    "title_list = []\n",
    "review_list = []\n",
    "for i in view:\n",
    "    string = i.text.split('\\n\\n')\n",
    "    title_list.append(string[0].replace('\\n', ''))\n",
    "    review = string[2].replace('\\n', '')\n",
    "    review = review.replace('\\t', '')\n",
    "    review = review.replace('신고', '')\n",
    "    \n",
    "    review_list.append(review)"
   ]
  },
  {
   "cell_type": "code",
   "execution_count": 14,
   "id": "7087e046",
   "metadata": {
    "scrolled": false
   },
   "outputs": [
    {
     "data": {
      "text/plain": [
       "'진짜 평점 확인안하고 본걸 후회한다..노골적인 반미 반일갬성에, 물타기감동없는 어거지 신파에 OO것 러닝타임은 왜 이리 쳐기냐진짜 배우들이 애처롭더라..진짜 이 영화가 뭘 표현하려는건지보는내내 화가 나더라! '"
      ]
     },
     "execution_count": 14,
     "metadata": {},
     "output_type": "execute_result"
    }
   ],
   "source": [
    "review_list[0]"
   ]
  },
  {
   "cell_type": "code",
   "execution_count": 15,
   "id": "c65b4b14",
   "metadata": {},
   "outputs": [],
   "source": [
    "title_list = []\n",
    "review_list = []\n",
    "rating_list = []\n",
    "\n",
    "for i in range(1,6):\n",
    "    url = 'https://movie.naver.com/movie/point/af/list.naver?&page={}'.format(i)\n",
    "    res = req.get(url)\n",
    "    \n",
    "    soup = bs(res.text, 'html.parser')\n",
    "    \n",
    "    #별점\n",
    "    score = soup.select('td.title>div>em')\n",
    "    for i in score: \n",
    "        rating_list.append(i.text)\n",
    "    \n",
    "    #제목/리뷰\n",
    "    view = soup.select('td.title')\n",
    "    for i in view: \n",
    "        string = i.text.split('\\n\\n')\n",
    "        title_list.append(string[0].replace('\\n', ''))\n",
    "        review = string[2].replace('\\n', '')\n",
    "        review = review.replace('\\t', '')\n",
    "        review = review.replace('신고', '')\n",
    "        \n",
    "        review_list.append(review)                 "
   ]
  },
  {
   "cell_type": "code",
   "execution_count": 16,
   "id": "f02aaeb7",
   "metadata": {},
   "outputs": [
    {
     "data": {
      "text/plain": [
       "(50, 50, 50)"
      ]
     },
     "execution_count": 16,
     "metadata": {},
     "output_type": "execute_result"
    }
   ],
   "source": [
    "len(title_list), len(review_list), len(rating_list)"
   ]
  },
  {
   "cell_type": "code",
   "execution_count": 17,
   "id": "301cb443",
   "metadata": {},
   "outputs": [],
   "source": [
    "from tqdm import tqdm_notebook"
   ]
  },
  {
   "cell_type": "code",
   "execution_count": 18,
   "id": "292e27fb",
   "metadata": {
    "scrolled": true
   },
   "outputs": [
    {
     "name": "stderr",
     "output_type": "stream",
     "text": [
      "C:\\Users\\user\\AppData\\Local\\Temp\\ipykernel_13560\\4244185789.py:1: TqdmDeprecationWarning: This function will be removed in tqdm==5.0.0\n",
      "Please use `tqdm.notebook.tqdm` instead of `tqdm.tqdm_notebook`\n",
      "  for i in tqdm_notebook(range(0,10)):\n"
     ]
    },
    {
     "data": {
      "application/vnd.jupyter.widget-view+json": {
       "model_id": "8768259ad9a84924b3c0914e33423030",
       "version_major": 2,
       "version_minor": 0
      },
      "text/plain": [
       "  0%|          | 0/10 [00:00<?, ?it/s]"
      ]
     },
     "metadata": {},
     "output_type": "display_data"
    },
    {
     "name": "stdout",
     "output_type": "stream",
     "text": [
      "0\n",
      "1\n",
      "2\n",
      "3\n",
      "4\n",
      "5\n",
      "6\n",
      "7\n",
      "8\n",
      "9\n"
     ]
    }
   ],
   "source": [
    "for i in tqdm_notebook(range(0,10)):\n",
    "    print(i)"
   ]
  },
  {
   "cell_type": "code",
   "execution_count": 19,
   "id": "501ff653",
   "metadata": {},
   "outputs": [
    {
     "name": "stderr",
     "output_type": "stream",
     "text": [
      "C:\\Users\\user\\AppData\\Local\\Temp\\ipykernel_13560\\78349979.py:5: TqdmDeprecationWarning: This function will be removed in tqdm==5.0.0\n",
      "Please use `tqdm.notebook.tqdm` instead of `tqdm.tqdm_notebook`\n",
      "  for i in tqdm_notebook(range(1,6)):\n"
     ]
    },
    {
     "data": {
      "application/vnd.jupyter.widget-view+json": {
       "model_id": "286a94ff756543158817de028cab76dd",
       "version_major": 2,
       "version_minor": 0
      },
      "text/plain": [
       "  0%|          | 0/5 [00:00<?, ?it/s]"
      ]
     },
     "metadata": {},
     "output_type": "display_data"
    }
   ],
   "source": [
    "title_list = []\n",
    "review_list = []\n",
    "rating_list = []\n",
    "\n",
    "for i in tqdm_notebook(range(1,6)):\n",
    "    url = 'https://movie.naver.com/movie/point/af/list.naver?&page={}'.format(i)\n",
    "    res = req.get(url)\n",
    "    \n",
    "    soup = bs(res.text, 'html.parser')\n",
    "    \n",
    "    #별점\n",
    "    score = soup.select('td.title>div>em')\n",
    "    for i in score: \n",
    "        rating_list.append(i.text)\n",
    "    \n",
    "    #제목/리뷰\n",
    "    view = soup.select('td.title')\n",
    "    for i in view: \n",
    "        string = i.text.split('\\n\\n')\n",
    "        title_list.append(string[0].replace('\\n', ''))\n",
    "        review = string[2].replace('\\n', '')\n",
    "        review = review.replace('\\t', '')\n",
    "        review = review.replace('신고', '')\n",
    "        \n",
    "        review_list.append(review)    \n"
   ]
  },
  {
   "cell_type": "code",
   "execution_count": null,
   "id": "ac2a17f8",
   "metadata": {},
   "outputs": [],
   "source": []
  },
  {
   "cell_type": "code",
   "execution_count": 20,
   "id": "c78ba286",
   "metadata": {
    "scrolled": true
   },
   "outputs": [
    {
     "name": "stdout",
     "output_type": "stream",
     "text": [
      "Requirement already satisfied: selenium==3.141.0 in c:\\users\\user\\anaconda3\\lib\\site-packages (3.141.0)\n",
      "Requirement already satisfied: urllib3 in c:\\users\\user\\anaconda3\\lib\\site-packages (from selenium==3.141.0) (1.26.9)\n"
     ]
    }
   ],
   "source": [
    "!pip install selenium==3.141.0"
   ]
  },
  {
   "cell_type": "code",
   "execution_count": 21,
   "id": "dc6a3c6a",
   "metadata": {},
   "outputs": [],
   "source": [
    "from selenium import webdriver"
   ]
  },
  {
   "cell_type": "code",
   "execution_count": 22,
   "id": "93267133",
   "metadata": {},
   "outputs": [],
   "source": [
    "driver = webdriver.Chrome(r'C:\\Users\\user\\chromedriver.exe')"
   ]
  },
  {
   "cell_type": "code",
   "execution_count": 23,
   "id": "626d8637",
   "metadata": {},
   "outputs": [
    {
     "name": "stdout",
     "output_type": "stream",
     "text": [
      "Requirement already satisfied: webdriver_manager in c:\\users\\user\\anaconda3\\lib\\site-packages (3.8.3)\n",
      "Requirement already satisfied: tqdm in c:\\users\\user\\anaconda3\\lib\\site-packages (from webdriver_manager) (4.64.0)\n",
      "Requirement already satisfied: requests in c:\\users\\user\\anaconda3\\lib\\site-packages (from webdriver_manager) (2.27.1)\n",
      "Requirement already satisfied: python-dotenv in c:\\users\\user\\anaconda3\\lib\\site-packages (from webdriver_manager) (0.20.0)\n",
      "Requirement already satisfied: certifi>=2017.4.17 in c:\\users\\user\\anaconda3\\lib\\site-packages (from requests->webdriver_manager) (2021.10.8)\n",
      "Requirement already satisfied: charset-normalizer~=2.0.0 in c:\\users\\user\\anaconda3\\lib\\site-packages (from requests->webdriver_manager) (2.0.4)\n",
      "Requirement already satisfied: idna<4,>=2.5 in c:\\users\\user\\anaconda3\\lib\\site-packages (from requests->webdriver_manager) (3.3)\n",
      "Requirement already satisfied: urllib3<1.27,>=1.21.1 in c:\\users\\user\\anaconda3\\lib\\site-packages (from requests->webdriver_manager) (1.26.9)\n",
      "Requirement already satisfied: colorama in c:\\users\\user\\anaconda3\\lib\\site-packages (from tqdm->webdriver_manager) (0.4.4)\n"
     ]
    }
   ],
   "source": [
    "!pip install webdriver_manager"
   ]
  },
  {
   "cell_type": "code",
   "execution_count": 50,
   "id": "918a51a3",
   "metadata": {
    "scrolled": true
   },
   "outputs": [],
   "source": [
    "from selenium import webdriver\n",
    "from webdriver_manager.chrome import ChromeDriverManager"
   ]
  },
  {
   "cell_type": "code",
   "execution_count": 51,
   "id": "8b50b894",
   "metadata": {},
   "outputs": [],
   "source": [
    "driver = webdriver.Chrome(ChromeDriverManager().install())"
   ]
  },
  {
   "cell_type": "code",
   "execution_count": 52,
   "id": "cc392ed6",
   "metadata": {},
   "outputs": [],
   "source": [
    "driver.get('http://www.naver.com')\n",
    "# driver.get('http:/웹 주소')"
   ]
  },
  {
   "cell_type": "code",
   "execution_count": 53,
   "id": "d705b2dd",
   "metadata": {},
   "outputs": [],
   "source": [
    "search = driver.find_element_by_id('query')"
   ]
  },
  {
   "cell_type": "code",
   "execution_count": 54,
   "id": "cede86f8",
   "metadata": {},
   "outputs": [],
   "source": [
    "search.send_keys('코로나')"
   ]
  },
  {
   "cell_type": "code",
   "execution_count": 49,
   "id": "7057d2b5",
   "metadata": {},
   "outputs": [],
   "source": [
    "from selenium.webdriver.common.keys import Keys"
   ]
  },
  {
   "cell_type": "code",
   "execution_count": 48,
   "id": "1407e730",
   "metadata": {},
   "outputs": [],
   "source": [
    "search.send_keys(Keys.ENTER)\n",
    "# 'K'eys, 'ENTER' 전부 대문자로 작성."
   ]
  },
  {
   "cell_type": "code",
   "execution_count": 38,
   "id": "c002429e",
   "metadata": {},
   "outputs": [],
   "source": [
    "driver.back()"
   ]
  },
  {
   "cell_type": "code",
   "execution_count": 32,
   "id": "64583d7c",
   "metadata": {
    "scrolled": true
   },
   "outputs": [
    {
     "ename": "StaleElementReferenceException",
     "evalue": "Message: stale element reference: element is not attached to the page document\n  (Session info: chrome=103.0.5060.134)\n",
     "output_type": "error",
     "traceback": [
      "\u001b[1;31m---------------------------------------------------------------------------\u001b[0m",
      "\u001b[1;31mStaleElementReferenceException\u001b[0m            Traceback (most recent call last)",
      "Input \u001b[1;32mIn [32]\u001b[0m, in \u001b[0;36m<cell line: 1>\u001b[1;34m()\u001b[0m\n\u001b[1;32m----> 1\u001b[0m \u001b[43msearch\u001b[49m\u001b[38;5;241;43m.\u001b[39;49m\u001b[43msend_keys\u001b[49m\u001b[43m(\u001b[49m\u001b[38;5;124;43m'\u001b[39;49m\u001b[38;5;124;43m코로나\u001b[39;49m\u001b[38;5;124;43m'\u001b[39;49m\u001b[43m)\u001b[49m\n",
      "File \u001b[1;32m~\\anaconda3\\lib\\site-packages\\selenium\\webdriver\\remote\\webelement.py:477\u001b[0m, in \u001b[0;36mWebElement.send_keys\u001b[1;34m(self, *value)\u001b[0m\n\u001b[0;32m    474\u001b[0m     \u001b[38;5;28;01mif\u001b[39;00m local_file \u001b[38;5;129;01mis\u001b[39;00m \u001b[38;5;129;01mnot\u001b[39;00m \u001b[38;5;28;01mNone\u001b[39;00m:\n\u001b[0;32m    475\u001b[0m         value \u001b[38;5;241m=\u001b[39m \u001b[38;5;28mself\u001b[39m\u001b[38;5;241m.\u001b[39m_upload(local_file)\n\u001b[1;32m--> 477\u001b[0m \u001b[38;5;28;43mself\u001b[39;49m\u001b[38;5;241;43m.\u001b[39;49m\u001b[43m_execute\u001b[49m\u001b[43m(\u001b[49m\u001b[43mCommand\u001b[49m\u001b[38;5;241;43m.\u001b[39;49m\u001b[43mSEND_KEYS_TO_ELEMENT\u001b[49m\u001b[43m,\u001b[49m\n\u001b[0;32m    478\u001b[0m \u001b[43m              \u001b[49m\u001b[43m{\u001b[49m\u001b[38;5;124;43m'\u001b[39;49m\u001b[38;5;124;43mtext\u001b[39;49m\u001b[38;5;124;43m'\u001b[39;49m\u001b[43m:\u001b[49m\u001b[43m \u001b[49m\u001b[38;5;124;43m\"\u001b[39;49m\u001b[38;5;124;43m\"\u001b[39;49m\u001b[38;5;241;43m.\u001b[39;49m\u001b[43mjoin\u001b[49m\u001b[43m(\u001b[49m\u001b[43mkeys_to_typing\u001b[49m\u001b[43m(\u001b[49m\u001b[43mvalue\u001b[49m\u001b[43m)\u001b[49m\u001b[43m)\u001b[49m\u001b[43m,\u001b[49m\n\u001b[0;32m    479\u001b[0m \u001b[43m               \u001b[49m\u001b[38;5;124;43m'\u001b[39;49m\u001b[38;5;124;43mvalue\u001b[39;49m\u001b[38;5;124;43m'\u001b[39;49m\u001b[43m:\u001b[49m\u001b[43m \u001b[49m\u001b[43mkeys_to_typing\u001b[49m\u001b[43m(\u001b[49m\u001b[43mvalue\u001b[49m\u001b[43m)\u001b[49m\u001b[43m}\u001b[49m\u001b[43m)\u001b[49m\n",
      "File \u001b[1;32m~\\anaconda3\\lib\\site-packages\\selenium\\webdriver\\remote\\webelement.py:633\u001b[0m, in \u001b[0;36mWebElement._execute\u001b[1;34m(self, command, params)\u001b[0m\n\u001b[0;32m    631\u001b[0m     params \u001b[38;5;241m=\u001b[39m {}\n\u001b[0;32m    632\u001b[0m params[\u001b[38;5;124m'\u001b[39m\u001b[38;5;124mid\u001b[39m\u001b[38;5;124m'\u001b[39m] \u001b[38;5;241m=\u001b[39m \u001b[38;5;28mself\u001b[39m\u001b[38;5;241m.\u001b[39m_id\n\u001b[1;32m--> 633\u001b[0m \u001b[38;5;28;01mreturn\u001b[39;00m \u001b[38;5;28;43mself\u001b[39;49m\u001b[38;5;241;43m.\u001b[39;49m\u001b[43m_parent\u001b[49m\u001b[38;5;241;43m.\u001b[39;49m\u001b[43mexecute\u001b[49m\u001b[43m(\u001b[49m\u001b[43mcommand\u001b[49m\u001b[43m,\u001b[49m\u001b[43m \u001b[49m\u001b[43mparams\u001b[49m\u001b[43m)\u001b[49m\n",
      "File \u001b[1;32m~\\anaconda3\\lib\\site-packages\\selenium\\webdriver\\remote\\webdriver.py:321\u001b[0m, in \u001b[0;36mWebDriver.execute\u001b[1;34m(self, driver_command, params)\u001b[0m\n\u001b[0;32m    319\u001b[0m response \u001b[38;5;241m=\u001b[39m \u001b[38;5;28mself\u001b[39m\u001b[38;5;241m.\u001b[39mcommand_executor\u001b[38;5;241m.\u001b[39mexecute(driver_command, params)\n\u001b[0;32m    320\u001b[0m \u001b[38;5;28;01mif\u001b[39;00m response:\n\u001b[1;32m--> 321\u001b[0m     \u001b[38;5;28;43mself\u001b[39;49m\u001b[38;5;241;43m.\u001b[39;49m\u001b[43merror_handler\u001b[49m\u001b[38;5;241;43m.\u001b[39;49m\u001b[43mcheck_response\u001b[49m\u001b[43m(\u001b[49m\u001b[43mresponse\u001b[49m\u001b[43m)\u001b[49m\n\u001b[0;32m    322\u001b[0m     response[\u001b[38;5;124m'\u001b[39m\u001b[38;5;124mvalue\u001b[39m\u001b[38;5;124m'\u001b[39m] \u001b[38;5;241m=\u001b[39m \u001b[38;5;28mself\u001b[39m\u001b[38;5;241m.\u001b[39m_unwrap_value(\n\u001b[0;32m    323\u001b[0m         response\u001b[38;5;241m.\u001b[39mget(\u001b[38;5;124m'\u001b[39m\u001b[38;5;124mvalue\u001b[39m\u001b[38;5;124m'\u001b[39m, \u001b[38;5;28;01mNone\u001b[39;00m))\n\u001b[0;32m    324\u001b[0m     \u001b[38;5;28;01mreturn\u001b[39;00m response\n",
      "File \u001b[1;32m~\\anaconda3\\lib\\site-packages\\selenium\\webdriver\\remote\\errorhandler.py:242\u001b[0m, in \u001b[0;36mErrorHandler.check_response\u001b[1;34m(self, response)\u001b[0m\n\u001b[0;32m    240\u001b[0m         alert_text \u001b[38;5;241m=\u001b[39m value[\u001b[38;5;124m'\u001b[39m\u001b[38;5;124malert\u001b[39m\u001b[38;5;124m'\u001b[39m]\u001b[38;5;241m.\u001b[39mget(\u001b[38;5;124m'\u001b[39m\u001b[38;5;124mtext\u001b[39m\u001b[38;5;124m'\u001b[39m)\n\u001b[0;32m    241\u001b[0m     \u001b[38;5;28;01mraise\u001b[39;00m exception_class(message, screen, stacktrace, alert_text)\n\u001b[1;32m--> 242\u001b[0m \u001b[38;5;28;01mraise\u001b[39;00m exception_class(message, screen, stacktrace)\n",
      "\u001b[1;31mStaleElementReferenceException\u001b[0m: Message: stale element reference: element is not attached to the page document\n  (Session info: chrome=103.0.5060.134)\n"
     ]
    }
   ],
   "source": [
    "search.send_keys('코로나')"
   ]
  },
  {
   "cell_type": "code",
   "execution_count": 55,
   "id": "77e25ff5",
   "metadata": {},
   "outputs": [],
   "source": [
    "btn = driver.find_element_by_id('search_btn')"
   ]
  },
  {
   "cell_type": "code",
   "execution_count": 56,
   "id": "f2047743",
   "metadata": {},
   "outputs": [],
   "source": [
    "btn.click()"
   ]
  },
  {
   "cell_type": "code",
   "execution_count": 62,
   "id": "df1e6d5b",
   "metadata": {},
   "outputs": [],
   "source": [
    "from selenium.webdriver.common.action_chains import ActionChains"
   ]
  },
  {
   "cell_type": "code",
   "execution_count": null,
   "id": "4cf80108",
   "metadata": {},
   "outputs": [],
   "source": []
  },
  {
   "cell_type": "code",
   "execution_count": 63,
   "id": "62ecff21",
   "metadata": {},
   "outputs": [],
   "source": [
    "driver = webdriver.Chrome(ChromeDriverManager().install())"
   ]
  },
  {
   "cell_type": "code",
   "execution_count": 64,
   "id": "b91875c5",
   "metadata": {},
   "outputs": [],
   "source": [
    "driver.get('http://www.hsd.co.kr/')"
   ]
  },
  {
   "cell_type": "code",
   "execution_count": 65,
   "id": "f7c48c8e",
   "metadata": {
    "scrolled": true
   },
   "outputs": [
    {
     "ename": "StaleElementReferenceException",
     "evalue": "Message: stale element reference: element is not attached to the page document\n  (Session info: chrome=103.0.5060.134)\n",
     "output_type": "error",
     "traceback": [
      "\u001b[1;31m---------------------------------------------------------------------------\u001b[0m",
      "\u001b[1;31mStaleElementReferenceException\u001b[0m            Traceback (most recent call last)",
      "Input \u001b[1;32mIn [65]\u001b[0m, in \u001b[0;36m<cell line: 1>\u001b[1;34m()\u001b[0m\n\u001b[1;32m----> 1\u001b[0m \u001b[43mbtn\u001b[49m\u001b[38;5;241;43m.\u001b[39;49m\u001b[43mclick\u001b[49m\u001b[43m(\u001b[49m\u001b[43m)\u001b[49m\n",
      "File \u001b[1;32m~\\anaconda3\\lib\\site-packages\\selenium\\webdriver\\remote\\webelement.py:80\u001b[0m, in \u001b[0;36mWebElement.click\u001b[1;34m(self)\u001b[0m\n\u001b[0;32m     78\u001b[0m \u001b[38;5;28;01mdef\u001b[39;00m \u001b[38;5;21mclick\u001b[39m(\u001b[38;5;28mself\u001b[39m):\n\u001b[0;32m     79\u001b[0m     \u001b[38;5;124;03m\"\"\"Clicks the element.\"\"\"\u001b[39;00m\n\u001b[1;32m---> 80\u001b[0m     \u001b[38;5;28;43mself\u001b[39;49m\u001b[38;5;241;43m.\u001b[39;49m\u001b[43m_execute\u001b[49m\u001b[43m(\u001b[49m\u001b[43mCommand\u001b[49m\u001b[38;5;241;43m.\u001b[39;49m\u001b[43mCLICK_ELEMENT\u001b[49m\u001b[43m)\u001b[49m\n",
      "File \u001b[1;32m~\\anaconda3\\lib\\site-packages\\selenium\\webdriver\\remote\\webelement.py:633\u001b[0m, in \u001b[0;36mWebElement._execute\u001b[1;34m(self, command, params)\u001b[0m\n\u001b[0;32m    631\u001b[0m     params \u001b[38;5;241m=\u001b[39m {}\n\u001b[0;32m    632\u001b[0m params[\u001b[38;5;124m'\u001b[39m\u001b[38;5;124mid\u001b[39m\u001b[38;5;124m'\u001b[39m] \u001b[38;5;241m=\u001b[39m \u001b[38;5;28mself\u001b[39m\u001b[38;5;241m.\u001b[39m_id\n\u001b[1;32m--> 633\u001b[0m \u001b[38;5;28;01mreturn\u001b[39;00m \u001b[38;5;28;43mself\u001b[39;49m\u001b[38;5;241;43m.\u001b[39;49m\u001b[43m_parent\u001b[49m\u001b[38;5;241;43m.\u001b[39;49m\u001b[43mexecute\u001b[49m\u001b[43m(\u001b[49m\u001b[43mcommand\u001b[49m\u001b[43m,\u001b[49m\u001b[43m \u001b[49m\u001b[43mparams\u001b[49m\u001b[43m)\u001b[49m\n",
      "File \u001b[1;32m~\\anaconda3\\lib\\site-packages\\selenium\\webdriver\\remote\\webdriver.py:321\u001b[0m, in \u001b[0;36mWebDriver.execute\u001b[1;34m(self, driver_command, params)\u001b[0m\n\u001b[0;32m    319\u001b[0m response \u001b[38;5;241m=\u001b[39m \u001b[38;5;28mself\u001b[39m\u001b[38;5;241m.\u001b[39mcommand_executor\u001b[38;5;241m.\u001b[39mexecute(driver_command, params)\n\u001b[0;32m    320\u001b[0m \u001b[38;5;28;01mif\u001b[39;00m response:\n\u001b[1;32m--> 321\u001b[0m     \u001b[38;5;28;43mself\u001b[39;49m\u001b[38;5;241;43m.\u001b[39;49m\u001b[43merror_handler\u001b[49m\u001b[38;5;241;43m.\u001b[39;49m\u001b[43mcheck_response\u001b[49m\u001b[43m(\u001b[49m\u001b[43mresponse\u001b[49m\u001b[43m)\u001b[49m\n\u001b[0;32m    322\u001b[0m     response[\u001b[38;5;124m'\u001b[39m\u001b[38;5;124mvalue\u001b[39m\u001b[38;5;124m'\u001b[39m] \u001b[38;5;241m=\u001b[39m \u001b[38;5;28mself\u001b[39m\u001b[38;5;241m.\u001b[39m_unwrap_value(\n\u001b[0;32m    323\u001b[0m         response\u001b[38;5;241m.\u001b[39mget(\u001b[38;5;124m'\u001b[39m\u001b[38;5;124mvalue\u001b[39m\u001b[38;5;124m'\u001b[39m, \u001b[38;5;28;01mNone\u001b[39;00m))\n\u001b[0;32m    324\u001b[0m     \u001b[38;5;28;01mreturn\u001b[39;00m response\n",
      "File \u001b[1;32m~\\anaconda3\\lib\\site-packages\\selenium\\webdriver\\remote\\errorhandler.py:242\u001b[0m, in \u001b[0;36mErrorHandler.check_response\u001b[1;34m(self, response)\u001b[0m\n\u001b[0;32m    240\u001b[0m         alert_text \u001b[38;5;241m=\u001b[39m value[\u001b[38;5;124m'\u001b[39m\u001b[38;5;124malert\u001b[39m\u001b[38;5;124m'\u001b[39m]\u001b[38;5;241m.\u001b[39mget(\u001b[38;5;124m'\u001b[39m\u001b[38;5;124mtext\u001b[39m\u001b[38;5;124m'\u001b[39m)\n\u001b[0;32m    241\u001b[0m     \u001b[38;5;28;01mraise\u001b[39;00m exception_class(message, screen, stacktrace, alert_text)\n\u001b[1;32m--> 242\u001b[0m \u001b[38;5;28;01mraise\u001b[39;00m exception_class(message, screen, stacktrace)\n",
      "\u001b[1;31mStaleElementReferenceException\u001b[0m: Message: stale element reference: element is not attached to the page document\n  (Session info: chrome=103.0.5060.134)\n"
     ]
    }
   ],
   "source": [
    "btn.click()"
   ]
  },
  {
   "cell_type": "code",
   "execution_count": 58,
   "id": "58165d58",
   "metadata": {},
   "outputs": [],
   "source": [
    "actions = ActionChains(driver)\n",
    "\n",
    "actions.move"
   ]
  },
  {
   "cell_type": "code",
   "execution_count": null,
   "id": "aafe38cf",
   "metadata": {},
   "outputs": [],
   "source": []
  }
 ],
 "metadata": {
  "kernelspec": {
   "display_name": "Python 3 (ipykernel)",
   "language": "python",
   "name": "python3"
  },
  "language_info": {
   "codemirror_mode": {
    "name": "ipython",
    "version": 3
   },
   "file_extension": ".py",
   "mimetype": "text/x-python",
   "name": "python",
   "nbconvert_exporter": "python",
   "pygments_lexer": "ipython3",
   "version": "3.9.12"
  }
 },
 "nbformat": 4,
 "nbformat_minor": 5
}
