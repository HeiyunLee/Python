{
 "cells": [
  {
   "cell_type": "markdown",
   "id": "7bc4eec7",
   "metadata": {},
   "source": [
    "## 20. 전이 학습을 통해 딥러닝의 성능 극대화하기"
   ]
  },
  {
   "cell_type": "markdown",
   "id": "bdf80a03",
   "metadata": {},
   "source": [
    "### 1. 소규모 데이터셋으로 만드는 강력한 학습 모델"
   ]
  },
  {
   "cell_type": "markdown",
   "id": "0f49f4f4",
   "metadata": {},
   "source": [
    "치매 환자의 뇌인지 일반인의 뇌인지 예측하기"
   ]
  },
  {
   "cell_type": "code",
   "execution_count": 1,
   "id": "ef33746c",
   "metadata": {},
   "outputs": [],
   "source": [
    "from tensorflow.keras.models import Sequential\n",
    "from tensorflow.keras.layers import Dense, Activation, Dropout, Flatten, Conv2D, MaxPooling2D\n",
    "from tensorflow.keras.preprocessing.image import ImageDataGenerator\n",
    "from tensorflow.keras.callbacks import EarlyStopping\n",
    "from tensorflow.keras import optimizers\n",
    "\n",
    "import numpy as np\n",
    "import matplotlib.pyplot as plt"
   ]
  },
  {
   "cell_type": "code",
   "execution_count": 2,
   "id": "6da12754",
   "metadata": {},
   "outputs": [
    {
     "name": "stderr",
     "output_type": "stream",
     "text": [
      "fatal: destination path 'data-ch20' already exists and is not an empty directory.\n"
     ]
    }
   ],
   "source": [
    "# 깃허브에 준비된 데이터 가져오기\n",
    "!git clone https://github.com/taehojo/data-ch20.git"
   ]
  },
  {
   "cell_type": "code",
   "execution_count": 3,
   "id": "5db0c382",
   "metadata": {},
   "outputs": [
    {
     "name": "stdout",
     "output_type": "stream",
     "text": [
      "Found 160 images belonging to 2 classes.\n"
     ]
    }
   ],
   "source": [
    "#학습셋의 변형 설정 부분\n",
    "train_datagen = ImageDataGenerator(rescale=1./255,         # 주어진 이미지의 크기를 설정\n",
    "                                  horizontal_flip=True,    # 수평 대칭 이미지를 50% 확률로 만들어 추가\n",
    "                                  width_shift_range=0.1,    # 전체 크기의 15% 범위에서 좌우로 이동\n",
    "                                  height_shift_range=0.1,   # 마찬가지로 위, 아래로 이동\n",
    "                                  #rotation_range=5,        # 정해진 각도만큼 회전\n",
    "                                  #shear_range=0.7,         # 좌표 하나를 고정시키고 나머지를 이동\n",
    "                                  #zoom_range=1.2,          # 확대 또는 축소\n",
    "                                  #vertical_flip=True,      # 수직 대칭 이미지를 만들기\n",
    "                                  #fill_mode='nearest'      # 빈 공간을 채우는 방법입니다. \n",
    "                                                            # nearest 옵션은 가장 비슷한 색으로 채우게 된다.\n",
    "                                  )      \n",
    "\n",
    "train_generator = train_datagen.flow_from_directory(\n",
    "'./data-ch20/train',              # 학습셋이 있는 폴더 위치\n",
    "        target_size=(150,150),    # 이미지 크기\n",
    "        batch_size=5,\n",
    "        class_mode='binary')      # 치매/정상 이진 분류이므로 바이너리 모드로 진행"
   ]
  },
  {
   "cell_type": "code",
   "execution_count": 4,
   "id": "e01d7e2e",
   "metadata": {},
   "outputs": [
    {
     "name": "stdout",
     "output_type": "stream",
     "text": [
      "Found 120 images belonging to 2 classes.\n"
     ]
    }
   ],
   "source": [
    "# 테스트셋은 이미지 부풀리기 과정을 진행하지 않는다.\n",
    "test_datagen = ImageDataGenerator(rescale=1./255)  \n",
    "\n",
    "test_generator = test_datagen.flow_from_directory(\n",
    "       './data-ch20/test',        # 테스트셋이 있는 폴더 위치\n",
    "       target_size=(150, 150),\n",
    "       batch_size=5,\n",
    "       class_mode='binary')"
   ]
  },
  {
   "cell_type": "code",
   "execution_count": 5,
   "id": "b953ae6b",
   "metadata": {},
   "outputs": [
    {
     "name": "stdout",
     "output_type": "stream",
     "text": [
      "Model: \"sequential\"\n",
      "_________________________________________________________________\n",
      " Layer (type)                Output Shape              Param #   \n",
      "=================================================================\n",
      " conv2d (Conv2D)             (None, 148, 148, 32)      896       \n",
      "                                                                 \n",
      " activation (Activation)     (None, 148, 148, 32)      0         \n",
      "                                                                 \n",
      " max_pooling2d (MaxPooling2D  (None, 74, 74, 32)       0         \n",
      " )                                                               \n",
      "                                                                 \n",
      " conv2d_1 (Conv2D)           (None, 72, 72, 32)        9248      \n",
      "                                                                 \n",
      " activation_1 (Activation)   (None, 72, 72, 32)        0         \n",
      "                                                                 \n",
      " max_pooling2d_1 (MaxPooling  (None, 36, 36, 32)       0         \n",
      " 2D)                                                             \n",
      "                                                                 \n",
      " conv2d_2 (Conv2D)           (None, 34, 34, 64)        18496     \n",
      "                                                                 \n",
      " activation_2 (Activation)   (None, 34, 34, 64)        0         \n",
      "                                                                 \n",
      " max_pooling2d_2 (MaxPooling  (None, 17, 17, 64)       0         \n",
      " 2D)                                                             \n",
      "                                                                 \n",
      " flatten (Flatten)           (None, 18496)             0         \n",
      "                                                                 \n",
      " dense (Dense)               (None, 64)                1183808   \n",
      "                                                                 \n",
      " activation_3 (Activation)   (None, 64)                0         \n",
      "                                                                 \n",
      " dropout (Dropout)           (None, 64)                0         \n",
      "                                                                 \n",
      " dense_1 (Dense)             (None, 1)                 65        \n",
      "                                                                 \n",
      " activation_4 (Activation)   (None, 1)                 0         \n",
      "                                                                 \n",
      "=================================================================\n",
      "Total params: 1,212,513\n",
      "Trainable params: 1,212,513\n",
      "Non-trainable params: 0\n",
      "_________________________________________________________________\n"
     ]
    }
   ],
   "source": [
    "# 앞서 배운 CNN 모델을 만들어 적용\n",
    "model = Sequential()\n",
    "model.add(Conv2D(32, (3, 3), input_shape=(150,150,3)))\n",
    "model.add(Activation('relu'))\n",
    "model.add(MaxPooling2D(pool_size=(2, 2)))\n",
    "\n",
    "model.add(Conv2D(32, (3, 3)))\n",
    "model.add(Activation('relu'))\n",
    "model.add(MaxPooling2D(pool_size=(2, 2)))\n",
    "\n",
    "model.add(Conv2D(64, (3, 3)))\n",
    "model.add(Activation('relu'))\n",
    "model.add(MaxPooling2D(pool_size=(2, 2)))\n",
    "\n",
    "model.add(Flatten())\n",
    "model.add(Dense(64))\n",
    "model.add(Activation('relu'))\n",
    "model.add(Dropout(0.5))\n",
    "model.add(Dense(1))\n",
    "model.add(Activation('sigmoid'))\n",
    "model.summary()"
   ]
  },
  {
   "cell_type": "code",
   "execution_count": 7,
   "id": "14461f80",
   "metadata": {},
   "outputs": [
    {
     "name": "stdout",
     "output_type": "stream",
     "text": [
      "Requirement already satisfied: SciPy in c:\\users\\user\\anaconda3\\lib\\site-packages (1.9.1)\n",
      "Requirement already satisfied: numpy<1.25.0,>=1.18.5 in c:\\users\\user\\anaconda3\\lib\\site-packages (from SciPy) (1.21.5)\n"
     ]
    }
   ],
   "source": [
    "! pip install SciPy   # 넘파이에 없는 딥한 기능들을 사용할 수 있다."
   ]
  },
  {
   "cell_type": "code",
   "execution_count": 6,
   "id": "fbbb9934",
   "metadata": {},
   "outputs": [
    {
     "name": "stdout",
     "output_type": "stream",
     "text": [
      "Epoch 1/100\n",
      "32/32 [==============================] - 5s 113ms/step - loss: 0.7015 - accuracy: 0.4938 - val_loss: 0.6884 - val_accuracy: 0.6600\n",
      "Epoch 2/100\n",
      "32/32 [==============================] - 3s 104ms/step - loss: 0.6895 - accuracy: 0.5625 - val_loss: 0.6869 - val_accuracy: 0.7200\n",
      "Epoch 3/100\n",
      "32/32 [==============================] - 3s 100ms/step - loss: 0.6805 - accuracy: 0.5813 - val_loss: 0.6908 - val_accuracy: 0.4200\n",
      "Epoch 4/100\n",
      "32/32 [==============================] - 3s 108ms/step - loss: 0.6781 - accuracy: 0.6000 - val_loss: 0.6857 - val_accuracy: 0.4200\n",
      "Epoch 5/100\n",
      "32/32 [==============================] - 3s 98ms/step - loss: 0.6650 - accuracy: 0.5875 - val_loss: 0.6414 - val_accuracy: 0.6200\n",
      "Epoch 6/100\n",
      "32/32 [==============================] - 3s 102ms/step - loss: 0.6791 - accuracy: 0.6125 - val_loss: 0.6827 - val_accuracy: 0.4800\n",
      "Epoch 7/100\n",
      "32/32 [==============================] - 3s 106ms/step - loss: 0.6474 - accuracy: 0.6562 - val_loss: 0.6625 - val_accuracy: 0.5000\n",
      "Epoch 8/100\n",
      "32/32 [==============================] - 3s 106ms/step - loss: 0.6220 - accuracy: 0.6500 - val_loss: 0.5818 - val_accuracy: 0.8000\n",
      "Epoch 9/100\n",
      "32/32 [==============================] - 3s 107ms/step - loss: 0.5876 - accuracy: 0.7375 - val_loss: 0.6275 - val_accuracy: 0.5800\n",
      "Epoch 10/100\n",
      "32/32 [==============================] - 3s 102ms/step - loss: 0.5404 - accuracy: 0.7875 - val_loss: 0.4523 - val_accuracy: 0.8200\n",
      "Epoch 11/100\n",
      "32/32 [==============================] - 3s 101ms/step - loss: 0.5274 - accuracy: 0.7563 - val_loss: 0.4153 - val_accuracy: 0.8400\n",
      "Epoch 12/100\n",
      "32/32 [==============================] - 3s 102ms/step - loss: 0.5189 - accuracy: 0.7688 - val_loss: 0.5160 - val_accuracy: 0.7200\n",
      "Epoch 13/100\n",
      "32/32 [==============================] - 3s 99ms/step - loss: 0.4477 - accuracy: 0.8188 - val_loss: 0.3438 - val_accuracy: 0.8600\n",
      "Epoch 14/100\n",
      "32/32 [==============================] - 3s 103ms/step - loss: 0.3561 - accuracy: 0.8562 - val_loss: 0.2587 - val_accuracy: 0.9200\n",
      "Epoch 15/100\n",
      "32/32 [==============================] - 4s 107ms/step - loss: 0.2916 - accuracy: 0.8813 - val_loss: 0.2293 - val_accuracy: 0.9600\n",
      "Epoch 16/100\n",
      "32/32 [==============================] - 4s 109ms/step - loss: 0.3111 - accuracy: 0.8875 - val_loss: 0.2128 - val_accuracy: 0.9200\n",
      "Epoch 17/100\n",
      "32/32 [==============================] - 4s 110ms/step - loss: 0.2541 - accuracy: 0.9250 - val_loss: 0.2629 - val_accuracy: 0.8800\n",
      "Epoch 18/100\n",
      "32/32 [==============================] - 3s 105ms/step - loss: 0.2857 - accuracy: 0.8875 - val_loss: 0.1819 - val_accuracy: 0.9400\n",
      "Epoch 19/100\n",
      "32/32 [==============================] - 3s 106ms/step - loss: 0.2234 - accuracy: 0.9187 - val_loss: 0.1594 - val_accuracy: 0.9600\n",
      "Epoch 20/100\n",
      "32/32 [==============================] - 4s 110ms/step - loss: 0.1880 - accuracy: 0.9250 - val_loss: 0.1510 - val_accuracy: 0.9600\n",
      "Epoch 21/100\n",
      "32/32 [==============================] - 4s 109ms/step - loss: 0.1783 - accuracy: 0.9438 - val_loss: 0.1400 - val_accuracy: 0.9200\n",
      "Epoch 22/100\n",
      "32/32 [==============================] - 4s 110ms/step - loss: 0.1394 - accuracy: 0.9688 - val_loss: 0.1197 - val_accuracy: 0.9400\n",
      "Epoch 23/100\n",
      "32/32 [==============================] - 4s 108ms/step - loss: 0.1170 - accuracy: 0.9688 - val_loss: 0.1667 - val_accuracy: 0.9000\n",
      "Epoch 24/100\n",
      "32/32 [==============================] - 3s 106ms/step - loss: 0.2364 - accuracy: 0.9062 - val_loss: 0.1426 - val_accuracy: 0.9600\n",
      "Epoch 25/100\n",
      "32/32 [==============================] - 3s 107ms/step - loss: 0.1363 - accuracy: 0.9688 - val_loss: 0.0962 - val_accuracy: 0.9600\n",
      "Epoch 26/100\n",
      "32/32 [==============================] - 3s 106ms/step - loss: 0.1151 - accuracy: 0.9688 - val_loss: 0.0407 - val_accuracy: 1.0000\n",
      "Epoch 27/100\n",
      "32/32 [==============================] - 4s 110ms/step - loss: 0.1544 - accuracy: 0.9438 - val_loss: 0.1140 - val_accuracy: 0.9800\n",
      "Epoch 28/100\n",
      "32/32 [==============================] - 3s 106ms/step - loss: 0.0973 - accuracy: 0.9812 - val_loss: 0.1120 - val_accuracy: 0.9600\n",
      "Epoch 29/100\n",
      "32/32 [==============================] - 4s 110ms/step - loss: 0.0655 - accuracy: 0.9937 - val_loss: 0.1396 - val_accuracy: 0.9200\n",
      "Epoch 30/100\n",
      "32/32 [==============================] - 4s 107ms/step - loss: 0.1177 - accuracy: 0.9625 - val_loss: 0.0670 - val_accuracy: 0.9800\n",
      "Epoch 31/100\n",
      "32/32 [==============================] - 3s 105ms/step - loss: 0.0708 - accuracy: 0.9688 - val_loss: 0.0456 - val_accuracy: 1.0000\n"
     ]
    }
   ],
   "source": [
    "# 모델 실행 옵션 설정\n",
    "model.compile(loss='binary_crossentropy', \n",
    "              optimizer=optimizers.Adam(learning_rate=0.0002), \n",
    "              metrics=['accuracy'])\n",
    "\n",
    "# 학습의조기 중단 설정 \n",
    "early_stopping_callback = EarlyStopping(monitor='val_loss', patience=5)\n",
    "\n",
    "# 모델 실행\n",
    "history = model.fit(\n",
    "train_generator,\n",
    "epochs=100,\n",
    "validation_data=test_generator,\n",
    "validation_steps=10,\n",
    "callbacks=[early_stopping_callback])"
   ]
  },
  {
   "cell_type": "code",
   "execution_count": 12,
   "id": "f6786e85",
   "metadata": {},
   "outputs": [
    {
     "data": {
      "image/png": "[encoded data removed]",
      "text/plain": [
       "<Figure size 640x480 with 1 Axes>"
      ]
     },
     "metadata": {},
     "output_type": "display_data"
    }
   ],
   "source": [
    "# 검증셋과 학습셋의 오차 저장\n",
    "y_vloss = history.history['val_loss']\n",
    "y_loss = history.history['loss']\n",
    "\n",
    "# 그래프로 표현\n",
    "x_len = np.arange(len(y_loss))\n",
    "plt.plot(x_len, y_vloss, marker='.', c='red', label='Testset_loss')\n",
    "plt.plot(x_len, y_loss, marker='.', c='blue', label='Trainset_loss')\n",
    "\n",
    "# 그래프에 그리드 주고 레이블 표시\n",
    "plt.legend()\n",
    "plt.grid()\n",
    "plt.xlabel('epoch')\n",
    "plt.ylabel('loss')\n",
    "plt.show()"
   ]
  },
  {
   "cell_type": "markdown",
   "id": "b1a8028e",
   "metadata": {},
   "source": [
    "### 2. 전이 학습으로 모델 성능 극대화하기"
   ]
  },
  {
   "cell_type": "markdown",
   "id": "0d76b165",
   "metadata": {},
   "source": [
    "전이 학습 실습"
   ]
  },
  {
   "cell_type": "code",
   "execution_count": 1,
   "id": "e650e92c",
   "metadata": {},
   "outputs": [],
   "source": [
    "from tensorflow.keras.preprocessing.image import ImageDataGenerator\n",
    "from tensorflow.keras import Input, models, layers, optimizers, metrics\n",
    "from tensorflow.keras.layers import Dense, Flatten, Activation, Dropout\n",
    "from tensorflow.keras.applications import VGG16\n",
    "from tensorflow.keras.callbacks import EarlyStopping\n",
    "import numpy as np\n",
    "import matplotlib.pyplot as plt"
   ]
  },
  {
   "cell_type": "code",
   "execution_count": 2,
   "id": "5f78383a",
   "metadata": {},
   "outputs": [
    {
     "name": "stderr",
     "output_type": "stream",
     "text": [
      "fatal: destination path 'data-ch20' already exists and is not an empty directory.\n"
     ]
    }
   ],
   "source": [
    "# 깃허브에 준비된 데이터 가져오기\n",
    "!git clone https://github.com/taehojo/data-ch20.git"
   ]
  },
  {
   "cell_type": "code",
   "execution_count": 3,
   "id": "6ea832ad",
   "metadata": {},
   "outputs": [
    {
     "name": "stdout",
     "output_type": "stream",
     "text": [
      "Found 160 images belonging to 2 classes.\n",
      "Found 120 images belonging to 2 classes.\n",
      "Model: \"vgg16\"\n",
      "_________________________________________________________________\n",
      " Layer (type)                Output Shape              Param #   \n",
      "=================================================================\n",
      " input_1 (InputLayer)        [(None, 150, 150, 3)]     0         \n",
      "                                                                 \n",
      " block1_conv1 (Conv2D)       (None, 150, 150, 64)      1792      \n",
      "                                                                 \n",
      " block1_conv2 (Conv2D)       (None, 150, 150, 64)      36928     \n",
      "                                                                 \n",
      " block1_pool (MaxPooling2D)  (None, 75, 75, 64)        0         \n",
      "                                                                 \n",
      " block2_conv1 (Conv2D)       (None, 75, 75, 128)       73856     \n",
      "                                                                 \n",
      " block2_conv2 (Conv2D)       (None, 75, 75, 128)       147584    \n",
      "                                                                 \n",
      " block2_pool (MaxPooling2D)  (None, 37, 37, 128)       0         \n",
      "                                                                 \n",
      " block3_conv1 (Conv2D)       (None, 37, 37, 256)       295168    \n",
      "                                                                 \n",
      " block3_conv2 (Conv2D)       (None, 37, 37, 256)       590080    \n",
      "                                                                 \n",
      " block3_conv3 (Conv2D)       (None, 37, 37, 256)       590080    \n",
      "                                                                 \n",
      " block3_pool (MaxPooling2D)  (None, 18, 18, 256)       0         \n",
      "                                                                 \n",
      " block4_conv1 (Conv2D)       (None, 18, 18, 512)       1180160   \n",
      "                                                                 \n",
      " block4_conv2 (Conv2D)       (None, 18, 18, 512)       2359808   \n",
      "                                                                 \n",
      " block4_conv3 (Conv2D)       (None, 18, 18, 512)       2359808   \n",
      "                                                                 \n",
      " block4_pool (MaxPooling2D)  (None, 9, 9, 512)         0         \n",
      "                                                                 \n",
      " block5_conv1 (Conv2D)       (None, 9, 9, 512)         2359808   \n",
      "                                                                 \n",
      " block5_conv2 (Conv2D)       (None, 9, 9, 512)         2359808   \n",
      "                                                                 \n",
      " block5_conv3 (Conv2D)       (None, 9, 9, 512)         2359808   \n",
      "                                                                 \n",
      " block5_pool (MaxPooling2D)  (None, 4, 4, 512)         0         \n",
      "                                                                 \n",
      "=================================================================\n",
      "Total params: 14,714,688\n",
      "Trainable params: 0\n",
      "Non-trainable params: 14,714,688\n",
      "_________________________________________________________________\n",
      "Model: \"sequential\"\n",
      "_________________________________________________________________\n",
      " Layer (type)                Output Shape              Param #   \n",
      "=================================================================\n",
      " vgg16 (Functional)          (None, 4, 4, 512)         14714688  \n",
      "                                                                 \n",
      " flatten (Flatten)           (None, 8192)              0         \n",
      "                                                                 \n",
      " dense (Dense)               (None, 64)                524352    \n",
      "                                                                 \n",
      " activation (Activation)     (None, 64)                0         \n",
      "                                                                 \n",
      " dropout (Dropout)           (None, 64)                0         \n",
      "                                                                 \n",
      " dense_1 (Dense)             (None, 1)                 65        \n",
      "                                                                 \n",
      " activation_1 (Activation)   (None, 1)                 0         \n",
      "                                                                 \n",
      "=================================================================\n",
      "Total params: 15,239,105\n",
      "Trainable params: 524,417\n",
      "Non-trainable params: 14,714,688\n",
      "_________________________________________________________________\n"
     ]
    }
   ],
   "source": [
    "# 학습셋의 변형을 설정해준다.\n",
    "train_datagen = ImageDataGenerator(rescale=1./255,\n",
    "                                  horizontal_flip = True,\n",
    "                                  width_shift_range=0.1,\n",
    "                                  height_shift_range=0.1,\n",
    "                                  #rotation_range=5,\n",
    "                                  #shear_range=0.7,\n",
    "                                  #zoom_range=1.2,\n",
    "                                  #vertical_flip=True,\n",
    "                                  #fill_mode='nearest'\n",
    "                                  )\n",
    "\n",
    "train_generator = train_datagen.flow_from_directory(\n",
    "'./data-ch20/train',\n",
    "target_size=(150,150),\n",
    "batch_size=5,\n",
    "class_mode='binary')\n",
    "\n",
    "# 테스트셋의 정구화 설정\n",
    "test_datagen = ImageDataGenerator(rescale=1./255)\n",
    "\n",
    "test_generator = test_datagen.flow_from_directory(\n",
    "'./data-ch20/test',\n",
    "target_size=(150,150),\n",
    "batch_size=5,\n",
    "class_mode='binary')\n",
    "\n",
    "# VGG 모델 불러오기\n",
    "transfer_model = VGG16(weights='imagenet', include_top=False, input_shape=(150, 150, 3))\n",
    "transfer_model.trainable = False\n",
    "transfer_model.summary()\n",
    "\n",
    "# 모델 설정\n",
    "finetune_model = models.Sequential()\n",
    "finetune_model.add(transfer_model)\n",
    "finetune_model.add(Flatten())\n",
    "finetune_model.add(Dense(64))\n",
    "finetune_model.add(Activation('relu'))\n",
    "finetune_model.add(Dropout(0.5))\n",
    "finetune_model.add(Dense(1))\n",
    "finetune_model.add(Activation('sigmoid'))\n",
    "finetune_model.summary()"
   ]
  },
  {
   "cell_type": "code",
   "execution_count": 4,
   "id": "2af42978",
   "metadata": {},
   "outputs": [
    {
     "name": "stdout",
     "output_type": "stream",
     "text": [
      "Epoch 1/20\n",
      "32/32 [==============================] - 24s 714ms/step - loss: 0.7076 - accuracy: 0.6187 - val_loss: 0.6003 - val_accuracy: 0.6400\n",
      "Epoch 2/20\n",
      "32/32 [==============================] - 22s 682ms/step - loss: 0.5581 - accuracy: 0.7063 - val_loss: 0.4666 - val_accuracy: 0.8600\n",
      "Epoch 3/20\n",
      "32/32 [==============================] - 21s 670ms/step - loss: 0.4808 - accuracy: 0.7750 - val_loss: 0.4108 - val_accuracy: 0.8000\n",
      "Epoch 4/20\n",
      "32/32 [==============================] - 20s 632ms/step - loss: 0.3837 - accuracy: 0.8750 - val_loss: 0.3933 - val_accuracy: 0.8200\n",
      "Epoch 5/20\n",
      "32/32 [==============================] - 19s 605ms/step - loss: 0.3602 - accuracy: 0.8750 - val_loss: 0.3393 - val_accuracy: 0.8600\n",
      "Epoch 6/20\n",
      "32/32 [==============================] - 18s 576ms/step - loss: 0.3335 - accuracy: 0.8750 - val_loss: 0.5184 - val_accuracy: 0.6400\n",
      "Epoch 7/20\n",
      "32/32 [==============================] - 19s 606ms/step - loss: 0.3535 - accuracy: 0.8250 - val_loss: 0.3317 - val_accuracy: 0.8600\n",
      "Epoch 8/20\n",
      "32/32 [==============================] - 21s 663ms/step - loss: 0.2958 - accuracy: 0.8938 - val_loss: 0.2674 - val_accuracy: 0.8600\n",
      "Epoch 9/20\n",
      "32/32 [==============================] - 23s 715ms/step - loss: 0.2544 - accuracy: 0.9250 - val_loss: 0.3095 - val_accuracy: 0.8400\n",
      "Epoch 10/20\n",
      "32/32 [==============================] - 22s 694ms/step - loss: 0.2520 - accuracy: 0.9062 - val_loss: 0.3620 - val_accuracy: 0.8400\n",
      "Epoch 11/20\n",
      "32/32 [==============================] - 22s 701ms/step - loss: 0.2295 - accuracy: 0.9250 - val_loss: 0.2395 - val_accuracy: 0.9200\n",
      "Epoch 12/20\n",
      "32/32 [==============================] - 22s 675ms/step - loss: 0.1903 - accuracy: 0.9250 - val_loss: 0.2518 - val_accuracy: 0.9000\n",
      "Epoch 13/20\n",
      "32/32 [==============================] - 22s 692ms/step - loss: 0.2575 - accuracy: 0.8875 - val_loss: 0.1628 - val_accuracy: 0.9800\n",
      "Epoch 14/20\n",
      "32/32 [==============================] - 22s 694ms/step - loss: 0.2156 - accuracy: 0.9125 - val_loss: 0.2485 - val_accuracy: 0.8800\n",
      "Epoch 15/20\n",
      "32/32 [==============================] - 22s 687ms/step - loss: 0.2093 - accuracy: 0.9250 - val_loss: 0.1403 - val_accuracy: 0.9800\n",
      "Epoch 16/20\n",
      "32/32 [==============================] - 22s 705ms/step - loss: 0.1837 - accuracy: 0.9563 - val_loss: 0.1482 - val_accuracy: 0.9600\n",
      "Epoch 17/20\n",
      "32/32 [==============================] - 23s 714ms/step - loss: 0.1663 - accuracy: 0.9438 - val_loss: 0.1151 - val_accuracy: 0.9800\n",
      "Epoch 18/20\n",
      "32/32 [==============================] - 22s 676ms/step - loss: 0.1713 - accuracy: 0.9250 - val_loss: 0.1990 - val_accuracy: 0.8800\n",
      "Epoch 19/20\n",
      "32/32 [==============================] - 23s 721ms/step - loss: 0.1657 - accuracy: 0.9312 - val_loss: 0.1202 - val_accuracy: 0.9600\n",
      "Epoch 20/20\n",
      "32/32 [==============================] - 22s 680ms/step - loss: 0.1588 - accuracy: 0.9375 - val_loss: 0.2419 - val_accuracy: 0.8800\n"
     ]
    }
   ],
   "source": [
    "# 모델의 옵션 설정\n",
    "finetune_model.compile(loss='binary_crossentropy', \n",
    "                       optimizer=optimizers.Adam(learning_rate=0.0002), metrics=['accuracy'])\n",
    "\n",
    "# 학습의 조기 중단 설정\n",
    "earlyPstopping_callback = EarlyStopping(monitor='val_loss', patience=5)\n",
    "\n",
    "# 모델 실행\n",
    "history = finetune_model.fit(\n",
    "train_generator,\n",
    "epochs=20,\n",
    "validation_data=test_generator,\n",
    "validation_steps=10,\n",
    "callbacks=[earlyPstopping_callback])"
   ]
  },
  {
   "cell_type": "code",
   "execution_count": 6,
   "id": "39b71ee6",
   "metadata": {},
   "outputs": [
    {
     "data": {
      "image/png": "[encoded data removed]",
      "text/plain": [
       "<Figure size 640x480 with 1 Axes>"
      ]
     },
     "metadata": {},
     "output_type": "display_data"
    }
   ],
   "source": [
    "# 검증셋과 학습셋의 오차 저장\n",
    "y_vloss = history.history['val_loss']\n",
    "y_loss = history.history['loss']\n",
    "\n",
    "# 그래프로 표현\n",
    "x_len = np.arange(len(y_loss))\n",
    "plt.plot(x_len, y_vloss, marker='.', c=\"red\", label='Testset_loss')\n",
    "plt.plot(x_len, y_loss, marker='.', c=\"blue\", label='Trainset_loss')\n",
    "\n",
    "# 그래프에 그리드를 주고 레이블 표시\n",
    "plt.legend(loc='upper right')\n",
    "plt.grid()\n",
    "plt.xlabel('epoch')\n",
    "plt.ylabel('loss')\n",
    "plt.show()"
   ]
  },
  {
   "cell_type": "code",
   "execution_count": null,
   "id": "474184d3",
   "metadata": {},
   "outputs": [],
   "source": []
  }
 ],
 "metadata": {
  "kernelspec": {
   "display_name": "Python 3 (ipykernel)",
   "language": "python",
   "name": "python3"
  },
  "language_info": {
   "codemirror_mode": {
    "name": "ipython",
    "version": 3
   },
   "file_extension": ".py",
   "mimetype": "text/x-python",
   "name": "python",
   "nbconvert_exporter": "python",
   "pygments_lexer": "ipython3",
   "version": "3.9.13"
  }
 },
 "nbformat": 4,
 "nbformat_minor": 5
}
