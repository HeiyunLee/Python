{
 "cells": [
  {
   "cell_type": "code",
   "execution_count": 1,
   "id": "12f95a59",
   "metadata": {},
   "outputs": [
    {
     "name": "stdout",
     "output_type": "stream",
     "text": [
      "1412.1142052880266\n"
     ]
    }
   ],
   "source": [
    "from currency_converter import CurrencyConverter\n",
    "\n",
    "cc = CurrencyConverter('http://www.ecb.europa.eu/stats/eurofxref/eurofxref.zip')\n",
    "print(cc.convert(1, 'USD', 'KRW'))"
   ]
  },
  {
   "cell_type": "code",
   "execution_count": null,
   "id": "5132b9ff",
   "metadata": {},
   "outputs": [],
   "source": []
  }
 ],
 "metadata": {
  "kernelspec": {
   "display_name": "Python 3 (ipykernel)",
   "language": "python",
   "name": "python3"
  },
  "language_info": {
   "codemirror_mode": {
    "name": "ipython",
    "version": 3
   },
   "file_extension": ".py",
   "mimetype": "text/x-python",
   "name": "python",
   "nbconvert_exporter": "python",
   "pygments_lexer": "ipython3",
   "version": "3.9.12"
  }
 },
 "nbformat": 4,
 "nbformat_minor": 5
}
