{
 "cells": [
  {
   "cell_type": "code",
   "execution_count": 3,
   "id": "e7577865",
   "metadata": {},
   "outputs": [
    {
     "name": "stdout",
     "output_type": "stream",
     "text": [
      "Collecting currencyconverter\n",
      "  Downloading CurrencyConverter-0.17.2-py3-none-any.whl (557 kB)\n",
      "Installing collected packages: currencyconverter\n",
      "Successfully installed currencyconverter-0.17.2\n"
     ]
    }
   ],
   "source": [
    "!pip install currencyconverter"
   ]
  },
  {
   "cell_type": "code",
   "execution_count": 4,
   "id": "35179d07",
   "metadata": {},
   "outputs": [
    {
     "name": "stdout",
     "output_type": "stream",
     "text": [
      "{'JPY', 'NZD', 'HUF', 'AUD', 'RUB', 'INR', 'USD', 'PLN', 'ISK', 'SGD', 'HRK', 'CNY', 'MYR', 'TRY', 'CAD', 'THB', 'MTL', 'IDR', 'BGN', 'DKK', 'KRW', 'SKK', 'RON', 'CZK', 'BRL', 'LTL', 'CHF', 'HKD', 'ROL', 'LVL', 'NOK', 'EUR', 'MXN', 'TRL', 'ZAR', 'PHP', 'SIT', 'GBP', 'EEK', 'ILS', 'SEK', 'CYP'}\n"
     ]
    }
   ],
   "source": [
    "from currency_converter import CurrencyConverter\n",
    "\n",
    "cc = CurrencyConverter()\n",
    "print(cc.currencies)"
   ]
  },
  {
   "cell_type": "code",
   "execution_count": null,
   "id": "9353ed03",
   "metadata": {},
   "outputs": [],
   "source": []
  }
 ],
 "metadata": {
  "kernelspec": {
   "display_name": "Python 3 (ipykernel)",
   "language": "python",
   "name": "python3"
  },
  "language_info": {
   "codemirror_mode": {
    "name": "ipython",
    "version": 3
   },
   "file_extension": ".py",
   "mimetype": "text/x-python",
   "name": "python",
   "nbconvert_exporter": "python",
   "pygments_lexer": "ipython3",
   "version": "3.9.12"
  }
 },
 "nbformat": 4,
 "nbformat_minor": 5
}
