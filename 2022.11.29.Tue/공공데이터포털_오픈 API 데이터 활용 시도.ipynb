{
 "cells": [
  {
   "cell_type": "code",
   "execution_count": 3,
   "id": "5571cb2f",
   "metadata": {
    "scrolled": true
   },
   "outputs": [
    {
     "name": "stdout",
     "output_type": "stream",
     "text": [
      "Collecting xmltodict\n",
      "  Downloading xmltodict-0.13.0-py2.py3-none-any.whl (10.0 kB)\n",
      "Installing collected packages: xmltodict\n",
      "Successfully installed xmltodict-0.13.0\n"
     ]
    }
   ],
   "source": [
    "!pip install xmltodict"
   ]
  },
  {
   "cell_type": "code",
   "execution_count": 5,
   "id": "0fefd612",
   "metadata": {},
   "outputs": [],
   "source": [
    "import requests, xmltodict, json"
   ]
  },
  {
   "cell_type": "code",
   "execution_count": 13,
   "id": "f827cc37",
   "metadata": {
    "scrolled": true
   },
   "outputs": [
    {
     "name": "stderr",
     "output_type": "stream",
     "text": [
      "C:\\Users\\user\\anaconda3\\lib\\site-packages\\urllib3\\connectionpool.py:1045: InsecureRequestWarning: Unverified HTTPS request is being made to host 'apis.data.go.kr'. Adding certificate verification is strongly advised. See: https://urllib3.readthedocs.io/en/1.26.x/advanced-usage.html#ssl-warnings\n",
      "  warnings.warn(\n"
     ]
    },
    {
     "data": {
      "text/plain": [
       "'{\"response\":[{\"header\":{\"resultCode\":\"00\",\"resultMsg\":\"NORMAL_CODE\"}},{\"body\":{\"policyName\":\"연구개발정책\",\"pageNo\":\"1\",\"policyType\":\"POLICY01\",\"totalCount\":460,\"items\":[{\"item\":{\"deptName\":\"성과평가정책과\",\"pressDt\":\"2022-05-19\",\"subject\":\"[성과평가정책국]2022년도 연구성과 관리·활용 실시계획 \",\"managerTel\":\"044-202-6921\",\"viewUrl\":\"https:\\\\/\\\\/www.msit.go.kr\\\\/bbs\\\\/view.do?sCode=user&mId=84&mPid=83&bbsSeqNo=65&nttSeqNo=3017393\",\"files\":[{\"file\":{\"fileName\":\"2022년도 연구성과 관리활용 실시계획.odt\",\"fileUrl\":\"https:\\\\/\\\\/www.msit.go.kr\\\\/ssm\\\\/file\\\\/fileDown.do?atchFileNo=37776&fileOrd=2\"}},{\"file\":{\"fileName\":\"2022년도 연구성과 관리활용 실시계획.hwpx\",\"fileUrl\":\"https:\\\\/\\\\/www.msit.go.kr\\\\/ssm\\\\/file\\\\/fileDown.do?atchFileNo=37776&fileOrd=3\"}}],\"managerName\":\"신은경\"}},{\"item\":{\"deptName\":\"생명기술과\",\"pressDt\":\"2022-03-07\",\"subject\":\"[기초원천연구정책관]2021년 생명공학 백서 발간\",\"managerTel\":\"044-202-4559\",\"viewUrl\":\"https:\\\\/\\\\/www.msit.go.kr\\\\/bbs\\\\/view.do?sCode=user&mId=84&mPid=83&bbsSeqNo=65&nttSeqNo=3017392\",\"files\":[{\"file\":{\"fileName\":\"2021 생명공학 백서.zip\",\"fileUrl\":\"https:\\\\/\\\\/www.msit.go.kr\\\\/ssm\\\\/file\\\\/fileDown.do?atchFileNo=37015&fileOrd=1\"}}],\"managerName\":\"허예라\"}},{\"item\":{\"deptName\":\"연구성과일자리정책과\",\"pressDt\":\"2022-01-27\",\"subject\":\"[과학기술일자리혁신관]2022년도 지역과학기술성과실용화지원사업 시행계획\",\"managerTel\":\"044-202-4735\",\"viewUrl\":\"https:\\\\/\\\\/www.msit.go.kr\\\\/bbs\\\\/view.do?sCode=user&mId=84&mPid=83&bbsSeqNo=65&nttSeqNo=3017390\",\"files\":[{\"file\":{\"fileName\":\"2022년도 지역 과학기술성과 실용화지원사업 시행계획.odt\",\"fileUrl\":\"https:\\\\/\\\\/www.msit.go.kr\\\\/ssm\\\\/file\\\\/fileDown.do?atchFileNo=36480&fileOrd=2\"}},{\"file\":{\"fileName\":\"2022년도 지역 과학기술성과 실용화지원사업 시행계획.hwpx\",\"fileUrl\":\"https:\\\\/\\\\/www.msit.go.kr\\\\/ssm\\\\/file\\\\/fileDown.do?atchFileNo=36480&fileOrd=3\"}}],\"managerName\":\"이윤소\"}},{\"item\":{\"deptName\":\"원자력연구개발과\",\"pressDt\":\"2022-01-26\",\"subject\":\"[거대공공연구정책관]2022년 원자력연구개발사업 시행계획\",\"managerTel\":\"044-202-4657\",\"viewUrl\":\"https:\\\\/\\\\/www.msit.go.kr\\\\/bbs\\\\/view.do?sCode=user&mId=84&mPid=83&bbsSeqNo=65&nttSeqNo=3017389\",\"files\":[{\"file\":{\"fileName\":\"2022년도 원자력연구개발사업 시행계획.odt\",\"fileUrl\":\"https:\\\\/\\\\/www.msit.go.kr\\\\/ssm\\\\/file\\\\/fileDown.do?atchFileNo=36447&fileOrd=2\"}},{\"file\":{\"fileName\":\"2022년도 원자력연구개발사업 시행계획.hwpx\",\"fileUrl\":\"https:\\\\/\\\\/www.msit.go.kr\\\\/ssm\\\\/file\\\\/fileDown.do?atchFileNo=36447&fileOrd=3\"}}],\"managerName\":\"하지훈\"}},{\"item\":{\"deptName\":\"연구성과일자리정책과\",\"pressDt\":\"2022-01-20\",\"subject\":\"[과학기술일자리혁신관]2022년도 대학기술경영촉진사업 시행계획\",\"managerTel\":\"044-202-4735\",\"viewUrl\":\"https:\\\\/\\\\/www.msit.go.kr\\\\/bbs\\\\/view.do?sCode=user&mId=84&mPid=83&bbsSeqNo=65&nttSeqNo=3017388\",\"files\":[{\"file\":{\"fileName\":\"(참고)2022년도 대학기술경영촉진사업 시행계획(수정).odt\",\"fileUrl\":\"https:\\\\/\\\\/www.msit.go.kr\\\\/ssm\\\\/file\\\\/fileDown.do?atchFileNo=36341&fileOrd=2\"}},{\"file\":{\"fileName\":\"(참고)2022년도 대학기술경영촉진사업 시행계획(수정).hwpx\",\"fileUrl\":\"https:\\\\/\\\\/www.msit.go.kr\\\\/ssm\\\\/file\\\\/fileDown.do?atchFileNo=36341&fileOrd=3\"}}],\"managerName\":\"이윤소\"}},{\"item\":{\"deptName\":\"연구성과일자리정책과\",\"pressDt\":\"2022-01-13\",\"subject\":\"[과학기술일자리혁신관]2022년도 지역산업연계 대학 Open-Lab 육성지원사업 시행계획\",\"managerTel\":\"044-202-4735\",\"viewUrl\":\"https:\\\\/\\\\/www.msit.go.kr\\\\/bbs\\\\/view.do?sCode=user&mId=84&mPid=83&bbsSeqNo=65&nttSeqNo=3017386\",\"files\":[{\"file\":{\"fileName\":\"2022년도 지역산업연계 대학 Open-Lab 육성지원사업시행계획.odt\",\"fileUrl\":\"https:\\\\/\\\\/www.msit.go.kr\\\\/ssm\\\\/file\\\\/fileDown.do?atchFileNo=36251&fileOrd=2\"}},{\"file\":{\"fileName\":\"2022년도 지역산업연계 대학 Open-Lab 육성지원사업시행계획.hwpx\",\"fileUrl\":\"https:\\\\/\\\\/www.msit.go.kr\\\\/ssm\\\\/file\\\\/fileDown.do?atchFileNo=36251&fileOrd=3\"}}],\"managerName\":\"이윤소\"}},{\"item\":{\"deptName\":\"연구성과일자리정책과\",\"pressDt\":\"2022-01-13\",\"subject\":\"[과학기술일자리혁신관]2022년도 공공연구성과 가치창출 기술키움 사업 시행계획\",\"managerTel\":\"044-202-4735\",\"viewUrl\":\"https:\\\\/\\\\/www.msit.go.kr\\\\/bbs\\\\/view.do?sCode=user&mId=84&mPid=83&bbsSeqNo=65&nttSeqNo=3017385\",\"files\":[{\"file\":{\"fileName\":\"2022년도 공공연구성과가치창출기술키움사업 시행계획.odt\",\"fileUrl\":\"https:\\\\/\\\\/www.msit.go.kr\\\\/ssm\\\\/file\\\\/fileDown.do?atchFileNo=36250&fileOrd=2\"}},{\"file\":{\"fileName\":\"2022년도 공공연구성과가치창출기술키움사업 시행계획.hwpx\",\"fileUrl\":\"https:\\\\/\\\\/www.msit.go.kr\\\\/ssm\\\\/file\\\\/fileDown.do?atchFileNo=36250&fileOrd=3\"}}],\"managerName\":\"이윤소\"}},{\"item\":{\"deptName\":\"연구성과일자리정책과\",\"pressDt\":\"2022-01-13\",\"subject\":\"[과학기술일자리혁신관]2022년 공공연구성과 활용 촉진R&D사업 시행계획\",\"managerTel\":\"044-202-4735\",\"viewUrl\":\"https:\\\\/\\\\/www.msit.go.kr\\\\/bbs\\\\/view.do?sCode=user&mId=84&mPid=83&bbsSeqNo=65&nttSeqNo=3017384\",\"files\":[{\"file\":{\"fileName\":\"2022년도 공공연구성과 활용 촉진 R&D사업 시행계획.odt\",\"fileUrl\":\"https:\\\\/\\\\/www.msit.go.kr\\\\/ssm\\\\/file\\\\/fileDown.do?atchFileNo=36248&fileOrd=2\"}},{\"file\":{\"fileName\":\"2022년도 공공연구성과 활용 촉진 R&D사업 시행계획.hwpx\",\"fileUrl\":\"https:\\\\/\\\\/www.msit.go.kr\\\\/ssm\\\\/file\\\\/fileDown.do?atchFileNo=36248&fileOrd=3\"}}],\"managerName\":\"이윤소\"}},{\"item\":{\"deptName\":\"연구성과일자리정책과\",\"pressDt\":\"2022-01-10\",\"subject\":\"[과학기술일자리혁신관]2022년도 과학치안 공공연구성과 실용화 촉진 시범사업 시행계획\",\"managerTel\":\"044-202-4735\",\"viewUrl\":\"https:\\\\/\\\\/www.msit.go.kr\\\\/bbs\\\\/view.do?sCode=user&mId=84&mPid=83&bbsSeqNo=65&nttSeqNo=3017383\",\"files\":[{\"file\":{\"fileName\":\"2022년도 과학치안 공공연구성과 실용화 촉진 시범사업 시행계획.odt\",\"fileUrl\":\"https:\\\\/\\\\/www.msit.go.kr\\\\/ssm\\\\/file\\\\/fileDown.do?atchFileNo=36213&fileOrd=2\"}}],\"managerName\":\"이윤소\"}},{\"item\":{\"deptName\":\"연구개발정책과\",\"pressDt\":\"2022-01-03\",\"subject\":\"[기초원천연구정책관]2022년도 과기정통부 연구개발사업 종합시행계획\",\"managerTel\":\"044-202-4519\",\"viewUrl\":\"https:\\\\/\\\\/www.msit.go.kr\\\\/bbs\\\\/view.do?sCode=user&mId=84&mPid=83&bbsSeqNo=65&nttSeqNo=3017381\",\"files\":[{\"file\":{\"fileName\":\"2022년도 과기정통부 연구개발사업 종합시행계획.odt\",\"fileUrl\":\"https:\\\\/\\\\/www.msit.go.kr\\\\/ssm\\\\/file\\\\/fileDown.do?atchFileNo=36171&fileOrd=2\"}},{\"file\":{\"fileName\":\"별첨1_과학기술 분야별 세부사업 추진계획(2022).odt\",\"fileUrl\":\"https:\\\\/\\\\/www.msit.go.kr\\\\/ssm\\\\/file\\\\/fileDown.do?atchFileNo=36171&fileOrd=4\"}},{\"file\":{\"fileName\":\"별첨2_ICT 분야별 세부사업 추진계획(2022).odt\",\"fileUrl\":\"https:\\\\/\\\\/www.msit.go.kr\\\\/ssm\\\\/file\\\\/fileDown.do?atchFileNo=36171&fileOrd=6\"}},{\"file\":{\"fileName\":\"2022년도 과기부 R&D 종합시행계획 추진일정.jpg\",\"fileUrl\":\"https:\\\\/\\\\/www.msit.go.kr\\\\/ssm\\\\/file\\\\/fileDown.do?atchFileNo=36171&fileOrd=7\"}}],\"managerName\":\"이창환\"}}],\"numOfRows\":10}}]}'"
      ]
     },
     "execution_count": 13,
     "metadata": {},
     "output_type": "execute_result"
    }
   ],
   "source": [
    "# 라이브러리 import\n",
    "import requests\n",
    "import pprint\n",
    "import json\n",
    "\n",
    "# url 입력\n",
    "url = 'https://apis.data.go.kr/1721000/msitmainpolicyinfo/mainPolicyList?serviceKey=EovezWRx%2FKdZKXZOFkSw4heLxrzKTPUd%2FSZuSQQWTqWb60lb9HpalaOy8j9AmPaylpk05w8pOFKpF7G6SPDrfw%3D%3D&pageNo=1&numOfRows=10&policyType=POLICY01&returnType=json'\n",
    "\n",
    "\n",
    "\n",
    "# url 불러오기\n",
    "response = requests.get(url, verify=False)\n",
    "\n",
    "#데이터 값 출력해보기\n",
    "contents = response.text\n",
    "contents"
   ]
  },
  {
   "cell_type": "code",
   "execution_count": 14,
   "id": "e5e251e6",
   "metadata": {},
   "outputs": [
    {
     "name": "stdout",
     "output_type": "stream",
     "text": [
      "('{\"response\":[{\"header\":{\"resultCode\":\"00\",\"resultMsg\":\"NORMAL_CODE\"}},{\"body\":{\"policyName\":\"연구개발정책\",\"pageNo\":\"1\",\"policyType\":\"POLICY01\",\"totalCount\":460,\"items\":[{\"item\":{\"deptName\":\"성과평가정책과\",\"pressDt\":\"2022-05-19\",\"subject\":\"[성과평가정책국]2022년도 '\n",
      " '연구성과 관리·활용 실시계획 '\n",
      " '\",\"managerTel\":\"044-202-6921\",\"viewUrl\":\"https:\\\\/\\\\/www.msit.go.kr\\\\/bbs\\\\/view.do?sCode=user&mId=84&mPid=83&bbsSeqNo=65&nttSeqNo=3017393\",\"files\":[{\"file\":{\"fileName\":\"2022년도 '\n",
      " '연구성과 관리활용 '\n",
      " '실시계획.odt\",\"fileUrl\":\"https:\\\\/\\\\/www.msit.go.kr\\\\/ssm\\\\/file\\\\/fileDown.do?atchFileNo=37776&fileOrd=2\"}},{\"file\":{\"fileName\":\"2022년도 '\n",
      " '연구성과 관리활용 '\n",
      " '실시계획.hwpx\",\"fileUrl\":\"https:\\\\/\\\\/www.msit.go.kr\\\\/ssm\\\\/file\\\\/fileDown.do?atchFileNo=37776&fileOrd=3\"}}],\"managerName\":\"신은경\"}},{\"item\":{\"deptName\":\"생명기술과\",\"pressDt\":\"2022-03-07\",\"subject\":\"[기초원천연구정책관]2021년 '\n",
      " '생명공학 백서 '\n",
      " '발간\",\"managerTel\":\"044-202-4559\",\"viewUrl\":\"https:\\\\/\\\\/www.msit.go.kr\\\\/bbs\\\\/view.do?sCode=user&mId=84&mPid=83&bbsSeqNo=65&nttSeqNo=3017392\",\"files\":[{\"file\":{\"fileName\":\"2021 '\n",
      " '생명공학 '\n",
      " '백서.zip\",\"fileUrl\":\"https:\\\\/\\\\/www.msit.go.kr\\\\/ssm\\\\/file\\\\/fileDown.do?atchFileNo=37015&fileOrd=1\"}}],\"managerName\":\"허예라\"}},{\"item\":{\"deptName\":\"연구성과일자리정책과\",\"pressDt\":\"2022-01-27\",\"subject\":\"[과학기술일자리혁신관]2022년도 '\n",
      " '지역과학기술성과실용화지원사업 '\n",
      " '시행계획\",\"managerTel\":\"044-202-4735\",\"viewUrl\":\"https:\\\\/\\\\/www.msit.go.kr\\\\/bbs\\\\/view.do?sCode=user&mId=84&mPid=83&bbsSeqNo=65&nttSeqNo=3017390\",\"files\":[{\"file\":{\"fileName\":\"2022년도 '\n",
      " '지역 과학기술성과 실용화지원사업 '\n",
      " '시행계획.odt\",\"fileUrl\":\"https:\\\\/\\\\/www.msit.go.kr\\\\/ssm\\\\/file\\\\/fileDown.do?atchFileNo=36480&fileOrd=2\"}},{\"file\":{\"fileName\":\"2022년도 '\n",
      " '지역 과학기술성과 실용화지원사업 '\n",
      " '시행계획.hwpx\",\"fileUrl\":\"https:\\\\/\\\\/www.msit.go.kr\\\\/ssm\\\\/file\\\\/fileDown.do?atchFileNo=36480&fileOrd=3\"}}],\"managerName\":\"이윤소\"}},{\"item\":{\"deptName\":\"원자력연구개발과\",\"pressDt\":\"2022-01-26\",\"subject\":\"[거대공공연구정책관]2022년 '\n",
      " '원자력연구개발사업 '\n",
      " '시행계획\",\"managerTel\":\"044-202-4657\",\"viewUrl\":\"https:\\\\/\\\\/www.msit.go.kr\\\\/bbs\\\\/view.do?sCode=user&mId=84&mPid=83&bbsSeqNo=65&nttSeqNo=3017389\",\"files\":[{\"file\":{\"fileName\":\"2022년도 '\n",
      " '원자력연구개발사업 '\n",
      " '시행계획.odt\",\"fileUrl\":\"https:\\\\/\\\\/www.msit.go.kr\\\\/ssm\\\\/file\\\\/fileDown.do?atchFileNo=36447&fileOrd=2\"}},{\"file\":{\"fileName\":\"2022년도 '\n",
      " '원자력연구개발사업 '\n",
      " '시행계획.hwpx\",\"fileUrl\":\"https:\\\\/\\\\/www.msit.go.kr\\\\/ssm\\\\/file\\\\/fileDown.do?atchFileNo=36447&fileOrd=3\"}}],\"managerName\":\"하지훈\"}},{\"item\":{\"deptName\":\"연구성과일자리정책과\",\"pressDt\":\"2022-01-20\",\"subject\":\"[과학기술일자리혁신관]2022년도 '\n",
      " '대학기술경영촉진사업 '\n",
      " '시행계획\",\"managerTel\":\"044-202-4735\",\"viewUrl\":\"https:\\\\/\\\\/www.msit.go.kr\\\\/bbs\\\\/view.do?sCode=user&mId=84&mPid=83&bbsSeqNo=65&nttSeqNo=3017388\",\"files\":[{\"file\":{\"fileName\":\"(참고)2022년도 '\n",
      " '대학기술경영촉진사업 '\n",
      " '시행계획(수정).odt\",\"fileUrl\":\"https:\\\\/\\\\/www.msit.go.kr\\\\/ssm\\\\/file\\\\/fileDown.do?atchFileNo=36341&fileOrd=2\"}},{\"file\":{\"fileName\":\"(참고)2022년도 '\n",
      " '대학기술경영촉진사업 '\n",
      " '시행계획(수정).hwpx\",\"fileUrl\":\"https:\\\\/\\\\/www.msit.go.kr\\\\/ssm\\\\/file\\\\/fileDown.do?atchFileNo=36341&fileOrd=3\"}}],\"managerName\":\"이윤소\"}},{\"item\":{\"deptName\":\"연구성과일자리정책과\",\"pressDt\":\"2022-01-13\",\"subject\":\"[과학기술일자리혁신관]2022년도 '\n",
      " '지역산업연계 대학 Open-Lab 육성지원사업 '\n",
      " '시행계획\",\"managerTel\":\"044-202-4735\",\"viewUrl\":\"https:\\\\/\\\\/www.msit.go.kr\\\\/bbs\\\\/view.do?sCode=user&mId=84&mPid=83&bbsSeqNo=65&nttSeqNo=3017386\",\"files\":[{\"file\":{\"fileName\":\"2022년도 '\n",
      " '지역산업연계 대학 Open-Lab '\n",
      " '육성지원사업시행계획.odt\",\"fileUrl\":\"https:\\\\/\\\\/www.msit.go.kr\\\\/ssm\\\\/file\\\\/fileDown.do?atchFileNo=36251&fileOrd=2\"}},{\"file\":{\"fileName\":\"2022년도 '\n",
      " '지역산업연계 대학 Open-Lab '\n",
      " '육성지원사업시행계획.hwpx\",\"fileUrl\":\"https:\\\\/\\\\/www.msit.go.kr\\\\/ssm\\\\/file\\\\/fileDown.do?atchFileNo=36251&fileOrd=3\"}}],\"managerName\":\"이윤소\"}},{\"item\":{\"deptName\":\"연구성과일자리정책과\",\"pressDt\":\"2022-01-13\",\"subject\":\"[과학기술일자리혁신관]2022년도 '\n",
      " '공공연구성과 가치창출 기술키움 사업 '\n",
      " '시행계획\",\"managerTel\":\"044-202-4735\",\"viewUrl\":\"https:\\\\/\\\\/www.msit.go.kr\\\\/bbs\\\\/view.do?sCode=user&mId=84&mPid=83&bbsSeqNo=65&nttSeqNo=3017385\",\"files\":[{\"file\":{\"fileName\":\"2022년도 '\n",
      " '공공연구성과가치창출기술키움사업 '\n",
      " '시행계획.odt\",\"fileUrl\":\"https:\\\\/\\\\/www.msit.go.kr\\\\/ssm\\\\/file\\\\/fileDown.do?atchFileNo=36250&fileOrd=2\"}},{\"file\":{\"fileName\":\"2022년도 '\n",
      " '공공연구성과가치창출기술키움사업 '\n",
      " '시행계획.hwpx\",\"fileUrl\":\"https:\\\\/\\\\/www.msit.go.kr\\\\/ssm\\\\/file\\\\/fileDown.do?atchFileNo=36250&fileOrd=3\"}}],\"managerName\":\"이윤소\"}},{\"item\":{\"deptName\":\"연구성과일자리정책과\",\"pressDt\":\"2022-01-13\",\"subject\":\"[과학기술일자리혁신관]2022년 '\n",
      " '공공연구성과 활용 촉진R&D사업 '\n",
      " '시행계획\",\"managerTel\":\"044-202-4735\",\"viewUrl\":\"https:\\\\/\\\\/www.msit.go.kr\\\\/bbs\\\\/view.do?sCode=user&mId=84&mPid=83&bbsSeqNo=65&nttSeqNo=3017384\",\"files\":[{\"file\":{\"fileName\":\"2022년도 '\n",
      " '공공연구성과 활용 촉진 R&D사업 '\n",
      " '시행계획.odt\",\"fileUrl\":\"https:\\\\/\\\\/www.msit.go.kr\\\\/ssm\\\\/file\\\\/fileDown.do?atchFileNo=36248&fileOrd=2\"}},{\"file\":{\"fileName\":\"2022년도 '\n",
      " '공공연구성과 활용 촉진 R&D사업 '\n",
      " '시행계획.hwpx\",\"fileUrl\":\"https:\\\\/\\\\/www.msit.go.kr\\\\/ssm\\\\/file\\\\/fileDown.do?atchFileNo=36248&fileOrd=3\"}}],\"managerName\":\"이윤소\"}},{\"item\":{\"deptName\":\"연구성과일자리정책과\",\"pressDt\":\"2022-01-10\",\"subject\":\"[과학기술일자리혁신관]2022년도 '\n",
      " '과학치안 공공연구성과 실용화 촉진 시범사업 '\n",
      " '시행계획\",\"managerTel\":\"044-202-4735\",\"viewUrl\":\"https:\\\\/\\\\/www.msit.go.kr\\\\/bbs\\\\/view.do?sCode=user&mId=84&mPid=83&bbsSeqNo=65&nttSeqNo=3017383\",\"files\":[{\"file\":{\"fileName\":\"2022년도 '\n",
      " '과학치안 공공연구성과 실용화 촉진 시범사업 '\n",
      " '시행계획.odt\",\"fileUrl\":\"https:\\\\/\\\\/www.msit.go.kr\\\\/ssm\\\\/file\\\\/fileDown.do?atchFileNo=36213&fileOrd=2\"}}],\"managerName\":\"이윤소\"}},{\"item\":{\"deptName\":\"연구개발정책과\",\"pressDt\":\"2022-01-03\",\"subject\":\"[기초원천연구정책관]2022년도 '\n",
      " '과기정통부 연구개발사업 '\n",
      " '종합시행계획\",\"managerTel\":\"044-202-4519\",\"viewUrl\":\"https:\\\\/\\\\/www.msit.go.kr\\\\/bbs\\\\/view.do?sCode=user&mId=84&mPid=83&bbsSeqNo=65&nttSeqNo=3017381\",\"files\":[{\"file\":{\"fileName\":\"2022년도 '\n",
      " '과기정통부 연구개발사업 '\n",
      " '종합시행계획.odt\",\"fileUrl\":\"https:\\\\/\\\\/www.msit.go.kr\\\\/ssm\\\\/file\\\\/fileDown.do?atchFileNo=36171&fileOrd=2\"}},{\"file\":{\"fileName\":\"별첨1_과학기술 '\n",
      " '분야별 세부사업 '\n",
      " '추진계획(2022).odt\",\"fileUrl\":\"https:\\\\/\\\\/www.msit.go.kr\\\\/ssm\\\\/file\\\\/fileDown.do?atchFileNo=36171&fileOrd=4\"}},{\"file\":{\"fileName\":\"별첨2_ICT '\n",
      " '분야별 세부사업 '\n",
      " '추진계획(2022).odt\",\"fileUrl\":\"https:\\\\/\\\\/www.msit.go.kr\\\\/ssm\\\\/file\\\\/fileDown.do?atchFileNo=36171&fileOrd=6\"}},{\"file\":{\"fileName\":\"2022년도 '\n",
      " '과기부 R&D 종합시행계획 '\n",
      " '추진일정.jpg\",\"fileUrl\":\"https:\\\\/\\\\/www.msit.go.kr\\\\/ssm\\\\/file\\\\/fileDown.do?atchFileNo=36171&fileOrd=7\"}}],\"managerName\":\"이창환\"}}],\"numOfRows\":10}}]}')\n",
      "None\n"
     ]
    }
   ],
   "source": [
    "# 데이터 결과값 예쁘게 출력해주는 코드\n",
    "pp = pprint.PrettyPrinter(indent=4)\n",
    "print(pp.pprint(contents))"
   ]
  },
  {
   "cell_type": "code",
   "execution_count": 19,
   "id": "3024cb9e",
   "metadata": {
    "scrolled": false
   },
   "outputs": [
    {
     "ename": "NotImplementedError",
     "evalue": "",
     "output_type": "error",
     "traceback": [
      "\u001b[1;31m---------------------------------------------------------------------------\u001b[0m",
      "\u001b[1;31mNotImplementedError\u001b[0m                       Traceback (most recent call last)",
      "\u001b[1;32m~\\AppData\\Local\\Temp\\ipykernel_14308\\272759275.py\u001b[0m in \u001b[0;36m<module>\u001b[1;34m\u001b[0m\n\u001b[0;32m      3\u001b[0m \u001b[1;33m\u001b[0m\u001b[0m\n\u001b[0;32m      4\u001b[0m \u001b[1;31m# Dataframe으로 만들기\u001b[0m\u001b[1;33m\u001b[0m\u001b[1;33m\u001b[0m\u001b[0m\n\u001b[1;32m----> 5\u001b[1;33m \u001b[0mdataframe\u001b[0m \u001b[1;33m=\u001b[0m \u001b[0mpd\u001b[0m\u001b[1;33m.\u001b[0m\u001b[0mjson_normalize\u001b[0m\u001b[1;33m(\u001b[0m\u001b[1;34m\"body\"\u001b[0m\u001b[1;33m)\u001b[0m\u001b[1;33m\u001b[0m\u001b[1;33m\u001b[0m\u001b[0m\n\u001b[0m\u001b[0;32m      6\u001b[0m \u001b[1;33m\u001b[0m\u001b[0m\n\u001b[0;32m      7\u001b[0m \u001b[0mprint\u001b[0m\u001b[1;33m(\u001b[0m\u001b[0mdataframe\u001b[0m\u001b[1;33m)\u001b[0m\u001b[1;33m\u001b[0m\u001b[1;33m\u001b[0m\u001b[0m\n",
      "\u001b[1;32m~\\anaconda3\\lib\\site-packages\\pandas\\io\\json\\_normalize.py\u001b[0m in \u001b[0;36m_json_normalize\u001b[1;34m(data, record_path, meta, meta_prefix, record_prefix, errors, sep, max_level)\u001b[0m\n\u001b[0;32m    441\u001b[0m         \u001b[0mdata\u001b[0m \u001b[1;33m=\u001b[0m \u001b[0mlist\u001b[0m\u001b[1;33m(\u001b[0m\u001b[0mdata\u001b[0m\u001b[1;33m)\u001b[0m\u001b[1;33m\u001b[0m\u001b[1;33m\u001b[0m\u001b[0m\n\u001b[0;32m    442\u001b[0m     \u001b[1;32melse\u001b[0m\u001b[1;33m:\u001b[0m\u001b[1;33m\u001b[0m\u001b[1;33m\u001b[0m\u001b[0m\n\u001b[1;32m--> 443\u001b[1;33m         \u001b[1;32mraise\u001b[0m \u001b[0mNotImplementedError\u001b[0m\u001b[1;33m\u001b[0m\u001b[1;33m\u001b[0m\u001b[0m\n\u001b[0m\u001b[0;32m    444\u001b[0m \u001b[1;33m\u001b[0m\u001b[0m\n\u001b[0;32m    445\u001b[0m     \u001b[1;31m# check to see if a simple recursive function is possible to\u001b[0m\u001b[1;33m\u001b[0m\u001b[1;33m\u001b[0m\u001b[0m\n",
      "\u001b[1;31mNotImplementedError\u001b[0m: "
     ]
    }
   ],
   "source": [
    "# pandas import\n",
    "import pandas as pd\n",
    "\n",
    "# Dataframe으로 만들기\n",
    "dataframe = pd.json_normalize()\n",
    "\n",
    "print(dataframe)"
   ]
  },
  {
   "cell_type": "code",
   "execution_count": 12,
   "id": "75342e05",
   "metadata": {},
   "outputs": [
    {
     "name": "stderr",
     "output_type": "stream",
     "text": [
      "C:\\Users\\user\\anaconda3\\lib\\site-packages\\urllib3\\connectionpool.py:1045: InsecureRequestWarning: Unverified HTTPS request is being made to host 'apis.data.go.kr'. Adding certificate verification is strongly advised. See: https://urllib3.readthedocs.io/en/1.26.x/advanced-usage.html#ssl-warnings\n",
      "  warnings.warn(\n"
     ]
    },
    {
     "data": {
      "text/html": [
       "<div>\n",
       "<style scoped>\n",
       "    .dataframe tbody tr th:only-of-type {\n",
       "        vertical-align: middle;\n",
       "    }\n",
       "\n",
       "    .dataframe tbody tr th {\n",
       "        vertical-align: top;\n",
       "    }\n",
       "\n",
       "    .dataframe thead th {\n",
       "        text-align: right;\n",
       "    }\n",
       "</style>\n",
       "<table border=\"1\" class=\"dataframe\">\n",
       "  <thead>\n",
       "    <tr style=\"text-align: right;\">\n",
       "      <th></th>\n",
       "      <th>item.deptName</th>\n",
       "      <th>item.pressDt</th>\n",
       "      <th>item.subject</th>\n",
       "      <th>item.managerTel</th>\n",
       "      <th>item.viewUrl</th>\n",
       "      <th>item.files</th>\n",
       "      <th>item.managerName</th>\n",
       "    </tr>\n",
       "  </thead>\n",
       "  <tbody>\n",
       "    <tr>\n",
       "      <th>0</th>\n",
       "      <td>과학기술안전기반팀</td>\n",
       "      <td>2022-11-14</td>\n",
       "      <td>제2022-2회 안전관리 우수연구실 선정 결과 공고</td>\n",
       "      <td>044-202-4856</td>\n",
       "      <td>https://www.msit.go.kr/bbs/view.do?sCode=user&amp;...</td>\n",
       "      <td>[{'file': {'fileName': '(과기정통부 공고 제2022-1014호)...</td>\n",
       "      <td>윤인희</td>\n",
       "    </tr>\n",
       "    <tr>\n",
       "      <th>1</th>\n",
       "      <td>기초연구진흥과</td>\n",
       "      <td>2022-11-11</td>\n",
       "      <td>2023년도 과학기술정보통신부 기초연구사업 상반기 신규과제 공모</td>\n",
       "      <td>044-202-4538</td>\n",
       "      <td>https://www.msit.go.kr/bbs/view.do?sCode=user&amp;...</td>\n",
       "      <td>[{'file': {'fileName': '2023년도 과학기술정보통신부 기초연구사...</td>\n",
       "      <td>장예슬</td>\n",
       "    </tr>\n",
       "    <tr>\n",
       "      <th>2</th>\n",
       "      <td>과학기술안전기반팀</td>\n",
       "      <td>2022-11-09</td>\n",
       "      <td>2023년도「바이오안전성평가관리사업」신규과제 공고</td>\n",
       "      <td>044-202-4869</td>\n",
       "      <td>https://www.msit.go.kr/bbs/view.do?sCode=user&amp;...</td>\n",
       "      <td>[{'file': {'fileName': '[붙임1] 2023년도 바이오안전성평가관...</td>\n",
       "      <td>김정주</td>\n",
       "    </tr>\n",
       "    <tr>\n",
       "      <th>3</th>\n",
       "      <td>연구산업진흥과</td>\n",
       "      <td>2022-11-08</td>\n",
       "      <td>2022년 하반기 우수 기업연구소 지정예정 공고</td>\n",
       "      <td>044-202-4737</td>\n",
       "      <td>https://www.msit.go.kr/bbs/view.do?sCode=user&amp;...</td>\n",
       "      <td>[{'file': {'fileName': '(공고 제2022-1000호) 2022년...</td>\n",
       "      <td>윤수진</td>\n",
       "    </tr>\n",
       "    <tr>\n",
       "      <th>4</th>\n",
       "      <td>정보통신방송기술정책과</td>\n",
       "      <td>2022-11-08</td>\n",
       "      <td>’23년 신규과제 선정을 위한 「ICT기반 혁신제품·서비스 아이디어 Biz Pro...</td>\n",
       "      <td>044-202-6236</td>\n",
       "      <td>https://www.msit.go.kr/bbs/view.do?sCode=user&amp;...</td>\n",
       "      <td>[{'file': {'fileName': '붙임1. ’23년 신규과제 선정을 위한 ...</td>\n",
       "      <td>장내민</td>\n",
       "    </tr>\n",
       "    <tr>\n",
       "      <th>5</th>\n",
       "      <td>원자력연구개발과</td>\n",
       "      <td>2022-11-03</td>\n",
       "      <td>2022년도 하반기(2차) 원자력정책연구사업 공고</td>\n",
       "      <td>044-202-4657</td>\n",
       "      <td>https://www.msit.go.kr/bbs/view.do?sCode=user&amp;...</td>\n",
       "      <td>[{'file': {'fileName': '[공고문] 2022년도 하반기(2차) 원...</td>\n",
       "      <td>하지훈</td>\n",
       "    </tr>\n",
       "    <tr>\n",
       "      <th>6</th>\n",
       "      <td>구주아프리카협력담당관</td>\n",
       "      <td>2022-11-01</td>\n",
       "      <td>2022년 한-헝가리 공동연구사업 신규과제 선정협의 결과 공고</td>\n",
       "      <td>044-202-4355</td>\n",
       "      <td>https://www.msit.go.kr/bbs/view.do?sCode=user&amp;...</td>\n",
       "      <td>[{'file': {'fileName': '2022년 한-헝가리 공동연구사업 신규과...</td>\n",
       "      <td>이재원</td>\n",
       "    </tr>\n",
       "    <tr>\n",
       "      <th>7</th>\n",
       "      <td>미주아시아협력담당관</td>\n",
       "      <td>2022-10-31</td>\n",
       "      <td>2022년 한-필리핀 협력기반조성사업(공동연구) 선정 결과 공고문</td>\n",
       "      <td>044-202-4347</td>\n",
       "      <td>https://www.msit.go.kr/bbs/view.do?sCode=user&amp;...</td>\n",
       "      <td>[{'file': {'fileName': '[붙임] 2022년 한-필리핀 협력기반조...</td>\n",
       "      <td>오곤지</td>\n",
       "    </tr>\n",
       "    <tr>\n",
       "      <th>8</th>\n",
       "      <td>성장동력기획과</td>\n",
       "      <td>2022-10-31</td>\n",
       "      <td>2022년도 「다부처공동기획연구지원」사업 신규 기획과제 2차 공모</td>\n",
       "      <td>044-202-6755</td>\n",
       "      <td>https://www.msit.go.kr/bbs/view.do?sCode=user&amp;...</td>\n",
       "      <td>[{'file': {'fileName': '[공고문] 2022년도 「다부처공동기획연...</td>\n",
       "      <td>박태영</td>\n",
       "    </tr>\n",
       "    <tr>\n",
       "      <th>9</th>\n",
       "      <td>구주아프리카협력담당관</td>\n",
       "      <td>2022-10-28</td>\n",
       "      <td>2022년 한-이태리 협력기반조성사업 신규과제 선정결과 공고</td>\n",
       "      <td>044-202-4354</td>\n",
       "      <td>https://www.msit.go.kr/bbs/view.do?sCode=user&amp;...</td>\n",
       "      <td>[{'file': {'fileName': '2022년 한-이태리 협력기반조성사업 최...</td>\n",
       "      <td>이세원</td>\n",
       "    </tr>\n",
       "  </tbody>\n",
       "</table>\n",
       "</div>"
      ],
      "text/plain": [
       "  item.deptName item.pressDt  \\\n",
       "0     과학기술안전기반팀   2022-11-14   \n",
       "1       기초연구진흥과   2022-11-11   \n",
       "2     과학기술안전기반팀   2022-11-09   \n",
       "3       연구산업진흥과   2022-11-08   \n",
       "4   정보통신방송기술정책과   2022-11-08   \n",
       "5      원자력연구개발과   2022-11-03   \n",
       "6   구주아프리카협력담당관   2022-11-01   \n",
       "7    미주아시아협력담당관   2022-10-31   \n",
       "8       성장동력기획과   2022-10-31   \n",
       "9   구주아프리카협력담당관   2022-10-28   \n",
       "\n",
       "                                        item.subject item.managerTel  \\\n",
       "0                       제2022-2회 안전관리 우수연구실 선정 결과 공고    044-202-4856   \n",
       "1                2023년도 과학기술정보통신부 기초연구사업 상반기 신규과제 공모    044-202-4538   \n",
       "2                        2023년도「바이오안전성평가관리사업」신규과제 공고    044-202-4869   \n",
       "3                         2022년 하반기 우수 기업연구소 지정예정 공고    044-202-4737   \n",
       "4   ’23년 신규과제 선정을 위한 「ICT기반 혁신제품·서비스 아이디어 Biz Pro...    044-202-6236   \n",
       "5                        2022년도 하반기(2차) 원자력정책연구사업 공고    044-202-4657   \n",
       "6                 2022년 한-헝가리 공동연구사업 신규과제 선정협의 결과 공고    044-202-4355   \n",
       "7               2022년 한-필리핀 협력기반조성사업(공동연구) 선정 결과 공고문    044-202-4347   \n",
       "8               2022년도 「다부처공동기획연구지원」사업 신규 기획과제 2차 공모    044-202-6755   \n",
       "9                  2022년 한-이태리 협력기반조성사업 신규과제 선정결과 공고    044-202-4354   \n",
       "\n",
       "                                        item.viewUrl  \\\n",
       "0  https://www.msit.go.kr/bbs/view.do?sCode=user&...   \n",
       "1  https://www.msit.go.kr/bbs/view.do?sCode=user&...   \n",
       "2  https://www.msit.go.kr/bbs/view.do?sCode=user&...   \n",
       "3  https://www.msit.go.kr/bbs/view.do?sCode=user&...   \n",
       "4  https://www.msit.go.kr/bbs/view.do?sCode=user&...   \n",
       "5  https://www.msit.go.kr/bbs/view.do?sCode=user&...   \n",
       "6  https://www.msit.go.kr/bbs/view.do?sCode=user&...   \n",
       "7  https://www.msit.go.kr/bbs/view.do?sCode=user&...   \n",
       "8  https://www.msit.go.kr/bbs/view.do?sCode=user&...   \n",
       "9  https://www.msit.go.kr/bbs/view.do?sCode=user&...   \n",
       "\n",
       "                                          item.files item.managerName  \n",
       "0  [{'file': {'fileName': '(과기정통부 공고 제2022-1014호)...              윤인희  \n",
       "1  [{'file': {'fileName': '2023년도 과학기술정보통신부 기초연구사...              장예슬  \n",
       "2  [{'file': {'fileName': '[붙임1] 2023년도 바이오안전성평가관...              김정주  \n",
       "3  [{'file': {'fileName': '(공고 제2022-1000호) 2022년...              윤수진  \n",
       "4  [{'file': {'fileName': '붙임1. ’23년 신규과제 선정을 위한 ...              장내민  \n",
       "5  [{'file': {'fileName': '[공고문] 2022년도 하반기(2차) 원...              하지훈  \n",
       "6  [{'file': {'fileName': '2022년 한-헝가리 공동연구사업 신규과...              이재원  \n",
       "7  [{'file': {'fileName': '[붙임] 2022년 한-필리핀 협력기반조...              오곤지  \n",
       "8  [{'file': {'fileName': '[공고문] 2022년도 「다부처공동기획연...              박태영  \n",
       "9  [{'file': {'fileName': '2022년 한-이태리 협력기반조성사업 최...              이세원  "
      ]
     },
     "execution_count": 12,
     "metadata": {},
     "output_type": "execute_result"
    }
   ],
   "source": [
    "# 라이브러리 import\n",
    "import requests\n",
    "import pprint\n",
    "import json\n",
    "import pandas as pd\n",
    "from pandas import json_normalize\n",
    "\n",
    "# url 입력\n",
    "url = 'https://apis.data.go.kr/1721000/msitannouncementinfo/businessAnnouncMentList?serviceKey=Ar6tat092yzvcQYUO8wCqMtbnxBjQwCGjNL4BsE6kmpaWXECc153R13Nj2eUkD%2FHQw3Zi9YroLnnTzc4q1L%2Flw%3D%3D&pageNo=1&numOfRows=10&returnType=json'\n",
    "\n",
    "# url 불러오기\n",
    "response = requests.get(url, verify=False)\n",
    "\n",
    "#데이터 값 출력해보기\n",
    "contents = response.text\n",
    "data =json.loads(contents)\n",
    "stat =data['response'][1]\n",
    "stat2 =stat['body']['items']\n",
    "\n",
    "df = json_normalize(stat2)\n",
    "df"
   ]
  },
  {
   "cell_type": "code",
   "execution_count": 15,
   "id": "cb455ed2",
   "metadata": {},
   "outputs": [
    {
     "name": "stdout",
     "output_type": "stream",
     "text": [
      "Collecting selenium\n",
      "  Downloading selenium-4.6.0-py3-none-any.whl (5.2 MB)\n",
      "     ---------------------------------------- 5.2/5.2 MB 4.6 MB/s eta 0:00:00\n",
      "Requirement already satisfied: urllib3[socks]~=1.26 in c:\\users\\user\\anaconda3\\lib\\site-packages (from selenium) (1.26.12)\n",
      "Collecting trio~=0.17\n",
      "  Downloading trio-0.22.0-py3-none-any.whl (384 kB)\n",
      "     -------------------------------------- 384.9/384.9 kB 5.9 MB/s eta 0:00:00\n",
      "Collecting trio-websocket~=0.9\n",
      "  Downloading trio_websocket-0.9.2-py3-none-any.whl (16 kB)\n",
      "Requirement already satisfied: certifi>=2021.10.8 in c:\\users\\user\\anaconda3\\lib\\site-packages (from selenium) (2022.9.24)\n",
      "Requirement already satisfied: sortedcontainers in c:\\users\\user\\anaconda3\\lib\\site-packages (from trio~=0.17->selenium) (2.4.0)\n",
      "Requirement already satisfied: attrs>=19.2.0 in c:\\users\\user\\anaconda3\\lib\\site-packages (from trio~=0.17->selenium) (21.4.0)\n",
      "Collecting outcome\n",
      "  Downloading outcome-1.2.0-py2.py3-none-any.whl (9.7 kB)\n",
      "Requirement already satisfied: idna in c:\\users\\user\\anaconda3\\lib\\site-packages (from trio~=0.17->selenium) (2.10)\n",
      "Collecting async-generator>=1.9\n",
      "  Downloading async_generator-1.10-py3-none-any.whl (18 kB)\n",
      "Requirement already satisfied: sniffio in c:\\users\\user\\anaconda3\\lib\\site-packages (from trio~=0.17->selenium) (1.2.0)\n",
      "Requirement already satisfied: cffi>=1.14 in c:\\users\\user\\anaconda3\\lib\\site-packages (from trio~=0.17->selenium) (1.15.1)\n",
      "Collecting exceptiongroup>=1.0.0rc9\n",
      "  Downloading exceptiongroup-1.0.3-py3-none-any.whl (14 kB)\n",
      "Collecting wsproto>=0.14\n",
      "  Downloading wsproto-1.2.0-py3-none-any.whl (24 kB)\n",
      "Requirement already satisfied: PySocks!=1.5.7,<2.0,>=1.5.6 in c:\\users\\user\\anaconda3\\lib\\site-packages (from urllib3[socks]~=1.26->selenium) (1.7.1)\n",
      "Requirement already satisfied: pycparser in c:\\users\\user\\anaconda3\\lib\\site-packages (from cffi>=1.14->trio~=0.17->selenium) (2.21)\n",
      "Requirement already satisfied: h11<1,>=0.9.0 in c:\\users\\user\\anaconda3\\lib\\site-packages (from wsproto>=0.14->trio-websocket~=0.9->selenium) (0.9.0)\n",
      "Installing collected packages: wsproto, outcome, exceptiongroup, async-generator, trio, trio-websocket, selenium\n",
      "Successfully installed async-generator-1.10 exceptiongroup-1.0.3 outcome-1.2.0 selenium-4.6.0 trio-0.22.0 trio-websocket-0.9.2 wsproto-1.2.0\n"
     ]
    }
   ],
   "source": [
    "!pip install selenium"
   ]
  },
  {
   "cell_type": "code",
   "execution_count": 10,
   "id": "4d7e2545",
   "metadata": {},
   "outputs": [
    {
     "name": "stdout",
     "output_type": "stream",
     "text": [
      "Collecting webdriver-manager\n",
      "  Downloading webdriver_manager-3.8.4-py2.py3-none-any.whl (27 kB)\n",
      "Requirement already satisfied: tqdm in c:\\users\\user\\anaconda3\\lib\\site-packages (from webdriver-manager) (4.64.1)\n",
      "Collecting python-dotenv\n",
      "  Downloading python_dotenv-0.21.0-py3-none-any.whl (18 kB)\n",
      "Requirement already satisfied: requests in c:\\users\\user\\anaconda3\\lib\\site-packages (from webdriver-manager) (2.28.1)\n",
      "Requirement already satisfied: certifi>=2017.4.17 in c:\\users\\user\\anaconda3\\lib\\site-packages (from requests->webdriver-manager) (2022.9.24)\n",
      "Requirement already satisfied: urllib3<1.27,>=1.21.1 in c:\\users\\user\\anaconda3\\lib\\site-packages (from requests->webdriver-manager) (1.26.12)\n",
      "Requirement already satisfied: charset-normalizer<3,>=2 in c:\\users\\user\\anaconda3\\lib\\site-packages (from requests->webdriver-manager) (2.0.4)\n",
      "Requirement already satisfied: idna<4,>=2.5 in c:\\users\\user\\anaconda3\\lib\\site-packages (from requests->webdriver-manager) (2.10)\n",
      "Requirement already satisfied: colorama in c:\\users\\user\\anaconda3\\lib\\site-packages (from tqdm->webdriver-manager) (0.4.5)\n",
      "Installing collected packages: python-dotenv, webdriver-manager\n",
      "Successfully installed python-dotenv-0.21.0 webdriver-manager-3.8.4\n"
     ]
    }
   ],
   "source": [
    "!pip install webdriver-manager"
   ]
  },
  {
   "cell_type": "code",
   "execution_count": 11,
   "id": "fa91e4e4",
   "metadata": {
    "scrolled": true
   },
   "outputs": [
    {
     "name": "stderr",
     "output_type": "stream",
     "text": [
      "[WDM] - Downloading: 100%|████████████████████████████████████████████████████████| 6.46M/6.46M [00:01<00:00, 4.29MB/s]\n",
      "C:\\Users\\user\\AppData\\Local\\Temp\\ipykernel_14308\\3871533204.py:3: DeprecationWarning: executable_path has been deprecated, please pass in a Service object\n",
      "  driver = webdriver.Chrome(ChromeDriverManager().install())\n"
     ]
    }
   ],
   "source": [
    "from selenium import webdriver\n",
    "from webdriver_manager.chrome import ChromeDriverManager\n",
    "driver = webdriver.Chrome(ChromeDriverManager().install())"
   ]
  },
  {
   "cell_type": "code",
   "execution_count": 12,
   "id": "ea10baa0",
   "metadata": {},
   "outputs": [
    {
     "name": "stderr",
     "output_type": "stream",
     "text": [
      "C:\\Users\\user\\AppData\\Local\\Temp\\ipykernel_14308\\3227311581.py:1: DeprecationWarning: executable_path has been deprecated, please pass in a Service object\n",
      "  driver = webdriver.Chrome(ChromeDriverManager().install())\n"
     ]
    },
    {
     "ename": "AttributeError",
     "evalue": "'WebDriver' object has no attribute 'find_elements_by_css_selector'",
     "output_type": "error",
     "traceback": [
      "\u001b[1;31m---------------------------------------------------------------------------\u001b[0m",
      "\u001b[1;31mAttributeError\u001b[0m                            Traceback (most recent call last)",
      "\u001b[1;32m~\\AppData\\Local\\Temp\\ipykernel_14308\\3227311581.py\u001b[0m in \u001b[0;36m<module>\u001b[1;34m\u001b[0m\n\u001b[0;32m      5\u001b[0m \u001b[0mfolder_counts\u001b[0m \u001b[1;33m=\u001b[0m \u001b[1;36m0\u001b[0m\u001b[1;33m\u001b[0m\u001b[1;33m\u001b[0m\u001b[0m\n\u001b[0;32m      6\u001b[0m \u001b[1;32mwhile\u001b[0m \u001b[1;32mTrue\u001b[0m\u001b[1;33m:\u001b[0m\u001b[1;33m\u001b[0m\u001b[1;33m\u001b[0m\u001b[0m\n\u001b[1;32m----> 7\u001b[1;33m     \u001b[0mresults\u001b[0m \u001b[1;33m=\u001b[0m \u001b[0mdriver\u001b[0m\u001b[1;33m.\u001b[0m\u001b[0mfind_elements_by_css_selector\u001b[0m\u001b[1;33m(\u001b[0m\u001b[1;34m\"#folder{}\"\u001b[0m\u001b[1;33m.\u001b[0m\u001b[0mformat\u001b[0m\u001b[1;33m(\u001b[0m\u001b[0mfolder_counts\u001b[0m\u001b[1;33m)\u001b[0m\u001b[1;33m)\u001b[0m\u001b[1;33m\u001b[0m\u001b[1;33m\u001b[0m\u001b[0m\n\u001b[0m\u001b[0;32m      8\u001b[0m     \u001b[0mcheck1\u001b[0m \u001b[1;33m=\u001b[0m \u001b[0mresults\u001b[0m\u001b[1;33m[\u001b[0m\u001b[1;36m0\u001b[0m\u001b[1;33m]\u001b[0m\u001b[1;33m.\u001b[0m\u001b[0mtext\u001b[0m\u001b[1;33m.\u001b[0m\u001b[0mfind\u001b[0m\u001b[1;33m(\u001b[0m\u001b[1;34m\"<items>\"\u001b[0m\u001b[1;33m)\u001b[0m\u001b[1;33m\u001b[0m\u001b[1;33m\u001b[0m\u001b[0m\n\u001b[0;32m      9\u001b[0m     \u001b[0mcheck2\u001b[0m \u001b[1;33m=\u001b[0m \u001b[0mresults\u001b[0m\u001b[1;33m[\u001b[0m\u001b[1;36m0\u001b[0m\u001b[1;33m]\u001b[0m\u001b[1;33m.\u001b[0m\u001b[0mtext\u001b[0m\u001b[1;33m.\u001b[0m\u001b[0mfind\u001b[0m\u001b[1;33m(\u001b[0m\u001b[1;34m\"<subject>\"\u001b[0m\u001b[1;33m)\u001b[0m\u001b[1;33m\u001b[0m\u001b[1;33m\u001b[0m\u001b[0m\n",
      "\u001b[1;31mAttributeError\u001b[0m: 'WebDriver' object has no attribute 'find_elements_by_css_selector'"
     ]
    }
   ],
   "source": [
    "driver = webdriver.Chrome(ChromeDriverManager().install())\n",
    "URL = 'https://apis.data.go.kr/1721000/msitannouncementinfo/businessAnnouncMentList?serviceKey=Ar6tat092yzvcQYUO8wCqMtbnxBjQwCGjNL4BsE6kmpaWXECc153R13Nj2eUkD%2FHQw3Zi9YroLnnTzc4q1L%2Flw%3D%3D&numOfRows=10&pageNo=3&returnType=xml'\n",
    "driver.get(url = URL)\n",
    "row_counts = 0\n",
    "folder_counts = 0\n",
    "while True:\n",
    "    results = driver.find_elements_by_css_selector(\"#folder{}\".format(folder_counts))\n",
    "    check1 = results[0].text.find(\"<items>\")\n",
    "    check2 = results[0].text.find(\"<subject>\")\n",
    "    if (check1 == -1) and (check2 != -1):\n",
    "        row_counts += 1\n",
    "        results = driver.find_elements_by_css_selector(\"#folder{} > div.opened > div:nth-child(2) > span:nth-child(2)\".format(folder_counts))\n",
    "        print( str(row_counts)+\" : \"+ results[0].text)\n",
    "        \n",
    "    \n",
    "    if row_counts == 10:\n",
    "        break\n",
    "    folder_counts += 1"
   ]
  },
  {
   "cell_type": "code",
   "execution_count": null,
   "id": "c1f2c557",
   "metadata": {},
   "outputs": [],
   "source": []
  }
 ],
 "metadata": {
  "kernelspec": {
   "display_name": "Python 3 (ipykernel)",
   "language": "python",
   "name": "python3"
  },
  "language_info": {
   "codemirror_mode": {
    "name": "ipython",
    "version": 3
   },
   "file_extension": ".py",
   "mimetype": "text/x-python",
   "name": "python",
   "nbconvert_exporter": "python",
   "pygments_lexer": "ipython3",
   "version": "3.9.13"
  }
 },
 "nbformat": 4,
 "nbformat_minor": 5
}
