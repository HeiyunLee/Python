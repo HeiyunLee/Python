{
 "cells": [
  {
   "cell_type": "markdown",
   "metadata": {},
   "source": [
    "### 라이브러리 설치"
   ]
  },
  {
   "cell_type": "code",
   "execution_count": null,
   "metadata": {},
   "outputs": [],
   "source": [
    "# pip install streamlit -> 빠르고 쉽게 웹앱을 만들기 위한 라이브러리\n",
    "#                       -> 설치 시 이메일 입력하는 부분이 나타나면 사용하는 이메일을 입력했을 때 업데이트 되는 내용을 이메일로 알려준다.\n",
    "#                       -> 터미널에서 streamlit 실행하면 이메일 입력차 나옴.\n",
    "# pip install pyupbit -> 가상화폐 데이터를 조회활 수 있는 라이브러리"
   ]
  },
  {
   "cell_type": "markdown",
   "metadata": {},
   "source": [
    "### streamlit을 이용해 간단한 차트 그리는 프로그램"
   ]
  },
  {
   "cell_type": "code",
   "execution_count": 2,
   "metadata": {},
   "outputs": [
    {
     "name": "stderr",
     "output_type": "stream",
     "text": [
      "2022-11-07 17:42:27.315 \n",
      "  \u001b[33m\u001b[1mWarning:\u001b[0m to view this Streamlit app on a browser, run it with the following\n",
      "  command:\n",
      "\n",
      "    streamlit run c:\\Users\\user\\anaconda3\\lib\\site-packages\\ipykernel_launcher.py [ARGUMENTS]\n"
     ]
    },
    {
     "data": {
      "text/plain": [
       "DeltaGenerator(_root_container=0, _provided_cursor=None, _parent=None, _block_type=None, _form_data=None)"
      ]
     },
     "execution_count": 2,
     "metadata": {},
     "output_type": "execute_result"
    }
   ],
   "source": [
    "import streamlit as st\n",
    "\n",
    "data_list = {5,5,6,6,7} # 차트에 넣을 데이터 만들기\n",
    "st.write('''\n",
    "샘플데이터\n",
    "''')\n",
    "\n",
    "st.line_chart(data_list) # 차트 그리기\n",
    "\n",
    "# 실행하면 오류 발생\n",
    "# [29. 쉬운 웹앱만들기] 폴더 -> [통합 터미널에서 열기] 실행\n",
    "# 통합 터미널에 -> streamlit run main29-1.py 입력,\n",
    "# 기본 브라우저를 통해 웹앱 실행됨."
   ]
  },
  {
   "cell_type": "markdown",
   "metadata": {},
   "source": [
    "### 달력에서 날짜를 선택하는 코드 만들기"
   ]
  },
  {
   "cell_type": "code",
   "execution_count": null,
   "metadata": {},
   "outputs": [],
   "source": [
    "import streamlit as st\n",
    "import datetime\n",
    "\n",
    "d = st.date_input(              # 달력에서 날짜 입력 받기\n",
    "    \"날짜를 입력하세요.\", \n",
    "    datetime.date.today())\n",
    "\n",
    "st.write('선택한 날짜: ', d)    # 선택한 날짜를 출력\n",
    "\n",
    "# [29. 쉬운 웹앱만들기] 폴더 -> [통합 터미널에서 열기] 실행\n",
    "# 통합 터미널에 -> streamlit run main29-2.py 입력,\n",
    "# 기본 브라우저를 통해 웹앱 실행됨. "
   ]
  },
  {
   "cell_type": "markdown",
   "metadata": {},
   "source": [
    "#### 선택한 날짜의 비트코인 시세를 그래프로 출력해주는 웹앱 코드 만들기"
   ]
  },
  {
   "cell_type": "code",
   "execution_count": null,
   "metadata": {},
   "outputs": [],
   "source": [
    "import streamlit as st\n",
    "import datetime\n",
    "import pyupbit\n",
    "\n",
    "d = st.date_input(          # 달력으로 날짜 입력 받기\n",
    "    \"날짜를 입력하세요.\", \n",
    "    datetime.date.today())\n",
    "\n",
    "st.write('비트코인 1일 차트')\n",
    "\n",
    "ticker = 'KRW=BTC'          # 11~15: 비트코인의 1시간 데이터를 24개 가져온다.\n",
    "interval = 'minute60'\n",
    "to = str(d + datetime.timedelta(days=1)) # 입력한 날짜에 하루를 더해준다. \n",
    "                                        # 이전 데이터 24개를 가지고 옴 -> \n",
    "                                        # 오늘까지의 값을 알고 싶다면 내일 날짜부터 이전 24개의 데이터를 가져오도록 한다.\n",
    "count = 24\n",
    "price_now = pyupbit.get_ohlcv(ticker=ticker, interval=interval, to=to, count=count)\n",
    "# 17: 그래프로 그리기\n",
    "\n",
    "st.line_chart(price_now.close)\n",
    "\n",
    "# 실행하면 오류 발생\n",
    "# [29. 쉬운 웹앱만들기] 폴더 -> [통합 터미널에서 열기] 실행\n",
    "# 통합 터미널에 -> streamlit run main29-3.py 입력,\n",
    "# 기본 브라우저를 통해 웹앱 실행됨. *익스플로러는 호환X\n"
   ]
  },
  {
   "cell_type": "code",
   "execution_count": null,
   "metadata": {},
   "outputs": [],
   "source": [
    "# 시세를 1시간 단위로 확인하는 웹앱 만들어봄.\n",
    "# 그래프 확대/축소 가능"
   ]
  },
  {
   "cell_type": "code",
   "execution_count": null,
   "metadata": {},
   "outputs": [],
   "source": []
  }
 ],
 "metadata": {
  "kernelspec": {
   "display_name": "Python 3.9.13 ('base')",
   "language": "python",
   "name": "python3"
  },
  "language_info": {
   "codemirror_mode": {
    "name": "ipython",
    "version": 3
   },
   "file_extension": ".py",
   "mimetype": "text/x-python",
   "name": "python",
   "nbconvert_exporter": "python",
   "pygments_lexer": "ipython3",
   "version": "3.9.13"
  },
  "orig_nbformat": 4,
  "vscode": {
   "interpreter": {
    "hash": "a077222d77dfe082b8f1dd562ad70e458ac2ab76993a0b248ab0476e32e9e8dd"
   }
  }
 },
 "nbformat": 4,
 "nbformat_minor": 2
}
