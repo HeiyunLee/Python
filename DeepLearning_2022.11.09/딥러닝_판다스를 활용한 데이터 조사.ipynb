{
 "cells": [
  {
   "cell_type": "markdown",
   "id": "a2ec3606",
   "metadata": {},
   "source": [
    "## 판다스를 활용한 데이터 조사"
   ]
  },
  {
   "cell_type": "code",
   "execution_count": 5,
   "id": "9bd0fa22",
   "metadata": {
    "scrolled": true
   },
   "outputs": [
    {
     "name": "stdout",
     "output_type": "stream",
     "text": [
      "Requirement already satisfied: seaborn in c:\\users\\user\\anaconda3\\lib\\site-packages (0.12.0)\n",
      "Requirement already satisfied: matplotlib>=3.1 in c:\\users\\user\\anaconda3\\lib\\site-packages (from seaborn) (3.5.2)\n",
      "Requirement already satisfied: numpy>=1.17 in c:\\users\\user\\anaconda3\\lib\\site-packages (from seaborn) (1.21.5)\n",
      "Requirement already satisfied: pandas>=0.25 in c:\\users\\user\\anaconda3\\lib\\site-packages (from seaborn) (1.4.4)\n",
      "Requirement already satisfied: python-dateutil>=2.7 in c:\\users\\user\\anaconda3\\lib\\site-packages (from matplotlib>=3.1->seaborn) (2.8.2)\n",
      "Requirement already satisfied: fonttools>=4.22.0 in c:\\users\\user\\anaconda3\\lib\\site-packages (from matplotlib>=3.1->seaborn) (4.25.0)\n",
      "Requirement already satisfied: pyparsing>=2.2.1 in c:\\users\\user\\anaconda3\\lib\\site-packages (from matplotlib>=3.1->seaborn) (3.0.9)\n",
      "Requirement already satisfied: kiwisolver>=1.0.1 in c:\\users\\user\\anaconda3\\lib\\site-packages (from matplotlib>=3.1->seaborn) (1.4.2)\n",
      "Requirement already satisfied: packaging>=20.0 in c:\\users\\user\\anaconda3\\lib\\site-packages (from matplotlib>=3.1->seaborn) (21.3)\n",
      "Requirement already satisfied: pillow>=6.2.0 in c:\\users\\user\\anaconda3\\lib\\site-packages (from matplotlib>=3.1->seaborn) (9.2.0)\n",
      "Requirement already satisfied: cycler>=0.10 in c:\\users\\user\\anaconda3\\lib\\site-packages (from matplotlib>=3.1->seaborn) (0.11.0)\n",
      "Requirement already satisfied: pytz>=2020.1 in c:\\users\\user\\anaconda3\\lib\\site-packages (from pandas>=0.25->seaborn) (2022.1)\n",
      "Requirement already satisfied: six>=1.5 in c:\\users\\user\\anaconda3\\lib\\site-packages (from python-dateutil>=2.7->matplotlib>=3.1->seaborn) (1.16.0)\n"
     ]
    }
   ],
   "source": [
    "!pip install seaborn"
   ]
  },
  {
   "cell_type": "code",
   "execution_count": 6,
   "id": "4307effe",
   "metadata": {},
   "outputs": [
    {
     "name": "stdout",
     "output_type": "stream",
     "text": [
      "Requirement already satisfied: pandas in c:\\users\\user\\anaconda3\\lib\\site-packages (1.4.4)\n",
      "Requirement already satisfied: numpy>=1.18.5 in c:\\users\\user\\anaconda3\\lib\\site-packages (from pandas) (1.21.5)\n",
      "Requirement already satisfied: python-dateutil>=2.8.1 in c:\\users\\user\\anaconda3\\lib\\site-packages (from pandas) (2.8.2)\n",
      "Requirement already satisfied: pytz>=2020.1 in c:\\users\\user\\anaconda3\\lib\\site-packages (from pandas) (2022.1)\n",
      "Requirement already satisfied: six>=1.5 in c:\\users\\user\\anaconda3\\lib\\site-packages (from python-dateutil>=2.8.1->pandas) (1.16.0)\n"
     ]
    }
   ],
   "source": [
    "!pip install pandas"
   ]
  },
  {
   "cell_type": "code",
   "execution_count": 7,
   "id": "29355b68",
   "metadata": {},
   "outputs": [],
   "source": [
    "import pandas as pd\n",
    "import matplotlib.pyplot as plt\n",
    "import seaborn as sns"
   ]
  },
  {
   "cell_type": "code",
   "execution_count": 8,
   "id": "bba5a7c1",
   "metadata": {},
   "outputs": [
    {
     "name": "stderr",
     "output_type": "stream",
     "text": [
      "Cloning into 'data'...\n"
     ]
    }
   ],
   "source": [
    "# 깃허브에서 준비된 데이터 가져오기\n",
    "!git clone https://github.com/taehojo/data.git"
   ]
  },
  {
   "cell_type": "code",
   "execution_count": 10,
   "id": "5f97715e",
   "metadata": {},
   "outputs": [
    {
     "data": {
      "text/html": [
       "<div>\n",
       "<style scoped>\n",
       "    .dataframe tbody tr th:only-of-type {\n",
       "        vertical-align: middle;\n",
       "    }\n",
       "\n",
       "    .dataframe tbody tr th {\n",
       "        vertical-align: top;\n",
       "    }\n",
       "\n",
       "    .dataframe thead th {\n",
       "        text-align: right;\n",
       "    }\n",
       "</style>\n",
       "<table border=\"1\" class=\"dataframe\">\n",
       "  <thead>\n",
       "    <tr style=\"text-align: right;\">\n",
       "      <th></th>\n",
       "      <th>pregnant</th>\n",
       "      <th>plasma</th>\n",
       "      <th>pressure</th>\n",
       "      <th>thickness</th>\n",
       "      <th>insulin</th>\n",
       "      <th>bmi</th>\n",
       "      <th>pedigree</th>\n",
       "      <th>age</th>\n",
       "      <th>diabetes</th>\n",
       "    </tr>\n",
       "  </thead>\n",
       "  <tbody>\n",
       "    <tr>\n",
       "      <th>0</th>\n",
       "      <td>6</td>\n",
       "      <td>148</td>\n",
       "      <td>72</td>\n",
       "      <td>35</td>\n",
       "      <td>0</td>\n",
       "      <td>33.6</td>\n",
       "      <td>0.627</td>\n",
       "      <td>50</td>\n",
       "      <td>1</td>\n",
       "    </tr>\n",
       "    <tr>\n",
       "      <th>1</th>\n",
       "      <td>1</td>\n",
       "      <td>85</td>\n",
       "      <td>66</td>\n",
       "      <td>29</td>\n",
       "      <td>0</td>\n",
       "      <td>26.6</td>\n",
       "      <td>0.351</td>\n",
       "      <td>31</td>\n",
       "      <td>0</td>\n",
       "    </tr>\n",
       "    <tr>\n",
       "      <th>2</th>\n",
       "      <td>8</td>\n",
       "      <td>183</td>\n",
       "      <td>64</td>\n",
       "      <td>0</td>\n",
       "      <td>0</td>\n",
       "      <td>23.3</td>\n",
       "      <td>0.672</td>\n",
       "      <td>32</td>\n",
       "      <td>1</td>\n",
       "    </tr>\n",
       "    <tr>\n",
       "      <th>3</th>\n",
       "      <td>1</td>\n",
       "      <td>89</td>\n",
       "      <td>66</td>\n",
       "      <td>23</td>\n",
       "      <td>94</td>\n",
       "      <td>28.1</td>\n",
       "      <td>0.167</td>\n",
       "      <td>21</td>\n",
       "      <td>0</td>\n",
       "    </tr>\n",
       "    <tr>\n",
       "      <th>4</th>\n",
       "      <td>0</td>\n",
       "      <td>137</td>\n",
       "      <td>40</td>\n",
       "      <td>35</td>\n",
       "      <td>168</td>\n",
       "      <td>43.1</td>\n",
       "      <td>2.288</td>\n",
       "      <td>33</td>\n",
       "      <td>1</td>\n",
       "    </tr>\n",
       "  </tbody>\n",
       "</table>\n",
       "</div>"
      ],
      "text/plain": [
       "   pregnant  plasma  pressure  thickness  insulin   bmi  pedigree  age  \\\n",
       "0         6     148        72         35        0  33.6     0.627   50   \n",
       "1         1      85        66         29        0  26.6     0.351   31   \n",
       "2         8     183        64          0        0  23.3     0.672   32   \n",
       "3         1      89        66         23       94  28.1     0.167   21   \n",
       "4         0     137        40         35      168  43.1     2.288   33   \n",
       "\n",
       "   diabetes  \n",
       "0         1  \n",
       "1         0  \n",
       "2         1  \n",
       "3         0  \n",
       "4         1  "
      ]
     },
     "execution_count": 10,
     "metadata": {},
     "output_type": "execute_result"
    }
   ],
   "source": [
    "# 피마 인디언 데이터셋 가져오기\n",
    "df = pd.read_csv('./data/pima-indians-diabetes3.csv')\n",
    "df.head(5)"
   ]
  },
  {
   "cell_type": "code",
   "execution_count": 11,
   "id": "3bf7ef0e",
   "metadata": {},
   "outputs": [
    {
     "data": {
      "text/plain": [
       "0    500\n",
       "1    268\n",
       "Name: diabetes, dtype: int64"
      ]
     },
     "execution_count": 11,
     "metadata": {},
     "output_type": "execute_result"
    }
   ],
   "source": [
    "df[\"diabetes\"].value_counts()"
   ]
  },
  {
   "cell_type": "code",
   "execution_count": 13,
   "id": "2c6f6363",
   "metadata": {},
   "outputs": [
    {
     "data": {
      "text/html": [
       "<div>\n",
       "<style scoped>\n",
       "    .dataframe tbody tr th:only-of-type {\n",
       "        vertical-align: middle;\n",
       "    }\n",
       "\n",
       "    .dataframe tbody tr th {\n",
       "        vertical-align: top;\n",
       "    }\n",
       "\n",
       "    .dataframe thead th {\n",
       "        text-align: right;\n",
       "    }\n",
       "</style>\n",
       "<table border=\"1\" class=\"dataframe\">\n",
       "  <thead>\n",
       "    <tr style=\"text-align: right;\">\n",
       "      <th></th>\n",
       "      <th>pregnant</th>\n",
       "      <th>plasma</th>\n",
       "      <th>pressure</th>\n",
       "      <th>thickness</th>\n",
       "      <th>insulin</th>\n",
       "      <th>bmi</th>\n",
       "      <th>pedigree</th>\n",
       "      <th>age</th>\n",
       "      <th>diabetes</th>\n",
       "    </tr>\n",
       "  </thead>\n",
       "  <tbody>\n",
       "    <tr>\n",
       "      <th>count</th>\n",
       "      <td>768.000000</td>\n",
       "      <td>768.000000</td>\n",
       "      <td>768.000000</td>\n",
       "      <td>768.000000</td>\n",
       "      <td>768.000000</td>\n",
       "      <td>768.000000</td>\n",
       "      <td>768.000000</td>\n",
       "      <td>768.000000</td>\n",
       "      <td>768.000000</td>\n",
       "    </tr>\n",
       "    <tr>\n",
       "      <th>mean</th>\n",
       "      <td>3.845052</td>\n",
       "      <td>120.894531</td>\n",
       "      <td>69.105469</td>\n",
       "      <td>20.536458</td>\n",
       "      <td>79.799479</td>\n",
       "      <td>31.992578</td>\n",
       "      <td>0.471876</td>\n",
       "      <td>33.240885</td>\n",
       "      <td>0.348958</td>\n",
       "    </tr>\n",
       "    <tr>\n",
       "      <th>std</th>\n",
       "      <td>3.369578</td>\n",
       "      <td>31.972618</td>\n",
       "      <td>19.355807</td>\n",
       "      <td>15.952218</td>\n",
       "      <td>115.244002</td>\n",
       "      <td>7.884160</td>\n",
       "      <td>0.331329</td>\n",
       "      <td>11.760232</td>\n",
       "      <td>0.476951</td>\n",
       "    </tr>\n",
       "    <tr>\n",
       "      <th>min</th>\n",
       "      <td>0.000000</td>\n",
       "      <td>0.000000</td>\n",
       "      <td>0.000000</td>\n",
       "      <td>0.000000</td>\n",
       "      <td>0.000000</td>\n",
       "      <td>0.000000</td>\n",
       "      <td>0.078000</td>\n",
       "      <td>21.000000</td>\n",
       "      <td>0.000000</td>\n",
       "    </tr>\n",
       "    <tr>\n",
       "      <th>25%</th>\n",
       "      <td>1.000000</td>\n",
       "      <td>99.000000</td>\n",
       "      <td>62.000000</td>\n",
       "      <td>0.000000</td>\n",
       "      <td>0.000000</td>\n",
       "      <td>27.300000</td>\n",
       "      <td>0.243750</td>\n",
       "      <td>24.000000</td>\n",
       "      <td>0.000000</td>\n",
       "    </tr>\n",
       "    <tr>\n",
       "      <th>50%</th>\n",
       "      <td>3.000000</td>\n",
       "      <td>117.000000</td>\n",
       "      <td>72.000000</td>\n",
       "      <td>23.000000</td>\n",
       "      <td>30.500000</td>\n",
       "      <td>32.000000</td>\n",
       "      <td>0.372500</td>\n",
       "      <td>29.000000</td>\n",
       "      <td>0.000000</td>\n",
       "    </tr>\n",
       "    <tr>\n",
       "      <th>75%</th>\n",
       "      <td>6.000000</td>\n",
       "      <td>140.250000</td>\n",
       "      <td>80.000000</td>\n",
       "      <td>32.000000</td>\n",
       "      <td>127.250000</td>\n",
       "      <td>36.600000</td>\n",
       "      <td>0.626250</td>\n",
       "      <td>41.000000</td>\n",
       "      <td>1.000000</td>\n",
       "    </tr>\n",
       "    <tr>\n",
       "      <th>max</th>\n",
       "      <td>17.000000</td>\n",
       "      <td>199.000000</td>\n",
       "      <td>122.000000</td>\n",
       "      <td>99.000000</td>\n",
       "      <td>846.000000</td>\n",
       "      <td>67.100000</td>\n",
       "      <td>2.420000</td>\n",
       "      <td>81.000000</td>\n",
       "      <td>1.000000</td>\n",
       "    </tr>\n",
       "  </tbody>\n",
       "</table>\n",
       "</div>"
      ],
      "text/plain": [
       "         pregnant      plasma    pressure   thickness     insulin         bmi  \\\n",
       "count  768.000000  768.000000  768.000000  768.000000  768.000000  768.000000   \n",
       "mean     3.845052  120.894531   69.105469   20.536458   79.799479   31.992578   \n",
       "std      3.369578   31.972618   19.355807   15.952218  115.244002    7.884160   \n",
       "min      0.000000    0.000000    0.000000    0.000000    0.000000    0.000000   \n",
       "25%      1.000000   99.000000   62.000000    0.000000    0.000000   27.300000   \n",
       "50%      3.000000  117.000000   72.000000   23.000000   30.500000   32.000000   \n",
       "75%      6.000000  140.250000   80.000000   32.000000  127.250000   36.600000   \n",
       "max     17.000000  199.000000  122.000000   99.000000  846.000000   67.100000   \n",
       "\n",
       "         pedigree         age    diabetes  \n",
       "count  768.000000  768.000000  768.000000  \n",
       "mean     0.471876   33.240885    0.348958  \n",
       "std      0.331329   11.760232    0.476951  \n",
       "min      0.078000   21.000000    0.000000  \n",
       "25%      0.243750   24.000000    0.000000  \n",
       "50%      0.372500   29.000000    0.000000  \n",
       "75%      0.626250   41.000000    1.000000  \n",
       "max      2.420000   81.000000    1.000000  "
      ]
     },
     "execution_count": 13,
     "metadata": {},
     "output_type": "execute_result"
    }
   ],
   "source": [
    "df.describe() # 정보별 특징 알아보기"
   ]
  },
  {
   "cell_type": "code",
   "execution_count": 14,
   "id": "2a9c4eaf",
   "metadata": {},
   "outputs": [
    {
     "data": {
      "text/html": [
       "<div>\n",
       "<style scoped>\n",
       "    .dataframe tbody tr th:only-of-type {\n",
       "        vertical-align: middle;\n",
       "    }\n",
       "\n",
       "    .dataframe tbody tr th {\n",
       "        vertical-align: top;\n",
       "    }\n",
       "\n",
       "    .dataframe thead th {\n",
       "        text-align: right;\n",
       "    }\n",
       "</style>\n",
       "<table border=\"1\" class=\"dataframe\">\n",
       "  <thead>\n",
       "    <tr style=\"text-align: right;\">\n",
       "      <th></th>\n",
       "      <th>pregnant</th>\n",
       "      <th>plasma</th>\n",
       "      <th>pressure</th>\n",
       "      <th>thickness</th>\n",
       "      <th>insulin</th>\n",
       "      <th>bmi</th>\n",
       "      <th>pedigree</th>\n",
       "      <th>age</th>\n",
       "      <th>diabetes</th>\n",
       "    </tr>\n",
       "  </thead>\n",
       "  <tbody>\n",
       "    <tr>\n",
       "      <th>pregnant</th>\n",
       "      <td>1.000000</td>\n",
       "      <td>0.129459</td>\n",
       "      <td>0.141282</td>\n",
       "      <td>-0.081672</td>\n",
       "      <td>-0.073535</td>\n",
       "      <td>0.017683</td>\n",
       "      <td>-0.033523</td>\n",
       "      <td>0.544341</td>\n",
       "      <td>0.221898</td>\n",
       "    </tr>\n",
       "    <tr>\n",
       "      <th>plasma</th>\n",
       "      <td>0.129459</td>\n",
       "      <td>1.000000</td>\n",
       "      <td>0.152590</td>\n",
       "      <td>0.057328</td>\n",
       "      <td>0.331357</td>\n",
       "      <td>0.221071</td>\n",
       "      <td>0.137337</td>\n",
       "      <td>0.263514</td>\n",
       "      <td>0.466581</td>\n",
       "    </tr>\n",
       "    <tr>\n",
       "      <th>pressure</th>\n",
       "      <td>0.141282</td>\n",
       "      <td>0.152590</td>\n",
       "      <td>1.000000</td>\n",
       "      <td>0.207371</td>\n",
       "      <td>0.088933</td>\n",
       "      <td>0.281805</td>\n",
       "      <td>0.041265</td>\n",
       "      <td>0.239528</td>\n",
       "      <td>0.065068</td>\n",
       "    </tr>\n",
       "    <tr>\n",
       "      <th>thickness</th>\n",
       "      <td>-0.081672</td>\n",
       "      <td>0.057328</td>\n",
       "      <td>0.207371</td>\n",
       "      <td>1.000000</td>\n",
       "      <td>0.436783</td>\n",
       "      <td>0.392573</td>\n",
       "      <td>0.183928</td>\n",
       "      <td>-0.113970</td>\n",
       "      <td>0.074752</td>\n",
       "    </tr>\n",
       "    <tr>\n",
       "      <th>insulin</th>\n",
       "      <td>-0.073535</td>\n",
       "      <td>0.331357</td>\n",
       "      <td>0.088933</td>\n",
       "      <td>0.436783</td>\n",
       "      <td>1.000000</td>\n",
       "      <td>0.197859</td>\n",
       "      <td>0.185071</td>\n",
       "      <td>-0.042163</td>\n",
       "      <td>0.130548</td>\n",
       "    </tr>\n",
       "    <tr>\n",
       "      <th>bmi</th>\n",
       "      <td>0.017683</td>\n",
       "      <td>0.221071</td>\n",
       "      <td>0.281805</td>\n",
       "      <td>0.392573</td>\n",
       "      <td>0.197859</td>\n",
       "      <td>1.000000</td>\n",
       "      <td>0.140647</td>\n",
       "      <td>0.036242</td>\n",
       "      <td>0.292695</td>\n",
       "    </tr>\n",
       "    <tr>\n",
       "      <th>pedigree</th>\n",
       "      <td>-0.033523</td>\n",
       "      <td>0.137337</td>\n",
       "      <td>0.041265</td>\n",
       "      <td>0.183928</td>\n",
       "      <td>0.185071</td>\n",
       "      <td>0.140647</td>\n",
       "      <td>1.000000</td>\n",
       "      <td>0.033561</td>\n",
       "      <td>0.173844</td>\n",
       "    </tr>\n",
       "    <tr>\n",
       "      <th>age</th>\n",
       "      <td>0.544341</td>\n",
       "      <td>0.263514</td>\n",
       "      <td>0.239528</td>\n",
       "      <td>-0.113970</td>\n",
       "      <td>-0.042163</td>\n",
       "      <td>0.036242</td>\n",
       "      <td>0.033561</td>\n",
       "      <td>1.000000</td>\n",
       "      <td>0.238356</td>\n",
       "    </tr>\n",
       "    <tr>\n",
       "      <th>diabetes</th>\n",
       "      <td>0.221898</td>\n",
       "      <td>0.466581</td>\n",
       "      <td>0.065068</td>\n",
       "      <td>0.074752</td>\n",
       "      <td>0.130548</td>\n",
       "      <td>0.292695</td>\n",
       "      <td>0.173844</td>\n",
       "      <td>0.238356</td>\n",
       "      <td>1.000000</td>\n",
       "    </tr>\n",
       "  </tbody>\n",
       "</table>\n",
       "</div>"
      ],
      "text/plain": [
       "           pregnant    plasma  pressure  thickness   insulin       bmi  \\\n",
       "pregnant   1.000000  0.129459  0.141282  -0.081672 -0.073535  0.017683   \n",
       "plasma     0.129459  1.000000  0.152590   0.057328  0.331357  0.221071   \n",
       "pressure   0.141282  0.152590  1.000000   0.207371  0.088933  0.281805   \n",
       "thickness -0.081672  0.057328  0.207371   1.000000  0.436783  0.392573   \n",
       "insulin   -0.073535  0.331357  0.088933   0.436783  1.000000  0.197859   \n",
       "bmi        0.017683  0.221071  0.281805   0.392573  0.197859  1.000000   \n",
       "pedigree  -0.033523  0.137337  0.041265   0.183928  0.185071  0.140647   \n",
       "age        0.544341  0.263514  0.239528  -0.113970 -0.042163  0.036242   \n",
       "diabetes   0.221898  0.466581  0.065068   0.074752  0.130548  0.292695   \n",
       "\n",
       "           pedigree       age  diabetes  \n",
       "pregnant  -0.033523  0.544341  0.221898  \n",
       "plasma     0.137337  0.263514  0.466581  \n",
       "pressure   0.041265  0.239528  0.065068  \n",
       "thickness  0.183928 -0.113970  0.074752  \n",
       "insulin    0.185071 -0.042163  0.130548  \n",
       "bmi        0.140647  0.036242  0.292695  \n",
       "pedigree   1.000000  0.033561  0.173844  \n",
       "age        0.033561  1.000000  0.238356  \n",
       "diabetes   0.173844  0.238356  1.000000  "
      ]
     },
     "execution_count": 14,
     "metadata": {},
     "output_type": "execute_result"
    }
   ],
   "source": [
    "df.corr() # 각 항목이 어느 정도 상관관계를 가지고 있는지 알아보기"
   ]
  },
  {
   "cell_type": "code",
   "execution_count": 16,
   "id": "86ebec97",
   "metadata": {},
   "outputs": [
    {
     "data": {
      "text/plain": [
       "<Figure size 1200x1200 with 0 Axes>"
      ]
     },
     "execution_count": 16,
     "metadata": {},
     "output_type": "execute_result"
    },
    {
     "data": {
      "text/plain": [
       "<Figure size 1200x1200 with 0 Axes>"
      ]
     },
     "metadata": {},
     "output_type": "display_data"
    }
   ],
   "source": [
    "colormap = plt.cm.gist_heat # 그래프의 색상 구성 정하기\n",
    "plt.figure(figsize=(12,12)) # 그래프의 크기 정하기"
   ]
  },
  {
   "cell_type": "code",
   "execution_count": 18,
   "id": "1d371e9c",
   "metadata": {
    "scrolled": true
   },
   "outputs": [
    {
     "data": {
      "image/png": "[encoded data removed]",
      "text/plain": [
       "<Figure size 640x480 with 2 Axes>"
      ]
     },
     "metadata": {},
     "output_type": "display_data"
    }
   ],
   "source": [
    "sns.heatmap(df.corr(), linewidths=0.1, vmax=0.5, cmap=colormap, linecolor = 'white', annot=True)\n",
    "plt.show()"
   ]
  },
  {
   "cell_type": "code",
   "execution_count": 20,
   "id": "97bac994",
   "metadata": {},
   "outputs": [
    {
     "data": {
      "text/plain": [
       "<matplotlib.legend.Legend at 0x1e24e7ed3a0>"
      ]
     },
     "execution_count": 20,
     "metadata": {},
     "output_type": "execute_result"
    },
    {
     "data": {
      "image/png": "[encoded data removed]",
      "text/plain": [
       "<Figure size 640x480 with 1 Axes>"
      ]
     },
     "metadata": {},
     "output_type": "display_data"
    }
   ],
   "source": [
    "# 플라즈마 기준\n",
    "plt.hist(x=[df.plasma[df.diabetes==0], df.plasma[df.diabetes==1]], bins=30, \n",
    "         histtype='barstacked', label=['normal', 'diabetes'])\n",
    "plt.legend()"
   ]
  },
  {
   "cell_type": "code",
   "execution_count": 22,
   "id": "e7d530e7",
   "metadata": {},
   "outputs": [
    {
     "data": {
      "text/plain": [
       "<matplotlib.legend.Legend at 0x1e24e8a2220>"
      ]
     },
     "execution_count": 22,
     "metadata": {},
     "output_type": "execute_result"
    },
    {
     "data": {
      "image/png": "[encoded data removed]",
      "text/plain": [
       "<Figure size 640x480 with 1 Axes>"
      ]
     },
     "metadata": {},
     "output_type": "display_data"
    }
   ],
   "source": [
    "# BMI 기준\n",
    "plt.hist(x=[df.bmi[df.diabetes==0], df.bmi[df.diabetes==1]], bins=30, \n",
    "         histtype='barstacked', label=['normal', 'diabetes'])\n",
    "plt.legend()"
   ]
  },
  {
   "cell_type": "markdown",
   "id": "42e05623",
   "metadata": {},
   "source": [
    "## 피마 인디언의 당뇨병 예측 실행"
   ]
  },
  {
   "cell_type": "code",
   "execution_count": 35,
   "id": "e7da58b0",
   "metadata": {
    "scrolled": true
   },
   "outputs": [],
   "source": [
    "from tensorflow.keras.models import Sequential\n",
    "from tensorflow.keras.layers import Dense"
   ]
  },
  {
   "cell_type": "code",
   "execution_count": 36,
   "id": "9f34f7d8",
   "metadata": {
    "scrolled": true
   },
   "outputs": [
    {
     "name": "stderr",
     "output_type": "stream",
     "text": [
      "fatal: destination path 'data' already exists and is not an empty directory.\n"
     ]
    }
   ],
   "source": [
    "# 깃허브에서 준비된 데이터 가져오기\n",
    "!git clone https://github.com/taehojo/data.git"
   ]
  },
  {
   "cell_type": "code",
   "execution_count": 42,
   "id": "cd0d3c61",
   "metadata": {},
   "outputs": [],
   "source": [
    "# 피마 인디언 데이터셋 가져오기\n",
    "df = pd.read_csv('./data/pima-indians-diabetes3.csv')\n",
    "\n",
    "X = df.iloc[:, 0:8] # 세부 정보를 X로 지정\n",
    "y = df.iloc[:, 8] # 당뇨병 여부를 y로 지정"
   ]
  },
  {
   "cell_type": "code",
   "execution_count": 43,
   "id": "6315300e",
   "metadata": {},
   "outputs": [
    {
     "name": "stdout",
     "output_type": "stream",
     "text": [
      "Model: \"sequential_3\"\n",
      "_________________________________________________________________\n",
      " Layer (type)                Output Shape              Param #   \n",
      "=================================================================\n",
      " Dense_1 (Dense)             (None, 12)                108       \n",
      "                                                                 \n",
      " Dense_2 (Dense)             (None, 8)                 104       \n",
      "                                                                 \n",
      " Dense_3 (Dense)             (None, 1)                 9         \n",
      "                                                                 \n",
      "=================================================================\n",
      "Total params: 221\n",
      "Trainable params: 221\n",
      "Non-trainable params: 0\n",
      "_________________________________________________________________\n"
     ]
    }
   ],
   "source": [
    "# 모델 구조 지정\n",
    "model = Sequential()\n",
    "model.add(Dense(12, input_dim=8, activation='relu', name='Dense_1'))\n",
    "model.add(Dense(8, activation='relu', name='Dense_2'))\n",
    "model.add(Dense(1, activation='sigmoid', name='Dense_3'))\n",
    "\n",
    "model.summary()"
   ]
  },
  {
   "cell_type": "code",
   "execution_count": 44,
   "id": "181a905c",
   "metadata": {},
   "outputs": [
    {
     "name": "stdout",
     "output_type": "stream",
     "text": [
      "Epoch 1/100\n",
      "154/154 [==============================] - 0s 1ms/step - loss: 4.6659 - accuracy: 0.4661\n",
      "Epoch 2/100\n",
      "154/154 [==============================] - 0s 1ms/step - loss: 1.7222 - accuracy: 0.5430\n",
      "Epoch 3/100\n",
      "154/154 [==============================] - 0s 1ms/step - loss: 1.2515 - accuracy: 0.5521\n",
      "Epoch 4/100\n",
      "154/154 [==============================] - 0s 1ms/step - loss: 0.9664 - accuracy: 0.5833\n",
      "Epoch 5/100\n",
      "154/154 [==============================] - 0s 1ms/step - loss: 0.9290 - accuracy: 0.5833\n",
      "Epoch 6/100\n",
      "154/154 [==============================] - 0s 1ms/step - loss: 0.7539 - accuracy: 0.6367\n",
      "Epoch 7/100\n",
      "154/154 [==============================] - 0s 1ms/step - loss: 0.7595 - accuracy: 0.6276\n",
      "Epoch 8/100\n",
      "154/154 [==============================] - 0s 1ms/step - loss: 0.7394 - accuracy: 0.6510\n",
      "Epoch 9/100\n",
      "154/154 [==============================] - 0s 1ms/step - loss: 0.7469 - accuracy: 0.6458\n",
      "Epoch 10/100\n",
      "154/154 [==============================] - 0s 2ms/step - loss: 0.6774 - accuracy: 0.6589\n",
      "Epoch 11/100\n",
      "154/154 [==============================] - 0s 1ms/step - loss: 0.7003 - accuracy: 0.6589\n",
      "Epoch 12/100\n",
      "154/154 [==============================] - 0s 1ms/step - loss: 0.7050 - accuracy: 0.6484\n",
      "Epoch 13/100\n",
      "154/154 [==============================] - 0s 1ms/step - loss: 0.6537 - accuracy: 0.6732\n",
      "Epoch 14/100\n",
      "154/154 [==============================] - 0s 1ms/step - loss: 0.6755 - accuracy: 0.6510\n",
      "Epoch 15/100\n",
      "154/154 [==============================] - 0s 1ms/step - loss: 0.6371 - accuracy: 0.6914\n",
      "Epoch 16/100\n",
      "154/154 [==============================] - 0s 1ms/step - loss: 0.6482 - accuracy: 0.6732\n",
      "Epoch 17/100\n",
      "154/154 [==============================] - 0s 1ms/step - loss: 0.6617 - accuracy: 0.6680\n",
      "Epoch 18/100\n",
      "154/154 [==============================] - 0s 1ms/step - loss: 0.6468 - accuracy: 0.6979\n",
      "Epoch 19/100\n",
      "154/154 [==============================] - 0s 1ms/step - loss: 0.6162 - accuracy: 0.6732\n",
      "Epoch 20/100\n",
      "154/154 [==============================] - 0s 1ms/step - loss: 0.6403 - accuracy: 0.6823\n",
      "Epoch 21/100\n",
      "154/154 [==============================] - 0s 1ms/step - loss: 0.6376 - accuracy: 0.6940\n",
      "Epoch 22/100\n",
      "154/154 [==============================] - 0s 1ms/step - loss: 0.6073 - accuracy: 0.7031\n",
      "Epoch 23/100\n",
      "154/154 [==============================] - 0s 1ms/step - loss: 0.5999 - accuracy: 0.7031\n",
      "Epoch 24/100\n",
      "154/154 [==============================] - 0s 2ms/step - loss: 0.6228 - accuracy: 0.6966\n",
      "Epoch 25/100\n",
      "154/154 [==============================] - 0s 1ms/step - loss: 0.6482 - accuracy: 0.6628\n",
      "Epoch 26/100\n",
      "154/154 [==============================] - 0s 1ms/step - loss: 0.6279 - accuracy: 0.7044\n",
      "Epoch 27/100\n",
      "154/154 [==============================] - 0s 1ms/step - loss: 0.6091 - accuracy: 0.6953\n",
      "Epoch 28/100\n",
      "154/154 [==============================] - 0s 1ms/step - loss: 0.5960 - accuracy: 0.7018\n",
      "Epoch 29/100\n",
      "154/154 [==============================] - 0s 1ms/step - loss: 0.6481 - accuracy: 0.6562\n",
      "Epoch 30/100\n",
      "154/154 [==============================] - 0s 1ms/step - loss: 0.6309 - accuracy: 0.6667\n",
      "Epoch 31/100\n",
      "154/154 [==============================] - 0s 1ms/step - loss: 0.5914 - accuracy: 0.7070\n",
      "Epoch 32/100\n",
      "154/154 [==============================] - 0s 1ms/step - loss: 0.5650 - accuracy: 0.7318\n",
      "Epoch 33/100\n",
      "154/154 [==============================] - 0s 2ms/step - loss: 0.5727 - accuracy: 0.7174\n",
      "Epoch 34/100\n",
      "154/154 [==============================] - 0s 1ms/step - loss: 0.5873 - accuracy: 0.7161\n",
      "Epoch 35/100\n",
      "154/154 [==============================] - 0s 1ms/step - loss: 0.5735 - accuracy: 0.7161\n",
      "Epoch 36/100\n",
      "154/154 [==============================] - 0s 1ms/step - loss: 0.5933 - accuracy: 0.7031\n",
      "Epoch 37/100\n",
      "154/154 [==============================] - 0s 955us/step - loss: 0.5728 - accuracy: 0.7148\n",
      "Epoch 38/100\n",
      "154/154 [==============================] - 0s 967us/step - loss: 0.5995 - accuracy: 0.7044\n",
      "Epoch 39/100\n",
      "154/154 [==============================] - 0s 960us/step - loss: 0.5710 - accuracy: 0.7253\n",
      "Epoch 40/100\n",
      "154/154 [==============================] - 0s 1ms/step - loss: 0.5768 - accuracy: 0.7096\n",
      "Epoch 41/100\n",
      "154/154 [==============================] - 0s 1ms/step - loss: 0.5603 - accuracy: 0.7188\n",
      "Epoch 42/100\n",
      "154/154 [==============================] - 0s 2ms/step - loss: 0.5585 - accuracy: 0.7201\n",
      "Epoch 43/100\n",
      "154/154 [==============================] - 0s 2ms/step - loss: 0.5726 - accuracy: 0.7161\n",
      "Epoch 44/100\n",
      "154/154 [==============================] - 0s 2ms/step - loss: 0.5675 - accuracy: 0.7253\n",
      "Epoch 45/100\n",
      "154/154 [==============================] - 0s 1ms/step - loss: 0.5419 - accuracy: 0.7383\n",
      "Epoch 46/100\n",
      "154/154 [==============================] - 0s 1ms/step - loss: 0.5701 - accuracy: 0.7057\n",
      "Epoch 47/100\n",
      "154/154 [==============================] - 0s 1ms/step - loss: 0.5900 - accuracy: 0.7240\n",
      "Epoch 48/100\n",
      "154/154 [==============================] - 0s 1ms/step - loss: 0.5403 - accuracy: 0.7370\n",
      "Epoch 49/100\n",
      "154/154 [==============================] - 0s 1ms/step - loss: 0.5566 - accuracy: 0.7292\n",
      "Epoch 50/100\n",
      "154/154 [==============================] - 0s 1ms/step - loss: 0.5681 - accuracy: 0.7135\n",
      "Epoch 51/100\n",
      "154/154 [==============================] - 0s 2ms/step - loss: 0.5391 - accuracy: 0.7500\n",
      "Epoch 52/100\n",
      "154/154 [==============================] - 0s 1ms/step - loss: 0.5497 - accuracy: 0.7331\n",
      "Epoch 53/100\n",
      "154/154 [==============================] - 0s 1ms/step - loss: 0.5398 - accuracy: 0.7266\n",
      "Epoch 54/100\n",
      "154/154 [==============================] - 0s 1ms/step - loss: 0.5473 - accuracy: 0.7227\n",
      "Epoch 55/100\n",
      "154/154 [==============================] - 0s 1ms/step - loss: 0.5841 - accuracy: 0.7083\n",
      "Epoch 56/100\n",
      "154/154 [==============================] - 0s 1ms/step - loss: 0.5291 - accuracy: 0.7422\n",
      "Epoch 57/100\n",
      "154/154 [==============================] - 0s 1ms/step - loss: 0.5462 - accuracy: 0.7188\n",
      "Epoch 58/100\n",
      "154/154 [==============================] - 0s 1ms/step - loss: 0.5629 - accuracy: 0.7240\n",
      "Epoch 59/100\n",
      "154/154 [==============================] - 0s 1ms/step - loss: 0.5390 - accuracy: 0.7214\n",
      "Epoch 60/100\n",
      "154/154 [==============================] - 0s 1ms/step - loss: 0.5561 - accuracy: 0.7448\n",
      "Epoch 61/100\n",
      "154/154 [==============================] - 0s 1ms/step - loss: 0.5281 - accuracy: 0.7435\n",
      "Epoch 62/100\n",
      "154/154 [==============================] - 0s 1ms/step - loss: 0.5461 - accuracy: 0.7266\n",
      "Epoch 63/100\n",
      "154/154 [==============================] - 0s 1ms/step - loss: 0.5233 - accuracy: 0.7448\n",
      "Epoch 64/100\n",
      "154/154 [==============================] - 0s 1ms/step - loss: 0.5340 - accuracy: 0.7422\n",
      "Epoch 65/100\n",
      "154/154 [==============================] - 0s 1ms/step - loss: 0.5382 - accuracy: 0.7266\n",
      "Epoch 66/100\n",
      "154/154 [==============================] - 0s 1ms/step - loss: 0.5436 - accuracy: 0.7318\n",
      "Epoch 67/100\n",
      "154/154 [==============================] - 0s 1ms/step - loss: 0.5424 - accuracy: 0.7500\n",
      "Epoch 68/100\n",
      "154/154 [==============================] - 0s 1ms/step - loss: 0.5278 - accuracy: 0.7422\n",
      "Epoch 69/100\n",
      "154/154 [==============================] - 0s 1ms/step - loss: 0.5190 - accuracy: 0.7526\n",
      "Epoch 70/100\n",
      "154/154 [==============================] - 0s 1ms/step - loss: 0.5224 - accuracy: 0.7409\n",
      "Epoch 71/100\n",
      "154/154 [==============================] - 0s 1ms/step - loss: 0.5332 - accuracy: 0.7487\n",
      "Epoch 72/100\n",
      "154/154 [==============================] - 0s 1ms/step - loss: 0.5492 - accuracy: 0.7357\n",
      "Epoch 73/100\n",
      "154/154 [==============================] - 0s 1ms/step - loss: 0.5257 - accuracy: 0.7448\n",
      "Epoch 74/100\n",
      "154/154 [==============================] - 0s 1ms/step - loss: 0.5300 - accuracy: 0.7461\n",
      "Epoch 75/100\n",
      "154/154 [==============================] - 0s 979us/step - loss: 0.5052 - accuracy: 0.7487\n",
      "Epoch 76/100\n",
      "154/154 [==============================] - 0s 954us/step - loss: 0.5230 - accuracy: 0.7448\n",
      "Epoch 77/100\n",
      "154/154 [==============================] - 0s 975us/step - loss: 0.5440 - accuracy: 0.7214\n",
      "Epoch 78/100\n",
      "154/154 [==============================] - 0s 984us/step - loss: 0.5165 - accuracy: 0.7591\n",
      "Epoch 79/100\n",
      "154/154 [==============================] - 0s 1ms/step - loss: 0.5098 - accuracy: 0.7487\n",
      "Epoch 80/100\n",
      "154/154 [==============================] - 0s 1ms/step - loss: 0.5194 - accuracy: 0.7331\n",
      "Epoch 81/100\n",
      "154/154 [==============================] - 0s 1ms/step - loss: 0.5818 - accuracy: 0.7057\n",
      "Epoch 82/100\n",
      "154/154 [==============================] - 0s 953us/step - loss: 0.5221 - accuracy: 0.7435\n",
      "Epoch 83/100\n",
      "154/154 [==============================] - 0s 965us/step - loss: 0.5373 - accuracy: 0.7487\n",
      "Epoch 84/100\n",
      "154/154 [==============================] - 0s 965us/step - loss: 0.5110 - accuracy: 0.7474\n",
      "Epoch 85/100\n",
      "154/154 [==============================] - 0s 1ms/step - loss: 0.5306 - accuracy: 0.7513\n",
      "Epoch 86/100\n",
      "154/154 [==============================] - 0s 1ms/step - loss: 0.5228 - accuracy: 0.7487\n",
      "Epoch 87/100\n",
      "154/154 [==============================] - 0s 956us/step - loss: 0.5258 - accuracy: 0.7292\n",
      "Epoch 88/100\n",
      "154/154 [==============================] - 0s 949us/step - loss: 0.5273 - accuracy: 0.7292\n",
      "Epoch 89/100\n",
      "154/154 [==============================] - 0s 966us/step - loss: 0.5226 - accuracy: 0.7396\n",
      "Epoch 90/100\n",
      "154/154 [==============================] - 0s 960us/step - loss: 0.5089 - accuracy: 0.7526\n",
      "Epoch 91/100\n",
      "154/154 [==============================] - 0s 960us/step - loss: 0.5174 - accuracy: 0.7617\n",
      "Epoch 92/100\n",
      "154/154 [==============================] - 0s 973us/step - loss: 0.5097 - accuracy: 0.7565\n",
      "Epoch 93/100\n",
      "154/154 [==============================] - 0s 978us/step - loss: 0.5130 - accuracy: 0.7526\n",
      "Epoch 94/100\n",
      "154/154 [==============================] - 0s 954us/step - loss: 0.4976 - accuracy: 0.7539\n",
      "Epoch 95/100\n",
      "154/154 [==============================] - 0s 948us/step - loss: 0.5116 - accuracy: 0.7344\n",
      "Epoch 96/100\n",
      "154/154 [==============================] - 0s 951us/step - loss: 0.5053 - accuracy: 0.7643\n",
      "Epoch 97/100\n",
      "154/154 [==============================] - 0s 947us/step - loss: 0.5013 - accuracy: 0.7526\n",
      "Epoch 98/100\n",
      "154/154 [==============================] - 0s 1ms/step - loss: 0.4983 - accuracy: 0.7773\n",
      "Epoch 99/100\n",
      "154/154 [==============================] - 0s 1ms/step - loss: 0.5031 - accuracy: 0.7370\n",
      "Epoch 100/100\n",
      "154/154 [==============================] - 0s 1ms/step - loss: 0.4966 - accuracy: 0.7617\n"
     ]
    }
   ],
   "source": [
    "# 모델 컴파일\n",
    "model.compile(loss='binary_crossentropy', optimizer='adam', \n",
    "              metrics=['accuracy'])\n",
    "# 모델 실행\n",
    "history = model.fit(X, y, epochs=100, batch_size=5)"
   ]
  },
  {
   "cell_type": "markdown",
   "id": "b45acff2",
   "metadata": {},
   "source": [
    "## 아이리스 품종 예측하기"
   ]
  },
  {
   "cell_type": "code",
   "execution_count": 46,
   "id": "91d6a100",
   "metadata": {},
   "outputs": [],
   "source": [
    "from tensorflow.keras.models import Sequential\n",
    "from tensorflow.keras.layers import Dense"
   ]
  },
  {
   "cell_type": "code",
   "execution_count": 47,
   "id": "61f941a1",
   "metadata": {},
   "outputs": [],
   "source": [
    "import pandas as pd\n",
    "import seaborn as sns\n",
    "import matplotlib.pyplot as plt"
   ]
  },
  {
   "cell_type": "code",
   "execution_count": 48,
   "id": "1b46871d",
   "metadata": {},
   "outputs": [
    {
     "name": "stderr",
     "output_type": "stream",
     "text": [
      "fatal: destination path 'data' already exists and is not an empty directory.\n"
     ]
    }
   ],
   "source": [
    "!git clone https://github.com/taehojo/data.git"
   ]
  },
  {
   "cell_type": "code",
   "execution_count": 49,
   "id": "5a8f4523",
   "metadata": {},
   "outputs": [],
   "source": [
    "df = pd.read_csv('./data/iris3.csv')"
   ]
  },
  {
   "cell_type": "code",
   "execution_count": 50,
   "id": "6fb0dd28",
   "metadata": {},
   "outputs": [],
   "source": [
    "X = df.iloc[:, 0:4]\n",
    "y = df.iloc[:, 4]"
   ]
  },
  {
   "cell_type": "code",
   "execution_count": 51,
   "id": "6dbe118c",
   "metadata": {},
   "outputs": [],
   "source": [
    "# 원-핫 인코딩 처리\n",
    "y = pd.get_dummies(y)"
   ]
  },
  {
   "cell_type": "code",
   "execution_count": 52,
   "id": "68c6c9b0",
   "metadata": {},
   "outputs": [
    {
     "name": "stdout",
     "output_type": "stream",
     "text": [
      "Model: \"sequential_4\"\n",
      "_________________________________________________________________\n",
      " Layer (type)                Output Shape              Param #   \n",
      "=================================================================\n",
      " dense (Dense)               (None, 12)                60        \n",
      "                                                                 \n",
      " dense_1 (Dense)             (None, 8)                 104       \n",
      "                                                                 \n",
      " dense_2 (Dense)             (None, 3)                 27        \n",
      "                                                                 \n",
      "=================================================================\n",
      "Total params: 191\n",
      "Trainable params: 191\n",
      "Non-trainable params: 0\n",
      "_________________________________________________________________\n"
     ]
    }
   ],
   "source": [
    "# 모델 설정\n",
    "model = Sequential()\n",
    "model.add(Dense(12, input_dim=4, activation='relu'))\n",
    "model.add(Dense(8, activation='relu'))\n",
    "model.add(Dense(3, activation='softmax'))\n",
    "\n",
    "model.summary()"
   ]
  },
  {
   "cell_type": "code",
   "execution_count": 53,
   "id": "bd5def0c",
   "metadata": {},
   "outputs": [
    {
     "name": "stdout",
     "output_type": "stream",
     "text": [
      "Epoch 1/50\n",
      "30/30 [==============================] - 0s 1ms/step - loss: 0.9728 - accuracy: 0.4267\n",
      "Epoch 2/50\n",
      "30/30 [==============================] - 0s 1ms/step - loss: 0.7010 - accuracy: 0.7867\n",
      "Epoch 3/50\n",
      "30/30 [==============================] - 0s 1ms/step - loss: 0.5972 - accuracy: 0.8067\n",
      "Epoch 4/50\n",
      "30/30 [==============================] - 0s 1ms/step - loss: 0.5393 - accuracy: 0.8600\n",
      "Epoch 5/50\n",
      "30/30 [==============================] - 0s 1ms/step - loss: 0.4885 - accuracy: 0.8533\n",
      "Epoch 6/50\n",
      "30/30 [==============================] - 0s 1ms/step - loss: 0.4527 - accuracy: 0.8667\n",
      "Epoch 7/50\n",
      "30/30 [==============================] - 0s 1ms/step - loss: 0.4213 - accuracy: 0.8867\n",
      "Epoch 8/50\n",
      "30/30 [==============================] - 0s 1ms/step - loss: 0.3931 - accuracy: 0.8733\n",
      "Epoch 9/50\n",
      "30/30 [==============================] - 0s 1ms/step - loss: 0.3733 - accuracy: 0.9200\n",
      "Epoch 10/50\n",
      "30/30 [==============================] - 0s 1ms/step - loss: 0.3548 - accuracy: 0.8667\n",
      "Epoch 11/50\n",
      "30/30 [==============================] - 0s 1ms/step - loss: 0.3307 - accuracy: 0.9267\n",
      "Epoch 12/50\n",
      "30/30 [==============================] - 0s 1ms/step - loss: 0.3185 - accuracy: 0.9267\n",
      "Epoch 13/50\n",
      "30/30 [==============================] - 0s 1ms/step - loss: 0.2930 - accuracy: 0.9400\n",
      "Epoch 14/50\n",
      "30/30 [==============================] - 0s 1ms/step - loss: 0.2755 - accuracy: 0.9267\n",
      "Epoch 15/50\n",
      "30/30 [==============================] - 0s 1ms/step - loss: 0.2620 - accuracy: 0.9400\n",
      "Epoch 16/50\n",
      "30/30 [==============================] - 0s 1ms/step - loss: 0.2476 - accuracy: 0.9400\n",
      "Epoch 17/50\n",
      "30/30 [==============================] - 0s 1ms/step - loss: 0.2343 - accuracy: 0.9467\n",
      "Epoch 18/50\n",
      "30/30 [==============================] - 0s 1ms/step - loss: 0.2287 - accuracy: 0.9467\n",
      "Epoch 19/50\n",
      "30/30 [==============================] - 0s 1ms/step - loss: 0.2154 - accuracy: 0.9467\n",
      "Epoch 20/50\n",
      "30/30 [==============================] - 0s 1ms/step - loss: 0.2139 - accuracy: 0.9533\n",
      "Epoch 21/50\n",
      "30/30 [==============================] - 0s 1ms/step - loss: 0.1990 - accuracy: 0.9467\n",
      "Epoch 22/50\n",
      "30/30 [==============================] - 0s 1ms/step - loss: 0.1880 - accuracy: 0.9533\n",
      "Epoch 23/50\n",
      "30/30 [==============================] - 0s 1ms/step - loss: 0.1830 - accuracy: 0.9467\n",
      "Epoch 24/50\n",
      "30/30 [==============================] - 0s 1ms/step - loss: 0.1748 - accuracy: 0.9600\n",
      "Epoch 25/50\n",
      "30/30 [==============================] - 0s 1ms/step - loss: 0.1712 - accuracy: 0.9600\n",
      "Epoch 26/50\n",
      "30/30 [==============================] - 0s 1ms/step - loss: 0.1686 - accuracy: 0.9533\n",
      "Epoch 27/50\n",
      "30/30 [==============================] - 0s 1ms/step - loss: 0.1691 - accuracy: 0.9400\n",
      "Epoch 28/50\n",
      "30/30 [==============================] - 0s 1ms/step - loss: 0.1519 - accuracy: 0.9600\n",
      "Epoch 29/50\n",
      "30/30 [==============================] - 0s 1ms/step - loss: 0.1500 - accuracy: 0.9600\n",
      "Epoch 30/50\n",
      "30/30 [==============================] - 0s 1ms/step - loss: 0.1627 - accuracy: 0.9533\n",
      "Epoch 31/50\n",
      "30/30 [==============================] - 0s 1ms/step - loss: 0.1417 - accuracy: 0.9733\n",
      "Epoch 32/50\n",
      "30/30 [==============================] - 0s 1ms/step - loss: 0.1424 - accuracy: 0.9667\n",
      "Epoch 33/50\n",
      "30/30 [==============================] - 0s 1ms/step - loss: 0.1400 - accuracy: 0.9600\n",
      "Epoch 34/50\n",
      "30/30 [==============================] - 0s 1ms/step - loss: 0.1385 - accuracy: 0.9533\n",
      "Epoch 35/50\n",
      "30/30 [==============================] - 0s 1ms/step - loss: 0.1312 - accuracy: 0.9667\n",
      "Epoch 36/50\n",
      "30/30 [==============================] - 0s 1ms/step - loss: 0.1287 - accuracy: 0.9600\n",
      "Epoch 37/50\n",
      "30/30 [==============================] - 0s 1ms/step - loss: 0.1225 - accuracy: 0.9667\n",
      "Epoch 38/50\n",
      "30/30 [==============================] - 0s 1ms/step - loss: 0.1214 - accuracy: 0.9733\n",
      "Epoch 39/50\n",
      "30/30 [==============================] - 0s 1ms/step - loss: 0.1200 - accuracy: 0.9667\n",
      "Epoch 40/50\n",
      "30/30 [==============================] - 0s 1ms/step - loss: 0.1184 - accuracy: 0.9667\n",
      "Epoch 41/50\n",
      "30/30 [==============================] - 0s 1ms/step - loss: 0.1201 - accuracy: 0.9600\n",
      "Epoch 42/50\n",
      "30/30 [==============================] - 0s 2ms/step - loss: 0.1131 - accuracy: 0.9600\n",
      "Epoch 43/50\n",
      "30/30 [==============================] - 0s 1ms/step - loss: 0.1110 - accuracy: 0.9733\n",
      "Epoch 44/50\n",
      "30/30 [==============================] - 0s 1ms/step - loss: 0.1164 - accuracy: 0.9667\n",
      "Epoch 45/50\n",
      "30/30 [==============================] - 0s 1ms/step - loss: 0.1112 - accuracy: 0.9600\n",
      "Epoch 46/50\n",
      "30/30 [==============================] - 0s 1ms/step - loss: 0.1057 - accuracy: 0.9800\n",
      "Epoch 47/50\n",
      "30/30 [==============================] - 0s 1ms/step - loss: 0.1090 - accuracy: 0.9667\n",
      "Epoch 48/50\n",
      "30/30 [==============================] - 0s 1ms/step - loss: 0.1022 - accuracy: 0.9667\n",
      "Epoch 49/50\n",
      "30/30 [==============================] - 0s 1ms/step - loss: 0.1190 - accuracy: 0.9600\n",
      "Epoch 50/50\n",
      "30/30 [==============================] - 0s 1ms/step - loss: 0.1065 - accuracy: 0.9667\n"
     ]
    }
   ],
   "source": [
    "# 모델 컴파일\n",
    "model.compile(loss='categorical_crossentropy', optimizer='adam', \n",
    "              metrics=['accuracy'])\n",
    "# 모델 실행\n",
    "history = model.fit(X, y, epochs=50, batch_size=5)"
   ]
  },
  {
   "cell_type": "code",
   "execution_count": 54,
   "id": "d794f8bf",
   "metadata": {},
   "outputs": [],
   "source": [
    "from keras.datasets import mnist\n",
    "from keras.utils import np_utils\n",
    "from keras.callbacks import ModelCheckpoint, EarlyStopping\n",
    "\n",
    "import os\n",
    "import numpy"
   ]
  },
  {
   "cell_type": "code",
   "execution_count": null,
   "id": "279239e7",
   "metadata": {},
   "outputs": [],
   "source": []
  },
  {
   "cell_type": "code",
   "execution_count": null,
   "id": "b6617db6",
   "metadata": {},
   "outputs": [],
   "source": []
  }
 ],
 "metadata": {
  "kernelspec": {
   "display_name": "Python 3 (ipykernel)",
   "language": "python",
   "name": "python3"
  },
  "language_info": {
   "codemirror_mode": {
    "name": "ipython",
    "version": 3
   },
   "file_extension": ".py",
   "mimetype": "text/x-python",
   "name": "python",
   "nbconvert_exporter": "python",
   "pygments_lexer": "ipython3",
   "version": "3.9.13"
  }
 },
 "nbformat": 4,
 "nbformat_minor": 5
}
