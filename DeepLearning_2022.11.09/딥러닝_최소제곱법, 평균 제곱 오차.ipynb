{
 "cells": [
  {
   "cell_type": "markdown",
   "id": "990be5bb",
   "metadata": {},
   "source": [
    "## 최소 제곱법"
   ]
  },
  {
   "cell_type": "code",
   "execution_count": 4,
   "id": "b7b02133",
   "metadata": {},
   "outputs": [],
   "source": [
    "import numpy as np"
   ]
  },
  {
   "cell_type": "code",
   "execution_count": 5,
   "id": "8a22090b",
   "metadata": {},
   "outputs": [],
   "source": [
    "# 공부한 시간과 점수를 각각 x, y라는 이름의 넘파이 배열로 만든다.\n",
    "x = np.array([2,4,6,8])\n",
    "y = np.array([81, 93, 91, 97])"
   ]
  },
  {
   "cell_type": "code",
   "execution_count": 6,
   "id": "0b59898b",
   "metadata": {},
   "outputs": [],
   "source": [
    "mx = np.mean(x) # x의 평균값\n",
    "my = np.mean(y) # y의 평균값"
   ]
  },
  {
   "cell_type": "code",
   "execution_count": 11,
   "id": "91b2f357",
   "metadata": {},
   "outputs": [
    {
     "name": "stdout",
     "output_type": "stream",
     "text": [
      "x의 평균값:  5.0\n",
      "y의 평균값:  90.5\n"
     ]
    }
   ],
   "source": [
    "print(\"x의 평균값: \", mx)\n",
    "print(\"y의 평균값: \", my)"
   ]
  },
  {
   "cell_type": "code",
   "execution_count": 8,
   "id": "f52b5109",
   "metadata": {},
   "outputs": [],
   "source": [
    "divisor = sum([(i - mx)**2 for i in x]) # 기울기 공식의 분모 부분"
   ]
  },
  {
   "cell_type": "code",
   "execution_count": 9,
   "id": "1b23ab3f",
   "metadata": {},
   "outputs": [],
   "source": [
    "# 기울기 공식의 분자 부분\n",
    "def top(x, mx, y, my):\n",
    "    d = 0\n",
    "    for i in range(len(x)):\n",
    "        d += (x[i] - mx) * (y[i] - my)\n",
    "    return d\n",
    "dividend = top(x, mx, y, my)"
   ]
  },
  {
   "cell_type": "code",
   "execution_count": 13,
   "id": "7fc3b35a",
   "metadata": {},
   "outputs": [
    {
     "name": "stdout",
     "output_type": "stream",
     "text": [
      "분모:  20.0\n",
      "분자:  46.0\n"
     ]
    }
   ],
   "source": [
    "# 출력\n",
    "print(\"분모: \", divisor)\n",
    "print(\"분자: \", dividend)"
   ]
  },
  {
   "cell_type": "code",
   "execution_count": 10,
   "id": "9c942be6",
   "metadata": {},
   "outputs": [],
   "source": [
    "a = dividend / divisor #기울기 a를 구하는 공식\n",
    "b = my - (mx*a) # y절편 b를 구하는 공식"
   ]
  },
  {
   "cell_type": "code",
   "execution_count": 14,
   "id": "2b81fab7",
   "metadata": {},
   "outputs": [
    {
     "name": "stdout",
     "output_type": "stream",
     "text": [
      "기울기 a:  2.3\n",
      "y 절편 b:  79.0\n"
     ]
    }
   ],
   "source": [
    "# 출력\n",
    "print(\"기울기 a: \", a)\n",
    "print(\"y 절편 b: \", b)"
   ]
  },
  {
   "cell_type": "markdown",
   "id": "e04a852d",
   "metadata": {},
   "source": [
    "## 평균 제곱 오차"
   ]
  },
  {
   "cell_type": "code",
   "execution_count": 15,
   "id": "956b5f6f",
   "metadata": {},
   "outputs": [],
   "source": [
    "import numpy as np"
   ]
  },
  {
   "cell_type": "code",
   "execution_count": 16,
   "id": "8aec5c30",
   "metadata": {},
   "outputs": [],
   "source": [
    "# 가상의 기울기 a와 y절편 b를 정한다.\n",
    "fake_a = 3\n",
    "fake_b = 76"
   ]
  },
  {
   "cell_type": "code",
   "execution_count": 17,
   "id": "79f40b85",
   "metadata": {},
   "outputs": [],
   "source": [
    "# 공부 시간 x와 성적 y의 넘파이 배열을 만든다.\n",
    "x = np.array([2,4,6,8])\n",
    "y = np.array([81,93,91,97])"
   ]
  },
  {
   "cell_type": "code",
   "execution_count": 18,
   "id": "14faa3c5",
   "metadata": {},
   "outputs": [
    {
     "name": "stdout",
     "output_type": "stream",
     "text": [
      "공부시간 =2, 실제점수=81, 예측점수=82\n",
      "공부시간 =4, 실제점수=93, 예측점수=88\n",
      "공부시간 =6, 실제점수=91, 예측점수=94\n",
      "공부시간 =8, 실제점수=97, 예측점수=100\n",
      "평균 제곱 오차: 11.0\n"
     ]
    }
   ],
   "source": [
    "# y = ax + b에 가상의 a 값과 b값을 대입한 결과를 출력하는 함수\n",
    "def predict(x):\n",
    "    return fake_a * x + fake_b\n",
    "# 예측값이 들어갈 빈 리스트를 만든다\n",
    "predict_result = []\n",
    "\n",
    "# 모든 x값을 한 번씩 대입해 predict_result 리스트를 완성한다.\n",
    "for i in range(len(x)):\n",
    "    predict_result.append(predict(x[i]))\n",
    "    print(\"공부시간 =%.f, 실제점수=%.f, 예측점수=%.f\" % (x[i], y[i], predict(x[i])))\n",
    "\n",
    "\n",
    "# 평균 제곱 오차 함수를 각 y값에 대입해 최종 값을 구하는 함수\n",
    "n = len(x)\n",
    "def mse(y, y_pred):\n",
    "    return (1/n) * sum((y-y_pred)**2)\n",
    "\n",
    "# 평균 제곱 오차 값을 출력한다.\n",
    "print(\"평균 제곱 오차: \" + str(mse(y, predict_result)))\n",
    "    "
   ]
  },
  {
   "cell_type": "code",
   "execution_count": null,
   "id": "2a969641",
   "metadata": {},
   "outputs": [],
   "source": []
  }
 ],
 "metadata": {
  "kernelspec": {
   "display_name": "Python 3 (ipykernel)",
   "language": "python",
   "name": "python3"
  },
  "language_info": {
   "codemirror_mode": {
    "name": "ipython",
    "version": 3
   },
   "file_extension": ".py",
   "mimetype": "text/x-python",
   "name": "python",
   "nbconvert_exporter": "python",
   "pygments_lexer": "ipython3",
   "version": "3.9.13"
  }
 },
 "nbformat": 4,
 "nbformat_minor": 5
}
